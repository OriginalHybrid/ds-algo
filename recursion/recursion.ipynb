{
 "cells": [
  {
   "cell_type": "markdown",
   "id": "ba5959c8",
   "metadata": {},
   "source": [
    "# Recursion"
   ]
  },
  {
   "cell_type": "markdown",
   "id": "07936b8e",
   "metadata": {},
   "source": [
    "### Print 1 to n without using loops"
   ]
  },
  {
   "cell_type": "code",
   "execution_count": 1,
   "id": "3f021438",
   "metadata": {},
   "outputs": [],
   "source": [
    "def print1ton(n):\n",
    "    if n < 1:\n",
    "        return\n",
    "    print1ton(n-1)\n",
    "    print(n)"
   ]
  },
  {
   "cell_type": "code",
   "execution_count": 3,
   "id": "1393fa30",
   "metadata": {},
   "outputs": [
    {
     "name": "stdout",
     "output_type": "stream",
     "text": [
      "1\n",
      "2\n",
      "3\n",
      "4\n",
      "5\n"
     ]
    }
   ],
   "source": [
    "print1ton(5)"
   ]
  },
  {
   "cell_type": "markdown",
   "id": "eba0f8d6",
   "metadata": {},
   "source": [
    "### Print N to 1 without loop"
   ]
  },
  {
   "cell_type": "code",
   "execution_count": 6,
   "id": "f87f364d",
   "metadata": {},
   "outputs": [],
   "source": [
    "def printnto1(n):\n",
    "    if n < 1:\n",
    "        return\n",
    "    print(n)\n",
    "    printnto1(n-1)\n",
    "    "
   ]
  },
  {
   "cell_type": "code",
   "execution_count": 7,
   "id": "5a333d8d",
   "metadata": {},
   "outputs": [
    {
     "name": "stdout",
     "output_type": "stream",
     "text": [
      "5\n",
      "4\n",
      "3\n",
      "2\n",
      "1\n"
     ]
    }
   ],
   "source": [
    "printnto1(5)"
   ]
  },
  {
   "cell_type": "markdown",
   "id": "b87994c6",
   "metadata": {},
   "source": [
    "### Mean of array using recursion\n",
    "Input : 1 2 3 4 5\n",
    "Output : 3\n",
    "\n",
    "Input : 1 2 3\n",
    "Output : 2"
   ]
  },
  {
   "cell_type": "code",
   "execution_count": 16,
   "id": "bca07147",
   "metadata": {},
   "outputs": [],
   "source": [
    "def recursive_sum(arr, n):\n",
    "    if n == 1:\n",
    "        return arr[0]\n",
    "    return arr[n - 1] + recursive_sum(arr, n - 1)\n",
    "\n",
    "def meanofarr(arr):\n",
    "    if len(arr) == 0:\n",
    "        return 0  # To avoid division by zero\n",
    "    total_sum = recursive_sum(arr, len(arr))\n",
    "    count = len(arr)\n",
    "    return total_sum / count\n"
   ]
  },
  {
   "cell_type": "code",
   "execution_count": 17,
   "id": "f401cdd6",
   "metadata": {},
   "outputs": [
    {
     "name": "stdout",
     "output_type": "stream",
     "text": [
      "Mean of the array: 3.0\n"
     ]
    }
   ],
   "source": [
    "# Example usage\n",
    "arr = [1, 2, 3, 4, 5]\n",
    "print(\"Mean of the array:\", meanofarr(arr))  # Output: Mean of the array: 3.0"
   ]
  },
  {
   "cell_type": "code",
   "execution_count": 18,
   "id": "7a6e261d",
   "metadata": {},
   "outputs": [],
   "source": [
    "def mean(arr, index=0, total_sum=0):\n",
    "    if index == len(arr):\n",
    "        return total_sum / index if index > 0 else 0\n",
    "    return mean(arr, index + 1, total_sum + arr[index])\n"
   ]
  },
  {
   "cell_type": "code",
   "execution_count": 19,
   "id": "34f71b64",
   "metadata": {},
   "outputs": [
    {
     "data": {
      "text/plain": [
       "3.0"
      ]
     },
     "execution_count": 19,
     "metadata": {},
     "output_type": "execute_result"
    }
   ],
   "source": [
    "mean(arr, index=0, total_sum=0)"
   ]
  },
  {
   "cell_type": "markdown",
   "id": "1cf44f48",
   "metadata": {},
   "source": [
    "\n",
    "### Code Overview\n",
    "\n",
    "```python\n",
    "def mean(arr, index=0, total_sum=0):\n",
    "    if index == len(arr):\n",
    "        return total_sum / index if index > 0 else 0\n",
    "    return mean(arr, index + 1, total_sum + arr[index])\n",
    "```\n",
    "\n",
    "### Components of the Function\n",
    "\n",
    "1. **Function Definition**:\n",
    "   - `mean(arr, index=0, total_sum=0)`:\n",
    "     - `arr`: This is the input array for which we want to calculate the mean.\n",
    "     - `index`: This is a helper parameter that keeps track of the current position in the array as we iterate through it. It defaults to `0` for the initial call.\n",
    "     - `total_sum`: This parameter keeps a cumulative sum of the elements we've processed so far. It starts at `0`.\n",
    "\n",
    "2. **Base Case**:\n",
    "   ```python\n",
    "   if index == len(arr):\n",
    "       return total_sum / index if index > 0 else 0\n",
    "   ```\n",
    "   - This condition checks if the `index` has reached the length of the array. If it has, it means we have processed all elements.\n",
    "   - The mean is calculated by dividing `total_sum` by `index`. The `if index > 0` part ensures that we do not attempt to divide by zero if the array is empty, returning `0` instead.\n",
    "\n",
    "3. **Recursive Case**:\n",
    "   ```python\n",
    "   return mean(arr, index + 1, total_sum + arr[index])\n",
    "   ```\n",
    "   - If the base case is not met, the function calls itself with:\n",
    "     - `index + 1`: This moves to the next element in the array.\n",
    "     - `total_sum + arr[index]`: This adds the current element (`arr[index]`) to the cumulative sum.\n",
    "   - This process continues until all elements have been processed.\n",
    "\n",
    "### Example Usage\n",
    "\n",
    "```python\n",
    "arr = [1, 2, 3, 4, 5]\n",
    "print(\"Mean of the array:\", mean(arr))  # Output: Mean of the array: 3.0\n",
    "```\n",
    "\n",
    "- When you call `mean(arr)`, it starts at index `0` and an initial sum of `0`.\n",
    "- It recursively goes through each element of the array, accumulating the sum and increasing the index.\n",
    "- Once it has processed all elements, it calculates the mean and returns it.\n",
    "\n",
    "### Execution Flow\n",
    "\n",
    "1. The function is initially called with `mean([1, 2, 3, 4, 5])`.\n",
    "2. The recursive calls look like this:\n",
    "   - `mean(arr, 0, 0)` ➔ processes `1` ➔ calls `mean(arr, 1, 1)`\n",
    "   - `mean(arr, 1, 1)` ➔ processes `2` ➔ calls `mean(arr, 2, 3)`\n",
    "   - `mean(arr, 2, 3)` ➔ processes `3` ➔ calls `mean(arr, 3, 6)`\n",
    "   - `mean(arr, 3, 6)` ➔ processes `4` ➔ calls `mean(arr, 4, 10)`\n",
    "   - `mean(arr, 4, 10)` ➔ processes `5` ➔ calls `mean(arr, 5, 15)`\n",
    "   - `mean(arr, 5, 15)` ➔ reaches the base case and computes `15 / 5` ➔ returns `3.0`.\n",
    "\n",
    "Thus, the code effectively calculates the mean of the array using recursion without any loops."
   ]
  },
  {
   "cell_type": "markdown",
   "id": "fbe2a939",
   "metadata": {},
   "source": [
    "### Sum of natural numbers using recursion"
   ]
  },
  {
   "cell_type": "code",
   "execution_count": 23,
   "id": "4914a621",
   "metadata": {},
   "outputs": [],
   "source": [
    "def sumofnnos(n):\n",
    "    if n == 1:\n",
    "        return 1\n",
    "    else:\n",
    "        return n + sumofnnos(n-1)"
   ]
  },
  {
   "cell_type": "code",
   "execution_count": 24,
   "id": "0f6ffe54",
   "metadata": {},
   "outputs": [
    {
     "data": {
      "text/plain": [
       "15"
      ]
     },
     "execution_count": 24,
     "metadata": {},
     "output_type": "execute_result"
    }
   ],
   "source": [
    "sumofnnos(5)"
   ]
  },
  {
   "cell_type": "markdown",
   "id": "b72638b2",
   "metadata": {},
   "source": [
    "#### Recursive Accumulator Pattern"
   ]
  },
  {
   "cell_type": "code",
   "execution_count": 25,
   "id": "4840879e",
   "metadata": {},
   "outputs": [
    {
     "name": "stdout",
     "output_type": "stream",
     "text": [
      "15\n"
     ]
    }
   ],
   "source": [
    "def sum_natural_numbers_accumulator(n, accumulator=0):\n",
    "    if n == 0:\n",
    "        return accumulator\n",
    "    return sum_natural_numbers_accumulator(n - 1, accumulator + n)\n",
    "\n",
    "# Example usage:\n",
    "print(sum_natural_numbers_accumulator(5))  # Output: 15\n"
   ]
  },
  {
   "cell_type": "markdown",
   "id": "b0db610b",
   "metadata": {},
   "source": [
    "Using Tail Recursion (Optimized Version)\n",
    "Tail recursion is an optimization technique where the recursive call is the last operation in the function. Some programming languages (like Scheme, Lisp, or in some cases Python) optimize tail recursion to avoid stack overflow errors. However, Python does not optimize tail recursion, so it is more of a conceptual technique for languages that do.\n",
    "\n"
   ]
  },
  {
   "cell_type": "markdown",
   "id": "4a85f37c",
   "metadata": {},
   "source": [
    "### Decimal to binary number using recursion"
   ]
  },
  {
   "cell_type": "code",
   "execution_count": 26,
   "id": "aa5d10bb",
   "metadata": {},
   "outputs": [],
   "source": [
    "def d2b(n):\n",
    "    if n == 0:\n",
    "        return 0\n",
    "    else:\n",
    "        return (n % 2 + 10 *\n",
    "                d2b(int(n // 2)))"
   ]
  },
  {
   "cell_type": "code",
   "execution_count": 27,
   "id": "c1b9542f",
   "metadata": {},
   "outputs": [
    {
     "data": {
      "text/plain": [
       "1010"
      ]
     },
     "execution_count": 27,
     "metadata": {},
     "output_type": "execute_result"
    }
   ],
   "source": [
    "d2b(10)"
   ]
  },
  {
   "cell_type": "code",
   "execution_count": 41,
   "id": "a04550f2",
   "metadata": {},
   "outputs": [],
   "source": [
    "def decimal_to_binary(n):\n",
    "    if n == 0:\n",
    "        return \"0\"  # Handle the special case when n is 0\n",
    "    \n",
    "    binary_str = \"\"  # Initialize an empty string to build the binary representation\n",
    "    \n",
    "    # Loop until n becomes 0\n",
    "    while n > 0:\n",
    "        remainder = n % 2  # Get the remainder when divided by 2 (binary digit)\n",
    "        binary_str = str(remainder) + binary_str  # Prepend the remainder to the binary string\n",
    "        n = n // 2  # Update n to be the quotient of n divided by 2\n",
    "    \n",
    "    return binary_str\n",
    "        "
   ]
  },
  {
   "cell_type": "code",
   "execution_count": 44,
   "id": "f8502b09",
   "metadata": {},
   "outputs": [
    {
     "data": {
      "text/plain": [
       "'1010'"
      ]
     },
     "execution_count": 44,
     "metadata": {},
     "output_type": "execute_result"
    }
   ],
   "source": [
    "decimal_to_binary(10)"
   ]
  },
  {
   "cell_type": "code",
   "execution_count": 45,
   "id": "cacec1b8",
   "metadata": {},
   "outputs": [],
   "source": [
    "def decimal_to_binary_int(n):\n",
    "    # Edge case: If the number is zero, return 0\n",
    "    if n == 0:\n",
    "        return 0\n",
    "    \n",
    "    binary_result = 0\n",
    "    place = 1  # This will track the place value (1, 10, 100, etc.)\n",
    "    \n",
    "    # Perform division by 2 and build the binary result\n",
    "    while n > 0:\n",
    "        remainder = n % 2  # Get the current binary digit (0 or 1)\n",
    "        binary_result += remainder * place  # Add it to the binary number at the correct place\n",
    "        place *= 10  # Shift the place value to the left (next binary digit place)\n",
    "        n = n // 2  # Integer division by 2 to move to the next bit\n",
    "    \n",
    "    return binary_result"
   ]
  },
  {
   "cell_type": "code",
   "execution_count": 46,
   "id": "c8ee1b4f",
   "metadata": {},
   "outputs": [
    {
     "data": {
      "text/plain": [
       "10100"
      ]
     },
     "execution_count": 46,
     "metadata": {},
     "output_type": "execute_result"
    }
   ],
   "source": [
    "decimal_to_binary_int(20)"
   ]
  },
  {
   "cell_type": "markdown",
   "id": "549bdea9",
   "metadata": {},
   "source": [
    "### Program to print  nth Fibonacci Numbers"
   ]
  },
  {
   "cell_type": "code",
   "execution_count": 47,
   "id": "9f7b237a",
   "metadata": {},
   "outputs": [],
   "source": [
    "def print_fibo(n):\n",
    "    if n in [0,1]:\n",
    "        return n\n",
    "    else:\n",
    "        return print_fibo(n-1) + print_fibo(n-2) \n"
   ]
  },
  {
   "cell_type": "code",
   "execution_count": 48,
   "id": "3c7c3e8b",
   "metadata": {},
   "outputs": [
    {
     "data": {
      "text/plain": [
       "13"
      ]
     },
     "execution_count": 48,
     "metadata": {},
     "output_type": "execute_result"
    }
   ],
   "source": [
    "print_fibo(7)"
   ]
  },
  {
   "cell_type": "code",
   "execution_count": 50,
   "id": "71ec1e72",
   "metadata": {},
   "outputs": [
    {
     "name": "stdout",
     "output_type": "stream",
     "text": [
      "0 1 1 2 3 5 8 13 21 34 55 89 144 233 377 "
     ]
    }
   ],
   "source": [
    "n = 15\n",
    "for i in range(0, n):\n",
    "    print(print_fibo(i), end=\" \")"
   ]
  },
  {
   "cell_type": "markdown",
   "id": "f5d2f1bc",
   "metadata": {},
   "source": [
    "### Factorial of a Number"
   ]
  },
  {
   "cell_type": "code",
   "execution_count": 51,
   "id": "54eda95f",
   "metadata": {},
   "outputs": [],
   "source": [
    "def print_fact(n):\n",
    "    if n == 1:\n",
    "        return 1\n",
    "    else: \n",
    "        return n * print_fact(n-1)\n",
    "    "
   ]
  },
  {
   "cell_type": "code",
   "execution_count": 54,
   "id": "bb17ebee",
   "metadata": {},
   "outputs": [
    {
     "data": {
      "text/plain": [
       "120"
      ]
     },
     "execution_count": 54,
     "metadata": {},
     "output_type": "execute_result"
    }
   ],
   "source": [
    "print_fact(5)"
   ]
  },
  {
   "cell_type": "markdown",
   "id": "e62d5fb7",
   "metadata": {},
   "source": [
    "### Recursive Programs to find Minimum and Maximum elements of array"
   ]
  },
  {
   "cell_type": "code",
   "execution_count": 55,
   "id": "dc803dab",
   "metadata": {},
   "outputs": [],
   "source": [
    "def min_max(arr, mini = arr[0], maxi = arr[0]):\n",
    "    if len(arr) == 0:\n",
    "        return mini,maxi\n",
    "    if arr[0] > maxi:\n",
    "        maxi = arr[0]\n",
    "    if arr[0] < mini:\n",
    "        mini = arr[0]\n",
    "        \n",
    "    return min_max(arr[1:], mini, maxi)\n",
    "    "
   ]
  },
  {
   "cell_type": "code",
   "execution_count": 56,
   "id": "00ac1aa7",
   "metadata": {},
   "outputs": [
    {
     "data": {
      "text/plain": [
       "(-5, 8)"
      ]
     },
     "execution_count": 56,
     "metadata": {},
     "output_type": "execute_result"
    }
   ],
   "source": [
    "arr = [1, 4, 3, -5, -4, 8, 6]\n",
    "min_max(arr)"
   ]
  },
  {
   "cell_type": "markdown",
   "id": "39531eb5",
   "metadata": {},
   "source": [
    "### Recursive function to check if a string is palindrome"
   ]
  },
  {
   "cell_type": "code",
   "execution_count": 64,
   "id": "5e790773",
   "metadata": {},
   "outputs": [],
   "source": [
    "def check_recursive(s):\n",
    "    if len(s) == 1:\n",
    "        return True\n",
    "    if len(s) == 2 and s[0] == s[-1]:\n",
    "        return True\n",
    "    if s[0] != s[-1] and len(s) > 1:\n",
    "        return False\n",
    "    else:\n",
    "        return check_recursive(s[1:-1])"
   ]
  },
  {
   "cell_type": "code",
   "execution_count": 67,
   "id": "a15ed7d1",
   "metadata": {},
   "outputs": [
    {
     "data": {
      "text/plain": [
       "False"
      ]
     },
     "execution_count": 67,
     "metadata": {},
     "output_type": "execute_result"
    }
   ],
   "source": [
    "s = \"helleh0\"\n",
    "check_recursive(s)"
   ]
  },
  {
   "cell_type": "code",
   "execution_count": 68,
   "id": "3176abca",
   "metadata": {},
   "outputs": [
    {
     "data": {
      "text/plain": [
       "True"
      ]
     },
     "execution_count": 68,
     "metadata": {},
     "output_type": "execute_result"
    }
   ],
   "source": [
    "s = \"malayalam\"\n",
    "check_recursive(s)"
   ]
  },
  {
   "cell_type": "markdown",
   "id": "9b49dcd5",
   "metadata": {},
   "source": [
    "### Factorial of a Number"
   ]
  },
  {
   "cell_type": "code",
   "execution_count": 69,
   "id": "11bfc7dd",
   "metadata": {},
   "outputs": [],
   "source": [
    "def fact(n):\n",
    "    if n == 1:\n",
    "        return 1\n",
    "    else:\n",
    "        return n * fact(n-1)\n"
   ]
  },
  {
   "cell_type": "code",
   "execution_count": 70,
   "id": "49af4171",
   "metadata": {},
   "outputs": [
    {
     "data": {
      "text/plain": [
       "120"
      ]
     },
     "execution_count": 70,
     "metadata": {},
     "output_type": "execute_result"
    }
   ],
   "source": [
    "fact(5)"
   ]
  },
  {
   "cell_type": "code",
   "execution_count": 71,
   "id": "1288b739",
   "metadata": {},
   "outputs": [],
   "source": [
    "def count_set_bits(n):\n",
    "    # Base case: if n is 0, no set bits\n",
    "    if n == 0:\n",
    "        return 0\n",
    "    # Recursive case: count the set bits in the rest of the number and add 1 if LSB is 1\n",
    "    return (n & 1) + count_set_bits(n >> 1)"
   ]
  },
  {
   "cell_type": "code",
   "execution_count": 72,
   "id": "138523be",
   "metadata": {},
   "outputs": [
    {
     "data": {
      "text/plain": [
       "3"
      ]
     },
     "execution_count": 72,
     "metadata": {},
     "output_type": "execute_result"
    }
   ],
   "source": [
    "count_set_bits(13)"
   ]
  },
  {
   "cell_type": "markdown",
   "id": "ae0d9472",
   "metadata": {},
   "source": [
    "### Print Fibonacci Series in reverse order using Recursion"
   ]
  },
  {
   "cell_type": "code",
   "execution_count": 77,
   "id": "32ebbea8",
   "metadata": {},
   "outputs": [],
   "source": [
    "def fibo(n, a, b):\n",
    " \n",
    "    if (n > 0):\n",
    " \n",
    "        # Function call\n",
    "        fibo(n - 1, b, a + b)\n",
    " \n",
    "        # Print the result\n",
    "        print(a, end=\" \")"
   ]
  },
  {
   "cell_type": "code",
   "execution_count": 80,
   "id": "d14cd08e",
   "metadata": {},
   "outputs": [
    {
     "name": "stdout",
     "output_type": "stream",
     "text": [
      "8 5 3 2 1 1 0 "
     ]
    }
   ],
   "source": [
    "fibo(7, 0,1)"
   ]
  },
  {
   "cell_type": "code",
   "execution_count": null,
   "id": "d80398e4",
   "metadata": {},
   "outputs": [],
   "source": []
  }
 ],
 "metadata": {
  "kernelspec": {
   "display_name": "ml-ai",
   "language": "python",
   "name": "ml-ai"
  },
  "language_info": {
   "codemirror_mode": {
    "name": "ipython",
    "version": 3
   },
   "file_extension": ".py",
   "mimetype": "text/x-python",
   "name": "python",
   "nbconvert_exporter": "python",
   "pygments_lexer": "ipython3",
   "version": "3.10.0"
  }
 },
 "nbformat": 4,
 "nbformat_minor": 5
}
