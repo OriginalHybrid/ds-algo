{
 "cells": [
  {
   "cell_type": "markdown",
   "id": "819a01d6-a7b3-40e1-8822-69a30d02aa3c",
   "metadata": {},
   "source": [
    "### Alternate elements of an array"
   ]
  },
  {
   "cell_type": "markdown",
   "id": "41bbec10-8a8e-4f1d-b9ae-ca039223b361",
   "metadata": {},
   "source": [
    "Given an array arr[], the task is to print every alternate element of the array starting from the first element."
   ]
  },
  {
   "cell_type": "code",
   "execution_count": 1,
   "id": "24f87d47-6caa-4986-9907-a29971d49226",
   "metadata": {},
   "outputs": [],
   "source": [
    "def printAlternate(arr):\n",
    "    for i in range(0,len(arr),2):\n",
    "        print(arr[i], end = \" \")"
   ]
  },
  {
   "cell_type": "code",
   "execution_count": 2,
   "id": "94474289-cf46-469c-81c6-9dbf254e3c0d",
   "metadata": {},
   "outputs": [],
   "source": [
    " arr = [10, 20, 30, 40, 50]"
   ]
  },
  {
   "cell_type": "code",
   "execution_count": 3,
   "id": "c776c649-5641-490a-b2d1-7af8dce2d211",
   "metadata": {},
   "outputs": [
    {
     "name": "stdout",
     "output_type": "stream",
     "text": [
      "10 30 50 "
     ]
    }
   ],
   "source": [
    "printAlternate(arr)"
   ]
  },
  {
   "cell_type": "markdown",
   "id": "ea31ea3a-c19f-4971-b920-63d555fe42da",
   "metadata": {},
   "source": [
    "### Largest element in an Array"
   ]
  },
  {
   "cell_type": "code",
   "execution_count": 4,
   "id": "d3313f19-b006-4f7c-9239-ffa38d92c4c8",
   "metadata": {},
   "outputs": [],
   "source": [
    "def printLargest(arr):\n",
    "    me = arr[0]\n",
    "    for i in range(1, len(arr)):\n",
    "        if arr[i] > me:\n",
    "            me = arr[i]\n",
    "    \n",
    "    print(\"Largest Element: \",me) "
   ]
  },
  {
   "cell_type": "code",
   "execution_count": 5,
   "id": "e784e7fd-9a82-492c-a54a-1bf8904e76aa",
   "metadata": {},
   "outputs": [
    {
     "name": "stdout",
     "output_type": "stream",
     "text": [
      "Largest Element:  100\n"
     ]
    }
   ],
   "source": [
    "arr = [20, 10, 30, 4, 30, 100]\n",
    "printLargest(arr)"
   ]
  },
  {
   "cell_type": "markdown",
   "id": "2cabe904-961f-408a-b79e-dc2cd2f31175",
   "metadata": {},
   "source": [
    "### Second Largest Element in an Array"
   ]
  },
  {
   "cell_type": "code",
   "execution_count": 6,
   "id": "ae03a867-13d3-4ea8-96eb-de1685f7b531",
   "metadata": {},
   "outputs": [],
   "source": [
    "def printSecondLargest(arr):\n",
    "    le, sle = arr[0], arr[0]\n",
    "    \n",
    "    for i in arr:\n",
    "        if i > le:\n",
    "            sle = le\n",
    "            le = i\n",
    "        elif i > sle and i < le:\n",
    "            sle = i\n",
    "    \n",
    "    print(\"Largest Element: \", le)\n",
    "    print(\"Second Element: \", sle)\n"
   ]
  },
  {
   "cell_type": "code",
   "execution_count": 7,
   "id": "bcb8f746-eede-4a45-aaa0-aefc5567adee",
   "metadata": {},
   "outputs": [
    {
     "name": "stdout",
     "output_type": "stream",
     "text": [
      "Largest Element:  100\n",
      "Second Element:  30\n"
     ]
    }
   ],
   "source": [
    "printSecondLargest(arr)"
   ]
  },
  {
   "cell_type": "markdown",
   "id": "67957cf8-faef-4ec8-b412-3cf6688b84b1",
   "metadata": {},
   "source": [
    "### Largest three distinct elements in an array"
   ]
  },
  {
   "cell_type": "code",
   "execution_count": 8,
   "id": "4118d0a6-814c-4191-a27c-75c3d45246b2",
   "metadata": {},
   "outputs": [],
   "source": [
    "def printLargest3Distinct(arr):\n",
    "    fl, sl, tl = arr[0], arr[0], arr[0]\n",
    "    \n",
    "    for e in arr:\n",
    "        if e > fl:\n",
    "            tl = sl\n",
    "            sl = fl\n",
    "            fl = e\n",
    "        elif e > sl and e < fl:\n",
    "            tl = sl\n",
    "            sl = e\n",
    "        elif e > tl and e < sl and e < fl:\n",
    "            tl = e\n",
    "            \n",
    "    print(\"Largest Element: \", fl)\n",
    "    print(\"Second Largest Element: \", sl)\n",
    "    print(\"Third Largest Element :\", tl)\n",
    "        "
   ]
  },
  {
   "cell_type": "code",
   "execution_count": 10,
   "id": "e72f3b4e-ef0e-430a-8e1b-56e964c43e38",
   "metadata": {},
   "outputs": [
    {
     "name": "stdout",
     "output_type": "stream",
     "text": [
      "Largest Element:  100\n",
      "Second Largest Element:  30\n",
      "Third Largest Element : 20\n"
     ]
    }
   ],
   "source": [
    "printLargest3Distinct(arr)"
   ]
  },
  {
   "cell_type": "markdown",
   "id": "3b0844f8-fb13-460d-8a3f-edd2d1b61262",
   "metadata": {},
   "source": [
    "### Leaders in an array\n",
    "\n",
    "Given an array arr[] of size n, the task is to find all the Leaders in the array. An element is a Leader if it is greater than or equal to all the elements to its right side.\n",
    "\n",
    "Note: The rightmost element is always a leader."
   ]
  },
  {
   "cell_type": "code",
   "execution_count": 19,
   "id": "86806a25-48d8-4101-aee9-e23f9625c323",
   "metadata": {},
   "outputs": [],
   "source": [
    "def printLeaders(arr):\n",
    "    n = len(arr)\n",
    "    me = -1\n",
    "    res = []\n",
    "    for i in range(n-1, -1, -1):\n",
    "        if arr[i] > me:\n",
    "            me = arr[i]\n",
    "            res.append(me)\n",
    "    res.reverse()\n",
    "    return res"
   ]
  },
  {
   "cell_type": "code",
   "execution_count": 20,
   "id": "c75c9f7b-af3a-4926-be20-597e83fc0799",
   "metadata": {},
   "outputs": [
    {
     "name": "stdout",
     "output_type": "stream",
     "text": [
      "[17, 5, 2]\n"
     ]
    }
   ],
   "source": [
    "arr = [16, 17, 4, 3, 5, 2]\n",
    "res = printLeaders(arr)\n",
    "print(res)"
   ]
  },
  {
   "cell_type": "markdown",
   "id": "5f71db65-18bd-4a19-a13e-eae1cee87010",
   "metadata": {},
   "source": [
    "### Check if an Array is Sorted\n",
    "\n",
    "Given an array of size n, the task is to check if it is sorted in ascending order or not. Equal values are allowed in an array and two consecutive equal values are considered sorted."
   ]
  },
  {
   "cell_type": "code",
   "execution_count": 21,
   "id": "8de57934-48d6-4b53-a44f-7650876f6360",
   "metadata": {},
   "outputs": [],
   "source": [
    "def checkSorted(arr):\n",
    "    n = len(arr)\n",
    "    for i in range(n-2,-1,-1):\n",
    "        if arr[i] > arr[i+1]:\n",
    "            return False\n",
    "    return True"
   ]
  },
  {
   "cell_type": "code",
   "execution_count": 23,
   "id": "af753783-6335-4a86-89d3-c672f8aa1686",
   "metadata": {},
   "outputs": [
    {
     "data": {
      "text/plain": [
       "False"
      ]
     },
     "execution_count": 23,
     "metadata": {},
     "output_type": "execute_result"
    }
   ],
   "source": [
    "arr = [20, 23, 203, 45, 78, 88]\n",
    "checkSorted(arr)"
   ]
  },
  {
   "cell_type": "markdown",
   "id": "deb9a58b-53d2-49dc-a5f0-f7402343618e",
   "metadata": {},
   "source": [
    "### Remove duplicates from Sorted Array\n",
    "\n",
    "Given a sorted array arr[] of size n, the goal is to rearrange the array so that all distinct elements appear at the beginning in sorted order. Additionally, return the length of this distinct sorted subarray.\n",
    "\n",
    "Note: The elements after the distinct ones can be in any order and hold any value, as they don’t affect the result."
   ]
  },
  {
   "cell_type": "code",
   "execution_count": 25,
   "id": "d1e967a1-378f-461c-aaa2-b2b314a9c4d0",
   "metadata": {},
   "outputs": [],
   "source": [
    "def removeDups(arr):\n",
    "    i, j = 0, 1\n",
    "    while j < len(arr):\n",
    "        if arr[i] != arr[j]:\n",
    "            i += 1\n",
    "            arr[i] = arr[j]\n",
    "        j = j + 1\n",
    "    \n",
    "    print(arr[:i+1])"
   ]
  },
  {
   "cell_type": "code",
   "execution_count": 26,
   "id": "1ef2982d-53c5-43d1-81c9-8b08f7cd40e6",
   "metadata": {},
   "outputs": [
    {
     "name": "stdout",
     "output_type": "stream",
     "text": [
      "[1, 2, 3, 4, 5]\n"
     ]
    }
   ],
   "source": [
    "arr = [1, 2, 2, 3, 4, 4, 4, 5, 5]\n",
    "removeDups(arr)"
   ]
  },
  {
   "cell_type": "markdown",
   "id": "004ac87f-e76f-4038-a438-b397c026100f",
   "metadata": {},
   "source": [
    "### Generating All Subarrays\n",
    "Given an array arr[], the task is to generate all the possible subarrays of the given array.\n",
    "\n",
    "Examples: \n",
    "\n",
    "Input: arr[] = [1, 2, 3]\n",
    "\n",
    "Output: [ [1], [1, 2], [2], [1, 2, 3], [2, 3], [3] ]\n"
   ]
  },
  {
   "cell_type": "code",
   "execution_count": 41,
   "id": "10bff04f-1f69-4cd2-a657-7ec98ab31bd1",
   "metadata": {},
   "outputs": [],
   "source": [
    "def genrateSubarrays(arr):\n",
    "    res = []\n",
    "    n = len(arr)\n",
    "    for i in range(n):\n",
    "        sub_arr = []\n",
    "        for j in range(i,n):\n",
    "            sub_arr.append(arr[j])\n",
    "            # print(sub_arr)\n",
    "            res.append(sub_arr.copy())\n",
    "    \n",
    "    print(res)"
   ]
  },
  {
   "cell_type": "code",
   "execution_count": 42,
   "id": "29af9f36-ce54-41ef-a312-791bdd4f74b8",
   "metadata": {},
   "outputs": [
    {
     "name": "stdout",
     "output_type": "stream",
     "text": [
      "[[1], [1, 2], [1, 2, 3], [1, 2, 3, 4], [2], [2, 3], [2, 3, 4], [3], [3, 4], [4]]\n"
     ]
    }
   ],
   "source": [
    "arr = [1, 2, 3, 4]\n",
    "genrateSubarrays(arr)"
   ]
  },
  {
   "cell_type": "markdown",
   "id": "0b58f1c4-04b8-47f8-95a4-daeb772a370e",
   "metadata": {},
   "source": [
    "### Array Reverse"
   ]
  },
  {
   "cell_type": "code",
   "execution_count": 47,
   "id": "28a25ad1-888a-4cca-95e0-3e7144a94fdb",
   "metadata": {},
   "outputs": [],
   "source": [
    "def reverse_Arr(arr):\n",
    "    i, j = 0, len(arr) - 1\n",
    "    \n",
    "    while i <= j:\n",
    "        arr[i], arr[j] = arr[j], arr[i]\n",
    "        i += 1\n",
    "        j -= 1\n",
    "        \n",
    "    print(arr)"
   ]
  },
  {
   "cell_type": "code",
   "execution_count": 48,
   "id": "379dca31-5e68-4352-b2ac-1da68bc4d6dd",
   "metadata": {},
   "outputs": [
    {
     "name": "stdout",
     "output_type": "stream",
     "text": [
      "[5, 6, 2, 3, 4, 1]\n"
     ]
    }
   ],
   "source": [
    "arr = [1, 4, 3, 2, 6, 5]\n",
    "reverse_Arr(arr)"
   ]
  },
  {
   "cell_type": "markdown",
   "id": "6197bebe-a907-4400-8736-91d1dfcc4e57",
   "metadata": {},
   "source": [
    "### Rotate an Array – Clockwise or Right"
   ]
  },
  {
   "cell_type": "code",
   "execution_count": 54,
   "id": "9938ce8c-2379-434c-8313-050244522a35",
   "metadata": {},
   "outputs": [],
   "source": [
    "def rotateArr(arr, d):\n",
    "    arr.reverse()\n",
    "    arr[0:d] = reversed(arr[0:d])\n",
    "    arr[d:len(arr)] = reversed(arr[d:len(arr)])\n",
    "    \n",
    "    print(arr)"
   ]
  },
  {
   "cell_type": "code",
   "execution_count": 55,
   "id": "40503639-4af0-435b-a90c-46776a5935c9",
   "metadata": {},
   "outputs": [
    {
     "name": "stdout",
     "output_type": "stream",
     "text": [
      "[5, 6, 1, 2, 3, 4]\n"
     ]
    }
   ],
   "source": [
    "arr = [1, 2, 3, 4, 5, 6]\n",
    "rotateArr(arr, 2)"
   ]
  },
  {
   "cell_type": "markdown",
   "id": "8ae1c85a-e340-4aff-afd0-e2d48f7c3d1e",
   "metadata": {},
   "source": [
    "### Rotate an Array by d – Counterclockwise or Left"
   ]
  },
  {
   "cell_type": "code",
   "execution_count": 12,
   "id": "660da973-e6f1-4035-b361-700450a964ea",
   "metadata": {},
   "outputs": [],
   "source": [
    "def rotateArrCC(arr, d):\n",
    "    arr[0:d] = reversed(arr[0:d])\n",
    "    arr[d:] = reversed(arr[d:])\n",
    "    \n",
    "    arr.reverse()\n",
    "    print(arr)"
   ]
  },
  {
   "cell_type": "code",
   "execution_count": 13,
   "id": "de465efe-e972-4824-aa55-f639465e90d9",
   "metadata": {},
   "outputs": [
    {
     "name": "stdout",
     "output_type": "stream",
     "text": [
      "[3, 4, 5, 6, 1, 2]\n"
     ]
    }
   ],
   "source": [
    "arr = [1, 2, 3, 4, 5, 6]\n",
    "rotateArrCC(arr,2)"
   ]
  },
  {
   "cell_type": "markdown",
   "id": "a28abf09-3079-4e33-8f03-caa1df97cedf",
   "metadata": {},
   "source": [
    "### Move all zeros to end of array"
   ]
  },
  {
   "cell_type": "code",
   "execution_count": 56,
   "id": "75c4b8e0-1a24-4559-a910-7389d4541414",
   "metadata": {},
   "outputs": [],
   "source": [
    "def movezeros(arr):\n",
    "    i, j = 0, 0\n",
    "    \n",
    "    while j < len(arr):\n",
    "        if arr[j] != 0:\n",
    "            arr[i] = arr[j]\n",
    "            i += 1\n",
    "        j += 1\n",
    "        \n",
    "    for k in range(i, len(arr)):\n",
    "        arr[k] = 0\n",
    "    \n",
    "    print(arr)"
   ]
  },
  {
   "cell_type": "code",
   "execution_count": 57,
   "id": "f33d2a08-b498-4bd8-95e1-13bcfdf15435",
   "metadata": {},
   "outputs": [
    {
     "name": "stdout",
     "output_type": "stream",
     "text": [
      "[1, 2, 4, 3, 5, 0, 0, 0]\n"
     ]
    }
   ],
   "source": [
    "arr = [1, 2, 0, 4, 3, 0, 5, 0]\n",
    "movezeros(arr)"
   ]
  },
  {
   "cell_type": "markdown",
   "id": "db83f4a6-2132-4278-8396-0cb33721666b",
   "metadata": {},
   "source": [
    "### Minimum increment by k operations to make all equal"
   ]
  },
  {
   "cell_type": "code",
   "execution_count": 62,
   "id": "ece06d48-3e12-4b7b-8960-4f8e5e810c22",
   "metadata": {},
   "outputs": [],
   "source": [
    "def find_min_op(arr, k):\n",
    "    me = arr[0]\n",
    "    for i in arr:\n",
    "        if i > me:\n",
    "            me = i\n",
    "    \n",
    "    res = 0\n",
    "    for i in arr:\n",
    "        if (me - i) % k == 0:\n",
    "            res = res + (me - i)// k\n",
    "        else:\n",
    "            return -1\n",
    "    return res"
   ]
  },
  {
   "cell_type": "code",
   "execution_count": 63,
   "id": "e4564aed-6f77-4721-a52a-ad7365d54a17",
   "metadata": {},
   "outputs": [
    {
     "data": {
      "text/plain": [
       "24"
      ]
     },
     "execution_count": 63,
     "metadata": {},
     "output_type": "execute_result"
    }
   ],
   "source": [
    "arr = [21, 33, 9, 45, 63] \n",
    "find_min_op(arr, 6)"
   ]
  },
  {
   "cell_type": "markdown",
   "id": "a332596a-8d91-4fef-858e-ea83e4081e4f",
   "metadata": {},
   "source": [
    "### Minimum cost to make array size 1 by removing larger of pairs\n",
    "Given an array of n integers. We need to reduce size of array to one. We are allowed to select a pair of integers and remove the larger one of these two. This decreases the array size by 1. Cost of this operation is equal to value of smallest one. Find out minimum sum of costs of operations needed to convert the array into a single element.\n",
    "\n",
    "\n",
    "Input: 4 3 2 \n",
    "\n",
    "Output: 4\n",
    "\n",
    "Explanation: Choose (4, 2) so 4 is removed, new array = {2, 3}. Now choose (2, 3) so 3 is removed.  So total cost = 2 + 2 = 4"
   ]
  },
  {
   "cell_type": "code",
   "execution_count": 65,
   "id": "58ab89c0-04a7-42b6-8c7a-d88ccdcf6ded",
   "metadata": {},
   "outputs": [],
   "source": [
    "def min_cost(arr):\n",
    "    return min(arr)*(len(arr) - 1)"
   ]
  },
  {
   "cell_type": "code",
   "execution_count": 66,
   "id": "53979de9-574b-42b8-9ee1-05dcb0e08888",
   "metadata": {},
   "outputs": [
    {
     "data": {
      "text/plain": [
       "4"
      ]
     },
     "execution_count": 66,
     "metadata": {},
     "output_type": "execute_result"
    }
   ],
   "source": [
    "a = [ 4, 3, 2 ]\n",
    "min_cost(a)"
   ]
  },
  {
   "cell_type": "markdown",
   "id": "52170341-bfa7-494e-b777-9cac3c19632f",
   "metadata": {},
   "source": [
    "### Two Pointers Technique"
   ]
  },
  {
   "cell_type": "markdown",
   "id": "57e4bdfc-7689-48dd-bcc7-151f7edc9bb9",
   "metadata": {},
   "source": [
    "### Two Sum - Pair sum in sorted array"
   ]
  },
  {
   "cell_type": "code",
   "execution_count": 3,
   "id": "245c4907-70ff-4aaf-b5d1-4dec17fd23d7",
   "metadata": {},
   "outputs": [],
   "source": [
    "def twoSum(arr, target):\n",
    "    i, j  = 0, len(arr) - 1\n",
    "    \n",
    "    while i < j:\n",
    "        if arr[i] + arr[j] == target:\n",
    "             return arr[i], arr[j]\n",
    "        elif arr[i] + arr[j] < target:\n",
    "            i += 1\n",
    "        else:\n",
    "            j -= 1\n",
    "    \n",
    "    return None"
   ]
  },
  {
   "cell_type": "code",
   "execution_count": 4,
   "id": "11b268b8-a040-4ad1-bf05-7321d4800fd8",
   "metadata": {},
   "outputs": [
    {
     "data": {
      "text/plain": [
       "(2, 7)"
      ]
     },
     "execution_count": 4,
     "metadata": {},
     "output_type": "execute_result"
    }
   ],
   "source": [
    "numbers = [2, 7, 11, 15]\n",
    "target = 9\n",
    "\n",
    "twoSum(numbers, target)"
   ]
  },
  {
   "cell_type": "markdown",
   "id": "04ba3697-21b5-435d-8146-8eb32f1960c6",
   "metadata": {},
   "source": [
    "### Two Sum – Pair Closest to 0"
   ]
  },
  {
   "cell_type": "code",
   "execution_count": 11,
   "id": "eca8d8aa-a4bf-476f-a70f-e05a43bd84e6",
   "metadata": {},
   "outputs": [],
   "source": [
    "def closesttozero(arr):\n",
    "    minsum = float(\"inf\")\n",
    "    arr.sort()\n",
    "    print(arr)\n",
    "    pair = None\n",
    "    i, j  = 0, len(arr) - 1\n",
    "    \n",
    "    while i < j:\n",
    "        s =  abs(arr[i] + arr[j])\n",
    "        if s < minsum:\n",
    "            minsum = s\n",
    "            pair = (arr[i], arr[j])\n",
    "            print(pair)\n",
    "            i += 1\n",
    "        elif s > minsum:\n",
    "            j -= 1\n",
    "        else:\n",
    "            if sum(pair) < s:\n",
    "                pair = (arr[i], arr[j])\n",
    "                print(pair)\n",
    "    return pair"
   ]
  },
  {
   "cell_type": "code",
   "execution_count": 12,
   "id": "854777ff-785e-4f88-a363-61d06f890bbb",
   "metadata": {},
   "outputs": [
    {
     "name": "stdout",
     "output_type": "stream",
     "text": [
      "[-80, -10, 1, 60, 70, 85]\n",
      "(-80, 85)\n"
     ]
    },
    {
     "data": {
      "text/plain": [
       "(-80, 85)"
      ]
     },
     "execution_count": 12,
     "metadata": {},
     "output_type": "execute_result"
    }
   ],
   "source": [
    "arr = [1, 60, -10, 70, -80, 85]\n",
    "closesttozero(arr)"
   ]
  },
  {
   "cell_type": "markdown",
   "id": "d13f2fa6-0238-45d9-aa18-eb01ae290659",
   "metadata": {},
   "source": [
    "### 3 Sum – Triplet Sum in Array"
   ]
  },
  {
   "cell_type": "code",
   "execution_count": 10,
   "id": "96435e61-0695-4447-a879-944bbaec1b6a",
   "metadata": {},
   "outputs": [],
   "source": [
    "def tripletsum1(arr, target):\n",
    "    st = set()\n",
    "    n = len(arr)\n",
    "    for i in range(0, n-2):\n",
    "        first = arr[i]\n",
    "        \n",
    "        for j in range(i+1, n):\n",
    "            second = arr[j]\n",
    "            third = target - first - second\n",
    "            \n",
    "            if third in st:\n",
    "                print(\"Triplet is: \", first, \" \", second, \" \", third)\n",
    "                return True\n",
    "            st.add(second)\n",
    "    return None"
   ]
  },
  {
   "cell_type": "code",
   "execution_count": 11,
   "id": "ce456037-eb51-466f-bef7-a6b695e52cff",
   "metadata": {},
   "outputs": [
    {
     "name": "stdout",
     "output_type": "stream",
     "text": [
      "Triplet is:  1   8   4\n"
     ]
    },
    {
     "data": {
      "text/plain": [
       "True"
      ]
     },
     "execution_count": 11,
     "metadata": {},
     "output_type": "execute_result"
    }
   ],
   "source": [
    "arr = [1, 4, 45, 6, 10, 8]\n",
    "target = 13\n",
    "tripletsum1(arr, target)"
   ]
  },
  {
   "cell_type": "code",
   "execution_count": 14,
   "id": "d366adec-6a43-44f7-8a7e-07ae7cbec4f6",
   "metadata": {},
   "outputs": [],
   "source": [
    "def tripletsum2(arr, target):\n",
    "    n = len(arr)\n",
    "    arr.sort()\n",
    "    \n",
    "    for i in range(0,n-2):\n",
    "        l = i + 1\n",
    "        r = n - 1\n",
    "        \n",
    "        first = arr[i]\n",
    "        while l < r:\n",
    "            second = arr[l]\n",
    "            third = arr[r]\n",
    "            \n",
    "            if first + second + third == target:\n",
    "                print(\"Triplet is: \", first, \" \", second, \" \", third)\n",
    "                return True\n",
    "            elif first + second + third < target:\n",
    "                l += 1\n",
    "            else:\n",
    "                r -= 1\n",
    "    return False"
   ]
  },
  {
   "cell_type": "code",
   "execution_count": 15,
   "id": "6af49f91-c776-440c-b14d-198e5f686444",
   "metadata": {},
   "outputs": [
    {
     "name": "stdout",
     "output_type": "stream",
     "text": [
      "Triplet is:  1   4   8\n"
     ]
    },
    {
     "data": {
      "text/plain": [
       "True"
      ]
     },
     "execution_count": 15,
     "metadata": {},
     "output_type": "execute_result"
    }
   ],
   "source": [
    "arr = [1, 4, 45, 6, 10, 8]\n",
    "target = 13\n",
    "tripletsum2(arr, target)"
   ]
  },
  {
   "cell_type": "markdown",
   "id": "f3bdca0c-f581-4bf5-9649-18166f5ce1a4",
   "metadata": {},
   "source": [
    "### 4 Sum – Check if a Quadruple with given Sum Exists in an Array"
   ]
  },
  {
   "cell_type": "code",
   "execution_count": 16,
   "id": "6a8a4cd2-ab22-4941-a29d-63cf62943b3b",
   "metadata": {},
   "outputs": [],
   "source": [
    "def quadruplesum(arr, target):\n",
    "    n = len(arr)\n",
    "    arr.sort()\n",
    "    \n",
    "    for i in range(0, n-3):\n",
    "        first = arr[i]\n",
    "        for j in range(i+1, n-2):\n",
    "            second = arr[j]\n",
    "            l = j+1\n",
    "            r = n-1\n",
    "            \n",
    "            while l < r:\n",
    "                third = arr[l]\n",
    "                fourth = arr[r]\n",
    "                \n",
    "                if first + second + third + fourth == target:\n",
    "                    print(\"Quadraple is: \", first, \" \", second, \" \", third, \" \", fourth)\n",
    "                    return True\n",
    "                elif first + second + third + fourth < target:\n",
    "                    l += 1\n",
    "                else:\n",
    "                    r -= 1\n",
    "    return False\n",
    "                    "
   ]
  },
  {
   "cell_type": "code",
   "execution_count": 17,
   "id": "6fb5a76c-bd22-49b9-831c-b1d67c441819",
   "metadata": {},
   "outputs": [
    {
     "name": "stdout",
     "output_type": "stream",
     "text": [
      "Quadraple is:  1   20   30   40\n"
     ]
    },
    {
     "data": {
      "text/plain": [
       "True"
      ]
     },
     "execution_count": 17,
     "metadata": {},
     "output_type": "execute_result"
    }
   ],
   "source": [
    "arr = [10, 20, 30, 40, 1, 2]\n",
    "target = 91\n",
    "quadruplesum(arr, target)"
   ]
  },
  {
   "cell_type": "markdown",
   "id": "d1eea072-b968-47f7-8f42-af3e6e075b12",
   "metadata": {},
   "source": [
    "### Trapping Rain Water Problem – Tutorial with Illustrations\n",
    "\n",
    "Trapping Rainwater Problem states that given an array of n non-negative integers arr[] representing an elevation map where the width of each bar is 1, compute how much water it can trap after rain.\n",
    "\n",
    "![Trapping Rain Water](..//images//Trapping-Rain-Water-Problem.png)\n",
    "\n",
    "Input: arr[] = [3, 0, 1, 0, 4, 0, 2]\n",
    "\n",
    "Output: 10"
   ]
  },
  {
   "cell_type": "code",
   "execution_count": 18,
   "id": "35097d1a-c344-4bd7-bc19-2e3c5625704d",
   "metadata": {},
   "outputs": [],
   "source": [
    "def trapwater1(arr):\n",
    "    n = len(arr)\n",
    "    res = 0\n",
    "    for i in range(1,n-1):\n",
    "        \n",
    "        left = arr[i]\n",
    "        for j in range(0,i):\n",
    "            left = max(left, arr[j])\n",
    "        \n",
    "        right = arr[j]\n",
    "        for j in range(i+1, n):\n",
    "            right = max(right, arr[j])\n",
    "        \n",
    "        res = res + min(left, right) - arr[i]\n",
    "    \n",
    "    return res\n",
    "        "
   ]
  },
  {
   "cell_type": "code",
   "execution_count": 20,
   "id": "1cc37b78-6f2e-4e85-83ea-267d97cd429f",
   "metadata": {},
   "outputs": [
    {
     "data": {
      "text/plain": [
       "10"
      ]
     },
     "execution_count": 20,
     "metadata": {},
     "output_type": "execute_result"
    }
   ],
   "source": [
    "arr = [3, 0, 1, 0, 4, 0, 2]\n",
    "trapwater1(arr)"
   ]
  },
  {
   "cell_type": "markdown",
   "id": "090c4a08-7b2d-411c-bc6a-b2361cf9dbbc",
   "metadata": {},
   "source": [
    "The approach is mainly based on the following facts:\n",
    "\n",
    "If we consider a subarray arr[left...right], we can decide the amount of water either for arr[left] or arr[right] if we know the left max (max element in arr[0...left-1]) and right max (max element in arr[right+1...n-1].\n",
    "\n",
    "If left max is less than the right max, then we can decide for arr[left]. Else we can decide for arr[right]\n",
    "\n",
    "If we decide for arr[left], then the amount of water would be left max - arr[left] and if we decide for arr[right], then the amount of water would be right max - arr[right]."
   ]
  },
  {
   "cell_type": "code",
   "execution_count": 26,
   "id": "c1ee5cf9-0f8b-443f-a7a0-fa882820a7f7",
   "metadata": {},
   "outputs": [],
   "source": [
    "def trapwater2(arr):\n",
    "    l = 1\n",
    "    r = len(arr) - 2\n",
    "    \n",
    "    lmax = arr[l - 1]\n",
    "    rmax = arr[r + 1]\n",
    "    \n",
    "    res = 0\n",
    "    while l <= r:\n",
    "        \n",
    "        if rmax <= lmax:\n",
    "            res = res + max(0, rmax - arr[r])\n",
    "            rmax = max(rmax, arr[r])\n",
    "            r = r - 1\n",
    "        else:\n",
    "            res = res + max(0, lmax - arr[l])\n",
    "            lmax = max(lmax, arr[l])\n",
    "            l = l + 1\n",
    "            \n",
    "    return res"
   ]
  },
  {
   "cell_type": "code",
   "execution_count": 27,
   "id": "c8a9f2cb-2039-4018-b69d-18e895e5fc6e",
   "metadata": {},
   "outputs": [
    {
     "data": {
      "text/plain": [
       "10"
      ]
     },
     "execution_count": 27,
     "metadata": {},
     "output_type": "execute_result"
    }
   ],
   "source": [
    "arr = [3, 0, 1, 0, 4, 0, 2]\n",
    "trapwater2(arr)"
   ]
  },
  {
   "cell_type": "markdown",
   "id": "b475e9eb-510c-47a8-bb4b-f96bf6d6b087",
   "metadata": {},
   "source": [
    "### Prefix Sum Array – Implementation and Applications in Competitive Programming\n",
    "\n",
    "Given an array arr[] of size n, the task is to find the prefix sum of the array. A prefix sum array is another array prefixSum[] of the same size, such that prefixSum[i] is arr[0] + arr[1] + arr[2] . . . arr[i].\n",
    "\n",
    "Input: arr[] = [10, 20, 10, 5, 15]\n",
    "\n",
    "Output: 10 30 40 45 60\n",
    "\n",
    "Explanation: For each index i, add all the elements from 0 to i:\n",
    "\n",
    "prefixSum[0] = 10, \n",
    "\n",
    "prefixSum[1] = 10 + 20 = 30, \n",
    "\n",
    "prefixSum[2] = 10 + 20 + 10 = 40 and so on."
   ]
  },
  {
   "cell_type": "code",
   "execution_count": 30,
   "id": "d07e40b9-fd1c-4456-9083-eca52b559c12",
   "metadata": {},
   "outputs": [],
   "source": [
    "def prefixsum(arr):\n",
    "    ps = []\n",
    "    cs = 0\n",
    "    for i in arr:\n",
    "        cs = cs + i\n",
    "        ps.append(cs)\n",
    "    \n",
    "    return ps"
   ]
  },
  {
   "cell_type": "code",
   "execution_count": 31,
   "id": "a02255d1-7651-4233-842c-9c8baea4c7f2",
   "metadata": {},
   "outputs": [
    {
     "data": {
      "text/plain": [
       "[10, 30, 40, 45, 60]"
      ]
     },
     "execution_count": 31,
     "metadata": {},
     "output_type": "execute_result"
    }
   ],
   "source": [
    "arr = [10, 20, 10, 5, 15]\n",
    "prefixsum(arr)"
   ]
  },
  {
   "cell_type": "markdown",
   "id": "dab21d62-f291-403a-b567-aab7b0ab540d",
   "metadata": {},
   "source": [
    "### Maximum value in an array after m range increment operations\n",
    "\n",
    "Consider an array of size n with all initial values as 0. We need to perform the following m range increment operations.\n",
    "\n",
    "\n",
    "increment(a, b, k) : Increment values from ‘a’  to ‘b’ by ‘k’.    \n",
    "\n",
    "\n",
    "After m operations, we need to calculate the maximum of the values in the array.\n",
    "\n",
    "\n",
    "Examples : \n",
    "\n",
    "\n",
    "Input : n = 5 m = 3 \n",
    "\n",
    "           a = 0, b = 1, k = 100 \n",
    "           \n",
    "           a = 1, b = 4, k = 100\n",
    "           \n",
    "           a = 2, b = 3, k = 100\n",
    "           \n",
    "           \n",
    "Output : 200\n",
    "\n",
    "Explanation:\n",
    "\n",
    "Initially array = {0, 0, 0, 0, 0}\n",
    "\n",
    "After first operation: {100, 100, 0, 0, 0}\n",
    "\n",
    "After second operation: {100, 200, 100, 100, 100}\n",
    "\n",
    "After third operation {100, 200, 200, 200, 100}\n",
    "\n",
    "Maximum element after m operations is 200. "
   ]
  },
  {
   "cell_type": "markdown",
   "id": "aa03f654-2507-47c2-964e-5b09d8fefb35",
   "metadata": {},
   "source": [
    "#### Maximum occurring integer in given ranges\n",
    "\n",
    "Given two arrays L[] and R[] of size N where L[i] and R[i] (0 ? L[i], R[i] < 106)denotes a range of numbers, the task is to find the maximum occurred integer in all the ranges. If more than one such integer exists, print the smallest one. \n",
    "\n",
    "Examples: \n",
    "\n",
    "\n",
    "Input: L[] = {1, 4, 3, 1}, R[] = {15, 8, 5, 4}\n",
    "Output: 4"
   ]
  },
  {
   "cell_type": "code",
   "execution_count": 33,
   "id": "9d0e59cc-98cc-44ac-a43e-51f0ba8382f0",
   "metadata": {},
   "outputs": [],
   "source": [
    "def max_occouring(L, R, n):\n",
    "    mp = {}\n",
    "    i = 0\n",
    "    while i < n:\n",
    "        if L[i] not in mp:\n",
    "            mp[L[i]] = 1\n",
    "        else:\n",
    "            mp[L[i]] += 1\n",
    "        if R[i] not in mp:\n",
    "            mp[R[i]] = 1\n",
    "        else:\n",
    "            mp[R[i]] += 1\n",
    "        i += 1\n",
    "    me = None\n",
    "    mv = 0\n",
    "    \n",
    "    for k,v in mp.items():\n",
    "        if v > mv:\n",
    "            mv = v\n",
    "            me = k\n",
    "    \n",
    "    return me"
   ]
  },
  {
   "cell_type": "code",
   "execution_count": 35,
   "id": "b8a287a2-4d1b-46ef-849e-a667e3ba127e",
   "metadata": {},
   "outputs": [
    {
     "data": {
      "text/plain": [
       "1"
      ]
     },
     "execution_count": 35,
     "metadata": {},
     "output_type": "execute_result"
    }
   ],
   "source": [
    "L = [1, 4, 9, 13, 21]\n",
    "R = [15, 8, 12, 20, 30]\n",
    "n = len(L)\n",
    "\n",
    "max_occouring(L, R, n)"
   ]
  },
  {
   "cell_type": "markdown",
   "id": "c3361ba7-4455-4b49-9811-6600b032d235",
   "metadata": {},
   "source": [
    "### Equilibrium Index\n",
    "\n",
    "Given an array arr[] of size n, the task is to return an equilibrium index (if any) or -1 if no equilibrium index exists. The equilibrium index of an array is an index such that the sum of all elements at lower indexes equals the sum of all elements at higher indexes.\n",
    "\n",
    "Note: When the index is at the start of the array, the left sum is 0, and when it’s at the end, the right sum is 0.\n"
   ]
  },
  {
   "cell_type": "code",
   "execution_count": 36,
   "id": "6c6b6684-9573-41d1-a402-03b0c1f5c0c2",
   "metadata": {},
   "outputs": [],
   "source": [
    "def find_eq_index(arr):\n",
    "    ps = arr[0]\n",
    "    ts = sum(arr)\n",
    "    for i in range(1, len(arr)-1):\n",
    "        ss = ts - ps - arr[i]\n",
    "        if ss == ps:\n",
    "            return i\n",
    "        ps = ps + arr[i]\n",
    "    \n",
    "    return -1"
   ]
  },
  {
   "cell_type": "code",
   "execution_count": 37,
   "id": "6d5b6976-f86f-4fc0-bb04-6ceb85f5f85b",
   "metadata": {},
   "outputs": [
    {
     "data": {
      "text/plain": [
       "3"
      ]
     },
     "execution_count": 37,
     "metadata": {},
     "output_type": "execute_result"
    }
   ],
   "source": [
    "arr = [1, 7, 3, 6, 5, 6]\n",
    "find_eq_index(arr)"
   ]
  },
  {
   "cell_type": "markdown",
   "id": "7a19f995-0d07-4801-ad52-836a679192af",
   "metadata": {},
   "source": [
    "### Subarray with 0 sum"
   ]
  },
  {
   "cell_type": "code",
   "execution_count": 43,
   "id": "a5dacf51-f1e1-4713-9016-5dd89f960b02",
   "metadata": {},
   "outputs": [
    {
     "name": "stdout",
     "output_type": "stream",
     "text": [
      "{8}\n",
      "{8, 9}\n",
      "{8, 9, 11}\n",
      "Found a subarray with 0 sum\n"
     ]
    }
   ],
   "source": [
    "# python3 program to find if\n",
    "# there is a zero sum subarray\n",
    "\n",
    "\n",
    "def subArrayExists(arr, N):\n",
    "    # traverse through array\n",
    "    # and store prefix sums\n",
    "    n_sum = 0\n",
    "    s = set()\n",
    "\n",
    "    for i in range(N):\n",
    "        n_sum += arr[i]\n",
    "\n",
    "        # If prefix sum is 0 or\n",
    "        # it is already present\n",
    "        if n_sum == 0 or n_sum in s:\n",
    "            return True\n",
    "        s.add(n_sum)\n",
    "        print(s)\n",
    "\n",
    "    return False\n",
    "\n",
    "\n",
    "# Driver's code\n",
    "if __name__ == '__main__':\n",
    "    arr = [8, 1, 2, -3, 71]\n",
    "    N = len(arr)\n",
    "\n",
    "    # Function call\n",
    "    if subArrayExists(arr, N) == True:\n",
    "        print(\"Found a subarray with 0 sum\")\n",
    "    else:\n",
    "        print(\"No Such sub array exits!\")\n"
   ]
  },
  {
   "cell_type": "markdown",
   "id": "a95359da-e57b-4711-85e7-28dadace87a0",
   "metadata": {},
   "source": [
    "### Maximum subarray size having all subarrays sums less than k\n",
    "\n",
    "Given an array of positive integers arr[] of size n, and an integer k. The task is to find the maximum subarray size such that all subarrays of that size have sum less than or equals to k."
   ]
  },
  {
   "cell_type": "code",
   "execution_count": 47,
   "id": "587e6e2a-024f-4aab-81dd-c720474b7f7e",
   "metadata": {},
   "outputs": [],
   "source": [
    "def max_subarray(arr, k):\n",
    "    i, j = 0, 0\n",
    "    \n",
    "    cs = 0\n",
    "    minLen = n+1\n",
    "    \n",
    "    while j < len(arr):\n",
    "        cs = cs + arr[j]\n",
    "        j += 1\n",
    "        \n",
    "        while cs > k:\n",
    "            minLen = min(minLen, j - i)\n",
    "            cs -= arr[i]\n",
    "            i += 1\n",
    "    \n",
    "    res = minLen - 1\n",
    "    if res == 0:\n",
    "        return -1\n",
    "    else:\n",
    "        return res"
   ]
  },
  {
   "cell_type": "code",
   "execution_count": 48,
   "id": "5fdf3255-aaca-420f-973d-97652d7abb07",
   "metadata": {},
   "outputs": [
    {
     "data": {
      "text/plain": [
       "2"
      ]
     },
     "execution_count": 48,
     "metadata": {},
     "output_type": "execute_result"
    }
   ],
   "source": [
    "arr = [1, 2, 3, 4]\n",
    "k = 8\n",
    "\n",
    "max_subarray(arr, k)"
   ]
  },
  {
   "cell_type": "markdown",
   "id": "03c885d0-3acd-4bc1-838a-dbe2ccdab317",
   "metadata": {},
   "source": [
    "### Maximum product of a triplet (subsequence of size 3) in array"
   ]
  },
  {
   "cell_type": "code",
   "execution_count": 4,
   "id": "370c23bd-381a-4293-9d21-533cb444f196",
   "metadata": {},
   "outputs": [],
   "source": [
    "def maxProductOfTriplet(arr):\n",
    "    l1,l2,l3 = arr[0], arr[0], arr[0]\n",
    "    \n",
    "    m1, m2 = arr[0], arr[0]\n",
    "    \n",
    "    for i in arr:\n",
    "        if i > l3:\n",
    "            l1 = l2\n",
    "            l2 = l3\n",
    "            l3 = i\n",
    "        elif i > l2 and i < l3:\n",
    "            l1 = l2\n",
    "            l2 = i\n",
    "        elif i > l1 and i < l2 and i < l3:\n",
    "            l3 = i\n",
    "            \n",
    "    for i in arr:\n",
    "        if i < m1: \n",
    "            m2 = m1\n",
    "            m1 = i\n",
    "        elif i < m2 and i > m1:\n",
    "            m2 = i\n",
    "    \n",
    "    return max((m1*m2*l3), (l1*l2*l3))\n",
    "\n",
    "                "
   ]
  },
  {
   "cell_type": "code",
   "execution_count": 5,
   "id": "668a74eb-baaa-494f-b708-08875434d3c3",
   "metadata": {},
   "outputs": [
    {
     "data": {
      "text/plain": [
       "1200"
      ]
     },
     "execution_count": 5,
     "metadata": {},
     "output_type": "execute_result"
    }
   ],
   "source": [
    "arr = [-10, -3, 5, 6, -20]\n",
    "maxProductOfTriplet(arr)"
   ]
  },
  {
   "cell_type": "markdown",
   "id": "9a1066cf-ff0e-4c2e-b8fe-cae8622b7165",
   "metadata": {},
   "source": [
    "### Maximum consecutive one’s (or zeros) in a binary array"
   ]
  },
  {
   "cell_type": "code",
   "execution_count": 6,
   "id": "612165f4-4138-4e1a-a30c-29542a661625",
   "metadata": {},
   "outputs": [],
   "source": [
    "def maxOnes(arr):\n",
    "    cc, mc = 0, 0\n",
    "    \n",
    "    for i in arr:\n",
    "        if i == 1:\n",
    "            cc = cc + 1\n",
    "            mc = max(cc, mc)\n",
    "        if i == 0:\n",
    "            cc = 0\n",
    "    return mc"
   ]
  },
  {
   "cell_type": "code",
   "execution_count": 7,
   "id": "b7920561-887a-4ccc-80c5-b81410d43026",
   "metadata": {},
   "outputs": [
    {
     "data": {
      "text/plain": [
       "4"
      ]
     },
     "execution_count": 7,
     "metadata": {},
     "output_type": "execute_result"
    }
   ],
   "source": [
    "arr = [1, 1, 0, 0, 1, 0, 1, 0, 1, 1, 1, 1]\n",
    "maxOnes(arr)"
   ]
  },
  {
   "cell_type": "markdown",
   "id": "5044803f-7ea2-4440-97c0-44017470ca29",
   "metadata": {},
   "source": [
    "### Reverse an Array in groups of given size"
   ]
  },
  {
   "cell_type": "code",
   "execution_count": 10,
   "id": "17866dff-7887-4c5e-98e2-9ece67a0d316",
   "metadata": {},
   "outputs": [],
   "source": [
    "def reverse_arr_in_groups(arr, k):\n",
    "    i = 0\n",
    "    n = len(arr)\n",
    "    \n",
    "    while i < n:\n",
    "        start = i\n",
    "        end = min(i + k -1, n-1)\n",
    "        \n",
    "        while(start < end):\n",
    "            arr[start], arr[end] = arr[end], arr[start]\n",
    "            \n",
    "            start += 1\n",
    "            end -= 1\n",
    "        \n",
    "        i = i + k\n",
    "    \n",
    "    return arr"
   ]
  },
  {
   "cell_type": "code",
   "execution_count": 11,
   "id": "8f7009a2-13ee-44a0-ac6f-da2e045d3bf5",
   "metadata": {},
   "outputs": [
    {
     "data": {
      "text/plain": [
       "[3, 2, 1, 6, 5, 4, 8, 7]"
      ]
     },
     "execution_count": 11,
     "metadata": {},
     "output_type": "execute_result"
    }
   ],
   "source": [
    "arr = [1, 2, 3, 4, 5, 6, 7, 8] \n",
    "reverse_arr_in_groups(arr, 3)"
   ]
  },
  {
   "cell_type": "markdown",
   "id": "380f427f-8299-4782-b925-69f2f833a79a",
   "metadata": {},
   "source": [
    "### Sort an array in wave form"
   ]
  },
  {
   "cell_type": "code",
   "execution_count": 24,
   "id": "ee0ae299-4748-4f71-a529-faf13364b570",
   "metadata": {},
   "outputs": [],
   "source": [
    "def sortWave(arr):\n",
    "    for i in range(0, len(arr), 2):\n",
    "        if i > 0 and arr[i] < arr[i - 1]:\n",
    "            arr[i-1], arr[i] = arr[i], arr[i-1]\n",
    "        if i < len(arr)-1 and arr[i] < arr[i + 1]:\n",
    "            arr[i], arr[i+1] = arr[i+1], arr[i]\n",
    "    print(arr)"
   ]
  },
  {
   "cell_type": "code",
   "execution_count": 25,
   "id": "f8ae9637-19ba-4059-8b0c-da69162f0dfa",
   "metadata": {},
   "outputs": [
    {
     "name": "stdout",
     "output_type": "stream",
     "text": [
      "[90, 10, 49, 1, 5, 2, 23]\n"
     ]
    }
   ],
   "source": [
    "arr = [10, 90, 49, 2, 1, 5, 23]\n",
    "sortWave(arr)"
   ]
  },
  {
   "cell_type": "markdown",
   "id": "7a5e2c16-b066-40f0-9a6f-30f950e08786",
   "metadata": {},
   "source": [
    "### Adding one to number represented as array of digits"
   ]
  },
  {
   "cell_type": "code",
   "execution_count": 34,
   "id": "2c1508ab-3527-4585-945f-e3ab1c7f53d1",
   "metadata": {},
   "outputs": [],
   "source": [
    "def add1toarr(arr):\n",
    "    c = 0\n",
    "    res = 0\n",
    "    d = 0\n",
    "    n = len(arr)\n",
    "    for i in range(n-1, -1, -1):\n",
    "        if i == n-1:\n",
    "            arr[i] = arr[i] + 1\n",
    "        else: \n",
    "            arr[i] += c\n",
    "        if arr[i] == 10:\n",
    "            arr[i] = 0\n",
    "            c = 1\n",
    "        else:\n",
    "            c = 0\n",
    "        \n",
    "        res = res + arr[i] * pow(10,d)\n",
    "        d += 1\n",
    "        \n",
    "    if c == 1:\n",
    "        res = res + c * pow(10,d)\n",
    "    \n",
    "    return res\n",
    "        "
   ]
  },
  {
   "cell_type": "code",
   "execution_count": 35,
   "id": "0d858be0-d57a-4480-9ec7-c7dd80ade125",
   "metadata": {},
   "outputs": [
    {
     "data": {
      "text/plain": [
       "1000"
      ]
     },
     "execution_count": 35,
     "metadata": {},
     "output_type": "execute_result"
    }
   ],
   "source": [
    "arr = [9, 9, 9]\n",
    "add1toarr(arr)"
   ]
  },
  {
   "cell_type": "code",
   "execution_count": 36,
   "id": "e530abfb-f41c-4ec0-9f94-fc1b7f57a16e",
   "metadata": {},
   "outputs": [
    {
     "data": {
      "text/plain": [
       "14000"
      ]
     },
     "execution_count": 36,
     "metadata": {},
     "output_type": "execute_result"
    }
   ],
   "source": [
    "arr = [1, 3, 9, 9, 9]\n",
    "add1toarr(arr)"
   ]
  },
  {
   "cell_type": "markdown",
   "id": "e8207f6f-81fb-479a-ad76-dd09393e78b1",
   "metadata": {},
   "source": [
    "### Stock Buy and Sell – Max one Transaction Allowed\n",
    "\n",
    "Given an array prices[] of length N, representing the prices of the stocks on different days, the task is to find the maximum profit possible by buying and selling the stocks on different days when at most one transaction is allowed. Here one transaction means 1 buy + 1 Sell."
   ]
  },
  {
   "cell_type": "markdown",
   "id": "9e769a93-5b3a-4878-92a3-ef52c467444a",
   "metadata": {},
   "source": [
    "Input: prices[] = {7, 10, 1, 3, 6, 9, 2}\n",
    "Output: 8\n",
    "\n",
    "Explanation: Buy for price 1 and sell for price 9. "
   ]
  },
  {
   "cell_type": "code",
   "execution_count": 37,
   "id": "476bbffc-5d29-4707-a9e0-378d82b95959",
   "metadata": {},
   "outputs": [],
   "source": [
    "def stock_buy_sel(arr):\n",
    "    cp, max_profit = arr[0], 0\n",
    "    for i in arr:\n",
    "        if i > cp:\n",
    "            profit = i - cp\n",
    "            max_profit = max(max_profit, profit)\n",
    "        else:\n",
    "            cp = i\n",
    "    return max_profit"
   ]
  },
  {
   "cell_type": "code",
   "execution_count": 38,
   "id": "0c63834c-367f-429f-889b-33d0db08a050",
   "metadata": {},
   "outputs": [
    {
     "data": {
      "text/plain": [
       "8"
      ]
     },
     "execution_count": 38,
     "metadata": {},
     "output_type": "execute_result"
    }
   ],
   "source": [
    "prices = [7, 10, 1, 3, 6, 9, 2]\n",
    "stock_buy_sel(prices)"
   ]
  },
  {
   "cell_type": "markdown",
   "id": "ae4be9c5-8418-4982-8dd8-adfb40c9512f",
   "metadata": {},
   "source": [
    "### Finding sum of digits of a number until sum becomes single digit"
   ]
  },
  {
   "cell_type": "code",
   "execution_count": 41,
   "id": "e7341791-f852-4135-8dbe-a846b5fc8ddb",
   "metadata": {},
   "outputs": [],
   "source": [
    "def get_sum(n):\n",
    "    s = 0\n",
    "    while n > 0:\n",
    "        r = n%10\n",
    "        s = s + r\n",
    "        n = n//10\n",
    "    \n",
    "    return s\n",
    "\n",
    "def find_ultimate_sum(n):\n",
    "    s = get_sum(n)\n",
    "    return s%9"
   ]
  },
  {
   "cell_type": "code",
   "execution_count": 43,
   "id": "9a19bab1-f436-4d1b-bcff-559b89f902af",
   "metadata": {},
   "outputs": [
    {
     "data": {
      "text/plain": [
       "4"
      ]
     },
     "execution_count": 43,
     "metadata": {},
     "output_type": "execute_result"
    }
   ],
   "source": [
    "find_ultimate_sum(5764)"
   ]
  },
  {
   "cell_type": "markdown",
   "id": "de8a3233-5694-4234-9dce-7d491f689008",
   "metadata": {},
   "source": [
    "### Remove duplicates from Sorted Array"
   ]
  },
  {
   "cell_type": "code",
   "execution_count": 44,
   "id": "f6fc414d-d326-45c0-a886-f182e6f3e331",
   "metadata": {},
   "outputs": [],
   "source": [
    "def remove_duplicates(arr):\n",
    "    i, j = 0, 1\n",
    "    \n",
    "    while j < len(arr):\n",
    "        if arr[i] != arr[j]:\n",
    "            i = i + 1\n",
    "            arr[i] = arr[j]\n",
    "        j = j + 1\n",
    "        \n",
    "    return arr[:i + 1]"
   ]
  },
  {
   "cell_type": "code",
   "execution_count": 45,
   "id": "5f68324a-4bec-44b0-8ea3-e8b269cf04b2",
   "metadata": {},
   "outputs": [
    {
     "data": {
      "text/plain": [
       "[2]"
      ]
     },
     "execution_count": 45,
     "metadata": {},
     "output_type": "execute_result"
    }
   ],
   "source": [
    "arr = [2, 2, 2, 2, 2]\n",
    "remove_duplicates(arr)"
   ]
  },
  {
   "cell_type": "code",
   "execution_count": 46,
   "id": "070fa71c-2560-4728-85cb-d86250b2ff78",
   "metadata": {},
   "outputs": [
    {
     "data": {
      "text/plain": [
       "[1, 2, 3, 4, 5]"
      ]
     },
     "execution_count": 46,
     "metadata": {},
     "output_type": "execute_result"
    }
   ],
   "source": [
    "arr = [1, 2, 2, 3, 4, 4, 4, 5, 5]\n",
    "remove_duplicates(arr)"
   ]
  },
  {
   "cell_type": "markdown",
   "id": "aa0731db-8f7f-4db3-b8c1-46edd6ecb7ac",
   "metadata": {},
   "source": [
    "### Rearrange Array Elements by Sign"
   ]
  },
  {
   "cell_type": "code",
   "execution_count": 50,
   "id": "023ba7b6-ea8c-43cd-acbb-4eb9b022650a",
   "metadata": {},
   "outputs": [],
   "source": [
    "def rotate_arr_right(arr, start, end):\n",
    "    temp = arr[end]\n",
    "    for i in range(end -1, start, -1):\n",
    "        arr[i + 1] = arr[i]\n",
    "    arr[start] = temp\n",
    "\n",
    "def rearrange(arr):\n",
    "    n = len(arr)\n",
    "    for i in range(n):\n",
    "        if arr[i] >= 0 and i%2 == 1:\n",
    "            j = i+1\n",
    "            while j < n:\n",
    "                if arr[j] < 0:\n",
    "                    rotate_arr_right(arr, i, j)\n",
    "                    break\n",
    "                j += 1\n",
    "        elif arr[i] < 0 and i %2 == 0:\n",
    "            j = i+1\n",
    "            while j < n:\n",
    "                if arr[j] >= 0:\n",
    "                    rotate_arr_right(arr, i, j)\n",
    "                    break\n",
    "                j += 1\n",
    "    print(arr)"
   ]
  },
  {
   "cell_type": "code",
   "execution_count": 51,
   "id": "8aa79a21-0505-45fe-9040-c6ccb2337f9b",
   "metadata": {},
   "outputs": [
    {
     "name": "stdout",
     "output_type": "stream",
     "text": [
      "[1, -4, 3, -1, 4, 4]\n"
     ]
    }
   ],
   "source": [
    "arr = [1, 2, 3, -4, -1, 4]\n",
    "\n",
    "rearrange(arr)"
   ]
  },
  {
   "cell_type": "code",
   "execution_count": 54,
   "id": "755b78b3-e596-4416-bfe2-f66568c17ac3",
   "metadata": {},
   "outputs": [],
   "source": [
    "def rearrange2(arr):\n",
    "    pa = []\n",
    "    na = []\n",
    "    for i in arr:\n",
    "        if i < 0:\n",
    "            na.append(i)\n",
    "        else:\n",
    "            pa.append(i)\n",
    "    p, n = 0, 0\n",
    "    for i in range(len(arr)):\n",
    "        if i %2 == 0 and p < len(pa):\n",
    "            arr[i] = pa[p]\n",
    "            p += 1\n",
    "        elif i %2 == 1 and n < len(na):\n",
    "            arr[i] = na[n]\n",
    "            n += 1\n",
    "    \n",
    "    print(arr)"
   ]
  },
  {
   "cell_type": "code",
   "execution_count": 55,
   "id": "22da9167-51dd-484c-b218-af1ac1118f6a",
   "metadata": {},
   "outputs": [
    {
     "name": "stdout",
     "output_type": "stream",
     "text": [
      "[1, -4, 2, -1, 3, 4]\n"
     ]
    }
   ],
   "source": [
    "arr = [1, 2, 3, -4, -1, 4]\n",
    "\n",
    "rearrange2(arr)"
   ]
  },
  {
   "cell_type": "markdown",
   "id": "c07b11be-a87a-483e-88a3-46db48d5f3cd",
   "metadata": {},
   "source": [
    "### Insert an adjacent duplicate for all occurrences of a given element"
   ]
  },
  {
   "cell_type": "code",
   "execution_count": 67,
   "id": "c701d3ce-9fc9-4252-89f0-676a3e9346d0",
   "metadata": {},
   "outputs": [],
   "source": [
    "def adj_dup(arr, k):\n",
    "    i = 0\n",
    "    while i < len(arr):\n",
    "        if arr[i] == k:\n",
    "            arr.insert(i + 1, k)\n",
    "            i = i + 1\n",
    "            arr.pop()\n",
    "        i += 1\n",
    "    return arr"
   ]
  },
  {
   "cell_type": "code",
   "execution_count": 68,
   "id": "638ade25-f955-491e-b42b-565ebe9f7ab5",
   "metadata": {},
   "outputs": [
    {
     "data": {
      "text/plain": [
       "[1, 0, 0, 2, 3, 0, 0, 4]"
      ]
     },
     "execution_count": 68,
     "metadata": {},
     "output_type": "execute_result"
    }
   ],
   "source": [
    "arr = [1, 0, 2, 3, 0, 4, 5, 0]\n",
    "adj_dup(arr, 0)"
   ]
  },
  {
   "cell_type": "markdown",
   "id": "5b965e4e-4e2e-4703-9f3c-60e9cba78e97",
   "metadata": {},
   "source": [
    "####  O(n) Time and O(n) Space"
   ]
  },
  {
   "cell_type": "code",
   "execution_count": 78,
   "id": "a79c4f9a-a829-44ea-be9f-fe7b860bcb2c",
   "metadata": {},
   "outputs": [],
   "source": [
    "def dup_adj(arr, k):\n",
    "    res = []\n",
    "    for i in arr:\n",
    "        if i == k:\n",
    "            res.append(i)\n",
    "            arr.pop()\n",
    "        res.append(i)\n",
    "    return res"
   ]
  },
  {
   "cell_type": "code",
   "execution_count": 79,
   "id": "7db430f5-8b52-41fd-91a1-1946bcb6511b",
   "metadata": {},
   "outputs": [
    {
     "data": {
      "text/plain": [
       "[1, 0, 0, 2, 3, 0, 0, 4]"
      ]
     },
     "execution_count": 79,
     "metadata": {},
     "output_type": "execute_result"
    }
   ],
   "source": [
    "arr = [1, 0, 2, 3, 0, 4, 5, 0]\n",
    "dup_adj(arr, 0)"
   ]
  },
  {
   "cell_type": "code",
   "execution_count": 80,
   "id": "84c327af-0e5e-475d-a85a-65b208bc7de7",
   "metadata": {},
   "outputs": [
    {
     "data": {
      "text/plain": [
       "[1, 0, 2, 3, 0, 4]"
      ]
     },
     "execution_count": 80,
     "metadata": {},
     "output_type": "execute_result"
    }
   ],
   "source": [
    "arr"
   ]
  },
  {
   "cell_type": "markdown",
   "id": "eeaa6fa3-511c-4559-b402-f95209c60c90",
   "metadata": {},
   "source": [
    "####  O(n) Time and O(1) Space"
   ]
  },
  {
   "cell_type": "code",
   "execution_count": 92,
   "id": "cc14f56f-f30d-4b3e-8b88-fe20b8e5efaf",
   "metadata": {},
   "outputs": [],
   "source": [
    "def dup_arr2(arr, k):\n",
    "    c = arr.count(k)\n",
    "    n = len(arr)\n",
    "    curr = n-1\n",
    "    write_idx = n + c -1\n",
    "    \n",
    "    while curr >= 0 and write_idx >= 0:\n",
    "        if write_idx < n:\n",
    "            arr[write_idx] = arr[curr]\n",
    "        \n",
    "        write_idx -= 1\n",
    "        \n",
    "        if arr[curr] == k:\n",
    "            if write_idx < n:\n",
    "                arr[write_idx] = k\n",
    "            write_idx -= 1\n",
    "        \n",
    "        curr -= 1\n",
    "        print(arr)\n",
    "        \n",
    "    return arr"
   ]
  },
  {
   "cell_type": "code",
   "execution_count": 94,
   "id": "7c0c9780-a66d-44b0-bcd4-c068e2f41ad9",
   "metadata": {},
   "outputs": [
    {
     "name": "stdout",
     "output_type": "stream",
     "text": [
      "[1, 0, 2, 3, 0, 4, 5, 0]\n",
      "[1, 0, 2, 3, 0, 4, 5, 0]\n",
      "[1, 0, 2, 3, 0, 4, 5, 4]\n",
      "[1, 0, 2, 3, 0, 0, 0, 4]\n",
      "[1, 0, 2, 3, 3, 0, 0, 4]\n",
      "[1, 0, 2, 2, 3, 0, 0, 4]\n",
      "[1, 0, 0, 2, 3, 0, 0, 4]\n",
      "[1, 0, 0, 2, 3, 0, 0, 4]\n"
     ]
    },
    {
     "data": {
      "text/plain": [
       "[1, 0, 0, 2, 3, 0, 0, 4]"
      ]
     },
     "execution_count": 94,
     "metadata": {},
     "output_type": "execute_result"
    }
   ],
   "source": [
    "arr = [1, 0, 2, 3, 0, 4, 5, 0]\n",
    "dup_arr2(arr, 0)"
   ]
  },
  {
   "cell_type": "markdown",
   "id": "491a4258-78b6-4fd1-86f1-5767f4d7e4ca",
   "metadata": {},
   "source": [
    "### Missing ranges"
   ]
  },
  {
   "cell_type": "code",
   "execution_count": 97,
   "id": "2c311cd5-f86d-4ae2-a5f2-7a5e1e2ea2ce",
   "metadata": {},
   "outputs": [],
   "source": [
    "def missing_ranges(arr, l, u):\n",
    "    n = len(arr)\n",
    "    res = []\n",
    "    for i in range(n):\n",
    "        if i == 0 and l < arr[i]:\n",
    "            res.append([l,arr[i] - 1])\n",
    "        elif arr[i] - arr[i - 1] != 1:\n",
    "            res.append([arr[i-1] + 1, arr[i] - 1])\n",
    "    if arr[n - 1] < u:\n",
    "        res.append([arr[n - 1] + 1, u])\n",
    "        \n",
    "    return res            "
   ]
  },
  {
   "cell_type": "code",
   "execution_count": 98,
   "id": "f8dc0da4-e37b-4f99-8bc2-b5ff366c9951",
   "metadata": {},
   "outputs": [
    {
     "data": {
      "text/plain": [
       "[[10, 13], [16, 19], [21, 29], [32, 44], [46, 50]]"
      ]
     },
     "execution_count": 98,
     "metadata": {},
     "output_type": "execute_result"
    }
   ],
   "source": [
    "arr = [14, 15, 20, 30, 31, 45]\n",
    "missing_ranges(arr, 10, 50)"
   ]
  },
  {
   "cell_type": "markdown",
   "id": "80261e96-3035-4aae-b1e3-19c45b04fe07",
   "metadata": {},
   "source": [
    "### Next Permutation"
   ]
  },
  {
   "cell_type": "code",
   "execution_count": 101,
   "id": "e24fe2ac-3f9a-49f9-885f-fa6ead3f82da",
   "metadata": {},
   "outputs": [],
   "source": [
    "def next_per(arr):\n",
    "    \n",
    "    n = len(arr)\n",
    "    pivot_idx = -1\n",
    "    \n",
    "    for i in range(n-2, -1, -1):\n",
    "        if arr[i] < arr[i+1]:\n",
    "            pivot_idx = i\n",
    "            break\n",
    "    if pivot_idx == -1:\n",
    "        arr.reverse()\n",
    "        return\n",
    "    \n",
    "    \n",
    "    for i in range(n-1, pivot_idx, -1):\n",
    "        if arr[i] > arr[pivot_idx]:\n",
    "            arr[i], arr[pivot_idx] = arr[pivot_idx], arr[i]\n",
    "            break\n",
    "    \n",
    "    l, r = pivot_idx + 1, n - 1\n",
    "    while l < r:\n",
    "        arr[l], arr[r] = arr[r], arr[l]\n",
    "        l += 1\n",
    "        r -= 1\n",
    "\n",
    "    return arr\n",
    "    "
   ]
  },
  {
   "cell_type": "code",
   "execution_count": 103,
   "id": "722a47a2-bf46-40b8-a4a8-8703415e6d84",
   "metadata": {},
   "outputs": [
    {
     "data": {
      "text/plain": [
       "[2, 4, 5, 0, 1, 3, 7]"
      ]
     },
     "execution_count": 103,
     "metadata": {},
     "output_type": "execute_result"
    }
   ],
   "source": [
    "arr = [ 2, 4, 3, 7, 5, 1, 0 ]\n",
    "next_per(arr)"
   ]
  },
  {
   "cell_type": "markdown",
   "id": "eaeb4915-88b7-4f31-93c8-81f7ab12792f",
   "metadata": {},
   "source": [
    "### Majority Element\n",
    "Given an array arr. Find the majority element in the array. If no majority exists, return -1. A majority element in an array is an element that appears strictly more than arr.size() / 2 times in the array."
   ]
  },
  {
   "cell_type": "code",
   "execution_count": 104,
   "id": "baba8345-8def-4fcd-b870-07b426bd8669",
   "metadata": {},
   "outputs": [],
   "source": [
    "def find_me(arr):\n",
    "    me, c = -1, 0\n",
    "    \n",
    "    for i in arr:\n",
    "        if c == 0:\n",
    "            me = i\n",
    "            c += 1\n",
    "        elif i == me:\n",
    "            c += 1\n",
    "        else:\n",
    "            c -= 1\n",
    "    \n",
    "    if c >= 1:\n",
    "        return me\n",
    "    return -1"
   ]
  },
  {
   "cell_type": "code",
   "execution_count": 106,
   "id": "5890ddc6-1806-4af2-9695-eaa3610b3cc7",
   "metadata": {},
   "outputs": [
    {
     "data": {
      "text/plain": [
       "1"
      ]
     },
     "execution_count": 106,
     "metadata": {},
     "output_type": "execute_result"
    }
   ],
   "source": [
    "arr = [1, 1, 2, 1, 3, 5, 1]\n",
    "find_me(arr)"
   ]
  },
  {
   "cell_type": "markdown",
   "id": "6addcc49-fcd6-459a-8537-d123b5e2c7b5",
   "metadata": {},
   "source": [
    "### Majority Element II – Elements occurring more than [N/3] times"
   ]
  },
  {
   "cell_type": "code",
   "execution_count": 121,
   "id": "4488df62-e2f5-4071-beff-3573d3dc0a1c",
   "metadata": {},
   "outputs": [],
   "source": [
    " def me_2(arr):\n",
    "        me1, me2 = -1, -1\n",
    "        c1, c2 = 0, 0\n",
    "        n = len(arr)\n",
    "        \n",
    "        for i in arr:\n",
    "            if c1 == 0:\n",
    "                me1 = i\n",
    "                c1 += 1\n",
    "            elif i == me1:\n",
    "                c1 += 1\n",
    "            elif i != me1 and c2 == 0:\n",
    "                me2 = i\n",
    "                c2 += 1\n",
    "            elif i == me2:\n",
    "                c2 += 1\n",
    "            elif i != me1 and i != me2:\n",
    "                c1 -= 1\n",
    "                c2 -= 1\n",
    "        print(me1, c1)\n",
    "        print(me2, c2)\n",
    "            \n",
    "        if c1 > 0 and c2 > 0:\n",
    "            return [me1, me2]\n",
    "        elif c1 > 0:\n",
    "            return me1\n",
    "        elif c2 > 0:\n",
    "            return me2\n",
    "        else:\n",
    "            return -1"
   ]
  },
  {
   "cell_type": "code",
   "execution_count": 122,
   "id": "819e5ee9-8a5e-42db-a3d2-530c8718fae4",
   "metadata": {},
   "outputs": [
    {
     "name": "stdout",
     "output_type": "stream",
     "text": [
      "2 1\n",
      "1 1\n"
     ]
    },
    {
     "data": {
      "text/plain": [
       "[2, 1]"
      ]
     },
     "execution_count": 122,
     "metadata": {},
     "output_type": "execute_result"
    }
   ],
   "source": [
    "arr = [2, 2, 3, 1, 3, 2, 1, 1]\n",
    "me_2(arr)"
   ]
  },
  {
   "cell_type": "markdown",
   "id": "00c87da0-7365-4882-ba93-9ad53c5824d5",
   "metadata": {},
   "source": [
    "### Stock Buy and Sell – Multiple Transaction Allowed"
   ]
  },
  {
   "cell_type": "code",
   "execution_count": 133,
   "id": "6efc515d-d472-4a09-af37-b42d35f1f3d3",
   "metadata": {},
   "outputs": [],
   "source": [
    "def stock_bns(arr):\n",
    "    bp = arr[0]\n",
    "    total_profit = 0\n",
    "    for i in range(1, len(arr)):\n",
    "        if arr[i] > arr[i-1]:\n",
    "            total_profit += arr[i] - arr[i - 1]\n",
    "    return total_profit"
   ]
  },
  {
   "cell_type": "code",
   "execution_count": 134,
   "id": "c8d49a2e-42d3-4552-9441-74b3f39d0c61",
   "metadata": {},
   "outputs": [
    {
     "data": {
      "text/plain": [
       "865"
      ]
     },
     "execution_count": 134,
     "metadata": {},
     "output_type": "execute_result"
    }
   ],
   "source": [
    "prices = [100, 180, 260, 310, 40, 535, 695]\n",
    "stock_bns(prices)"
   ]
  },
  {
   "cell_type": "markdown",
   "id": "ef8d6c92-9074-45cb-8e75-10c60278d2f9",
   "metadata": {},
   "source": [
    "### Maximum Subarray Sum – Kadane’s Algorithm"
   ]
  },
  {
   "cell_type": "code",
   "execution_count": 137,
   "id": "f5fc50fb-3c64-47e9-9f68-806b4766ae4d",
   "metadata": {},
   "outputs": [],
   "source": [
    "def max_suarray_sum(arr):\n",
    "    max_so_far = 0\n",
    "    curr_max = 0\n",
    "    \n",
    "    for i in arr:\n",
    "        curr_max = max(curr_max + i, i)\n",
    "        max_so_far = max(max_so_far, curr_max)\n",
    "    return max_so_far"
   ]
  },
  {
   "cell_type": "code",
   "execution_count": 138,
   "id": "a56238e5-cb6b-4be8-9a24-e77d6d9ff09b",
   "metadata": {},
   "outputs": [
    {
     "data": {
      "text/plain": [
       "11"
      ]
     },
     "execution_count": 138,
     "metadata": {},
     "output_type": "execute_result"
    }
   ],
   "source": [
    "arr = [2, 3, -8, 7, -1, 2, 3]\n",
    "max_suarray_sum(arr)"
   ]
  },
  {
   "cell_type": "markdown",
   "id": "aa65b132-e83e-4971-a5f6-16007f7a8af0",
   "metadata": {},
   "source": [
    "### Maximum Product Subarray"
   ]
  },
  {
   "cell_type": "code",
   "execution_count": 143,
   "id": "7d3b6e69-b2ff-4f65-b762-df09f4e6b1b9",
   "metadata": {},
   "outputs": [],
   "source": [
    "def max_product_subarray(arr):\n",
    "    curr_max = arr[0]\n",
    "    curr_min = arr[0]\n",
    "    max_so_far = arr[0]\n",
    "    \n",
    "    for i in range(1, len(arr)):\n",
    "        temp = max(arr[i], curr_max * arr[i], curr_min * arr[i])\n",
    "        curr_min = min(arr[i], curr_max * arr[i], curr_min * arr[i])\n",
    "        \n",
    "        curr_max = temp\n",
    "        max_so_far = max(max_so_far, curr_max)\n",
    "    \n",
    "    return max_so_far"
   ]
  },
  {
   "cell_type": "code",
   "execution_count": 144,
   "id": "6a1eb583-82c6-4d6f-b402-eab072b2dca8",
   "metadata": {},
   "outputs": [
    {
     "data": {
      "text/plain": [
       "180"
      ]
     },
     "execution_count": 144,
     "metadata": {},
     "output_type": "execute_result"
    }
   ],
   "source": [
    "arr = [-2, 6, -3, -10, 0, 2]\n",
    "max_product_subarray(arr)"
   ]
  },
  {
   "cell_type": "code",
   "execution_count": 147,
   "id": "220a04cf-deb7-4af1-8800-82e10bd7287a",
   "metadata": {},
   "outputs": [],
   "source": [
    "def max_product_subarray2(arr):\n",
    "    max_pro = float(\"-inf\")\n",
    "    \n",
    "    l2r = 1\n",
    "    r2l = 1\n",
    "    n = len(arr)\n",
    "    \n",
    "    for i in range(n):\n",
    "        if l2r == 0:\n",
    "            l2r = 1\n",
    "        if r2l == 0:\n",
    "            r2l = 1\n",
    "        \n",
    "        l2r *= arr[i]\n",
    "        r2l *= arr[n - i -1]\n",
    "        \n",
    "        max_pro = max(l2r, r2l, max_pro)\n",
    "    \n",
    "    return max_pro"
   ]
  },
  {
   "cell_type": "code",
   "execution_count": 148,
   "id": "fafd0b8b-5b95-43dc-be65-e8cea4b9c21b",
   "metadata": {},
   "outputs": [
    {
     "data": {
      "text/plain": [
       "180"
      ]
     },
     "execution_count": 148,
     "metadata": {},
     "output_type": "execute_result"
    }
   ],
   "source": [
    "arr = [-2, 6, -3, -10, 0, 2]\n",
    "max_product_subarray2(arr)"
   ]
  },
  {
   "cell_type": "markdown",
   "id": "02de4838-ded2-439d-bb02-b16249d0d547",
   "metadata": {},
   "source": [
    "### Product of Array Except Self"
   ]
  },
  {
   "cell_type": "code",
   "execution_count": 151,
   "id": "e943f6d2-5d6b-41da-af1f-4662b152773f",
   "metadata": {},
   "outputs": [],
   "source": [
    "def pa_xself(arr):\n",
    "    pa = 1\n",
    "    c0 = 0\n",
    "    res = []\n",
    "    \n",
    "    for i in arr:\n",
    "        if i == 0:\n",
    "            c0 += 1\n",
    "        else:\n",
    "            pa *= i\n",
    "    \n",
    "    for i in arr:\n",
    "        if i == 0 and c0 > 1:\n",
    "            res.append(0)\n",
    "        elif i == 0 and c0 == 1:\n",
    "            res.append(pa)\n",
    "        elif i != 0:\n",
    "            if c0 > 0:\n",
    "                res.append(0)\n",
    "            else:\n",
    "                res.append(pa//i)\n",
    "    \n",
    "    return res"
   ]
  },
  {
   "cell_type": "code",
   "execution_count": 152,
   "id": "7295dce7-94fe-4810-90a1-46d33c5a6daf",
   "metadata": {},
   "outputs": [
    {
     "data": {
      "text/plain": [
       "[180, 600, 360, 300, 900]"
      ]
     },
     "execution_count": 152,
     "metadata": {},
     "output_type": "execute_result"
    }
   ],
   "source": [
    "arr = [10, 3, 5, 6, 2]\n",
    "pa_xself(arr)"
   ]
  },
  {
   "cell_type": "code",
   "execution_count": 153,
   "id": "f4b444f2-0b8d-4f89-8b59-0070d7084786",
   "metadata": {},
   "outputs": [
    {
     "data": {
      "text/plain": [
       "[0, 10]"
      ]
     },
     "execution_count": 153,
     "metadata": {},
     "output_type": "execute_result"
    }
   ],
   "source": [
    "arr = [10, 0]\n",
    "pa_xself(arr)"
   ]
  },
  {
   "cell_type": "markdown",
   "id": "16f7b26a-5645-4d86-8cf7-2b58e2fe3308",
   "metadata": {},
   "source": [
    "### Split array into three equal sum segments"
   ]
  },
  {
   "cell_type": "code",
   "execution_count": 156,
   "id": "ad65cba0-2098-4d01-ae2c-eed43f6f9564",
   "metadata": {},
   "outputs": [],
   "source": [
    "def split_arr(arr):\n",
    "    total_sum  = sum(arr)\n",
    "    if total_sum % 3 == 0:\n",
    "        res = []\n",
    "        curr_sum = 0\n",
    "        for i in range(len(arr)):\n",
    "            curr_sum += arr[i]\n",
    "            if curr_sum ==  total_sum//3:\n",
    "                res.append(i)\n",
    "                curr_sum = 0\n",
    "            if len(res) == 2:\n",
    "                break\n",
    "        \n",
    "        return res\n",
    "    else:\n",
    "        return [-1, -1]"
   ]
  },
  {
   "cell_type": "code",
   "execution_count": 157,
   "id": "9c20dab1-512e-43ab-9a3c-c58417c4f9f9",
   "metadata": {},
   "outputs": [
    {
     "data": {
      "text/plain": [
       "[1, 2]"
      ]
     },
     "execution_count": 157,
     "metadata": {},
     "output_type": "execute_result"
    }
   ],
   "source": [
    "arr = [1, 3, 4, 0, 4]\n",
    "split_arr(arr)"
   ]
  },
  {
   "cell_type": "markdown",
   "id": "9385ffeb-7d16-4333-9b3f-f61a06c0a101",
   "metadata": {},
   "source": [
    "### Maximum Consecutive Ones After Flipping Zeroes\n",
    "\n",
    "Given a binary array arr[] and an integer k, find the maximum length of a subarray containing all ones after flipping at most k zeroes to 1’s."
   ]
  },
  {
   "cell_type": "code",
   "execution_count": 166,
   "id": "7b4515d0-1823-428d-8f86-05405072d483",
   "metadata": {},
   "outputs": [],
   "source": [
    "def max_cons_ones(arr, k):\n",
    "    res = 0\n",
    "    n = len(arr)\n",
    "    for i in range(n-1):\n",
    "        count = 0\n",
    "        if arr[i] == 0:\n",
    "            count += 1\n",
    "        for j in range(i + 1, n):\n",
    "            if arr[j] == 0:\n",
    "                count += 1\n",
    "            \n",
    "            if count <= k:\n",
    "                #print(i, j)\n",
    "                res = max(res, j - i  + 1)\n",
    "    return res"
   ]
  },
  {
   "cell_type": "code",
   "execution_count": 167,
   "id": "6529a8bc-2c39-4a9d-8b37-3a0ef407a3bb",
   "metadata": {},
   "outputs": [
    {
     "data": {
      "text/plain": [
       "8"
      ]
     },
     "execution_count": 167,
     "metadata": {},
     "output_type": "execute_result"
    }
   ],
   "source": [
    "arr = [1, 0, 0, 1, 1, 0, 1, 0, 1, 1, 1]\n",
    "k = 2\n",
    "max_cons_ones(arr, k)"
   ]
  },
  {
   "cell_type": "code",
   "execution_count": 170,
   "id": "35750988-9da8-46ff-ac8c-948cf2150252",
   "metadata": {},
   "outputs": [],
   "source": [
    "def max_cons_ones2(arr, k):\n",
    "    start, end = 0, 0\n",
    "    count = 0\n",
    "    res = 0\n",
    "    while end < len(arr):\n",
    "        if arr[end] == 0:\n",
    "            count += 1\n",
    "        \n",
    "        if count <= k:\n",
    "            res = max(res, end - start + 1)\n",
    "        else:\n",
    "            while count > k:\n",
    "                if arr[start] == 0:\n",
    "                    count -= 1\n",
    "                start += 1\n",
    "        \n",
    "        end += 1\n",
    "    \n",
    "    return res"
   ]
  },
  {
   "cell_type": "code",
   "execution_count": 171,
   "id": "8c4b25ed-5903-41f7-b813-dbcd01fe0d9b",
   "metadata": {},
   "outputs": [
    {
     "data": {
      "text/plain": [
       "8"
      ]
     },
     "execution_count": 171,
     "metadata": {},
     "output_type": "execute_result"
    }
   ],
   "source": [
    "arr = [1, 0, 0, 1, 1, 0, 1, 0, 1, 1, 1]\n",
    "k = 2\n",
    "max_cons_ones2(arr, k)"
   ]
  },
  {
   "cell_type": "markdown",
   "id": "87ad00e4-0069-49e4-9037-e1831ab6b651",
   "metadata": {},
   "source": [
    "### Common Slot for Meeting of Two Persons\n",
    "You are given two lists of availability time slots, slt1[][] and slt2[][], for two people. Each slot is represented as [start, end], and it is guaranteed that within each list, no two slots overlap (i.e., for any two intervals, either start1>end2 or start2>end1).\n",
    "\n",
    "Given a meeting duration d, return the earliest common time slot of length at least d. If no such slot exists, return an empty array."
   ]
  },
  {
   "cell_type": "code",
   "execution_count": 185,
   "id": "faca9efe-0a84-43d4-baa0-b1f4c10eecab",
   "metadata": {},
   "outputs": [],
   "source": [
    "def common_slot(slt1, slt2, d):\n",
    "    slt1.sort(key = lambda x: x[0])\n",
    "    slt2.sort(key = lambda x: x[0])\n",
    "    \n",
    "    p1, p2 = 0, 0\n",
    "    res = []\n",
    "    \n",
    "    while p1 < len(slt1) and p2 < len(slt2):\n",
    "        \n",
    "        start = max(slt1[p1][0], slt2[p2][0])\n",
    "        end = min(slt1[p1][1], slt2[p2][1])\n",
    "        \n",
    "        print(start, end)\n",
    "        \n",
    "        if end - start >= d:\n",
    "            # print([start, start + d])\n",
    "            return [start, start + d]\n",
    "        \n",
    "        if slt1[p1][1] > slt2[p2][1]:\n",
    "            p2 += 1\n",
    "        else: \n",
    "            p1 += 1\n",
    "    \n",
    "    return res"
   ]
  },
  {
   "cell_type": "code",
   "execution_count": 186,
   "id": "1df9e2cc-1368-4184-a7c6-414836d662d0",
   "metadata": {},
   "outputs": [
    {
     "name": "stdout",
     "output_type": "stream",
     "text": [
      "10 15\n",
      "60 50\n",
      "60 70\n"
     ]
    },
    {
     "data": {
      "text/plain": [
       "[60, 68]"
      ]
     },
     "execution_count": 186,
     "metadata": {},
     "output_type": "execute_result"
    }
   ],
   "source": [
    "slt1 = [[10, 50], [60, 120], [140, 210]]\n",
    "slt2 = [[0, 15], [60, 70]]\n",
    "d = 8\n",
    "\n",
    "common_slot(slt1, slt2, d)"
   ]
  },
  {
   "cell_type": "markdown",
   "id": "62c8cfa3-af45-4d10-bc5f-c6fa8e1295cf",
   "metadata": {},
   "source": [
    "### Longest Mountain Subarray"
   ]
  },
  {
   "cell_type": "code",
   "execution_count": 190,
   "id": "fe61699f-52b8-4bdc-ae6c-4483f8733c88",
   "metadata": {},
   "outputs": [],
   "source": [
    "def largest_nountain_subb(arr):\n",
    "    \n",
    "    n = len(arr)\n",
    "    res = 0\n",
    "    for i in range(n):\n",
    "        j = i + 1\n",
    "        inc, dec = 0, 0\n",
    "        while j < n and arr[j] > arr[j-1]:\n",
    "            inc = 1\n",
    "            j += 1\n",
    "        while j < n and arr[j] < arr[j-1]:\n",
    "            dec = 1\n",
    "            j += 1\n",
    "        \n",
    "        if inc and dec:\n",
    "            res = max(res, j - i)\n",
    "    \n",
    "    return res"
   ]
  },
  {
   "cell_type": "code",
   "execution_count": 191,
   "id": "4c3e6c42-c366-4605-81b6-ff1dbf46e077",
   "metadata": {},
   "outputs": [
    {
     "data": {
      "text/plain": [
       "11"
      ]
     },
     "execution_count": 191,
     "metadata": {},
     "output_type": "execute_result"
    }
   ],
   "source": [
    "d = [1, 3, 1, 4, 5, 6, 7, 8, 9, 8, 7, 6, 5]\n",
    "largest_nountain_subb(d)"
   ]
  },
  {
   "cell_type": "code",
   "execution_count": 198,
   "id": "f9709b9a-1787-47df-9803-7829c734e7ad",
   "metadata": {},
   "outputs": [],
   "source": [
    "def largest_nountain_subb2(arr):\n",
    "    res = 0\n",
    "    i = 1\n",
    "    n = len(arr)\n",
    "    while i < n -1:\n",
    "        if arr[i] > arr[i-1] and arr[i] > arr[i+1]:\n",
    "            count = 0\n",
    "            j = i\n",
    "            while j > 0 and arr[j] > arr[j-1]:\n",
    "                count += 1\n",
    "                j -= 1\n",
    "            while i < n-1 and arr[i] > arr[i+1]:\n",
    "                count += 1\n",
    "                i += 1\n",
    "\n",
    "            res = max(res, count)\n",
    "        else:\n",
    "            i += 1\n",
    "    if res > 0:\n",
    "        return res + 1\n",
    "    else:\n",
    "        return res"
   ]
  },
  {
   "cell_type": "code",
   "execution_count": 199,
   "id": "c77671b7-6dfd-4d00-931f-246ff7766e64",
   "metadata": {},
   "outputs": [
    {
     "data": {
      "text/plain": [
       "11"
      ]
     },
     "execution_count": 199,
     "metadata": {},
     "output_type": "execute_result"
    }
   ],
   "source": [
    "largest_nountain_subb2(d)"
   ]
  },
  {
   "cell_type": "markdown",
   "id": "5aebfd3c-fc4c-4a05-a67f-098f7b81d667",
   "metadata": {},
   "source": [
    "### Minimum Swaps required to group all 1’s together"
   ]
  },
  {
   "cell_type": "code",
   "execution_count": 200,
   "id": "8c37bdc7-53bf-4152-b104-95886f57ec56",
   "metadata": {},
   "outputs": [],
   "source": [
    "def min_swaps(arr):\n",
    "    total_ones = arr.count(1)\n",
    "    if total_ones == 0:\n",
    "        return -1\n",
    "    min_swap = float(\"inf\")\n",
    "    n = len(arr)\n",
    "    for i in range(0, n-total_ones+1):\n",
    "        current_ones = sum(arr[i:i+total_ones])\n",
    "        min_swap = min(min_swap, total_ones - current_ones)\n",
    "    return min_swap"
   ]
  },
  {
   "cell_type": "code",
   "execution_count": 201,
   "id": "dc161312-3634-4cb7-bc94-a211c6dc8f41",
   "metadata": {},
   "outputs": [
    {
     "data": {
      "text/plain": [
       "1"
      ]
     },
     "execution_count": 201,
     "metadata": {},
     "output_type": "execute_result"
    }
   ],
   "source": [
    "arr = [1, 0, 1, 0, 1]\n",
    "min_swaps(arr)"
   ]
  },
  {
   "cell_type": "code",
   "execution_count": 202,
   "id": "c37a15b0-1dd9-482e-aea7-9d7507203ad0",
   "metadata": {},
   "outputs": [],
   "source": [
    "def min_swaps2(arr):\n",
    "    total_ones = arr.count(1)\n",
    "    if total_ones == 0:\n",
    "        return -1\n",
    "    \n",
    "    max_ones, curr_ones = 0, 0\n",
    "    \n",
    "    curr_ones = arr[:total_ones].count(1)\n",
    "    \n",
    "    \n",
    "    for i in range(1, len(arr) - total_ones + 1):\n",
    "        \n",
    "        if arr[i-1] == 1:\n",
    "            curr_ones -= 1\n",
    "        if arr[i+total_ones - 1] == 1:\n",
    "            curr_ones += 1\n",
    "        if max_ones < curr_ones:\n",
    "            max_ones = curr_ones\n",
    "    \n",
    "    return total_ones - max_ones"
   ]
  },
  {
   "cell_type": "code",
   "execution_count": 203,
   "id": "1d3720ab-db5c-4bc3-b866-b4dc5741a7ba",
   "metadata": {},
   "outputs": [
    {
     "data": {
      "text/plain": [
       "1"
      ]
     },
     "execution_count": 203,
     "metadata": {},
     "output_type": "execute_result"
    }
   ],
   "source": [
    "arr = [1, 0, 1, 0, 1]\n",
    "min_swaps2(arr)"
   ]
  },
  {
   "cell_type": "markdown",
   "id": "a6408b77-afd3-4d3c-9f15-48d78c0b508f",
   "metadata": {},
   "source": [
    "### Minimum number of increment-other operations to make all array elements equal."
   ]
  },
  {
   "cell_type": "code",
   "execution_count": 204,
   "id": "042c6b19-6e79-46ed-9b55-83bff910db85",
   "metadata": {},
   "outputs": [],
   "source": [
    "def min_ops(arr):\n",
    "    arr.sort()\n",
    "    n = len(arr)\n",
    "    \n",
    "    res = 0\n",
    "    while arr[0] != arr[n-1]:\n",
    "        for i in range(n-1):\n",
    "            arr[i] += 1\n",
    "        res += 1\n",
    "        arr.sort()\n",
    "    return res"
   ]
  },
  {
   "cell_type": "code",
   "execution_count": 207,
   "id": "968bc241-e459-4d13-9472-8e7daa01d7db",
   "metadata": {},
   "outputs": [
    {
     "name": "stdout",
     "output_type": "stream",
     "text": [
      "3\n"
     ]
    }
   ],
   "source": [
    "arr = [1, 2, 3]\n",
    "print(min_ops(arr))"
   ]
  },
  {
   "cell_type": "code",
   "execution_count": 208,
   "id": "d40852e2-6aeb-4100-8925-93c5ff6416cb",
   "metadata": {},
   "outputs": [],
   "source": [
    "def min_ops2(arr):\n",
    "    total_sum = sum(arr)\n",
    "    mini = min(arr)\n",
    "    n = len(arr)\n",
    "    return total_sum - n*mini"
   ]
  },
  {
   "cell_type": "code",
   "execution_count": 209,
   "id": "fdebad3c-f427-46d6-b2f6-fca4a8423cee",
   "metadata": {},
   "outputs": [
    {
     "name": "stdout",
     "output_type": "stream",
     "text": [
      "3\n"
     ]
    }
   ],
   "source": [
    "arr = [1, 2, 3]\n",
    "print(min_ops2(arr))"
   ]
  },
  {
   "cell_type": "code",
   "execution_count": null,
   "id": "48c43c12-ff33-46db-be06-620d55f5298b",
   "metadata": {},
   "outputs": [],
   "source": []
  }
 ],
 "metadata": {
  "kernelspec": {
   "display_name": "Python 3 (ipykernel)",
   "language": "python",
   "name": "python3"
  },
  "language_info": {
   "codemirror_mode": {
    "name": "ipython",
    "version": 3
   },
   "file_extension": ".py",
   "mimetype": "text/x-python",
   "name": "python",
   "nbconvert_exporter": "python",
   "pygments_lexer": "ipython3",
   "version": "3.9.15"
  }
 },
 "nbformat": 4,
 "nbformat_minor": 5
}
