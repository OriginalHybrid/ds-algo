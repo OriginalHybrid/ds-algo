{
 "cells": [
  {
   "cell_type": "markdown",
   "id": "819a01d6-a7b3-40e1-8822-69a30d02aa3c",
   "metadata": {},
   "source": [
    "### Alternate elements of an array"
   ]
  },
  {
   "cell_type": "markdown",
   "id": "41bbec10-8a8e-4f1d-b9ae-ca039223b361",
   "metadata": {},
   "source": [
    "Given an array arr[], the task is to print every alternate element of the array starting from the first element."
   ]
  },
  {
   "cell_type": "code",
   "execution_count": 1,
   "id": "24f87d47-6caa-4986-9907-a29971d49226",
   "metadata": {},
   "outputs": [],
   "source": [
    "def printAlternate(arr):\n",
    "    for i in range(0,len(arr),2):\n",
    "        print(arr[i], end = \" \")"
   ]
  },
  {
   "cell_type": "code",
   "execution_count": 2,
   "id": "94474289-cf46-469c-81c6-9dbf254e3c0d",
   "metadata": {},
   "outputs": [],
   "source": [
    " arr = [10, 20, 30, 40, 50]"
   ]
  },
  {
   "cell_type": "code",
   "execution_count": 3,
   "id": "c776c649-5641-490a-b2d1-7af8dce2d211",
   "metadata": {},
   "outputs": [
    {
     "name": "stdout",
     "output_type": "stream",
     "text": [
      "10 30 50 "
     ]
    }
   ],
   "source": [
    "printAlternate(arr)"
   ]
  },
  {
   "cell_type": "markdown",
   "id": "ea31ea3a-c19f-4971-b920-63d555fe42da",
   "metadata": {},
   "source": [
    "### Largest element in an Array"
   ]
  },
  {
   "cell_type": "code",
   "execution_count": 4,
   "id": "d3313f19-b006-4f7c-9239-ffa38d92c4c8",
   "metadata": {},
   "outputs": [],
   "source": [
    "def printLargest(arr):\n",
    "    me = arr[0]\n",
    "    for i in range(1, len(arr)):\n",
    "        if arr[i] > me:\n",
    "            me = arr[i]\n",
    "    \n",
    "    print(\"Largest Element: \",me) "
   ]
  },
  {
   "cell_type": "code",
   "execution_count": 5,
   "id": "e784e7fd-9a82-492c-a54a-1bf8904e76aa",
   "metadata": {},
   "outputs": [
    {
     "name": "stdout",
     "output_type": "stream",
     "text": [
      "Largest Element:  100\n"
     ]
    }
   ],
   "source": [
    "arr = [20, 10, 30, 4, 30, 100]\n",
    "printLargest(arr)"
   ]
  },
  {
   "cell_type": "markdown",
   "id": "2cabe904-961f-408a-b79e-dc2cd2f31175",
   "metadata": {},
   "source": [
    "### Second Largest Element in an Array"
   ]
  },
  {
   "cell_type": "code",
   "execution_count": 6,
   "id": "ae03a867-13d3-4ea8-96eb-de1685f7b531",
   "metadata": {},
   "outputs": [],
   "source": [
    "def printSecondLargest(arr):\n",
    "    le, sle = arr[0], arr[0]\n",
    "    \n",
    "    for i in arr:\n",
    "        if i > le:\n",
    "            sle = le\n",
    "            le = i\n",
    "        elif i > sle and i < le:\n",
    "            sle = i\n",
    "    \n",
    "    print(\"Largest Element: \", le)\n",
    "    print(\"Second Element: \", sle)\n"
   ]
  },
  {
   "cell_type": "code",
   "execution_count": 7,
   "id": "bcb8f746-eede-4a45-aaa0-aefc5567adee",
   "metadata": {},
   "outputs": [
    {
     "name": "stdout",
     "output_type": "stream",
     "text": [
      "Largest Element:  100\n",
      "Second Element:  30\n"
     ]
    }
   ],
   "source": [
    "printSecondLargest(arr)"
   ]
  },
  {
   "cell_type": "markdown",
   "id": "67957cf8-faef-4ec8-b412-3cf6688b84b1",
   "metadata": {},
   "source": [
    "### Largest three distinct elements in an array"
   ]
  },
  {
   "cell_type": "code",
   "execution_count": 8,
   "id": "4118d0a6-814c-4191-a27c-75c3d45246b2",
   "metadata": {},
   "outputs": [],
   "source": [
    "def printLargest3Distinct(arr):\n",
    "    fl, sl, tl = arr[0], arr[0], arr[0]\n",
    "    \n",
    "    for e in arr:\n",
    "        if e > fl:\n",
    "            tl = sl\n",
    "            sl = fl\n",
    "            fl = e\n",
    "        elif e > sl and e < fl:\n",
    "            tl = sl\n",
    "            sl = e\n",
    "        elif e > tl and e < sl and e < fl:\n",
    "            tl = e\n",
    "            \n",
    "    print(\"Largest Element: \", fl)\n",
    "    print(\"Second Largest Element: \", sl)\n",
    "    print(\"Third Largest Element :\", tl)\n",
    "        "
   ]
  },
  {
   "cell_type": "code",
   "execution_count": 10,
   "id": "e72f3b4e-ef0e-430a-8e1b-56e964c43e38",
   "metadata": {},
   "outputs": [
    {
     "name": "stdout",
     "output_type": "stream",
     "text": [
      "Largest Element:  100\n",
      "Second Largest Element:  30\n",
      "Third Largest Element : 20\n"
     ]
    }
   ],
   "source": [
    "printLargest3Distinct(arr)"
   ]
  },
  {
   "cell_type": "markdown",
   "id": "3b0844f8-fb13-460d-8a3f-edd2d1b61262",
   "metadata": {},
   "source": [
    "### Leaders in an array\n",
    "\n",
    "Given an array arr[] of size n, the task is to find all the Leaders in the array. An element is a Leader if it is greater than or equal to all the elements to its right side.\n",
    "\n",
    "Note: The rightmost element is always a leader."
   ]
  },
  {
   "cell_type": "code",
   "execution_count": 19,
   "id": "86806a25-48d8-4101-aee9-e23f9625c323",
   "metadata": {},
   "outputs": [],
   "source": [
    "def printLeaders(arr):\n",
    "    n = len(arr)\n",
    "    me = -1\n",
    "    res = []\n",
    "    for i in range(n-1, -1, -1):\n",
    "        if arr[i] > me:\n",
    "            me = arr[i]\n",
    "            res.append(me)\n",
    "    res.reverse()\n",
    "    return res"
   ]
  },
  {
   "cell_type": "code",
   "execution_count": 20,
   "id": "c75c9f7b-af3a-4926-be20-597e83fc0799",
   "metadata": {},
   "outputs": [
    {
     "name": "stdout",
     "output_type": "stream",
     "text": [
      "[17, 5, 2]\n"
     ]
    }
   ],
   "source": [
    "arr = [16, 17, 4, 3, 5, 2]\n",
    "res = printLeaders(arr)\n",
    "print(res)"
   ]
  },
  {
   "cell_type": "markdown",
   "id": "5f71db65-18bd-4a19-a13e-eae1cee87010",
   "metadata": {},
   "source": [
    "### Check if an Array is Sorted\n",
    "\n",
    "Given an array of size n, the task is to check if it is sorted in ascending order or not. Equal values are allowed in an array and two consecutive equal values are considered sorted."
   ]
  },
  {
   "cell_type": "code",
   "execution_count": 21,
   "id": "8de57934-48d6-4b53-a44f-7650876f6360",
   "metadata": {},
   "outputs": [],
   "source": [
    "def checkSorted(arr):\n",
    "    n = len(arr)\n",
    "    for i in range(n-2,-1,-1):\n",
    "        if arr[i] > arr[i+1]:\n",
    "            return False\n",
    "    return True"
   ]
  },
  {
   "cell_type": "code",
   "execution_count": 23,
   "id": "af753783-6335-4a86-89d3-c672f8aa1686",
   "metadata": {},
   "outputs": [
    {
     "data": {
      "text/plain": [
       "False"
      ]
     },
     "execution_count": 23,
     "metadata": {},
     "output_type": "execute_result"
    }
   ],
   "source": [
    "arr = [20, 23, 203, 45, 78, 88]\n",
    "checkSorted(arr)"
   ]
  },
  {
   "cell_type": "markdown",
   "id": "deb9a58b-53d2-49dc-a5f0-f7402343618e",
   "metadata": {},
   "source": [
    "### Remove duplicates from Sorted Array\n",
    "\n",
    "Given a sorted array arr[] of size n, the goal is to rearrange the array so that all distinct elements appear at the beginning in sorted order. Additionally, return the length of this distinct sorted subarray.\n",
    "\n",
    "Note: The elements after the distinct ones can be in any order and hold any value, as they don’t affect the result."
   ]
  },
  {
   "cell_type": "code",
   "execution_count": 25,
   "id": "d1e967a1-378f-461c-aaa2-b2b314a9c4d0",
   "metadata": {},
   "outputs": [],
   "source": [
    "def removeDups(arr):\n",
    "    i, j = 0, 1\n",
    "    while j < len(arr):\n",
    "        if arr[i] != arr[j]:\n",
    "            i += 1\n",
    "            arr[i] = arr[j]\n",
    "        j = j + 1\n",
    "    \n",
    "    print(arr[:i+1])"
   ]
  },
  {
   "cell_type": "code",
   "execution_count": 26,
   "id": "1ef2982d-53c5-43d1-81c9-8b08f7cd40e6",
   "metadata": {},
   "outputs": [
    {
     "name": "stdout",
     "output_type": "stream",
     "text": [
      "[1, 2, 3, 4, 5]\n"
     ]
    }
   ],
   "source": [
    "arr = [1, 2, 2, 3, 4, 4, 4, 5, 5]\n",
    "removeDups(arr)"
   ]
  },
  {
   "cell_type": "markdown",
   "id": "004ac87f-e76f-4038-a438-b397c026100f",
   "metadata": {},
   "source": [
    "### Generating All Subarrays\n",
    "Given an array arr[], the task is to generate all the possible subarrays of the given array.\n",
    "\n",
    "Examples: \n",
    "\n",
    "Input: arr[] = [1, 2, 3]\n",
    "\n",
    "Output: [ [1], [1, 2], [2], [1, 2, 3], [2, 3], [3] ]\n"
   ]
  },
  {
   "cell_type": "code",
   "execution_count": 41,
   "id": "10bff04f-1f69-4cd2-a657-7ec98ab31bd1",
   "metadata": {},
   "outputs": [],
   "source": [
    "def genrateSubarrays(arr):\n",
    "    res = []\n",
    "    n = len(arr)\n",
    "    for i in range(n):\n",
    "        sub_arr = []\n",
    "        for j in range(i,n):\n",
    "            sub_arr.append(arr[j])\n",
    "            # print(sub_arr)\n",
    "            res.append(sub_arr.copy())\n",
    "    \n",
    "    print(res)"
   ]
  },
  {
   "cell_type": "code",
   "execution_count": 42,
   "id": "29af9f36-ce54-41ef-a312-791bdd4f74b8",
   "metadata": {},
   "outputs": [
    {
     "name": "stdout",
     "output_type": "stream",
     "text": [
      "[[1], [1, 2], [1, 2, 3], [1, 2, 3, 4], [2], [2, 3], [2, 3, 4], [3], [3, 4], [4]]\n"
     ]
    }
   ],
   "source": [
    "arr = [1, 2, 3, 4]\n",
    "genrateSubarrays(arr)"
   ]
  },
  {
   "cell_type": "markdown",
   "id": "0b58f1c4-04b8-47f8-95a4-daeb772a370e",
   "metadata": {},
   "source": [
    "### Array Reverse"
   ]
  },
  {
   "cell_type": "code",
   "execution_count": 47,
   "id": "28a25ad1-888a-4cca-95e0-3e7144a94fdb",
   "metadata": {},
   "outputs": [],
   "source": [
    "def reverse_Arr(arr):\n",
    "    i, j = 0, len(arr) - 1\n",
    "    \n",
    "    while i <= j:\n",
    "        arr[i], arr[j] = arr[j], arr[i]\n",
    "        i += 1\n",
    "        j -= 1\n",
    "        \n",
    "    print(arr)"
   ]
  },
  {
   "cell_type": "code",
   "execution_count": 48,
   "id": "379dca31-5e68-4352-b2ac-1da68bc4d6dd",
   "metadata": {},
   "outputs": [
    {
     "name": "stdout",
     "output_type": "stream",
     "text": [
      "[5, 6, 2, 3, 4, 1]\n"
     ]
    }
   ],
   "source": [
    "arr = [1, 4, 3, 2, 6, 5]\n",
    "reverse_Arr(arr)"
   ]
  },
  {
   "cell_type": "markdown",
   "id": "6197bebe-a907-4400-8736-91d1dfcc4e57",
   "metadata": {},
   "source": [
    "### Rotate an Array – Clockwise or Right"
   ]
  },
  {
   "cell_type": "code",
   "execution_count": 54,
   "id": "9938ce8c-2379-434c-8313-050244522a35",
   "metadata": {},
   "outputs": [],
   "source": [
    "def rotateArr(arr, d):\n",
    "    arr.reverse()\n",
    "    arr[0:d] = reversed(arr[0:d])\n",
    "    arr[d:len(arr)] = reversed(arr[d:len(arr)])\n",
    "    \n",
    "    print(arr)"
   ]
  },
  {
   "cell_type": "code",
   "execution_count": 55,
   "id": "40503639-4af0-435b-a90c-46776a5935c9",
   "metadata": {},
   "outputs": [
    {
     "name": "stdout",
     "output_type": "stream",
     "text": [
      "[5, 6, 1, 2, 3, 4]\n"
     ]
    }
   ],
   "source": [
    "arr = [1, 2, 3, 4, 5, 6]\n",
    "rotateArr(arr, 2)"
   ]
  },
  {
   "cell_type": "markdown",
   "id": "a28abf09-3079-4e33-8f03-caa1df97cedf",
   "metadata": {},
   "source": [
    "### Move all zeros to end of array"
   ]
  },
  {
   "cell_type": "code",
   "execution_count": 56,
   "id": "75c4b8e0-1a24-4559-a910-7389d4541414",
   "metadata": {},
   "outputs": [],
   "source": [
    "def movezeros(arr):\n",
    "    i, j = 0, 0\n",
    "    \n",
    "    while j < len(arr):\n",
    "        if arr[j] != 0:\n",
    "            arr[i] = arr[j]\n",
    "            i += 1\n",
    "        j += 1\n",
    "        \n",
    "    for k in range(i, len(arr)):\n",
    "        arr[k] = 0\n",
    "    \n",
    "    print(arr)"
   ]
  },
  {
   "cell_type": "code",
   "execution_count": 57,
   "id": "f33d2a08-b498-4bd8-95e1-13bcfdf15435",
   "metadata": {},
   "outputs": [
    {
     "name": "stdout",
     "output_type": "stream",
     "text": [
      "[1, 2, 4, 3, 5, 0, 0, 0]\n"
     ]
    }
   ],
   "source": [
    "arr = [1, 2, 0, 4, 3, 0, 5, 0]\n",
    "movezeros(arr)"
   ]
  },
  {
   "cell_type": "markdown",
   "id": "db83f4a6-2132-4278-8396-0cb33721666b",
   "metadata": {},
   "source": [
    "### Minimum increment by k operations to make all equal"
   ]
  },
  {
   "cell_type": "code",
   "execution_count": 62,
   "id": "ece06d48-3e12-4b7b-8960-4f8e5e810c22",
   "metadata": {},
   "outputs": [],
   "source": [
    "def find_min_op(arr, k):\n",
    "    me = arr[0]\n",
    "    for i in arr:\n",
    "        if i > me:\n",
    "            me = i\n",
    "    \n",
    "    res = 0\n",
    "    for i in arr:\n",
    "        if (me - i) % k == 0:\n",
    "            res = res + (me - i)// k\n",
    "        else:\n",
    "            return -1\n",
    "    return res"
   ]
  },
  {
   "cell_type": "code",
   "execution_count": 63,
   "id": "e4564aed-6f77-4721-a52a-ad7365d54a17",
   "metadata": {},
   "outputs": [
    {
     "data": {
      "text/plain": [
       "24"
      ]
     },
     "execution_count": 63,
     "metadata": {},
     "output_type": "execute_result"
    }
   ],
   "source": [
    "arr = [21, 33, 9, 45, 63] \n",
    "find_min_op(arr, 6)"
   ]
  },
  {
   "cell_type": "markdown",
   "id": "a332596a-8d91-4fef-858e-ea83e4081e4f",
   "metadata": {},
   "source": [
    "### Minimum cost to make array size 1 by removing larger of pairs\n",
    "Given an array of n integers. We need to reduce size of array to one. We are allowed to select a pair of integers and remove the larger one of these two. This decreases the array size by 1. Cost of this operation is equal to value of smallest one. Find out minimum sum of costs of operations needed to convert the array into a single element.\n",
    "\n",
    "\n",
    "Input: 4 3 2 \n",
    "\n",
    "Output: 4\n",
    "\n",
    "Explanation: Choose (4, 2) so 4 is removed, new array = {2, 3}. Now choose (2, 3) so 3 is removed.  So total cost = 2 + 2 = 4"
   ]
  },
  {
   "cell_type": "code",
   "execution_count": 65,
   "id": "58ab89c0-04a7-42b6-8c7a-d88ccdcf6ded",
   "metadata": {},
   "outputs": [],
   "source": [
    "def min_cost(arr):\n",
    "    return min(arr)*(len(arr) - 1)"
   ]
  },
  {
   "cell_type": "code",
   "execution_count": 66,
   "id": "53979de9-574b-42b8-9ee1-05dcb0e08888",
   "metadata": {},
   "outputs": [
    {
     "data": {
      "text/plain": [
       "4"
      ]
     },
     "execution_count": 66,
     "metadata": {},
     "output_type": "execute_result"
    }
   ],
   "source": [
    "a = [ 4, 3, 2 ]\n",
    "min_cost(a)"
   ]
  },
  {
   "cell_type": "markdown",
   "id": "52170341-bfa7-494e-b777-9cac3c19632f",
   "metadata": {},
   "source": [
    "### Two Pointers Technique"
   ]
  },
  {
   "cell_type": "markdown",
   "id": "57e4bdfc-7689-48dd-bcc7-151f7edc9bb9",
   "metadata": {},
   "source": [
    "### Two Sum - Pair sum in sorted array"
   ]
  },
  {
   "cell_type": "code",
   "execution_count": 3,
   "id": "245c4907-70ff-4aaf-b5d1-4dec17fd23d7",
   "metadata": {},
   "outputs": [],
   "source": [
    "def twoSum(arr, target):\n",
    "    i, j  = 0, len(arr) - 1\n",
    "    \n",
    "    while i < j:\n",
    "        if arr[i] + arr[j] == target:\n",
    "             return arr[i], arr[j]\n",
    "        elif arr[i] + arr[j] < target:\n",
    "            i += 1\n",
    "        else:\n",
    "            j -= 1\n",
    "    \n",
    "    return None"
   ]
  },
  {
   "cell_type": "code",
   "execution_count": 4,
   "id": "11b268b8-a040-4ad1-bf05-7321d4800fd8",
   "metadata": {},
   "outputs": [
    {
     "data": {
      "text/plain": [
       "(2, 7)"
      ]
     },
     "execution_count": 4,
     "metadata": {},
     "output_type": "execute_result"
    }
   ],
   "source": [
    "numbers = [2, 7, 11, 15]\n",
    "target = 9\n",
    "\n",
    "twoSum(numbers, target)"
   ]
  },
  {
   "cell_type": "markdown",
   "id": "04ba3697-21b5-435d-8146-8eb32f1960c6",
   "metadata": {},
   "source": [
    "### Two Sum – Pair Closest to 0"
   ]
  },
  {
   "cell_type": "code",
   "execution_count": 11,
   "id": "eca8d8aa-a4bf-476f-a70f-e05a43bd84e6",
   "metadata": {},
   "outputs": [],
   "source": [
    "def closesttozero(arr):\n",
    "    minsum = float(\"inf\")\n",
    "    arr.sort()\n",
    "    print(arr)\n",
    "    pair = None\n",
    "    i, j  = 0, len(arr) - 1\n",
    "    \n",
    "    while i < j:\n",
    "        s =  abs(arr[i] + arr[j])\n",
    "        if s < minsum:\n",
    "            minsum = s\n",
    "            pair = (arr[i], arr[j])\n",
    "            print(pair)\n",
    "            i += 1\n",
    "        elif s > minsum:\n",
    "            j -= 1\n",
    "        else:\n",
    "            if sum(pair) < s:\n",
    "                pair = (arr[i], arr[j])\n",
    "                print(pair)\n",
    "    return pair"
   ]
  },
  {
   "cell_type": "code",
   "execution_count": 12,
   "id": "854777ff-785e-4f88-a363-61d06f890bbb",
   "metadata": {},
   "outputs": [
    {
     "name": "stdout",
     "output_type": "stream",
     "text": [
      "[-80, -10, 1, 60, 70, 85]\n",
      "(-80, 85)\n"
     ]
    },
    {
     "data": {
      "text/plain": [
       "(-80, 85)"
      ]
     },
     "execution_count": 12,
     "metadata": {},
     "output_type": "execute_result"
    }
   ],
   "source": [
    "arr = [1, 60, -10, 70, -80, 85]\n",
    "closesttozero(arr)"
   ]
  },
  {
   "cell_type": "markdown",
   "id": "d13f2fa6-0238-45d9-aa18-eb01ae290659",
   "metadata": {},
   "source": [
    "### 3 Sum – Triplet Sum in Array"
   ]
  },
  {
   "cell_type": "code",
   "execution_count": 10,
   "id": "96435e61-0695-4447-a879-944bbaec1b6a",
   "metadata": {},
   "outputs": [],
   "source": [
    "def tripletsum1(arr, target):\n",
    "    st = set()\n",
    "    n = len(arr)\n",
    "    for i in range(0, n-2):\n",
    "        first = arr[i]\n",
    "        \n",
    "        for j in range(i+1, n):\n",
    "            second = arr[j]\n",
    "            third = target - first - second\n",
    "            \n",
    "            if third in st:\n",
    "                print(\"Triplet is: \", first, \" \", second, \" \", third)\n",
    "                return True\n",
    "            st.add(second)\n",
    "    return None"
   ]
  },
  {
   "cell_type": "code",
   "execution_count": 11,
   "id": "ce456037-eb51-466f-bef7-a6b695e52cff",
   "metadata": {},
   "outputs": [
    {
     "name": "stdout",
     "output_type": "stream",
     "text": [
      "Triplet is:  1   8   4\n"
     ]
    },
    {
     "data": {
      "text/plain": [
       "True"
      ]
     },
     "execution_count": 11,
     "metadata": {},
     "output_type": "execute_result"
    }
   ],
   "source": [
    "arr = [1, 4, 45, 6, 10, 8]\n",
    "target = 13\n",
    "tripletsum1(arr, target)"
   ]
  },
  {
   "cell_type": "code",
   "execution_count": 14,
   "id": "d366adec-6a43-44f7-8a7e-07ae7cbec4f6",
   "metadata": {},
   "outputs": [],
   "source": [
    "def tripletsum2(arr, target):\n",
    "    n = len(arr)\n",
    "    arr.sort()\n",
    "    \n",
    "    for i in range(0,n-2):\n",
    "        l = i + 1\n",
    "        r = n - 1\n",
    "        \n",
    "        first = arr[i]\n",
    "        while l < r:\n",
    "            second = arr[l]\n",
    "            third = arr[r]\n",
    "            \n",
    "            if first + second + third == target:\n",
    "                print(\"Triplet is: \", first, \" \", second, \" \", third)\n",
    "                return True\n",
    "            elif first + second + third < target:\n",
    "                l += 1\n",
    "            else:\n",
    "                r -= 1\n",
    "    return False"
   ]
  },
  {
   "cell_type": "code",
   "execution_count": 15,
   "id": "6af49f91-c776-440c-b14d-198e5f686444",
   "metadata": {},
   "outputs": [
    {
     "name": "stdout",
     "output_type": "stream",
     "text": [
      "Triplet is:  1   4   8\n"
     ]
    },
    {
     "data": {
      "text/plain": [
       "True"
      ]
     },
     "execution_count": 15,
     "metadata": {},
     "output_type": "execute_result"
    }
   ],
   "source": [
    "arr = [1, 4, 45, 6, 10, 8]\n",
    "target = 13\n",
    "tripletsum2(arr, target)"
   ]
  },
  {
   "cell_type": "markdown",
   "id": "f3bdca0c-f581-4bf5-9649-18166f5ce1a4",
   "metadata": {},
   "source": [
    "### 4 Sum – Check if a Quadruple with given Sum Exists in an Array"
   ]
  },
  {
   "cell_type": "code",
   "execution_count": 16,
   "id": "6a8a4cd2-ab22-4941-a29d-63cf62943b3b",
   "metadata": {},
   "outputs": [],
   "source": [
    "def quadruplesum(arr, target):\n",
    "    n = len(arr)\n",
    "    arr.sort()\n",
    "    \n",
    "    for i in range(0, n-3):\n",
    "        first = arr[i]\n",
    "        for j in range(i+1, n-2):\n",
    "            second = arr[j]\n",
    "            l = j+1\n",
    "            r = n-1\n",
    "            \n",
    "            while l < r:\n",
    "                third = arr[l]\n",
    "                fourth = arr[r]\n",
    "                \n",
    "                if first + second + third + fourth == target:\n",
    "                    print(\"Quadraple is: \", first, \" \", second, \" \", third, \" \", fourth)\n",
    "                    return True\n",
    "                elif first + second + third + fourth < target:\n",
    "                    l += 1\n",
    "                else:\n",
    "                    r -= 1\n",
    "    return False\n",
    "                    "
   ]
  },
  {
   "cell_type": "code",
   "execution_count": 17,
   "id": "6fb5a76c-bd22-49b9-831c-b1d67c441819",
   "metadata": {},
   "outputs": [
    {
     "name": "stdout",
     "output_type": "stream",
     "text": [
      "Quadraple is:  1   20   30   40\n"
     ]
    },
    {
     "data": {
      "text/plain": [
       "True"
      ]
     },
     "execution_count": 17,
     "metadata": {},
     "output_type": "execute_result"
    }
   ],
   "source": [
    "arr = [10, 20, 30, 40, 1, 2]\n",
    "target = 91\n",
    "quadruplesum(arr, target)"
   ]
  },
  {
   "cell_type": "markdown",
   "id": "d1eea072-b968-47f7-8f42-af3e6e075b12",
   "metadata": {},
   "source": [
    "### Trapping Rain Water Problem – Tutorial with Illustrations\n",
    "\n",
    "Trapping Rainwater Problem states that given an array of n non-negative integers arr[] representing an elevation map where the width of each bar is 1, compute how much water it can trap after rain.\n",
    "\n",
    "![Trapping Rain Water](..//images//Trapping-Rain-Water-Problem.png)\n",
    "\n",
    "Input: arr[] = [3, 0, 1, 0, 4, 0, 2]\n",
    "\n",
    "Output: 10"
   ]
  },
  {
   "cell_type": "code",
   "execution_count": 18,
   "id": "35097d1a-c344-4bd7-bc19-2e3c5625704d",
   "metadata": {},
   "outputs": [],
   "source": [
    "def trapwater1(arr):\n",
    "    n = len(arr)\n",
    "    res = 0\n",
    "    for i in range(1,n-1):\n",
    "        \n",
    "        left = arr[i]\n",
    "        for j in range(0,i):\n",
    "            left = max(left, arr[j])\n",
    "        \n",
    "        right = arr[j]\n",
    "        for j in range(i+1, n):\n",
    "            right = max(right, arr[j])\n",
    "        \n",
    "        res = res + min(left, right) - arr[i]\n",
    "    \n",
    "    return res\n",
    "        "
   ]
  },
  {
   "cell_type": "code",
   "execution_count": 20,
   "id": "1cc37b78-6f2e-4e85-83ea-267d97cd429f",
   "metadata": {},
   "outputs": [
    {
     "data": {
      "text/plain": [
       "10"
      ]
     },
     "execution_count": 20,
     "metadata": {},
     "output_type": "execute_result"
    }
   ],
   "source": [
    "arr = [3, 0, 1, 0, 4, 0, 2]\n",
    "trapwater1(arr)"
   ]
  },
  {
   "cell_type": "code",
   "execution_count": 26,
   "id": "c1ee5cf9-0f8b-443f-a7a0-fa882820a7f7",
   "metadata": {},
   "outputs": [],
   "source": [
    "def trapwater2(arr):\n",
    "    l = 1\n",
    "    r = len(arr) - 2\n",
    "    \n",
    "    lmax = arr[l - 1]\n",
    "    rmax = arr[r + 1]\n",
    "    \n",
    "    res = 0\n",
    "    while l <= r:\n",
    "        \n",
    "        if rmax <= lmax:\n",
    "            res = res + max(0, rmax - arr[r])\n",
    "            rmax = max(rmax, arr[r])\n",
    "            r = r - 1\n",
    "        else:\n",
    "            res = res + max(0, lmax - arr[l])\n",
    "            lmax = max(lmax, arr[l])\n",
    "            l = l + 1\n",
    "            \n",
    "    return res"
   ]
  },
  {
   "cell_type": "code",
   "execution_count": 27,
   "id": "c8a9f2cb-2039-4018-b69d-18e895e5fc6e",
   "metadata": {},
   "outputs": [
    {
     "data": {
      "text/plain": [
       "10"
      ]
     },
     "execution_count": 27,
     "metadata": {},
     "output_type": "execute_result"
    }
   ],
   "source": [
    "arr = [3, 0, 1, 0, 4, 0, 2]\n",
    "trapwater2(arr)"
   ]
  },
  {
   "cell_type": "markdown",
   "id": "b475e9eb-510c-47a8-bb4b-f96bf6d6b087",
   "metadata": {},
   "source": [
    "### Prefix Sum Array – Implementation and Applications in Competitive Programming\n",
    "\n",
    "Given an array arr[] of size n, the task is to find the prefix sum of the array. A prefix sum array is another array prefixSum[] of the same size, such that prefixSum[i] is arr[0] + arr[1] + arr[2] . . . arr[i].\n",
    "\n",
    "Input: arr[] = [10, 20, 10, 5, 15]\n",
    "\n",
    "Output: 10 30 40 45 60\n",
    "\n",
    "Explanation: For each index i, add all the elements from 0 to i:\n",
    "\n",
    "prefixSum[0] = 10, \n",
    "\n",
    "prefixSum[1] = 10 + 20 = 30, \n",
    "\n",
    "prefixSum[2] = 10 + 20 + 10 = 40 and so on."
   ]
  },
  {
   "cell_type": "code",
   "execution_count": 30,
   "id": "d07e40b9-fd1c-4456-9083-eca52b559c12",
   "metadata": {},
   "outputs": [],
   "source": [
    "def prefixsum(arr):\n",
    "    ps = []\n",
    "    cs = 0\n",
    "    for i in arr:\n",
    "        cs = cs + i\n",
    "        ps.append(cs)\n",
    "    \n",
    "    return ps"
   ]
  },
  {
   "cell_type": "code",
   "execution_count": 31,
   "id": "a02255d1-7651-4233-842c-9c8baea4c7f2",
   "metadata": {},
   "outputs": [
    {
     "data": {
      "text/plain": [
       "[10, 30, 40, 45, 60]"
      ]
     },
     "execution_count": 31,
     "metadata": {},
     "output_type": "execute_result"
    }
   ],
   "source": [
    "arr = [10, 20, 10, 5, 15]\n",
    "prefixsum(arr)"
   ]
  },
  {
   "cell_type": "markdown",
   "id": "dab21d62-f291-403a-b567-aab7b0ab540d",
   "metadata": {},
   "source": [
    "### Maximum value in an array after m range increment operations\n",
    "\n",
    "Consider an array of size n with all initial values as 0. We need to perform the following m range increment operations.\n",
    "\n",
    "\n",
    "increment(a, b, k) : Increment values from ‘a’  to ‘b’ by ‘k’.    \n",
    "\n",
    "\n",
    "After m operations, we need to calculate the maximum of the values in the array.\n",
    "\n",
    "\n",
    "Examples : \n",
    "\n",
    "\n",
    "Input : n = 5 m = 3 \n",
    "\n",
    "           a = 0, b = 1, k = 100 \n",
    "           \n",
    "           a = 1, b = 4, k = 100\n",
    "           \n",
    "           a = 2, b = 3, k = 100\n",
    "           \n",
    "           \n",
    "Output : 200\n",
    "\n",
    "Explanation:\n",
    "\n",
    "Initially array = {0, 0, 0, 0, 0}\n",
    "\n",
    "After first operation: {100, 100, 0, 0, 0}\n",
    "\n",
    "After second operation: {100, 200, 100, 100, 100}\n",
    "\n",
    "After third operation {100, 200, 200, 200, 100}\n",
    "\n",
    "Maximum element after m operations is 200. "
   ]
  },
  {
   "cell_type": "markdown",
   "id": "aa03f654-2507-47c2-964e-5b09d8fefb35",
   "metadata": {},
   "source": [
    "#### Maximum occurring integer in given ranges\n",
    "\n",
    "Given two arrays L[] and R[] of size N where L[i] and R[i] (0 ? L[i], R[i] < 106)denotes a range of numbers, the task is to find the maximum occurred integer in all the ranges. If more than one such integer exists, print the smallest one. \n",
    "\n",
    "Examples: \n",
    "\n",
    "\n",
    "Input: L[] = {1, 4, 3, 1}, R[] = {15, 8, 5, 4}\n",
    "Output: 4"
   ]
  },
  {
   "cell_type": "code",
   "execution_count": 33,
   "id": "9d0e59cc-98cc-44ac-a43e-51f0ba8382f0",
   "metadata": {},
   "outputs": [],
   "source": [
    "def max_occouring(L, R, n):\n",
    "    mp = {}\n",
    "    i = 0\n",
    "    while i < n:\n",
    "        if L[i] not in mp:\n",
    "            mp[L[i]] = 1\n",
    "        else:\n",
    "            mp[L[i]] += 1\n",
    "        if R[i] not in mp:\n",
    "            mp[R[i]] = 1\n",
    "        else:\n",
    "            mp[R[i]] += 1\n",
    "        i += 1\n",
    "    me = None\n",
    "    mv = 0\n",
    "    \n",
    "    for k,v in mp.items():\n",
    "        if v > mv:\n",
    "            mv = v\n",
    "            me = k\n",
    "    \n",
    "    return me"
   ]
  },
  {
   "cell_type": "code",
   "execution_count": 35,
   "id": "b8a287a2-4d1b-46ef-849e-a667e3ba127e",
   "metadata": {},
   "outputs": [
    {
     "data": {
      "text/plain": [
       "1"
      ]
     },
     "execution_count": 35,
     "metadata": {},
     "output_type": "execute_result"
    }
   ],
   "source": [
    "L = [1, 4, 9, 13, 21]\n",
    "R = [15, 8, 12, 20, 30]\n",
    "n = len(L)\n",
    "\n",
    "max_occouring(L, R, n)"
   ]
  },
  {
   "cell_type": "markdown",
   "id": "c3361ba7-4455-4b49-9811-6600b032d235",
   "metadata": {},
   "source": [
    "### Equilibrium Index\n",
    "\n",
    "Given an array arr[] of size n, the task is to return an equilibrium index (if any) or -1 if no equilibrium index exists. The equilibrium index of an array is an index such that the sum of all elements at lower indexes equals the sum of all elements at higher indexes.\n",
    "\n",
    "Note: When the index is at the start of the array, the left sum is 0, and when it’s at the end, the right sum is 0.\n"
   ]
  },
  {
   "cell_type": "code",
   "execution_count": 36,
   "id": "6c6b6684-9573-41d1-a402-03b0c1f5c0c2",
   "metadata": {},
   "outputs": [],
   "source": [
    "def find_eq_index(arr):\n",
    "    ps = arr[0]\n",
    "    ts = sum(arr)\n",
    "    for i in range(1, len(arr)-1):\n",
    "        ss = ts - ps - arr[i]\n",
    "        if ss == ps:\n",
    "            return i\n",
    "        ps = ps + arr[i]\n",
    "    \n",
    "    return -1"
   ]
  },
  {
   "cell_type": "code",
   "execution_count": 37,
   "id": "6d5b6976-f86f-4fc0-bb04-6ceb85f5f85b",
   "metadata": {},
   "outputs": [
    {
     "data": {
      "text/plain": [
       "3"
      ]
     },
     "execution_count": 37,
     "metadata": {},
     "output_type": "execute_result"
    }
   ],
   "source": [
    "arr = [1, 7, 3, 6, 5, 6]\n",
    "find_eq_index(arr)"
   ]
  },
  {
   "cell_type": "markdown",
   "id": "7a19f995-0d07-4801-ad52-836a679192af",
   "metadata": {},
   "source": [
    "### Subarray with 0 sum"
   ]
  },
  {
   "cell_type": "code",
   "execution_count": 43,
   "id": "a5dacf51-f1e1-4713-9016-5dd89f960b02",
   "metadata": {},
   "outputs": [
    {
     "name": "stdout",
     "output_type": "stream",
     "text": [
      "{8}\n",
      "{8, 9}\n",
      "{8, 9, 11}\n",
      "Found a subarray with 0 sum\n"
     ]
    }
   ],
   "source": [
    "# python3 program to find if\n",
    "# there is a zero sum subarray\n",
    "\n",
    "\n",
    "def subArrayExists(arr, N):\n",
    "    # traverse through array\n",
    "    # and store prefix sums\n",
    "    n_sum = 0\n",
    "    s = set()\n",
    "\n",
    "    for i in range(N):\n",
    "        n_sum += arr[i]\n",
    "\n",
    "        # If prefix sum is 0 or\n",
    "        # it is already present\n",
    "        if n_sum == 0 or n_sum in s:\n",
    "            return True\n",
    "        s.add(n_sum)\n",
    "        print(s)\n",
    "\n",
    "    return False\n",
    "\n",
    "\n",
    "# Driver's code\n",
    "if __name__ == '__main__':\n",
    "    arr = [8, 1, 2, -3, 71]\n",
    "    N = len(arr)\n",
    "\n",
    "    # Function call\n",
    "    if subArrayExists(arr, N) == True:\n",
    "        print(\"Found a subarray with 0 sum\")\n",
    "    else:\n",
    "        print(\"No Such sub array exits!\")\n"
   ]
  },
  {
   "cell_type": "markdown",
   "id": "a95359da-e57b-4711-85e7-28dadace87a0",
   "metadata": {},
   "source": [
    "### Maximum subarray size having all subarrays sums less than k\n",
    "\n",
    "Given an array of positive integers arr[] of size n, and an integer k. The task is to find the maximum subarray size such that all subarrays of that size have sum less than or equals to k."
   ]
  },
  {
   "cell_type": "code",
   "execution_count": 47,
   "id": "587e6e2a-024f-4aab-81dd-c720474b7f7e",
   "metadata": {},
   "outputs": [],
   "source": [
    "def max_subarray(arr, k):\n",
    "    i, j = 0, 0\n",
    "    \n",
    "    cs = 0\n",
    "    minLen = n+1\n",
    "    \n",
    "    while j < len(arr):\n",
    "        cs = cs + arr[j]\n",
    "        j += 1\n",
    "        \n",
    "        while cs > k:\n",
    "            minLen = min(minLen, j - i)\n",
    "            cs -= arr[i]\n",
    "            i += 1\n",
    "    \n",
    "    res = minLen - 1\n",
    "    if res == 0:\n",
    "        return -1\n",
    "    else:\n",
    "        return res"
   ]
  },
  {
   "cell_type": "code",
   "execution_count": 48,
   "id": "5fdf3255-aaca-420f-973d-97652d7abb07",
   "metadata": {},
   "outputs": [
    {
     "data": {
      "text/plain": [
       "2"
      ]
     },
     "execution_count": 48,
     "metadata": {},
     "output_type": "execute_result"
    }
   ],
   "source": [
    "arr = [1, 2, 3, 4]\n",
    "k = 8\n",
    "\n",
    "max_subarray(arr, k)"
   ]
  },
  {
   "cell_type": "code",
   "execution_count": null,
   "id": "09207799-0009-429c-b0ba-d9ca2edee2ce",
   "metadata": {},
   "outputs": [],
   "source": []
  }
 ],
 "metadata": {
  "kernelspec": {
   "display_name": "Python 3 (ipykernel)",
   "language": "python",
   "name": "python3"
  },
  "language_info": {
   "codemirror_mode": {
    "name": "ipython",
    "version": 3
   },
   "file_extension": ".py",
   "mimetype": "text/x-python",
   "name": "python",
   "nbconvert_exporter": "python",
   "pygments_lexer": "ipython3",
   "version": "3.9.15"
  }
 },
 "nbformat": 4,
 "nbformat_minor": 5
}
