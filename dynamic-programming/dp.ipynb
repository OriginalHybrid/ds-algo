{
 "cells": [
  {
   "cell_type": "markdown",
   "id": "d021d61b-2209-4520-bf09-a6609d608f95",
   "metadata": {},
   "source": [
    "## Dynamic Programming"
   ]
  },
  {
   "cell_type": "markdown",
   "id": "92f531e3-f4b2-4ade-b9f6-731d46da3d6e",
   "metadata": {},
   "source": [
    "Dynamic Programming is a commonly used algorithmic technique used to optimize recursive solutions when same subproblems are called again.\n",
    "\n",
    "- The core idea behind DP is to store solutions to subproblems so that each is solved only once.\n",
    "- To solve DP problems, we first write a recursive solution in a way that there are overlapping subproblems in the recursion tree (the recursive function is called with the same parameters multiple times)\n",
    "- To make sure that a recursive value is computed only once (to improve time taken by algorithm), we store results of the recursive calls.\n",
    "- There are two ways to store the results, one is top down (or memoization) and other is bottom up (or tabulation).\n",
    "\n",
    "Steps to solve a Dynamic programming problem:\n",
    "- Identify if it is a Dynamic programming problem.\n",
    "- Decide a state expression with the Least parameters.\n",
    "- Formulate state and transition relationship.\n",
    "- Apply tabulation or memorization."
   ]
  },
  {
   "cell_type": "markdown",
   "id": "f31f4503-a70e-4d3d-b34e-d0585681cd6f",
   "metadata": {},
   "source": [
    "Step 1: How to classify a problem as a Dynamic Programming Problem? \n",
    "Typically, all the problems that require maximizing or minimizing certain quantities or counting problems that say to count the arrangements under certain conditions or certain probability problems can be solved by using Dynamic Programming.\n",
    "All dynamic programming problems satisfy the overlapping subproblems property and most of the classic Dynamic programming problems also satisfy the optimal substructure property. Once we observe these properties in a given problem be sure that it can be solved using Dynamic Programming.\n",
    "Step 2: Deciding the state\n",
    "Dynamic Programming problems are all about the state and its transition. This is the most basic step which must be done very carefully because the state transition depends on the choice of state definition you make.\n",
    "\n",
    "State:\n",
    "\n",
    "A state can be defined as the set of parameters that can uniquely identify a certain position or standing in the given problem. This set of parameters should be as small as possible to reduce state space. \n",
    "\n",
    "Example:\n",
    "Let's take the classic Knapsack problem, where we need to maximize profit by selecting items within a weight limit. Here, we define our state using two parameters: index and weight (dp[index][weight]). Think of it like this: dp[3][10] would tell us \"what's the maximum profit we can make by choosing from the first 4 items (index 0 to 3) when our bag can hold 10 units of weight?\" These two parameters (index and weight) work together to uniquely identify each subproblem we need to solve.\n",
    "\n",
    "Just like GPS coordinates need both latitude and longitude to pinpoint a location, our knapsack solution needs both the item range and remaining capacity to determine the optimal profit at each step.\n",
    "\n",
    "So, our next step will be to find a relation between previous states to reach the current state. \n",
    "\n",
    "Step 3: Formulating a relation among the states \n",
    "This part is the hardest part of solving a Dynamic Programming problem and requires a lot of intuition, observation, and practice.\n",
    "\n",
    "Example: \n",
    "\n",
    "Given 3 numbers {1, 3, 5}, The task is to tell the total number of ways we can form a number n using the sum of the given three numbers. (allowing repetitions and different arrangements).\n",
    "\n",
    "The steps to solve the given problem will be:\n",
    "\n",
    "- We decide a state for the given problem. \n",
    "- We will take a parameter n to decide the state as it uniquely identifies any subproblem. \n",
    "- DP state will look like state(n), state(n) means the total number of arrangements to form n by using {1, 3, 5} as elements. Derive a transition relation between any two states.\n",
    "- Now, we need to compute state(n). \n",
    "\n",
    "Step 4: Adding memoization or tabulation for the state\n",
    "This is the easiest part of a dynamic programming solution. We just need to store the state answer so that the next time that state is required, we can directly use it from our memory."
   ]
  },
  {
   "cell_type": "markdown",
   "id": "284b1cc8-dca5-4122-b26d-81d968e795ff",
   "metadata": {},
   "source": [
    "#### Tabulation vs Memoization\n",
    "\n",
    "Tabulation and memoization are two techniques used to implement dynamic programming. Both techniques are used when there are overlapping subproblems (the same subproblem is executed multiple times). Below is an overview of two approaches.\n",
    "\n",
    "**Memoization:**\n",
    "- Top-down approach\n",
    "- Stores the results of function calls in a table.\n",
    "- Recursive implementation\n",
    "- Entries are filled when needed.\n",
    "\n",
    "**Tabulation:**\n",
    "- Bottom-up approach\n",
    "- Stores the results of subproblems in a table\n",
    "- Iterative implementation\n",
    "- Entries are filled in a bottom-up manner from the smallest size to the final size."
   ]
  },
  {
   "cell_type": "markdown",
   "id": "2f668de4-cef1-4969-bb46-7a50ba17ec76",
   "metadata": {},
   "source": [
    "### Nth Fibonacci Number"
   ]
  },
  {
   "cell_type": "code",
   "execution_count": 86,
   "id": "318c01ec-21e7-4eb5-b22b-901b84137f5e",
   "metadata": {},
   "outputs": [],
   "source": [
    "def nth_fibonacci_util(n, memo):\n",
    "\n",
    "    # Base case: if n is 0 or 1, return n\n",
    "    if n <= 1:\n",
    "        return n\n",
    "\n",
    "    # Check if the result is already in the memo table\n",
    "    if memo[n] != -1:\n",
    "        return memo[n]\n",
    "    \n",
    "    memo[n] = nth_fibonacci_util(n - 1, memo) + nth_fibonacci_util(n - 2, memo)\n",
    "\n",
    "    return memo[n]\n",
    "\n",
    "def nth_fibonacci(n):\n",
    "\n",
    "    # Create a memoization table and initialize with -1\n",
    "    memo = [-1] * (n + 1)\n",
    "\n",
    "    # Call the utility function\n",
    "    return nth_fibonacci_util(n, memo)\n"
   ]
  },
  {
   "cell_type": "code",
   "execution_count": 87,
   "id": "f3f18828-5b8e-4970-ac1f-9674a4ddc0ea",
   "metadata": {},
   "outputs": [
    {
     "data": {
      "text/plain": [
       "8"
      ]
     },
     "execution_count": 87,
     "metadata": {},
     "output_type": "execute_result"
    }
   ],
   "source": [
    "n = 6\n",
    "nth_fibonacci(n)"
   ]
  },
  {
   "cell_type": "code",
   "execution_count": 88,
   "id": "fae0a2c2-e3d8-4cf6-877a-2a27684fdc15",
   "metadata": {},
   "outputs": [],
   "source": [
    "def nth_fibonacci2(n):\n",
    "  \n",
    "    # Handle the edge cases\n",
    "    if n <= 1:\n",
    "        return n\n",
    "\n",
    "    # Create a list to store Fibonacci numbers\n",
    "    dp = [0] * (n + 1)\n",
    "\n",
    "    # Initialize the first two Fibonacci numbers\n",
    "    dp[0] = 0\n",
    "    dp[1] = 1\n",
    "\n",
    "    # Fill the list iteratively\n",
    "    for i in range(2, n + 1):\n",
    "        dp[i] = dp[i - 1] + dp[i - 2]\n",
    "\n",
    "    # Return the nth Fibonacci number\n",
    "    return dp[n]"
   ]
  },
  {
   "cell_type": "code",
   "execution_count": 89,
   "id": "c49f9102-c19d-4256-b19d-287af5769510",
   "metadata": {},
   "outputs": [
    {
     "data": {
      "text/plain": [
       "8"
      ]
     },
     "execution_count": 89,
     "metadata": {},
     "output_type": "execute_result"
    }
   ],
   "source": [
    "nth_fibonacci2(6)"
   ]
  },
  {
   "cell_type": "markdown",
   "id": "73972b2e-9631-48c6-87d8-a90e0b631821",
   "metadata": {},
   "source": [
    "### Tribonacci Numbers"
   ]
  },
  {
   "cell_type": "code",
   "execution_count": 90,
   "id": "92df6b03-9608-43fc-b287-cc241ee44c8b",
   "metadata": {},
   "outputs": [],
   "source": [
    "def tribonacci_memo(n): \n",
    "    h={} #creating the dictionary to store the results\n",
    "    def tribo(n):\n",
    "        if n in h:\n",
    "            return h[n]\n",
    "        if n==0:\n",
    "            return 0\n",
    "        elif n==1 or n==2:\n",
    "            return 1\n",
    "        else:\n",
    "            res=tribo(n-3)+tribo(n-2)+tribo(n-1)\n",
    "            h[n]=res #storing the results so that we can reuse it again \n",
    "        return res\n",
    "    return tribo(n)"
   ]
  },
  {
   "cell_type": "code",
   "execution_count": 91,
   "id": "1b79265e-3c4c-4e0c-953d-4ce9cad71f4a",
   "metadata": {},
   "outputs": [
    {
     "name": "stdout",
     "output_type": "stream",
     "text": [
      "0 1 1 2 4 7 13 24 44 81 "
     ]
    }
   ],
   "source": [
    "n=10\n",
    "for i in range(n):\n",
    "    print(tribonacci_memo(i),end=' ')"
   ]
  },
  {
   "cell_type": "code",
   "execution_count": 92,
   "id": "b8ccb2e7-47e5-4962-8ad2-781be36b863a",
   "metadata": {},
   "outputs": [],
   "source": [
    "def printTrib(n) :\n",
    "\n",
    "    dp = [0] * n\n",
    "    dp[0] = dp[1] = 0;\n",
    "    dp[2] = 1;\n",
    "\n",
    "    for i in range(3,n) :\n",
    "        dp[i] = dp[i - 1] + dp[i - 2] + dp[i - 3];\n",
    "\n",
    "    for i in range(0,n) :\n",
    "        print(dp[i] , \" \", end=\"\")"
   ]
  },
  {
   "cell_type": "code",
   "execution_count": 93,
   "id": "c6785ef6-ec3e-40f4-9164-d708ca1ef656",
   "metadata": {},
   "outputs": [
    {
     "name": "stdout",
     "output_type": "stream",
     "text": [
      "0  0  1  1  2  4  "
     ]
    }
   ],
   "source": [
    "printTrib(6)"
   ]
  },
  {
   "cell_type": "markdown",
   "id": "1ee32bd7-fccb-4e8b-9c79-590df1944d52",
   "metadata": {},
   "source": [
    "### Climbing stairs to reach the top"
   ]
  },
  {
   "cell_type": "markdown",
   "id": "a716583b-9da1-4d8d-8fef-8c5b70ab1b65",
   "metadata": {},
   "source": [
    "There are n stairs, and a person standing at the bottom wants to climb stairs to reach the top. The person can climb either 1 stair or 2 stairs at a time, the task is to count the number of ways that a person can reach at the top."
   ]
  },
  {
   "cell_type": "code",
   "execution_count": 98,
   "id": "b30a3738-e508-471f-b911-87feb6fdf620",
   "metadata": {},
   "outputs": [],
   "source": [
    "def countWays_rec(n):\n",
    "\n",
    "    # Base cases: If there are 0 or 1 stairs,\n",
    "    # there is only one way to reach the top.\n",
    "    if n == 0 or n == 1:\n",
    "        return 1\n",
    "\n",
    "    return countWays_rec(n - 1) + countWays_rec(n - 2)"
   ]
  },
  {
   "cell_type": "code",
   "execution_count": 99,
   "id": "45c6b5a6-a00f-4c74-ac83-ab2f14f39da3",
   "metadata": {},
   "outputs": [
    {
     "data": {
      "text/plain": [
       "5"
      ]
     },
     "execution_count": 99,
     "metadata": {},
     "output_type": "execute_result"
    }
   ],
   "source": [
    "n = 4\n",
    "countWays_rec(n)"
   ]
  },
  {
   "cell_type": "code",
   "execution_count": 100,
   "id": "e58dea5d-beea-403c-ad0c-d79b5da98e77",
   "metadata": {},
   "outputs": [],
   "source": [
    "def countWaysRec(n, memo):\n",
    "  \n",
    "    # Base cases\n",
    "    if n == 0 or n == 1:\n",
    "        return 1\n",
    "\n",
    "    # if the result for this subproblem is \n",
    "    # already computed then return it\n",
    "    if memo[n] != -1:\n",
    "        return memo[n]\n",
    "\n",
    "    memo[n] = countWaysRec(n - 1, memo) + countWaysRec(n - 2, memo)\n",
    "    return memo[n]\n",
    "\n",
    "def countWays(n):\n",
    "  \n",
    "    # Memoization array to store the results\n",
    "    memo = [-1] * (n + 1)\n",
    "    return countWaysRec(n, memo)"
   ]
  },
  {
   "cell_type": "code",
   "execution_count": 101,
   "id": "8c546b4b-7ffa-4bf6-bfd8-bd133d6c512e",
   "metadata": {},
   "outputs": [
    {
     "data": {
      "text/plain": [
       "5"
      ]
     },
     "execution_count": 101,
     "metadata": {},
     "output_type": "execute_result"
    }
   ],
   "source": [
    "countWays(n)"
   ]
  },
  {
   "cell_type": "code",
   "execution_count": 102,
   "id": "2289236c-6bd7-4f4f-8382-fcf2f1e17e00",
   "metadata": {},
   "outputs": [],
   "source": [
    "def countWays_bu(n):\n",
    "    dp = [0] * (n + 1)\n",
    "  \n",
    "    # Base cases\n",
    "    dp[0] = 1\n",
    "    dp[1] = 1\n",
    "\n",
    "    for i in range(2, n + 1):\n",
    "        dp[i] = dp[i - 1] + dp[i - 2]; \n",
    "  \n",
    "    return dp[n]\n"
   ]
  },
  {
   "cell_type": "code",
   "execution_count": 103,
   "id": "319a05cb-44b5-4f34-a98e-dc66c8f02f7d",
   "metadata": {},
   "outputs": [
    {
     "data": {
      "text/plain": [
       "5"
      ]
     },
     "execution_count": 103,
     "metadata": {},
     "output_type": "execute_result"
    }
   ],
   "source": [
    "countWays_bu(n)"
   ]
  },
  {
   "cell_type": "code",
   "execution_count": 104,
   "id": "a2fe3f07-72a9-4e12-9498-6ddcdc60f742",
   "metadata": {},
   "outputs": [],
   "source": [
    "def countWays(n):\n",
    "  \n",
    "    # variable prev1, prev2 - to store the\n",
    "    # values of last and second last states \n",
    "    prev1 = 1\n",
    "    prev2 = 1\n",
    "  \n",
    "    for i in range(2, n + 1):\n",
    "        curr = prev1 + prev2\n",
    "        prev2 = prev1\n",
    "        prev1 = curr\n",
    "  \n",
    "    # In last iteration final value\n",
    "    # of curr is stored in prev.\n",
    "    return prev1"
   ]
  },
  {
   "cell_type": "code",
   "execution_count": 105,
   "id": "4b9a098d-3ce5-4d95-94e3-0da3cf6fcb1e",
   "metadata": {},
   "outputs": [
    {
     "data": {
      "text/plain": [
       "5"
      ]
     },
     "execution_count": 105,
     "metadata": {},
     "output_type": "execute_result"
    }
   ],
   "source": [
    "countWays(n)"
   ]
  },
  {
   "cell_type": "markdown",
   "id": "8f40cc64-d9d1-4acc-9c49-38e4cf8854bd",
   "metadata": {},
   "source": [
    "### Count ways to reach the nth stair using step 1, 2 or 3"
   ]
  },
  {
   "cell_type": "code",
   "execution_count": 106,
   "id": "4a033387-4068-4b9a-8dad-ef64117d3515",
   "metadata": {},
   "outputs": [],
   "source": [
    "def count_ways_recursive(n):\n",
    "    if n < 0:\n",
    "        return 0\n",
    "    if n == 0:\n",
    "        return 1\n",
    "    return (count_ways_recursive(n - 1) +\n",
    "            count_ways_recursive(n - 2) +\n",
    "            count_ways_recursive(n - 3))\n"
   ]
  },
  {
   "cell_type": "code",
   "execution_count": 107,
   "id": "005b5ac6-5085-48da-89e7-868af34e1f64",
   "metadata": {},
   "outputs": [
    {
     "data": {
      "text/plain": [
       "13"
      ]
     },
     "execution_count": 107,
     "metadata": {},
     "output_type": "execute_result"
    }
   ],
   "source": [
    "count_ways_recursive(5)"
   ]
  },
  {
   "cell_type": "code",
   "execution_count": 108,
   "id": "8e87e30f-4668-4a62-aa17-7e2c4884e95f",
   "metadata": {},
   "outputs": [],
   "source": [
    "def count_ways_memo(n, memo=None):\n",
    "    if memo is None:\n",
    "        memo = {}\n",
    "    if n < 0:\n",
    "        return 0\n",
    "    if n == 0:\n",
    "        return 1\n",
    "    if n in memo:\n",
    "        return memo[n]\n",
    "\n",
    "    memo[n] = (count_ways_memo(n - 1, memo) +\n",
    "               count_ways_memo(n - 2, memo) +\n",
    "               count_ways_memo(n - 3, memo))\n",
    "    return memo[n]\n"
   ]
  },
  {
   "cell_type": "code",
   "execution_count": 109,
   "id": "60d9ee8e-1712-4fe2-b49c-f3a7aa25a016",
   "metadata": {},
   "outputs": [
    {
     "data": {
      "text/plain": [
       "13"
      ]
     },
     "execution_count": 109,
     "metadata": {},
     "output_type": "execute_result"
    }
   ],
   "source": [
    "count_ways_memo(5, None)"
   ]
  },
  {
   "cell_type": "code",
   "execution_count": 110,
   "id": "043b7783-5add-4e13-b8e6-bf42c6dd222b",
   "metadata": {},
   "outputs": [],
   "source": [
    "def count_ways_bottom_up(n):\n",
    "    if n < 0:\n",
    "        return 0\n",
    "    if n == 0:\n",
    "        return 1\n",
    "    if n == 1:\n",
    "        return 1\n",
    "    if n == 2:\n",
    "        return 2\n",
    "\n",
    "    # Initialize base cases\n",
    "    dp = [0] * (n + 1)\n",
    "    dp[0], dp[1], dp[2] = 1, 1, 2\n",
    "\n",
    "    for i in range(3, n + 1):\n",
    "        dp[i] = dp[i - 1] + dp[i - 2] + dp[i - 3]\n",
    "    \n",
    "    return dp[n]"
   ]
  },
  {
   "cell_type": "code",
   "execution_count": 111,
   "id": "d4c63a9b-f7e6-4e6b-819d-58c608130442",
   "metadata": {},
   "outputs": [
    {
     "data": {
      "text/plain": [
       "13"
      ]
     },
     "execution_count": 111,
     "metadata": {},
     "output_type": "execute_result"
    }
   ],
   "source": [
    "count_ways_bottom_up(5)"
   ]
  },
  {
   "cell_type": "markdown",
   "id": "f3691e9f-04ba-4e53-b148-06dcc65f025e",
   "metadata": {},
   "source": [
    "### Minimum Cost to Reach the Top"
   ]
  },
  {
   "cell_type": "markdown",
   "id": "8616bcd5-71c2-4693-b88f-cafb71174583",
   "metadata": {},
   "source": [
    "Given an array of integers cost[] of length n, where cost[i] is the cost of the ith step on a staircase. Once the cost is paid, we can either climb one or two steps.\n",
    "We can either start from the step with index 0, or the step with index 1. The task is to find the minimum cost to reach the top."
   ]
  },
  {
   "cell_type": "code",
   "execution_count": 112,
   "id": "c4aa5ff9-d4b5-4429-94ed-d8f057668258",
   "metadata": {},
   "outputs": [],
   "source": [
    "def min_cost_recursive(cost, n):\n",
    "    if n == 0 or n == 1:\n",
    "        return cost[n]\n",
    "    return cost[n] + min(min_cost_recursive(cost, n - 1),\n",
    "                         min_cost_recursive(cost, n - 2))\n",
    "\n",
    "def min_cost_to_top_recursive(cost):\n",
    "    n = len(cost)\n",
    "    if n == 1:\n",
    "        return cost[0]\n",
    "    return min(min_cost_recursive(cost, n - 1),\n",
    "               min_cost_recursive(cost, n - 2))\n"
   ]
  },
  {
   "cell_type": "code",
   "execution_count": 113,
   "id": "637a68d1-9566-4c8a-ae70-e602265d96d2",
   "metadata": {},
   "outputs": [
    {
     "data": {
      "text/plain": [
       "15"
      ]
     },
     "execution_count": 113,
     "metadata": {},
     "output_type": "execute_result"
    }
   ],
   "source": [
    "cost = [10, 15, 20]\n",
    "min_cost_to_top_recursive(cost)"
   ]
  },
  {
   "cell_type": "code",
   "execution_count": 114,
   "id": "00399c5d-cbec-46cd-900c-c4d30473a07a",
   "metadata": {},
   "outputs": [],
   "source": [
    "def min_cost_memo(cost, n, memo):\n",
    "    if n == 0 or n == 1:\n",
    "        return cost[n]\n",
    "    if n in memo:\n",
    "        return memo[n]\n",
    "    \n",
    "    memo[n] = cost[n] + min(min_cost_memo(cost, n - 1, memo),\n",
    "                            min_cost_memo(cost, n - 2, memo))\n",
    "    return memo[n]\n",
    "\n",
    "def min_cost_to_top_memo(cost):\n",
    "    n = len(cost)\n",
    "    memo = {}\n",
    "    return min(min_cost_memo(cost, n - 1, memo),\n",
    "               min_cost_memo(cost, n - 2, memo))\n"
   ]
  },
  {
   "cell_type": "code",
   "execution_count": 115,
   "id": "2c41c672-5d0f-49fa-b808-b835c5ace65f",
   "metadata": {},
   "outputs": [
    {
     "data": {
      "text/plain": [
       "15"
      ]
     },
     "execution_count": 115,
     "metadata": {},
     "output_type": "execute_result"
    }
   ],
   "source": [
    "min_cost_to_top_memo(cost)"
   ]
  },
  {
   "cell_type": "code",
   "execution_count": 116,
   "id": "232bbb49-ab9a-4f29-a8f9-e03d5add79a8",
   "metadata": {},
   "outputs": [],
   "source": [
    "def min_cost_to_top_bottom_up(cost):\n",
    "    n = len(cost)\n",
    "    if n == 0:\n",
    "        return 0\n",
    "    if n == 1:\n",
    "        return cost[0]\n",
    "    \n",
    "    dp = [0] * n\n",
    "    dp[0] = cost[0]\n",
    "    dp[1] = cost[1]\n",
    "\n",
    "    for i in range(2, n):\n",
    "        dp[i] = cost[i] + min(dp[i - 1], dp[i - 2])\n",
    "\n",
    "    return min(dp[n - 1], dp[n - 2])\n"
   ]
  },
  {
   "cell_type": "code",
   "execution_count": 117,
   "id": "577ce6ac-d8b9-4a79-a623-1d352501b8ae",
   "metadata": {},
   "outputs": [],
   "source": [
    "def min_cost_to_top_optimized(cost):\n",
    "    n = len(cost)\n",
    "    if n == 0:\n",
    "        return 0\n",
    "    if n == 1:\n",
    "        return cost[0]\n",
    "\n",
    "    first = cost[0]\n",
    "    second = cost[1]\n",
    "\n",
    "    for i in range(2, n):\n",
    "        current = cost[i] + min(first, second)\n",
    "        first, second = second, current\n",
    "\n",
    "    return min(first, second)\n"
   ]
  },
  {
   "cell_type": "code",
   "execution_count": 118,
   "id": "e24e6d0d-c061-4d62-9ec8-8b41f3704c62",
   "metadata": {},
   "outputs": [
    {
     "data": {
      "text/plain": [
       "15"
      ]
     },
     "execution_count": 118,
     "metadata": {},
     "output_type": "execute_result"
    }
   ],
   "source": [
    "min_cost_to_top_optimized(cost)"
   ]
  },
  {
   "cell_type": "markdown",
   "id": "120b9434-07fb-4480-bde8-23b635f5128a",
   "metadata": {},
   "source": [
    "### Maximize the number of segments of length x, y and z"
   ]
  },
  {
   "cell_type": "markdown",
   "id": "2f2bef52-78d4-4fd6-9a66-511f4a9fe909",
   "metadata": {},
   "source": [
    "Given a rod of length n, the task is to cut the rod in such a way that the total number of segments of length x, y, and z is maximized. The segments can only be of length x, y, and z. \n",
    "Note: If no segment can be cut then return 0.\n",
    "\n",
    "Examples: \n",
    "\n",
    "Input: n = 4, x = 2, y = 1, z = 1\n",
    "Output: 4\n",
    "Explanation: Total length is 4, and the cut lengths are 2, 1 and 1.  We can make maximum 4 segments each of length 1.\n",
    "\n",
    "Input: n = 5, x = 5, y = 3, z = 2\n",
    "Output: 2\n",
    "Explanation: Here total length is 5, and the cut lengths are 5, 3 and 2. We can make two segments of lengths 3 and 2."
   ]
  },
  {
   "cell_type": "code",
   "execution_count": 119,
   "id": "b1f1c74a-d0a2-4626-a479-27e595700ca0",
   "metadata": {},
   "outputs": [],
   "source": [
    "def max_segments_recursive(n, x, y, z):\n",
    "    if n == 0:\n",
    "        return 0\n",
    "    if n < 0:\n",
    "        return -1\n",
    "\n",
    "    return max(\n",
    "        1 + max_segments_recursive(n - x, x, y, z),\n",
    "        1 + max_segments_recursive(n - y, x, y, z),\n",
    "        1 + max_segments_recursive(n - z, x, y, z)\n",
    "    )\n"
   ]
  },
  {
   "cell_type": "code",
   "execution_count": 120,
   "id": "eeca050d-f673-49d6-b3eb-0c5697c795b4",
   "metadata": {},
   "outputs": [],
   "source": [
    "def max_segments_memo(n, x, y, z, memo=None):\n",
    "    if memo is None:\n",
    "        memo = {}\n",
    "    if n == 0:\n",
    "        return 0\n",
    "    if n < 0:\n",
    "        return -1\n",
    "    if n in memo:\n",
    "        return memo[n]\n",
    "\n",
    "    memo[n] = max(\n",
    "        1 + max_segments_memo(n - x, x, y, z, memo),\n",
    "        1 + max_segments_memo(n - y, x, y, z, memo),\n",
    "        1 + max_segments_memo(n - z, x, y, z, memo)\n",
    "    )\n",
    "    return memo[n]\n"
   ]
  },
  {
   "cell_type": "code",
   "execution_count": 121,
   "id": "fe20d529-6732-4c45-94c0-d190f4a8b93b",
   "metadata": {},
   "outputs": [],
   "source": [
    "def max_segments_bottom_up(n, x, y, z):\n",
    "    dp = [-1] * (n + 1)\n",
    "    dp[0] = 0  # 0 segments to make length 0\n",
    "\n",
    "    for i in range(1, n + 1):\n",
    "        if i >= x:\n",
    "            dp[i] = max(dp[i], dp[i - x] + 1)\n",
    "        if i >= y:\n",
    "            dp[i] = max(dp[i], dp[i - y] + 1)\n",
    "        if i >= z:\n",
    "            dp[i] = max(dp[i], dp[i - z] + 1)\n",
    "\n",
    "    return dp[n] if dp[n] != -1 else 0\n"
   ]
  },
  {
   "cell_type": "code",
   "execution_count": 122,
   "id": "5a15ce50-5410-4106-baa6-3f41cd120e27",
   "metadata": {},
   "outputs": [
    {
     "name": "stdout",
     "output_type": "stream",
     "text": [
      "Recursive: 3\n",
      "Memoization: 3\n",
      "Bottom-Up: 3\n"
     ]
    }
   ],
   "source": [
    "n, x, y, z = 7, 2, 3, 5\n",
    "\n",
    "print(\"Recursive:\", max_segments_recursive(n, x, y, z))\n",
    "print(\"Memoization:\", max_segments_memo(n, x, y, z))\n",
    "print(\"Bottom-Up:\", max_segments_bottom_up(n, x, y, z))\n"
   ]
  },
  {
   "cell_type": "markdown",
   "id": "d27e40a2-1945-401c-afec-703c7ae00e07",
   "metadata": {},
   "source": [
    "### Program for nth Catalan Number"
   ]
  },
  {
   "cell_type": "code",
   "execution_count": 123,
   "id": "4727e225-5e54-465a-828b-d273ef0665f4",
   "metadata": {},
   "outputs": [],
   "source": [
    "def catalan_recursive(n):\n",
    "    if n <= 1:\n",
    "        return 1\n",
    "\n",
    "    res = 0\n",
    "    for i in range(n):\n",
    "        res += catalan_recursive(i) * catalan_recursive(n - 1 - i)\n",
    "    return res\n"
   ]
  },
  {
   "cell_type": "code",
   "execution_count": 124,
   "id": "9066daf9-f160-4d8c-bf93-804a56608e67",
   "metadata": {},
   "outputs": [],
   "source": [
    "def catalan_dp(n):\n",
    "    catalan = [0] * (n + 1)\n",
    "    catalan[0] = catalan[1] = 1\n",
    "\n",
    "    for i in range(2, n + 1):\n",
    "        for j in range(i):\n",
    "            catalan[i] += catalan[j] * catalan[i - 1 - j]\n",
    "\n",
    "    return catalan[n]\n"
   ]
  },
  {
   "cell_type": "code",
   "execution_count": 125,
   "id": "c540b132-d533-4e2b-a163-6b7a67642303",
   "metadata": {},
   "outputs": [],
   "source": [
    "def catalan_binomial(n):\n",
    "    res = 1\n",
    "    for i in range(n):\n",
    "        res = res * (2 * n - i) // (i + 1)\n",
    "    return res // (n + 1)\n"
   ]
  },
  {
   "cell_type": "code",
   "execution_count": 126,
   "id": "13a87eea-4857-44f8-9299-7e9db2c7f192",
   "metadata": {},
   "outputs": [
    {
     "name": "stdout",
     "output_type": "stream",
     "text": [
      "Catalan (Recursive): 42\n",
      "Catalan (DP): 42\n",
      "Catalan (Binomial): 42\n"
     ]
    }
   ],
   "source": [
    "n = 5\n",
    "print(\"Catalan (Recursive):\", catalan_recursive(n))\n",
    "print(\"Catalan (DP):\", catalan_dp(n))\n",
    "print(\"Catalan (Binomial):\", catalan_binomial(n))\n"
   ]
  },
  {
   "cell_type": "code",
   "execution_count": 127,
   "id": "e3f8cf55-14a5-47a8-a67f-e8f0822e198f",
   "metadata": {},
   "outputs": [],
   "source": [
    "### Number of Unique BST with N Keys"
   ]
  },
  {
   "cell_type": "markdown",
   "id": "1e4c8374-96a2-4b62-9c3f-e70ec48f81b3",
   "metadata": {},
   "source": [
    "A binary search tree (BST) maintains the property that elements are arranged based on their relative order. Let’s define C(n) as the number of unique BSTs that can be constructed with n nodes.\n",
    "\n",
    "When considering all possible BSTs, each of the n nodes can serve as the root. For any selected root, the remaining n-1 nodes must be divided into two groups: \n",
    "\n",
    "Nodes with keys smaller than the root’s key \n",
    "Nodes with keys larger than the root’s key.\n",
    "Assume we choose the node with the i-th key as the root. In this scenario, there will be i-1 nodes that are smaller and n-i nodes that are larger than the chosen root. This leads to dividing the problem of counting the total BSTs with the i-th key as the root into two subproblems:\n",
    "\n",
    "Calculating the number of unique BSTs for the left subtree containing i-1 nodes, represented as C(i-1).\n",
    "Calculating the number of unique BSTs for the right subtree containing n-i nodes, represented as C(n-i).\n",
    "Since the left and right subtrees are constructed independently, we multiply these counts to get the total number of BSTs for the current configuration: C(i-1) * C(n-i).\n",
    "\n",
    "To find the total number of BSTs with n nodes, we sum this product across all possible roots (i.e., from i = 1 to n). Therefore,\n",
    "\n",
    "C(n) = Σ(i = 1 to n) C(i-1) * C(n-i).\n",
    "\n",
    "This formula corresponds to the recurrence relation for the nth Catalan number. So this is how it is a classic application of Catalan number. We just need to find nth catalan number. First few catalan numbers are 1 1 2 5 14 42 132 429 1430 4862, … (considered from 0th number).\n",
    "\n",
    "Formula of catalan number is (1 / n+1) * ( 2*nCn).  Please refer to Applications of Catalan Numbers."
   ]
  },
  {
   "cell_type": "code",
   "execution_count": 129,
   "id": "02b99522-1f5f-4550-9d6e-4604c21b70e1",
   "metadata": {},
   "outputs": [],
   "source": [
    "def num_bst_binomial(n):\n",
    "    res = 1\n",
    "    for i in range(n):\n",
    "        res = res * (2 * n - i) // (i + 1)\n",
    "    return res // (n + 1)\n"
   ]
  },
  {
   "cell_type": "code",
   "execution_count": 130,
   "id": "ffb71638-cbd3-421d-87bb-fe1d4b2c06d1",
   "metadata": {},
   "outputs": [
    {
     "name": "stdout",
     "output_type": "stream",
     "text": [
      "Catalan Formula: 5\n"
     ]
    }
   ],
   "source": [
    "n = 3\n",
    "print(\"Catalan Formula:\", num_bst_binomial(n))  # Output: 5\n"
   ]
  },
  {
   "cell_type": "markdown",
   "id": "5a4bd95f-4aae-4acd-a6aa-fc3b42e2d13d",
   "metadata": {},
   "source": [
    "### Find the number of valid parentheses expressions of given length"
   ]
  },
  {
   "cell_type": "code",
   "execution_count": 132,
   "id": "1457f000-7940-44dd-959d-dab0874546a6",
   "metadata": {},
   "outputs": [],
   "source": [
    "def valid_parentheses_count(length):\n",
    "    if length % 2 != 0:\n",
    "        return 0  # odd length can't form valid pairs\n",
    "\n",
    "    n = length // 2\n",
    "    res = 1\n",
    "    for i in range(n):\n",
    "        res = res * (2 * n - i) // (i + 1)\n",
    "    return res // (n + 1)\n"
   ]
  },
  {
   "cell_type": "code",
   "execution_count": 133,
   "id": "e829ab24-6849-4af2-85c5-53f12682c84d",
   "metadata": {},
   "outputs": [],
   "source": [
    "def valid_parentheses_dp(length):\n",
    "    if length % 2 != 0:\n",
    "        return 0\n",
    "    n = length // 2\n",
    "    dp = [0] * (n + 1)\n",
    "    dp[0] = 1\n",
    "\n",
    "    for i in range(1, n + 1):\n",
    "        for j in range(i):\n",
    "            dp[i] += dp[j] * dp[i - 1 - j]\n",
    "    return dp[n]\n"
   ]
  },
  {
   "cell_type": "code",
   "execution_count": 134,
   "id": "d6f3c295-c677-415d-ba92-3869aa2a1b7a",
   "metadata": {},
   "outputs": [
    {
     "name": "stdout",
     "output_type": "stream",
     "text": [
      "5\n",
      "5\n",
      "0\n"
     ]
    }
   ],
   "source": [
    "print(valid_parentheses_count(6))  # Output: 5\n",
    "print(valid_parentheses_dp(6))     # Output: 5\n",
    "print(valid_parentheses_count(5))  # Output: 0 (odd length)\n"
   ]
  },
  {
   "cell_type": "markdown",
   "id": "3ef758bf-18f9-4aaf-a080-a55cdf5d009d",
   "metadata": {},
   "source": [
    "### Number of ways of Triangulation for a Polygon"
   ]
  },
  {
   "cell_type": "markdown",
   "id": "7d48db22-f18c-454d-9130-6eba9027afdd",
   "metadata": {},
   "source": [
    "🧠 Key Concept:\n",
    "The number of ways to triangulate a polygon with n sides is:\n",
    "\n",
    "Triangulations\n",
    "(\n",
    "𝑛\n",
    ")\n",
    "=\n",
    "𝐶\n",
    "𝑛\n",
    "−\n",
    "2\n",
    "Triangulations(n)=C \n",
    "n−2\n",
    "​\n",
    " \n",
    "Where \n",
    "𝐶\n",
    "𝑘\n",
    "C \n",
    "k\n",
    "​\n",
    "  is the k-th Catalan number."
   ]
  },
  {
   "cell_type": "markdown",
   "id": "b8d0c756-dd96-4197-985d-e569689b35b5",
   "metadata": {},
   "source": [
    "✅ Why n - 2?\n",
    "Any polygon with n sides can be split into n - 2 triangles.\n",
    "\n",
    "The number of different ways to do that corresponds to the (n - 2)th Catalan number.\n",
    "\n"
   ]
  },
  {
   "cell_type": "code",
   "execution_count": 135,
   "id": "2806f58b-8b65-4513-898c-e1da438a894f",
   "metadata": {},
   "outputs": [],
   "source": [
    "def catalan(n):\n",
    "    res = 1\n",
    "    for i in range(n):\n",
    "        res = res * (2 * n - i) // (i + 1)\n",
    "    return res // (n + 1)\n",
    "\n",
    "def number_of_triangulations(n):\n",
    "    if n < 3:\n",
    "        return 0  # no triangulation possible for < 3 sides\n",
    "    return catalan(n - 2)\n"
   ]
  },
  {
   "cell_type": "code",
   "execution_count": 136,
   "id": "4f01abac-41b8-4da3-9829-37e59d6704bb",
   "metadata": {},
   "outputs": [],
   "source": [
    "def number_of_triangulations_dp(n):\n",
    "    if n < 3:\n",
    "        return 0\n",
    "    k = n - 2\n",
    "    dp = [0] * (k + 1)\n",
    "    dp[0] = 1\n",
    "\n",
    "    for i in range(1, k + 1):\n",
    "        for j in range(i):\n",
    "            dp[i] += dp[j] * dp[i - 1 - j]\n",
    "    return dp[k]\n"
   ]
  },
  {
   "cell_type": "code",
   "execution_count": 137,
   "id": "fe92abc8-b8ac-4097-9d1b-ccccc0674229",
   "metadata": {},
   "outputs": [
    {
     "name": "stdout",
     "output_type": "stream",
     "text": [
      "1\n",
      "2\n",
      "5\n"
     ]
    }
   ],
   "source": [
    "print(number_of_triangulations(3))  # Output: 1\n",
    "print(number_of_triangulations(4))  # Output: 2\n",
    "print(number_of_triangulations_dp(5))  # Output: 5\n"
   ]
  },
  {
   "cell_type": "markdown",
   "id": "cb834ca1-44da-4420-a6d5-14c69bde89bc",
   "metadata": {},
   "source": [
    "### Minimum Sum Path in a Triangle"
   ]
  },
  {
   "cell_type": "markdown",
   "id": "7a67d2e0-00db-4867-bcc5-b74591270f5a",
   "metadata": {},
   "source": [
    " minPathSum(i, j) = triangle[i][j] + min(minPathSum(i+1, j), minPathSum(i+1 ,j+1))"
   ]
  },
  {
   "cell_type": "code",
   "execution_count": 138,
   "id": "6efa381a-5db0-4261-becf-eca3955c3805",
   "metadata": {},
   "outputs": [],
   "source": [
    "def min_path_recursive(triangle, i=0, j=0):\n",
    "    if i == len(triangle) - 1:\n",
    "        return triangle[i][j]\n",
    "    \n",
    "    down = min_path_recursive(triangle, i + 1, j)\n",
    "    diagonal = min_path_recursive(triangle, i + 1, j + 1)\n",
    "    \n",
    "    return triangle[i][j] + min(down, diagonal)\n"
   ]
  },
  {
   "cell_type": "code",
   "execution_count": 139,
   "id": "46b729e2-a5d3-4019-88d4-318f3c5e7f77",
   "metadata": {},
   "outputs": [],
   "source": [
    "def min_path_memo(triangle):\n",
    "    n = len(triangle)\n",
    "    memo = [[-1 for _ in row] for row in triangle]\n",
    "\n",
    "    def helper(i, j):\n",
    "        if i == n - 1:\n",
    "            return triangle[i][j]\n",
    "        if memo[i][j] != -1:\n",
    "            return memo[i][j]\n",
    "        \n",
    "        down = helper(i + 1, j)\n",
    "        diagonal = helper(i + 1, j + 1)\n",
    "        memo[i][j] = triangle[i][j] + min(down, diagonal)\n",
    "        return memo[i][j]\n",
    "    \n",
    "    return helper(0, 0)\n"
   ]
  },
  {
   "cell_type": "code",
   "execution_count": 140,
   "id": "8d8b7a57-7bee-4c0a-b518-838c964f9772",
   "metadata": {},
   "outputs": [],
   "source": [
    "def min_path_bottom_up(triangle):\n",
    "    n = len(triangle)\n",
    "    # Copy the last row\n",
    "    dp = triangle[-1][:]\n",
    "\n",
    "    # Start from second-last row up to the top\n",
    "    for i in range(n - 2, -1, -1):\n",
    "        for j in range(len(triangle[i])):\n",
    "            dp[j] = triangle[i][j] + min(dp[j], dp[j + 1])\n",
    "\n",
    "    return dp[0]\n"
   ]
  },
  {
   "cell_type": "code",
   "execution_count": 141,
   "id": "33b78ecf-6835-45bc-ad07-2cafb6ba7bc6",
   "metadata": {},
   "outputs": [
    {
     "name": "stdout",
     "output_type": "stream",
     "text": [
      "Recursive: 11\n",
      "Memoization: 11\n",
      "Bottom-Up: 11\n"
     ]
    }
   ],
   "source": [
    "triangle = [\n",
    "     [2],\n",
    "    [3, 4],\n",
    "   [6, 5, 7],\n",
    "  [4, 1, 8, 3]\n",
    "]\n",
    "\n",
    "print(\"Recursive:\", min_path_recursive(triangle))\n",
    "print(\"Memoization:\", min_path_memo(triangle))\n",
    "print(\"Bottom-Up:\", min_path_bottom_up(triangle))\n"
   ]
  },
  {
   "cell_type": "markdown",
   "id": "9858834a-c7ba-421e-963e-e862bc272d79",
   "metadata": {},
   "source": [
    "### Minimum perfect squares to add that sum to given number."
   ]
  },
  {
   "cell_type": "markdown",
   "id": "928f5fd3-9db9-4ed2-87ed-edc5fc158a1e",
   "metadata": {},
   "source": [
    "Using Recursion\n",
    "We can easily identify the recursive nature of this problem. We can form the sum n as (x^2 + (n - x^2)) for various values of x, such that x2 <= n. To find the minimum number of squares needed to form the sum n, we use the formula:\n",
    "\n",
    "minSquares(n) = min( 1 + minSquares(n - x2) ), for all x where x2 <= n.\n",
    "\n",
    "Base Case: minSquares(n) = 1, if n itself is a square number "
   ]
  },
  {
   "cell_type": "code",
   "execution_count": 142,
   "id": "98bb7d2c-e11c-4faf-aa82-964697bc4105",
   "metadata": {},
   "outputs": [],
   "source": [
    "import math\n",
    "def min_squares_rec(n):\n",
    "    if n <= 3:\n",
    "        return n\n",
    "    \n",
    "    res = n\n",
    "    sqroot = int(math.sqrt(n))\n",
    "    \n",
    "    for i in range(1, sqroot + 1):\n",
    "        res = min(res, 1 + min_squares_rec(n - i*i))\n",
    "    \n",
    "    return res"
   ]
  },
  {
   "cell_type": "code",
   "execution_count": 143,
   "id": "291fa940-a7af-43cb-808e-92814f9bc4be",
   "metadata": {},
   "outputs": [
    {
     "data": {
      "text/plain": [
       "3"
      ]
     },
     "execution_count": 143,
     "metadata": {},
     "output_type": "execute_result"
    }
   ],
   "source": [
    "min_squares_rec(6)"
   ]
  },
  {
   "cell_type": "code",
   "execution_count": 144,
   "id": "38439b96-9634-407e-ad07-a0a2664c2956",
   "metadata": {},
   "outputs": [],
   "source": [
    "def min_squares_memo(n):\n",
    "    sq = [-1] * (n+1)\n",
    "    \n",
    "    def min_sq(n, sq):\n",
    "        if n <= 3:\n",
    "            sq[n] = n\n",
    "        \n",
    "        if sq[n] != -1:\n",
    "            return sq[n]\n",
    "        \n",
    "        res = n\n",
    "        for i in range(1, int(n**0.5)//2 + 1):\n",
    "            res = min(res, min_sq(n - i*i, sq))\n",
    "        \n",
    "        sq[n] = res\n",
    "        return res\n",
    "    \n",
    "    ans = min_sq(n, sq)\n",
    "    return ans"
   ]
  },
  {
   "cell_type": "code",
   "execution_count": 145,
   "id": "010416be-37cf-42fd-9173-279596ac680c",
   "metadata": {},
   "outputs": [
    {
     "data": {
      "text/plain": [
       "3"
      ]
     },
     "execution_count": 145,
     "metadata": {},
     "output_type": "execute_result"
    }
   ],
   "source": [
    "min_squares_memo(6)"
   ]
  },
  {
   "cell_type": "markdown",
   "id": "15026e4f-f5d2-4afc-8f24-1f690cb8cabc",
   "metadata": {},
   "source": [
    "#### Using Bottom-Up DP (Tabulation)\n",
    "The approach is similar to the previous one; just instead of breaking down the problem recursively, we iteratively build up the solution by calculating in bottom-up manner. Maintain a dp[] table such that dp[i] stores the minimum perfect squares that sum to i.\n",
    "\n",
    "Base Case: For i = 0 and i = 1, dp[i] = i\n",
    "Recursive Case: For i > 1, dp[i] = min( 1 + dp[i - x2] ), for all x such that x * x <= i."
   ]
  },
  {
   "cell_type": "code",
   "execution_count": 146,
   "id": "31c53d77-2d5d-4c98-b28d-bbd9e9ccd2f7",
   "metadata": {},
   "outputs": [],
   "source": [
    "def minSquares_dp(n):\n",
    "  \n",
    "    # Memoization array to store the results\n",
    "    dp = [0] * (n + 1)\n",
    "    \n",
    "    # base case\n",
    "    dp[0] = 0\n",
    "    dp[1] = 1\n",
    "    \n",
    "    for i in range(2, n + 1):\n",
    "        dp[i] = i\n",
    "        for x in range(1, int(i**0.5) + 1):\n",
    "          \n",
    "            # recursive case\n",
    "            dp[i] = min(dp[i], 1 + dp[i - x * x])\n",
    "    \n",
    "    return dp[n]"
   ]
  },
  {
   "cell_type": "code",
   "execution_count": 147,
   "id": "49ff0487-ebbe-43e2-ab73-d7bc6a1829c9",
   "metadata": {},
   "outputs": [
    {
     "data": {
      "text/plain": [
       "3"
      ]
     },
     "execution_count": 147,
     "metadata": {},
     "output_type": "execute_result"
    }
   ],
   "source": [
    "minSquares_dp(6)"
   ]
  },
  {
   "cell_type": "markdown",
   "id": "0ad2ae79-eb72-418b-82d4-8ad1d7d05a8b",
   "metadata": {},
   "source": [
    "### Bell Numbers"
   ]
  },
  {
   "cell_type": "markdown",
   "id": "0eec6626-1cf9-4e76-bfdb-dc9cce317844",
   "metadata": {},
   "source": [
    "#### 1. Recursive Method using Stirling Numbers of the Second Kind\n",
    "The Bell number B(n) is the sum of Stirling numbers of the second kind:\n",
    "\n",
    "S(n,k) is the number of ways to partition a set of n elements into exactly k non-empty subsets.\n",
    "\n",
    "The recurrence for Stirling numbers:\n",
    "\n",
    "S(n,k)=k⋅S(n−1,k)+S(n−1,k−1)"
   ]
  },
  {
   "cell_type": "code",
   "execution_count": 149,
   "id": "3c657464-51f9-4325-b595-87385e47eff0",
   "metadata": {},
   "outputs": [],
   "source": [
    "def bell_recursive(n):\n",
    "    # Create a table for Stirling numbers\n",
    "    stirling = [[0]*(n+1) for _ in range(n+1)]\n",
    "    stirling[0][0] = 1\n",
    "\n",
    "    for i in range(1, n+1):\n",
    "        for j in range(1, i+1):\n",
    "            stirling[i][j] = j * stirling[i-1][j] + stirling[i-1][j-1]\n",
    "\n",
    "    return sum(stirling[n][k] for k in range(1, n+1))\n"
   ]
  },
  {
   "cell_type": "markdown",
   "id": "c5efaa87-b400-45a1-a8e9-d3cdd9a3fe24",
   "metadata": {},
   "source": [
    "#### 2. Bell Triangle (Iterative DP)\n",
    "Build a Bell triangle (similar to Pascal’s triangle):\n",
    "\n",
    "First element is always 1.\n",
    "\n",
    "Each row starts with the last element of the previous row.\n",
    "\n",
    "Other elements:\n",
    "    A(i,j)=A(i,j−1)+A(i−1,j−1)"
   ]
  },
  {
   "cell_type": "code",
   "execution_count": 150,
   "id": "999abe33-7a51-4d95-8216-4ab04f484a17",
   "metadata": {},
   "outputs": [],
   "source": [
    "def bell_triangle(n):\n",
    "    bell = [[0 for i in range(n+1)] for j in range(n+1)]\n",
    "    bell[0][0] = 1\n",
    "\n",
    "    for i in range(1, n+1):\n",
    "        bell[i][0] = bell[i-1][i-1]  # first element\n",
    "        for j in range(1, i+1):\n",
    "            bell[i][j] = bell[i][j-1] + bell[i-1][j-1]\n",
    "\n",
    "    return bell[n][0]\n"
   ]
  },
  {
   "cell_type": "code",
   "execution_count": 151,
   "id": "cfc6a50b-f78b-404e-a04d-22d54b6aecb8",
   "metadata": {},
   "outputs": [
    {
     "data": {
      "text/plain": [
       "52"
      ]
     },
     "execution_count": 151,
     "metadata": {},
     "output_type": "execute_result"
    }
   ],
   "source": [
    "bell_recursive(5)"
   ]
  },
  {
   "cell_type": "code",
   "execution_count": 152,
   "id": "547f4e0e-03a2-4e0d-b117-639a445a24a4",
   "metadata": {},
   "outputs": [
    {
     "data": {
      "text/plain": [
       "52"
      ]
     },
     "execution_count": 152,
     "metadata": {},
     "output_type": "execute_result"
    }
   ],
   "source": [
    "bell_triangle(5)"
   ]
  },
  {
   "cell_type": "markdown",
   "id": "77f9b8df-bf7e-47ad-9132-9bc96eec9c0a",
   "metadata": {},
   "source": [
    "### Binomial Coefficient"
   ]
  },
  {
   "cell_type": "code",
   "execution_count": 153,
   "id": "a93544ed-bcf6-4f19-833a-f49fcd9ff599",
   "metadata": {},
   "outputs": [],
   "source": [
    "def binomial_coefficient(n, k):\n",
    "    from math import factorial\n",
    "    return factorial(n) // (factorial(k) * factorial(n - k))"
   ]
  },
  {
   "cell_type": "code",
   "execution_count": 154,
   "id": "e1cace4d-ceef-4d31-9e16-4f7802f37df4",
   "metadata": {},
   "outputs": [],
   "source": [
    "def binomial_dp(n, k):\n",
    "    C = [[0 for _ in range(k+1)] for _ in range(n+1)]\n",
    "\n",
    "    for i in range(n+1):\n",
    "        for j in range(min(i, k)+1):\n",
    "            if j == 0 or j == i:\n",
    "                C[i][j] = 1\n",
    "            else:\n",
    "                C[i][j] = C[i-1][j-1] + C[i-1][j]\n",
    "    \n",
    "    return C[n][k]\n"
   ]
  },
  {
   "cell_type": "code",
   "execution_count": 155,
   "id": "33551b49-ac4e-4249-9f4d-b5b22c18d24d",
   "metadata": {},
   "outputs": [
    {
     "data": {
      "text/plain": [
       "10"
      ]
     },
     "execution_count": 155,
     "metadata": {},
     "output_type": "execute_result"
    }
   ],
   "source": [
    "binomial_coefficient(5, 2)"
   ]
  },
  {
   "cell_type": "code",
   "execution_count": 156,
   "id": "46496a24-eb9a-4404-9840-e04e64e558ff",
   "metadata": {},
   "outputs": [
    {
     "data": {
      "text/plain": [
       "10"
      ]
     },
     "execution_count": 156,
     "metadata": {},
     "output_type": "execute_result"
    }
   ],
   "source": [
    "binomial_dp(5,2)"
   ]
  },
  {
   "cell_type": "markdown",
   "id": "d16fd119-8ae5-4e77-92a9-4062e4b3e1f8",
   "metadata": {},
   "source": [
    "### Program to Print Pascal's Triangle"
   ]
  },
  {
   "cell_type": "markdown",
   "id": "2252707d-f408-4925-9214-c5acf54abd53",
   "metadata": {},
   "source": [
    "✅ 1. Recursive Method\n",
    "Based on the recurrence relation:\n",
    "\n",
    "C(n,k)=C(n−1,k−1)+C(n−1,k)\n",
    "Base cases:\n",
    "C(n,0)=C(n,n)=1\n",
    "For each position (n, k), the value is the sum of the two values directly above it.\n",
    "\n",
    "Drawback: Repeats work → very slow for large n.\n",
    "\n"
   ]
  },
  {
   "cell_type": "code",
   "execution_count": 157,
   "id": "0ba35e4c-f08c-4cfe-bafe-6f1f1dee725b",
   "metadata": {},
   "outputs": [],
   "source": [
    "def binomial_recursive(n, k):\n",
    "    if k == 0 or k == n:\n",
    "        return 1\n",
    "    return binomial_recursive(n - 1, k - 1) + binomial_recursive(n - 1, k)\n",
    "\n",
    "def pascal_recursive(rows):\n",
    "    for n in range(rows):\n",
    "        for k in range(n + 1):\n",
    "            print(binomial_recursive(n, k), end=\" \")\n",
    "        print()\n"
   ]
  },
  {
   "cell_type": "code",
   "execution_count": 158,
   "id": "d96dff2d-37f4-401c-9ed2-dd586c2b0ecc",
   "metadata": {},
   "outputs": [
    {
     "name": "stdout",
     "output_type": "stream",
     "text": [
      "1 \n",
      "1 1 \n",
      "1 2 1 \n",
      "1 3 3 1 \n",
      "1 4 6 4 1 \n"
     ]
    }
   ],
   "source": [
    "pascal_recursive(5)"
   ]
  },
  {
   "cell_type": "markdown",
   "id": "a46c845e-221f-4532-9023-d8c12a8232b8",
   "metadata": {},
   "source": [
    "✅ 2. Top-Down Dynamic Programming\n",
    "Start building the triangle from the top row (row 0).\n",
    "\n",
    "Initialize edge values in each row to 1.\n",
    "\n",
    "Use the relation:\n",
    "\n",
    "triangle[i][j]=triangle[i−1][j−1]+triangle[i−1][j]\n",
    "Efficiently fills each row using previous row.\n",
    "\n",
    "Most practical and commonly used approach."
   ]
  },
  {
   "cell_type": "code",
   "execution_count": 159,
   "id": "28f1e185-0dde-4600-8312-74542db3e4bc",
   "metadata": {},
   "outputs": [],
   "source": [
    "def pascal_top_down(n):\n",
    "    triangle = [[1] * (i + 1) for i in range(n)]\n",
    "\n",
    "    for i in range(2, n):\n",
    "        for j in range(1, i):\n",
    "            triangle[i][j] = triangle[i-1][j-1] + triangle[i-1][j]\n",
    "\n",
    "    for row in triangle:\n",
    "        print(*row)\n"
   ]
  },
  {
   "cell_type": "code",
   "execution_count": 160,
   "id": "168b8819-6f07-4169-9e7e-05c45af9c008",
   "metadata": {},
   "outputs": [
    {
     "name": "stdout",
     "output_type": "stream",
     "text": [
      "1\n",
      "1 1\n",
      "1 2 1\n",
      "1 3 3 1\n",
      "1 4 6 4 1\n"
     ]
    }
   ],
   "source": [
    "pascal_top_down(5)\n"
   ]
  },
  {
   "cell_type": "markdown",
   "id": "6df6aca3-b854-4f09-85d7-baa239c03f1b",
   "metadata": {},
   "source": [
    "✅ 3. Bottom-Up Dynamic Programming\n",
    "Start with the bottom-most row set to all 1s (like row n-1).\n",
    "\n",
    "Move upward, computing values using:\n",
    "\n",
    "triangle[i][j]=triangle[i+1][j−1]+triangle[i+1][j]\n",
    "Conceptually reverses the Pascal building process.\n",
    "\n",
    "Less common, but interesting to see the triangle can be filled in reverse."
   ]
  },
  {
   "cell_type": "code",
   "execution_count": 161,
   "id": "7e5e8875-841e-4516-bbf5-c7b1de523c73",
   "metadata": {},
   "outputs": [],
   "source": [
    "def pascal_bottom_up(n):\n",
    "    triangle = [[0 for _ in range(n)] for _ in range(n)]\n",
    "\n",
    "    # Fill bottom row\n",
    "    for k in range(n):\n",
    "        triangle[n-1][k] = 1\n",
    "\n",
    "    # Fill upwards\n",
    "    for i in range(n-2, -1, -1):\n",
    "        triangle[i][0] = 1\n",
    "        for j in range(1, i + 1):\n",
    "            triangle[i][j] = triangle[i+1][j-1] + triangle[i+1][j]\n",
    "\n",
    "    # Print non-zero rows\n",
    "    for i in range(n):\n",
    "        row = [x for x in triangle[i] if x != 0]\n",
    "        print(*row)\n"
   ]
  },
  {
   "cell_type": "code",
   "execution_count": 162,
   "id": "092a4449-65b0-4853-88db-48fd2466a756",
   "metadata": {},
   "outputs": [
    {
     "name": "stdout",
     "output_type": "stream",
     "text": [
      "1\n",
      "1 4\n",
      "1 3 4\n",
      "1 2 2 2\n",
      "1 1 1 1 1\n"
     ]
    }
   ],
   "source": [
    "pascal_bottom_up(5)"
   ]
  },
  {
   "cell_type": "markdown",
   "id": "e1957cc7-f22d-48d8-bc5e-22820ef8c012",
   "metadata": {},
   "source": [
    "### Program to find amount of water in a given glass\n",
    "\n",
    "There is a stack of water glasses in the form of a Pascal triangle and a person wants to pour the water at the topmost glass, but the capacity of each glass is 1 unit. Overflow occurs in such a way that after 1 unit, 1/2 of the remaining unit gets into the bottom left glass and the other half in the bottom right glass. We pour k units of water into the topmost glass. The task is to find how much water is there in the c'th glass of the r'th row."
   ]
  },
  {
   "cell_type": "markdown",
   "id": "e498186e-8008-4dbd-a223-419b24a9ea75",
   "metadata": {},
   "source": [
    "To solve the problem of finding the amount of water in the c'th glass of the r'th row when k units of water are poured into the topmost glass of a Pascal triangle-like structure, we can simulate the pouring process.\n",
    "\n",
    "📌 Problem Summary:\n",
    "Glasses are arranged like Pascal's triangle.\n",
    "\n",
    "Each glass can hold 1 unit of water.\n",
    "\n",
    "Any overflow from a glass is split equally to the two glasses below it (left and right).\n",
    "\n",
    "Given k units of water are poured into the topmost glass (row 1, column 1).\n",
    "\n",
    "Find how much water is in the glass at row r, column c.\n",
    "\n",
    "✅ Approach:\n",
    "We simulate the process using a 2D array glass[row][col], where each cell holds the amount of water in the corresponding glass. We simulate up to row r, since we only care about that depth.\n",
    "\n",
    "Each time we simulate overflow, we:\n",
    "\n",
    "Cap the current glass to 1 unit.\n",
    "\n",
    "Distribute the overflow (if any) equally to the two glasses below."
   ]
  },
  {
   "cell_type": "code",
   "execution_count": 163,
   "id": "b5154ff9-3406-4daf-840c-06d0263584a0",
   "metadata": {},
   "outputs": [],
   "source": [
    "def find_water(k, r, c):\n",
    "    # Step 1: Initialize a 2D array (glass triangle)\n",
    "    glass = [[0.0 for _ in range(r + 2)] for _ in range(r + 2)]\n",
    "    \n",
    "    # Step 2: Pour all k units of water into the topmost glass (row 1, col 1)\n",
    "    glass[1][1] = float(k)\n",
    "    \n",
    "    # Step 3: Simulate water flow row by row\n",
    "    for i in range(1, r + 1):         # For each row up to r\n",
    "        for j in range(1, i + 1):     # For each glass in the current row\n",
    "            if glass[i][j] > 1.0:\n",
    "                overflow = glass[i][j] - 1.0  # Calculate overflow\n",
    "                glass[i][j] = 1.0             # Cap the current glass to 1 unit\n",
    "                # Distribute overflow equally to the next row\n",
    "                glass[i + 1][j]     += overflow / 2.0  # Left child\n",
    "                glass[i + 1][j + 1] += overflow / 2.0  # Right child\n",
    "\n",
    "    # Step 4: Return the water in the target glass, capped at 1 unit\n",
    "    return min(1.0, glass[r][c])\n"
   ]
  },
  {
   "cell_type": "code",
   "execution_count": 164,
   "id": "acafc4cc-c21a-46bc-a3e4-42e5d639b125",
   "metadata": {},
   "outputs": [
    {
     "data": {
      "text/plain": [
       "1.0"
      ]
     },
     "execution_count": 164,
     "metadata": {},
     "output_type": "execute_result"
    }
   ],
   "source": [
    "k = 3\n",
    "r = 2\n",
    "c = 1\n",
    "find_water(k,r,c)"
   ]
  },
  {
   "cell_type": "markdown",
   "id": "75a39708-a282-495f-a25d-ab27058a8e13",
   "metadata": {},
   "source": [
    "### Longest Common Subsequence (LCS)"
   ]
  },
  {
   "cell_type": "markdown",
   "id": "df441b33-2fe9-43f0-bfff-862971f640f6",
   "metadata": {},
   "source": [
    "Given two strings s1 and s2, find the length of the longest subsequence present in both strings. A subsequence is a sequence that appears in the same relative order but not necessarily contiguous."
   ]
  },
  {
   "cell_type": "markdown",
   "id": "cebe327a-0cf7-446a-9259-8eb51b7e3173",
   "metadata": {},
   "source": [
    "#### ✅ 1. Recursion (Brute Force)\n",
    "🔹 Idea:\n",
    "Compare the last characters:\n",
    "\n",
    "If they match: 1 + LCS(s1[0..n-2], s2[0..m-2])\n",
    "\n",
    "If not: take the max of:\n",
    "\n",
    "- LCS(s1[0..n-1], s2[0..m-2])\n",
    "\n",
    "- LCS(s1[0..n-2], s2[0..m-1])"
   ]
  },
  {
   "cell_type": "code",
   "execution_count": 165,
   "id": "94b0304b-ae10-4c9b-bab9-9de8c24b2571",
   "metadata": {},
   "outputs": [],
   "source": [
    "def lcs_recursive(s1, s2, n, m):\n",
    "    if n == 0 or m == 0:\n",
    "        return 0\n",
    "    if s1[n-1] == s2[m-1]:\n",
    "        return 1 + lcs_recursive(s1, s2, n-1, m-1)\n",
    "    else:\n",
    "        return max(lcs_recursive(s1, s2, n-1, m), lcs_recursive(s1, s2, n, m-1))\n"
   ]
  },
  {
   "cell_type": "markdown",
   "id": "ac90ed7b-4a9a-4ac8-a4ee-14d0947b9ab7",
   "metadata": {},
   "source": [
    "⏱️ Time Complexity: O(2^n)"
   ]
  },
  {
   "cell_type": "markdown",
   "id": "16463906-70f4-44cb-a0ae-a0bd1f22d35a",
   "metadata": {},
   "source": [
    "#### ✅ 2. Memoization (Top-Down DP)\n",
    "🔹 Idea:\n",
    "Store results of subproblems in a 2D dp[n][m] table."
   ]
  },
  {
   "cell_type": "code",
   "execution_count": 166,
   "id": "2912c849-10f2-430e-b6cc-ad5937491a51",
   "metadata": {},
   "outputs": [],
   "source": [
    "def lcs_memo(s1, s2):\n",
    "    n, m = len(s1), len(s2)\n",
    "    dp = [[-1 for _ in range(m+1)] for _ in range(n+1)]\n",
    "\n",
    "    def solve(i, j):\n",
    "        if i == 0 or j == 0:\n",
    "            return 0\n",
    "        if dp[i][j] != -1:\n",
    "            return dp[i][j]\n",
    "        if s1[i-1] == s2[j-1]:\n",
    "            dp[i][j] = 1 + solve(i-1, j-1)\n",
    "        else:\n",
    "            dp[i][j] = max(solve(i-1, j), solve(i, j-1))\n",
    "        return dp[i][j]\n",
    "\n",
    "    return solve(n, m)\n"
   ]
  },
  {
   "cell_type": "markdown",
   "id": "06714914-6243-4701-b54a-0afe458ef7fd",
   "metadata": {},
   "source": [
    "⏱️ Time Complexity: O(n * m)\n",
    "💾 Space Complexity: O(n * m) (for memo table and recursion stack)"
   ]
  },
  {
   "cell_type": "markdown",
   "id": "310ec39b-b6f4-48c4-9621-22e4aae8fa38",
   "metadata": {},
   "source": [
    "#### ✅ 3. Tabulation (Bottom-Up DP)\n",
    "🔹 Idea:\n",
    "Iteratively fill a dp table of size (n+1) x (m+1)."
   ]
  },
  {
   "cell_type": "code",
   "execution_count": 167,
   "id": "7cada96e-d9df-463d-aa3e-12e014b8c2f2",
   "metadata": {},
   "outputs": [],
   "source": [
    "def lcs_tabulation(s1, s2):\n",
    "    n, m = len(s1), len(s2)\n",
    "    dp = [[0 for _ in range(m+1)] for _ in range(n+1)]\n",
    "\n",
    "    for i in range(1, n+1):\n",
    "        for j in range(1, m+1):\n",
    "            if s1[i-1] == s2[j-1]:\n",
    "                dp[i][j] = 1 + dp[i-1][j-1]\n",
    "            else:\n",
    "                dp[i][j] = max(dp[i-1][j], dp[i][j-1])\n",
    "\n",
    "    return dp[n][m]\n"
   ]
  },
  {
   "cell_type": "markdown",
   "id": "c92e3caa-0e50-4644-bd70-b79661c70cf7",
   "metadata": {},
   "source": [
    "#### ✅ 4. Space Optimized Tabulation\n",
    "🔹 Idea:\n",
    "Each row in dp[i][j] only depends on the previous row. So, use two 1D arrays: prev and curr"
   ]
  },
  {
   "cell_type": "code",
   "execution_count": 169,
   "id": "39280902-27d5-4c54-98b3-d82d0b76473e",
   "metadata": {},
   "outputs": [],
   "source": [
    "def lcs_space_optimized(s1, s2):\n",
    "    n, m = len(s1), len(s2)\n",
    "    prev = [0] * (m + 1)\n",
    "\n",
    "    for i in range(1, n + 1):\n",
    "        curr = [0] * (m + 1)\n",
    "        for j in range(1, m + 1):\n",
    "            if s1[i - 1] == s2[j - 1]:\n",
    "                curr[j] = 1 + prev[j - 1]\n",
    "            else:\n",
    "                curr[j] = max(prev[j], curr[j - 1])\n",
    "        prev = curr\n",
    "\n",
    "    return prev[m]\n"
   ]
  },
  {
   "cell_type": "code",
   "execution_count": 170,
   "id": "8f68f628-1626-44be-a165-ddd37c4a933a",
   "metadata": {},
   "outputs": [
    {
     "name": "stdout",
     "output_type": "stream",
     "text": [
      "LCS Length (Recursive): 3\n",
      "LCS Length (Memoization): 3\n",
      "LCS Length (Tabulation): 3\n",
      "LCS Length (Space Optimized): 3\n"
     ]
    }
   ],
   "source": [
    "s1 = \"abcde\"\n",
    "s2 = \"ace\"\n",
    "\n",
    "print(\"LCS Length (Recursive):\", lcs_recursive(s1, s2, len(s1), len(s2)))\n",
    "print(\"LCS Length (Memoization):\", lcs_memo(s1, s2))\n",
    "print(\"LCS Length (Tabulation):\", lcs_tabulation(s1, s2))\n",
    "print(\"LCS Length (Space Optimized):\", lcs_space_optimized(s1, s2))\n"
   ]
  },
  {
   "cell_type": "markdown",
   "id": "6b24ad7b-5d85-40a7-815d-55753563406e",
   "metadata": {},
   "source": [
    "### Given two strings s1 and s2, return the actual LCS string, not just its length.\n"
   ]
  },
  {
   "cell_type": "code",
   "execution_count": 171,
   "id": "f99d12e1-ab4a-4179-b154-acb97addfc88",
   "metadata": {},
   "outputs": [],
   "source": [
    "def lcs_string(s1, s2):\n",
    "    n, m = len(s1), len(s2)\n",
    "    # Step 1: Build the DP table\n",
    "    dp = [[0 for _ in range(m + 1)] for _ in range(n + 1)]\n",
    "\n",
    "    for i in range(1, n + 1):\n",
    "        for j in range(1, m + 1):\n",
    "            if s1[i - 1] == s2[j - 1]:\n",
    "                dp[i][j] = 1 + dp[i - 1][j - 1]\n",
    "            else:\n",
    "                dp[i][j] = max(dp[i - 1][j], dp[i][j - 1])\n",
    "\n",
    "    # Step 2: Backtrack to reconstruct the LCS string\n",
    "    i, j = n, m\n",
    "    lcs = []\n",
    "\n",
    "    while i > 0 and j > 0:\n",
    "        if s1[i - 1] == s2[j - 1]:\n",
    "            lcs.append(s1[i - 1])\n",
    "            i -= 1\n",
    "            j -= 1\n",
    "        elif dp[i - 1][j] >= dp[i][j - 1]:\n",
    "            i -= 1\n",
    "        else:\n",
    "            j -= 1\n",
    "\n",
    "    # The LCS is built in reverse order\n",
    "    return ''.join(reversed(lcs))\n"
   ]
  },
  {
   "cell_type": "markdown",
   "id": "a81289d9-dfae-4331-8b40-2f9df6ecc763",
   "metadata": {},
   "source": [
    "s1 = \"abcde\"\n",
    "s2 = \"ace\"\n",
    "print(lcs_string(s1, s2))  # Output: \"ace\""
   ]
  },
  {
   "cell_type": "markdown",
   "id": "0c5b64b9-65b6-4c61-9b76-911e69ed03b0",
   "metadata": {},
   "source": [
    "### Longest Increasing Subsequence (LIS)"
   ]
  },
  {
   "cell_type": "markdown",
   "id": "21469bad-1cf7-4f6a-b814-c3c09a535885",
   "metadata": {},
   "source": [
    "Given an array arr[] of size n, the task is to find the length of the Longest Increasing Subsequence (LIS) i.e., the longest possible subsequence in which the elements of the subsequence are sorted in increasing order."
   ]
  },
  {
   "cell_type": "code",
   "execution_count": 173,
   "id": "875d0390-58f6-4945-9cd6-764cbb87a194",
   "metadata": {},
   "outputs": [],
   "source": [
    "def lis_recursive(arr, curr_index=0, prev_index=-1):\n",
    "    # Base case: reached end of array\n",
    "    if curr_index == len(arr):\n",
    "        return 0\n",
    "\n",
    "    # Option 1: don't include current element\n",
    "    not_take = lis_recursive(arr, curr_index + 1, prev_index)\n",
    "\n",
    "    # Option 2: include current element if it's greater than previous\n",
    "    take = 0\n",
    "    if prev_index == -1 or arr[curr_index] > arr[prev_index]:\n",
    "        take = 1 + lis_recursive(arr, curr_index + 1, curr_index)\n",
    "\n",
    "    # Return the best option\n",
    "    return max(take, not_take)\n"
   ]
  },
  {
   "cell_type": "code",
   "execution_count": 174,
   "id": "7c014938-3989-49cd-a69e-1d427ed18b66",
   "metadata": {},
   "outputs": [],
   "source": [
    "def lis_memo(arr):\n",
    "    n = len(arr)\n",
    "    from functools import lru_cache\n",
    "\n",
    "    @lru_cache(None)\n",
    "    def solve(i, prev_index):\n",
    "        if i == n:\n",
    "            return 0\n",
    "\n",
    "        # Skip current element\n",
    "        length = solve(i + 1, prev_index)\n",
    "\n",
    "        # Take current element if it forms increasing subsequence\n",
    "        if prev_index == -1 or arr[i] > arr[prev_index]:\n",
    "            length = max(length, 1 + solve(i + 1, i))\n",
    "\n",
    "        return length\n",
    "\n",
    "    return solve(0, -1)\n"
   ]
  },
  {
   "cell_type": "code",
   "execution_count": 175,
   "id": "d014ea2c-e328-46f2-a8ae-1060dd98679b",
   "metadata": {},
   "outputs": [],
   "source": [
    "def lis_tabulation(arr):\n",
    "    n = len(arr)\n",
    "    dp = [1] * n  # Every element is an LIS of at least length 1\n",
    "\n",
    "    for i in range(1, n):\n",
    "        for j in range(0, i):\n",
    "            if arr[i] > arr[j]:\n",
    "                dp[i] = max(dp[i], dp[j] + 1)\n",
    "\n",
    "    return max(dp)\n"
   ]
  },
  {
   "cell_type": "code",
   "execution_count": 176,
   "id": "0be1e045-861d-4c1d-87f6-513bbecb1f2c",
   "metadata": {},
   "outputs": [
    {
     "name": "stdout",
     "output_type": "stream",
     "text": [
      "LIS Length (Recursive): 4\n",
      "LIS Length (Memo): 4\n",
      "LIS Length (Tabulation): 4\n"
     ]
    }
   ],
   "source": [
    "arr = [10, 9, 2, 5, 3, 7, 101, 18]\n",
    "print(\"LIS Length (Recursive):\", lis_recursive(arr))\n",
    "print(\"LIS Length (Memo):\", lis_memo(arr))\n",
    "print(\"LIS Length (Tabulation):\", lis_tabulation(arr))"
   ]
  },
  {
   "cell_type": "markdown",
   "id": "5fb88a7a-b37c-454d-9f0f-d097640f4450",
   "metadata": {},
   "source": [
    "### 0/1 Knapsack Problem"
   ]
  },
  {
   "cell_type": "markdown",
   "id": "f88c11ae-3548-4a41-aed3-358e1cc50e08",
   "metadata": {},
   "source": [
    "Given n items where each item has some weight and profit associated with it and also given a bag with capacity W, [i.e., the bag can hold at most W weight in it]. The task is to put the items into the bag such that the sum of profits associated with them is the maximum possible. \n",
    "\n",
    "Note: The constraint here is we can either put an item completely into the bag or cannot put it at all [It is not possible to put a part of an item into the bag]."
   ]
  },
  {
   "cell_type": "markdown",
   "id": "7702a3f8-df5a-4395-8765-02d962013fdd",
   "metadata": {},
   "source": [
    "✅ 4 Approaches to 0/1 Knapsack:\n",
    "\n",
    "Approach\tTime\tSpace\n",
    "\n",
    "Recursion\tO(2^n)\tO(n)\n",
    "\n",
    "Memoization\tO(n * W)\tO(n * W)\n",
    "\n",
    "Tabulation\tO(n * W)\tO(n * W)\n",
    "\n",
    "Space Optimized\tO(n * W)\tO(W)"
   ]
  },
  {
   "cell_type": "code",
   "execution_count": 177,
   "id": "5654369e-d221-47ab-9243-0727bcb6ddfa",
   "metadata": {},
   "outputs": [],
   "source": [
    "def knapsack_recursive(weights, values, W, n):\n",
    "    if n == 0 or W == 0:\n",
    "        return 0\n",
    "\n",
    "    if weights[n-1] > W:\n",
    "        return knapsack_recursive(weights, values, W, n-1)\n",
    "    \n",
    "    include = values[n-1] + knapsack_recursive(weights, values, W - weights[n-1], n-1)\n",
    "    exclude = knapsack_recursive(weights, values, W, n-1)\n",
    "    \n",
    "    return max(include, exclude)\n"
   ]
  },
  {
   "cell_type": "markdown",
   "id": "7164519d-267d-4954-a7b2-db861bf1fda5",
   "metadata": {},
   "source": [
    "💡 Logic:\n",
    "Same as recursion, but store results of subproblems in a dp[n][W] table to avoid recomputation.\n",
    "\n",
    "💾 Key Idea:\n",
    "Use a 2D array dp[n+1][W+1]\n",
    "\n",
    "dp[i][w] = max value for first i items with capacity w\n",
    "\n",
    "Before making a recursive call, check if result is already stored"
   ]
  },
  {
   "cell_type": "code",
   "execution_count": 179,
   "id": "c97bd83a-5604-4a8a-bce6-57bed1e2f94b",
   "metadata": {},
   "outputs": [],
   "source": [
    "def knapsack_memo(weights, values, W):\n",
    "    n = len(weights)\n",
    "    dp = [[-1 for _ in range(W + 1)] for _ in range(n + 1)]\n",
    "\n",
    "    def solve(i, w):\n",
    "        if i == 0 or w == 0:\n",
    "            return 0\n",
    "        if dp[i][w] != -1:\n",
    "            return dp[i][w]\n",
    "        if weights[i - 1] > w:\n",
    "            dp[i][w] = solve(i - 1, w)\n",
    "        else:\n",
    "            include = values[i - 1] + solve(i - 1, w - weights[i - 1])\n",
    "            exclude = solve(i - 1, w)\n",
    "            dp[i][w] = max(include, exclude)\n",
    "        return dp[i][w]\n",
    "\n",
    "    return solve(n, W)\n"
   ]
  },
  {
   "cell_type": "code",
   "execution_count": 180,
   "id": "a9a42b28-7095-41c8-b9fd-ba5ba613548e",
   "metadata": {},
   "outputs": [],
   "source": [
    "def knapsack_tabulation(weights, values, W):\n",
    "    n = len(weights)\n",
    "    dp = [[0 for _ in range(W + 1)] for _ in range(n + 1)]\n",
    "\n",
    "    for i in range(1, n + 1):\n",
    "        for w in range(W + 1):\n",
    "            if weights[i - 1] <= w:\n",
    "                dp[i][w] = max(\n",
    "                    values[i - 1] + dp[i - 1][w - weights[i - 1]],\n",
    "                    dp[i - 1][w]\n",
    "                )\n",
    "            else:\n",
    "                dp[i][w] = dp[i - 1][w]\n",
    "\n",
    "    return dp[n][W]\n"
   ]
  },
  {
   "cell_type": "code",
   "execution_count": 181,
   "id": "0d795ec4-4ad8-40ce-afed-6319a0e6b7b2",
   "metadata": {},
   "outputs": [],
   "source": [
    "def knapsack_optimized(weights, values, W):\n",
    "    n = len(weights)\n",
    "    dp = [0] * (W + 1)\n",
    "\n",
    "    for i in range(n):\n",
    "        for w in range(W, weights[i] - 1, -1):\n",
    "            dp[w] = max(dp[w], values[i] + dp[w - weights[i]])\n",
    "\n",
    "    return dp[W]\n"
   ]
  },
  {
   "cell_type": "code",
   "execution_count": 182,
   "id": "226c5a14-12ef-4252-a3b1-61518e9ed2e4",
   "metadata": {},
   "outputs": [
    {
     "name": "stdout",
     "output_type": "stream",
     "text": [
      "Max Value (Recursive): 220\n",
      "Max Value (Memo): 220\n",
      "Max Value (Tabulation): 220\n",
      "Max Value (Optimized): 220\n"
     ]
    }
   ],
   "source": [
    "values = [60, 100, 120]\n",
    "weights = [10, 20, 30]\n",
    "W = 50\n",
    "\n",
    "print(\"Max Value (Recursive):\", knapsack_recursive(weights, values, W, len(weights)))\n",
    "print(\"Max Value (Memo):\", knapsack_memo(weights, values, W))\n",
    "print(\"Max Value (Tabulation):\", knapsack_tabulation(weights, values, W))\n",
    "print(\"Max Value (Optimized):\", knapsack_optimized(weights, values, W))\n"
   ]
  },
  {
   "cell_type": "markdown",
   "id": "7355d782-6b76-4391-82f7-a3e29fede5c8",
   "metadata": {},
   "source": [
    "### Unbounded Knapsack (Repetition of items allowed)"
   ]
  },
  {
   "cell_type": "code",
   "execution_count": 183,
   "id": "334201cb-9c90-4773-b467-29995b7bbdb2",
   "metadata": {},
   "outputs": [],
   "source": [
    "def unbounded_knapsack_recursive(weights, values, W, n):\n",
    "    if n == 0 or W == 0:\n",
    "        return 0\n",
    "\n",
    "    if weights[n - 1] > W:\n",
    "        return unbounded_knapsack_recursive(weights, values, W, n - 1)\n",
    "\n",
    "    # Include item and stay at n (since repetition allowed)\n",
    "    include = values[n - 1] + unbounded_knapsack_recursive(weights, values, W - weights[n - 1], n)\n",
    "    exclude = unbounded_knapsack_recursive(weights, values, W, n - 1)\n",
    "\n",
    "    return max(include, exclude)\n"
   ]
  },
  {
   "cell_type": "code",
   "execution_count": 184,
   "id": "92442dc4-4e5d-4b06-9ca1-6f99ad486b2e",
   "metadata": {},
   "outputs": [],
   "source": [
    "def unbounded_knapsack_memo(weights, values, W):\n",
    "    n = len(weights)\n",
    "    dp = [[-1 for _ in range(W + 1)] for _ in range(n + 1)]\n",
    "\n",
    "    def solve(i, w):\n",
    "        if i == 0 or w == 0:\n",
    "            return 0\n",
    "        if dp[i][w] != -1:\n",
    "            return dp[i][w]\n",
    "        if weights[i - 1] > w:\n",
    "            dp[i][w] = solve(i - 1, w)\n",
    "        else:\n",
    "            take = values[i - 1] + solve(i, w - weights[i - 1])  # reuse item\n",
    "            not_take = solve(i - 1, w)\n",
    "            dp[i][w] = max(take, not_take)\n",
    "        return dp[i][w]\n",
    "\n",
    "    return solve(n, W)\n"
   ]
  },
  {
   "cell_type": "code",
   "execution_count": 185,
   "id": "590a0129-a869-418d-9e9f-5862286b05dc",
   "metadata": {},
   "outputs": [],
   "source": [
    "def unbounded_knapsack_tabulation(weights, values, W):\n",
    "    n = len(weights)\n",
    "    dp = [[0 for _ in range(W + 1)] for _ in range(n + 1)]\n",
    "\n",
    "    for i in range(1, n + 1):\n",
    "        for w in range(W + 1):\n",
    "            if weights[i - 1] <= w:\n",
    "                dp[i][w] = max(values[i - 1] + dp[i][w - weights[i - 1]],  # include same item\n",
    "                               dp[i - 1][w])  # exclude item\n",
    "            else:\n",
    "                dp[i][w] = dp[i - 1][w]\n",
    "\n",
    "    return dp[n][W]\n"
   ]
  },
  {
   "cell_type": "code",
   "execution_count": 186,
   "id": "21f5177b-2be9-4d6a-a991-f09a409e734e",
   "metadata": {},
   "outputs": [],
   "source": [
    "def unbounded_knapsack_optimized(weights, values, W):\n",
    "    n = len(weights)\n",
    "    dp = [0] * (W + 1)\n",
    "\n",
    "    for i in range(n):\n",
    "        for w in range(weights[i], W + 1):\n",
    "            dp[w] = max(dp[w], values[i] + dp[w - weights[i]])\n",
    "\n",
    "    return dp[W]\n"
   ]
  },
  {
   "cell_type": "code",
   "execution_count": 187,
   "id": "376283d5-71df-459a-8e56-c405ca73b5fe",
   "metadata": {},
   "outputs": [
    {
     "name": "stdout",
     "output_type": "stream",
     "text": [
      "Max value (Recursive): 300\n",
      "Max value (Memo): 300\n",
      "Max value (Tabulation): 300\n",
      "Max value (Optimized): 300\n"
     ]
    }
   ],
   "source": [
    "values = [10, 30, 20]\n",
    "weights = [5, 10, 15]\n",
    "W = 100\n",
    "\n",
    "print(\"Max value (Recursive):\", unbounded_knapsack_recursive(weights, values, W, len(weights)))\n",
    "print(\"Max value (Memo):\", unbounded_knapsack_memo(weights, values, W))\n",
    "print(\"Max value (Tabulation):\", unbounded_knapsack_tabulation(weights, values, W))\n",
    "print(\"Max value (Optimized):\", unbounded_knapsack_optimized(weights, values, W))\n"
   ]
  },
  {
   "cell_type": "markdown",
   "id": "7553ddab-0f64-4b5b-946f-a82a9a3f1ed5",
   "metadata": {},
   "source": [
    "### Word Break\n",
    "\n",
    "Given a string s and y a dictionary of n words dictionary, check if s can be segmented into a sequence of valid words from the dictionary, separated by spaces."
   ]
  },
  {
   "cell_type": "markdown",
   "id": "7a792715-41bc-4dad-a9cf-3d436b34522e",
   "metadata": {},
   "source": [
    "✅ Approach: Dynamic Programming\n",
    "We use a boolean DP array where:\n",
    "\n",
    "dp[i] is True if the substring s[0:i] can be segmented into valid words.\n",
    "\n",
    "Initialize dp[0] = True (empty string is always valid)."
   ]
  },
  {
   "cell_type": "code",
   "execution_count": 188,
   "id": "27f480d8-6a9d-4da0-b1c8-76ff65054d6e",
   "metadata": {},
   "outputs": [],
   "source": [
    "def wordBreak(s, wordDict):\n",
    "    word_set = set(wordDict)\n",
    "    n = len(s)\n",
    "    dp = [False] * (n + 1)\n",
    "    dp[0] = True  # empty string is valid\n",
    "\n",
    "    for i in range(1, n + 1):\n",
    "        for j in range(i):\n",
    "            # Check if s[j:i] is a valid word and s[0:j] is also segmentable\n",
    "            if dp[j] and s[j:i] in word_set:\n",
    "                dp[i] = True\n",
    "                break  # No need to check further splits for i\n",
    "\n",
    "    return dp[n]\n"
   ]
  },
  {
   "cell_type": "code",
   "execution_count": 189,
   "id": "82e487d1-1a8c-423c-902f-53a892aea9d3",
   "metadata": {},
   "outputs": [
    {
     "name": "stdout",
     "output_type": "stream",
     "text": [
      "True\n"
     ]
    }
   ],
   "source": [
    "s = \"applepenapple\"\n",
    "wordDict = [\"apple\", \"pen\"]\n",
    "print(wordBreak(s, wordDict))  # True\n"
   ]
  },
  {
   "cell_type": "code",
   "execution_count": 190,
   "id": "61b78285-d217-4ab5-bdaa-8d2b66018a13",
   "metadata": {},
   "outputs": [
    {
     "name": "stdout",
     "output_type": "stream",
     "text": [
      "true\n"
     ]
    }
   ],
   "source": [
    "def wordBreakRec(i, s, dictionary):\n",
    "\n",
    "    # If end of string is reached,\n",
    "    # return true.\n",
    "    if i == len(s):\n",
    "        return 1\n",
    "\n",
    "    n = len(s)\n",
    "    prefix = \"\"\n",
    "\n",
    "    # Try every prefix\n",
    "    for j in range(i, n):\n",
    "        prefix += s[j]\n",
    "\n",
    "        # if the prefix s[i..j] is a dictionary word\n",
    "        # and rest of the string can also be broken into\n",
    "        # valid words, return true\n",
    "        if prefix in dictionary and wordBreakRec(j + 1, s, dictionary) == 1:\n",
    "            return 1\n",
    "\n",
    "    return 0\n",
    "\n",
    "\n",
    "def wordBreak(s, dictionary):\n",
    "    return wordBreakRec(0, s, dictionary)\n",
    "\n",
    "\n",
    "if __name__ == \"__main__\":\n",
    "    s = \"ilike\"\n",
    "\n",
    "    dictionary = {\"i\", \"like\", \"gfg\"}\n",
    "\n",
    "    print(\"true\" if wordBreak(s, dictionary) else \"false\")"
   ]
  },
  {
   "cell_type": "code",
   "execution_count": 191,
   "id": "841cbe84-aa8a-4c7c-9c33-a14966eb9205",
   "metadata": {},
   "outputs": [],
   "source": [
    "def wordBreakAll(s, wordDict):\n",
    "    word_set = set(wordDict)\n",
    "    memo = {}\n",
    "\n",
    "    def dfs(start):\n",
    "        if start in memo:\n",
    "            return memo[start]\n",
    "\n",
    "        if start == len(s):\n",
    "            return [\"\"]  # One valid way: empty string at the end\n",
    "\n",
    "        sentences = []\n",
    "        for end in range(start + 1, len(s) + 1):\n",
    "            word = s[start:end]\n",
    "            if word in word_set:\n",
    "                rest_sentences = dfs(end)\n",
    "                for sentence in rest_sentences:\n",
    "                    full = word + (\" \" + sentence if sentence else \"\")\n",
    "                    sentences.append(full)\n",
    "\n",
    "        memo[start] = sentences\n",
    "        return sentences\n",
    "\n",
    "    return dfs(0)\n"
   ]
  },
  {
   "cell_type": "code",
   "execution_count": 192,
   "id": "fc82d60a-f8b9-4e77-9ab4-1cace0ea700a",
   "metadata": {},
   "outputs": [
    {
     "name": "stdout",
     "output_type": "stream",
     "text": [
      "['cat sand dog', 'cats and dog']\n"
     ]
    }
   ],
   "source": [
    "s = \"catsanddog\"\n",
    "wordDict = [\"cat\", \"cats\", \"and\", \"sand\", \"dog\"]\n",
    "print(wordBreakAll(s, wordDict))\n"
   ]
  },
  {
   "cell_type": "markdown",
   "id": "909fe95d-57cb-4a54-98fd-56ceeb5f4278",
   "metadata": {},
   "source": [
    "### Longest Palindromic Subsequence (LPS)"
   ]
  },
  {
   "cell_type": "code",
   "execution_count": 193,
   "id": "9f3c4afd-8547-4a98-bb12-c0d89068e4fd",
   "metadata": {},
   "outputs": [
    {
     "name": "stdout",
     "output_type": "stream",
     "text": [
      "LPS Length (Recursion): 7\n"
     ]
    }
   ],
   "source": [
    "def lps_recursion(s, i, j):\n",
    "    # Base case: If the string has only one character or no characters left\n",
    "    if i > j:\n",
    "        return 0\n",
    "    if i == j:\n",
    "        return 1\n",
    "    \n",
    "    # If characters at the ends are the same, include them in the LPS\n",
    "    if s[i] == s[j]:\n",
    "        return 2 + lps_recursion(s, i + 1, j - 1)\n",
    "    else:\n",
    "        # Otherwise, take the maximum by excluding either character from the ends\n",
    "        return max(lps_recursion(s, i + 1, j), lps_recursion(s, i, j - 1))\n",
    "\n",
    "# Example usage:\n",
    "s = \"bbabcbab\"\n",
    "print(\"LPS Length (Recursion):\", lps_recursion(s, 0, len(s) - 1))\n"
   ]
  },
  {
   "cell_type": "code",
   "execution_count": 194,
   "id": "28b9ae11-c51a-4980-ace1-29bddcd7a3ff",
   "metadata": {},
   "outputs": [
    {
     "name": "stdout",
     "output_type": "stream",
     "text": [
      "LPS Length (Memoization): 7\n"
     ]
    }
   ],
   "source": [
    "def lps_memo(s, i, j, memo):\n",
    "    if i > j:\n",
    "        return 0\n",
    "    if i == j:\n",
    "        return 1\n",
    "    if memo[i][j] != -1:  # Check if result is already computed\n",
    "        return memo[i][j]\n",
    "    \n",
    "    if s[i] == s[j]:\n",
    "        memo[i][j] = 2 + lps_memo(s, i + 1, j - 1, memo)\n",
    "    else:\n",
    "        memo[i][j] = max(lps_memo(s, i + 1, j, memo), lps_memo(s, i, j - 1, memo))\n",
    "    \n",
    "    return memo[i][j]\n",
    "\n",
    "# Example usage:\n",
    "s = \"bbabcbab\"\n",
    "n = len(s)\n",
    "memo = [[-1 for _ in range(n)] for _ in range(n)]\n",
    "print(\"LPS Length (Memoization):\", lps_memo(s, 0, n - 1, memo))\n"
   ]
  },
  {
   "cell_type": "code",
   "execution_count": 195,
   "id": "80f3ed5d-aef0-46c7-9206-fbab982564f5",
   "metadata": {},
   "outputs": [
    {
     "name": "stdout",
     "output_type": "stream",
     "text": [
      "LPS Length (Tabulation): 7\n"
     ]
    }
   ],
   "source": [
    "def lps_tabulation(s):\n",
    "    n = len(s)\n",
    "    dp = [[0] * n for _ in range(n)]\n",
    "    \n",
    "    # Base case: Single character is always a palindrome of length 1\n",
    "    for i in range(n):\n",
    "        dp[i][i] = 1\n",
    "    \n",
    "    # Fill the table\n",
    "    for length in range(2, n + 1):  # length of the substring\n",
    "        for i in range(n - length + 1):\n",
    "            j = i + length - 1\n",
    "            if s[i] == s[j]:\n",
    "                dp[i][j] = 2 + dp[i + 1][j - 1]  # Include both ends\n",
    "            else:\n",
    "                dp[i][j] = max(dp[i + 1][j], dp[i][j - 1])  # Exclude either end\n",
    "    \n",
    "    return dp[0][n - 1]\n",
    "\n",
    "# Example usage:\n",
    "s = \"bbabcbab\"\n",
    "print(\"LPS Length (Tabulation):\", lps_tabulation(s))\n"
   ]
  },
  {
   "cell_type": "code",
   "execution_count": 196,
   "id": "d043edec-ba6a-41c4-801b-df280792d1b3",
   "metadata": {},
   "outputs": [
    {
     "name": "stdout",
     "output_type": "stream",
     "text": [
      "LPS Length (Using LCS): 7\n"
     ]
    }
   ],
   "source": [
    "def lcs(x, y):\n",
    "    m, n = len(x), len(y)\n",
    "    dp = [[0] * (n + 1) for _ in range(2)]  # Optimized space for LCS\n",
    "    \n",
    "    for i in range(1, m + 1):\n",
    "        for j in range(1, n + 1):\n",
    "            if x[i - 1] == y[j - 1]:\n",
    "                dp[i % 2][j] = 1 + dp[(i - 1) % 2][j - 1]\n",
    "            else:\n",
    "                dp[i % 2][j] = max(dp[(i - 1) % 2][j], dp[i % 2][j - 1])\n",
    "    \n",
    "    return dp[m % 2][n]\n",
    "\n",
    "def lps_using_lcs(s):\n",
    "    return lcs(s, s[::-1])\n",
    "\n",
    "# Example usage:\n",
    "s = \"bbabcbab\"\n",
    "print(\"LPS Length (Using LCS):\", lps_using_lcs(s))\n"
   ]
  },
  {
   "cell_type": "markdown",
   "id": "d823eece-6d64-4747-87c3-a5c7dfed8661",
   "metadata": {},
   "source": [
    "### Minimum insertions to form a palindrome\n",
    "Given a string s, the task is to find the minimum number of characters to be inserted to convert it to a palindrome.\n",
    "\n",
    "Examples:\n",
    "\n",
    "Input: s = \"geeks\"\n",
    "Output: 3\n",
    "Explanation: \"skgeegks\" is a palindromic string, which requires 3 insertions.\n",
    "\n",
    "Input: s= \"abcd\"\n",
    "Output: 3\n",
    "Explanation: \"abcdcba\" is a palindromic string.\n",
    "\n",
    "Input: s= \"aba\"\n",
    "Output: 0\n",
    "Explanation: Given string is already a palindrome hence no insertions are required."
   ]
  },
  {
   "cell_type": "code",
   "execution_count": 197,
   "id": "f59e9f48-781c-43d8-a781-dd046a94fbdb",
   "metadata": {},
   "outputs": [
    {
     "name": "stdout",
     "output_type": "stream",
     "text": [
      "3\n"
     ]
    }
   ],
   "source": [
    "# Recursive function to find  \n",
    "# minimum number of insertions\n",
    "def minRecur(s, l, h):\n",
    "  \n",
    "    # Base case\n",
    "    if l >= h:\n",
    "        return 0\n",
    "  \n",
    "    # if first and last char are same \n",
    "    # then no need to insert element\n",
    "    if s[l] == s[h]:\n",
    "        return minRecur(s, l + 1, h - 1)\n",
    "  \n",
    "    # Insert at begining or insert at end\n",
    "    return min(minRecur(s, l + 1, h), \n",
    "               minRecur(s, l, h - 1)) + 1\n",
    "\n",
    "def findMinInsertions(s):\n",
    "    return minRecur(s, 0, len(s) - 1)\n",
    "\n",
    "if __name__ == \"__main__\":\n",
    "    s = \"geeks\"\n",
    "    print(findMinInsertions(s))"
   ]
  },
  {
   "cell_type": "code",
   "execution_count": 198,
   "id": "b0bf87d9-8b76-4c20-8092-f06b678110c9",
   "metadata": {},
   "outputs": [
    {
     "name": "stdout",
     "output_type": "stream",
     "text": [
      "3\n"
     ]
    }
   ],
   "source": [
    "# Recursive function to find  \n",
    "# minimum number of insertions\n",
    "def minRecur(s, l, h, memo):\n",
    "  \n",
    "    # Base case\n",
    "    if l >= h:\n",
    "        return 0\n",
    "\n",
    "    # If value is memoized \n",
    "    if memo[l][h] != -1:\n",
    "        return memo[l][h]\n",
    "  \n",
    "    # if first and last char are same \n",
    "    # then no need to insert element\n",
    "    if s[l] == s[h]:\n",
    "        memo[l][h] = minRecur(s, l + 1, h - 1, memo)\n",
    "        return memo[l][h]\n",
    "  \n",
    "    # Insert at begining or insert at end\n",
    "    memo[l][h] = min(minRecur(s, l + 1, h, memo), \n",
    "                     minRecur(s, l, h - 1, memo)) + 1\n",
    "    return memo[l][h]\n",
    "\n",
    "def findMinInsertions(s):\n",
    "    n = len(s)\n",
    "    memo = [[-1] * n for _ in range(n)]\n",
    "    return minRecur(s, 0, n - 1, memo)\n",
    "\n",
    "if __name__ == \"__main__\":\n",
    "    s = \"geeks\"\n",
    "    print(findMinInsertions(s))"
   ]
  },
  {
   "cell_type": "markdown",
   "id": "f5aed558-ea9e-4884-82a0-5f3db596b0b0",
   "metadata": {},
   "source": [
    "#### Using Bottom-Up DP (Tabulation)\n",
    "The iterative approach for finding the minimum number of insertions needed to make a string palindrome follows a similar concept to the recursive solution but builds the solution in a bottom-up manner using a 2D dynamic programming table.\n",
    "\n",
    "Base Case:\n",
    "\n",
    "if l == h than dp[l][h] = 0. Where 0 <= l <= n - 1\n",
    "If the substring has two characters (h == l + 1), we check if they are the same. If they are, dp[l][h] = 0, otherwise, dp[l][h] = 1.\n",
    "Recursive Case:\n",
    "\n",
    "If str[l] == str[h], then dp[l][h] = dp[l+1][h-1].\n",
    "Otherwise, dp[l][h] = min(dp[l+1][h], dp[l][h-1]) + 1. "
   ]
  },
  {
   "cell_type": "code",
   "execution_count": 199,
   "id": "2d571d89-d03e-40b1-8928-e59ec0e0a8cf",
   "metadata": {},
   "outputs": [],
   "source": [
    "def findMinInsertions(s):\n",
    "    n = len(s)\n",
    "    \n",
    "    # dp[i][j] will store the minimum number of insertions needed\n",
    "    # to convert str[i..j] into a palindrome\n",
    "    dp = [[0] * n for _ in range(n)]\n",
    "\n",
    "    # len is the length of the substring\n",
    "    for length in range(2, n + 1):\n",
    "        for l in range(n - length + 1):\n",
    "            \n",
    "            # ending index of the current substring\n",
    "            h = l + length - 1\n",
    "\n",
    "            # If the characters at both ends are \n",
    "            # equal, no new insertions needed\n",
    "            if s[l] == s[h]:\n",
    "                dp[l][h] = dp[l + 1][h - 1]\n",
    "            else:\n",
    "                \n",
    "                # Insert at the beginning or at the end\n",
    "                dp[l][h] = min(dp[l + 1][h], dp[l][h - 1]) + 1\n",
    "\n",
    "    # The result is in dp[0][n-1] which \n",
    "    # represents the entire string\n",
    "    return dp[0][n - 1]\n"
   ]
  },
  {
   "cell_type": "code",
   "execution_count": 200,
   "id": "9b9b2a70-792a-495c-8ad6-76f8ba363c8d",
   "metadata": {},
   "outputs": [
    {
     "name": "stdout",
     "output_type": "stream",
     "text": [
      "3\n"
     ]
    }
   ],
   "source": [
    "if __name__ == \"__main__\":\n",
    "    s = \"geeks\"\n",
    "    print(findMinInsertions(s))"
   ]
  },
  {
   "cell_type": "code",
   "execution_count": 201,
   "id": "0635d9bc-7d22-4b0e-8187-597e9479870b",
   "metadata": {},
   "outputs": [
    {
     "name": "stdout",
     "output_type": "stream",
     "text": [
      "3\n"
     ]
    }
   ],
   "source": [
    "def findMinInsertions(s):\n",
    "    n = len(s)\n",
    "    dp = [0] * n\n",
    "\n",
    "    # Iterate over each character from right to left\n",
    "    for l in range(n - 2, -1, -1):\n",
    "        \n",
    "        # This represents dp[l+1][h-1] from the previous row\n",
    "        prev = 0 \n",
    "        for h in range(l + 1, n):\n",
    "            \n",
    "            # Save current dp[h] before overwriting\n",
    "            temp = dp[h] \n",
    "            \n",
    "            if s[l] == s[h]:\n",
    "                \n",
    "                # No new insertion needed if characters match\n",
    "                dp[h] = prev \n",
    "            else:\n",
    "                \n",
    "                # Take min of two cases + 1\n",
    "                dp[h] = min(dp[h], dp[h - 1]) + 1 \n",
    "            \n",
    "            # Update prev for the next column\n",
    "            prev = temp \n",
    "\n",
    "    return dp[n - 1]\n",
    "\n",
    "if __name__ == \"__main__\":\n",
    "    s = \"geeks\"\n",
    "    print(findMinInsertions(s))"
   ]
  },
  {
   "cell_type": "markdown",
   "id": "bcdb2189-6268-4945-878a-9db05c8e7aeb",
   "metadata": {},
   "source": [
    "### Regular Expression Pattern Matching"
   ]
  },
  {
   "cell_type": "code",
   "execution_count": 202,
   "id": "cfb1a49c-1700-47dc-954e-1370e2a98c12",
   "metadata": {},
   "outputs": [
    {
     "name": "stdout",
     "output_type": "stream",
     "text": [
      "True\n",
      "False\n",
      "True\n",
      "True\n",
      "False\n"
     ]
    }
   ],
   "source": [
    "def is_match_rec(t, p, n, m):\n",
    "  \n",
    "    # If pattern is empty, then text must also be empty\n",
    "    if m == 0:\n",
    "        return n == 0\n",
    "\n",
    "    # If text is empty, then pattern can have characters followed by *s\n",
    "    if n == 0:\n",
    "        return (m >= 2 and p[m - 1] == '*') and is_match_rec(t, p, n, m - 2)\n",
    "\n",
    "    # If last characters of both string and pattern match, or pattern has '.'\n",
    "    if t[n - 1] == p[m - 1] or p[m - 1] == '.':\n",
    "        return is_match_rec(t, p, n - 1, m - 1)\n",
    "\n",
    "    # Handle '*' in the pattern\n",
    "    if p[m - 1] == '*' and m > 1:\n",
    "        # Check if '*' can represent zero occurrences of the preceding character\n",
    "        zero = is_match_rec(t, p, n, m - 2)\n",
    "\n",
    "        # Check if '*' can represent one or more occurrences of the preceding character\n",
    "        one_or_more = (p[m - 2] == t[n - 1] or p[m - 2] == '.') and is_match_rec(t, p, n - 1, m)\n",
    "\n",
    "        return zero or one_or_more\n",
    "\n",
    "    # If no match\n",
    "    return False\n",
    "\n",
    "# Wrapper function\n",
    "def is_match(t, p):\n",
    "    return is_match_rec(t, p, len(t), len(p))\n",
    "\n",
    "# Example usage\n",
    "print(is_match('aab', 'a.*'))\n",
    "print(is_match('aa', 'a'))\n",
    "print(is_match('aa', 'a*'))\n",
    "print(is_match('ab', '.*'))\n",
    "print(is_match('mississippi', 'mis*is*p*.'))"
   ]
  },
  {
   "cell_type": "markdown",
   "id": "b9f8bc13-ba4e-486e-a275-8f696e159900",
   "metadata": {},
   "source": [
    "#### Dynamic Programming Solution\n",
    "The above recursive solution has exponential time complexity in the worst case. Please note that we make two recursive calls in the last if condition. We can clearly notice overlapping subproblems here as we make calls for (n-1, m-1), (n, m-2) and/or (n-1, m). So we can use Dynamic Programming to solve this problem.\n",
    "\n",
    "Create a boolean 2D dp array of size (n + 1) * (m + 1). Please note that the range of values in the recursion goes from 0 to text length (or n) and 0 to pattern length (or m)\n",
    "dp[i][j] is going to be true if first i characters of text match with first j characters of pattern.\n",
    "If both strings are empty, then it’s a match, thus, dp[0][0] = true.\n",
    "For other cases, we simply follow the above recursive solution."
   ]
  },
  {
   "cell_type": "code",
   "execution_count": 203,
   "id": "c1d44820-2751-4067-9f12-c7a8e98c4691",
   "metadata": {},
   "outputs": [
    {
     "name": "stdout",
     "output_type": "stream",
     "text": [
      "True\n",
      "False\n",
      "True\n",
      "True\n",
      "False\n"
     ]
    }
   ],
   "source": [
    "def isMatch(t: str, p: str) -> bool:\n",
    "    n = len(t)\n",
    "    m = len(p)\n",
    "\n",
    "    # DP table where dp[i][j] means whether first i characters in t\n",
    "    # match the first j characters in p\n",
    "    dp = [[False] * (m + 1) for _ in range(n + 1)]\n",
    "\n",
    "    # Empty pattern matches empty text\n",
    "    dp[0][0] = True\n",
    "\n",
    "    # Deals with patterns like a*, a*b*, a*b*c* etc, where '*' \n",
    "    # can eliminate the preceding character\n",
    "    for j in range(1, m + 1):\n",
    "        if p[j - 1] == '*' and j > 1:\n",
    "            dp[0][j] = dp[0][j - 2]\n",
    "\n",
    "    # Fill the table\n",
    "    for i in range(1, n + 1):\n",
    "        for j in range(1, m + 1):\n",
    "            \n",
    "            # Characters match\n",
    "            if p[j - 1] == '.' or t[i - 1] == p[j - 1]:\n",
    "                dp[i][j] = dp[i - 1][j - 1]\n",
    "                \n",
    "            # Handle '*' in the pattern\n",
    "            elif p[j - 1] == '*' and j > 1:\n",
    "              \n",
    "                # Two cases:\n",
    "                # 1. '*' represents zero occurrence of the preceding character\n",
    "                # 2. '*' represents one or more occurrence of the preceding character\n",
    "                dp[i][j] = dp[i][j - 2] or (dp[i - 1][j] and (p[j - 2] == t[i - 1] or p[j - 2] == '.'))\n",
    "\n",
    "    return dp[n][m]\n",
    "\n",
    "\n",
    "if __name__ == \"__main__\":\n",
    "    print(isMatch(\"aab\", \"a.*\"))\n",
    "    print(isMatch(\"aa\", \"a\"))\n",
    "    print(isMatch(\"aa\", \"a*\"))\n",
    "    print(isMatch(\"ab\", \".*\"))\n",
    "    print(isMatch(\"mississippi\", \"mis*is*p*.\"))"
   ]
  },
  {
   "cell_type": "markdown",
   "id": "f5f3e0dd-7757-4ac8-a6f0-550746fef7e1",
   "metadata": {},
   "source": [
    "![reg image](../images/reg-exp-dp.png)"
   ]
  },
  {
   "cell_type": "markdown",
   "id": "9e656e6f-9927-4f92-9edd-c254cf90146f",
   "metadata": {},
   "source": [
    "First column — it means p is empty and it will match to s only if s is also empty which we have stored in dp[0][0]. Thus, remaining values of dp[0][i] will be false.\n",
    "\n",
    "- First row — this is not so easy. It means which p matches empty t. The answer is either an empty pattern or a pattern that represents an empty string such as \"a*\", \"x*y*\", \"l*m*n*\" and so on. In the above example, if t = \"\" and p = \"c*\", then due to *, c can be replaced by 0 cs which gives us an empty string. Hence, dp[0][2] = true.\n",
    "\n",
    "- For non-empty strings, let’s say that t[i - 1] == p[j - 1] this means the (i - 1)th and (j - 1)th characters are same. This means, we have to check if the remaining strings are a match or not. If they are a match, then the current substrings will be a match, otherwise they won’t be a match i.e., dp[i][j] = dp[i - 1][j - 1]. We’re taking (i - 1)th and (j - 1)th characters to offset empty strings as we’re assuming our strings start from index 1.\n",
    "\n",
    "- If p[j - 1] == \".\", then it means any single character can be matched. Therefore, here also, we will have to check if the remaining string is a match or not. Thus, dp[i][j] = dp[i - 1][j - 1].\n",
    "\n",
    "- If p[j - 1] == \"*\", then it means either it’s represents an empty string (0 characters), thus dp[i][j] = dp[i][j - 2] or t[i - 1] == p[j - 2] || p[j - 2] == \".\", then current character of string equals the char preceding '*' in pattern so the result is dp[i-1][j]."
   ]
  },
  {
   "cell_type": "markdown",
   "id": "3945b941-46fd-4921-9a49-059338efc56b",
   "metadata": {},
   "source": [
    "### Longest subsequence such that difference between adjacents is one\n",
    "\n",
    "Given an array arr[] of size n, the task is to find the longest subsequence such that the absolute difference between adjacent elements is 1.\n",
    "\n",
    "Examples: \n",
    "\n",
    "Input: arr[] = [10, 9, 4, 5, 4, 8, 6]\n",
    "Output: 3\n",
    "Explanation: The three possible subsequences of length 3 are [10, 9, 8], [4, 5, 4], and [4, 5, 6], where adjacent elements have a absolute difference of 1. No valid subsequence of greater length could be formed.\n",
    "\n",
    "Input: arr[] = [1, 2, 3, 4, 5]\n",
    "Output: 5\n",
    "Explanation: All the elements can be included in the valid subsequence."
   ]
  },
  {
   "cell_type": "code",
   "execution_count": 205,
   "id": "69a7b618-b981-4d5d-800c-51780331f0bf",
   "metadata": {},
   "outputs": [
    {
     "name": "stdout",
     "output_type": "stream",
     "text": [
      "3\n"
     ]
    }
   ],
   "source": [
    "# Python program to find the longest subsequence such that\n",
    "# the difference between adjacent elements is one using\n",
    "# recursion.\n",
    "\n",
    "def subseq_helper(idx, prev, arr):\n",
    "  \n",
    "    # Base case: if index reaches the end of the array\n",
    "    if idx == len(arr):\n",
    "        return 0\n",
    "\n",
    "    # Skip the current element and move to the next index\n",
    "    no_take = subseq_helper(idx + 1, prev, arr)\n",
    "\n",
    "    # Take the current element if the condition is met\n",
    "    take = 0\n",
    "    if prev == -1 or abs(arr[idx] - arr[prev]) == 1:\n",
    "        take = 1 + subseq_helper(idx + 1, idx, arr)\n",
    "\n",
    "    # Return the maximum of the two options\n",
    "    return max(take, no_take)\n",
    "\n",
    "def longest_subseq(arr):\n",
    "  \n",
    "    # Start recursion from index 0 \n",
    "    # with no previous element\n",
    "    return subseq_helper(0, -1, arr)\n",
    "\n",
    "if __name__ == \"__main__\":\n",
    "  \n",
    "    arr = [10, 9, 4, 5, 4, 8, 6]\n",
    "\n",
    "    print(longest_subseq(arr))"
   ]
  },
  {
   "cell_type": "markdown",
   "id": "e12a13ce-13e1-488d-b2d5-e3a208cc2668",
   "metadata": {},
   "source": [
    "#### Using Top-Down DP (Memoization) - O(n^2) Time and O(n^2) Space\n",
    "\n",
    "1. Optimal Substructure: The solution to finding the longest subsequence such that the difference between adjacent elements is one can be derived from the optimal solutions of smaller subproblems. Specifically, for any given idx (current index) and prev (previous index in the subsequence), we can express the recursive relation as follows:\n",
    "\n",
    "subseqHelper(idx, prev) = max(subseqHelper(idx + 1, prev), 1 + subseqHelper(idx + 1, idx))\n",
    "\n",
    "2. Overlapping Subproblems: When implementing a recursive approach to solve the problem, we observe that many subproblems are computed multiple times. For example, when computing subseqHelper(0, -1) for an array arr = [10, 9, 4, 5], the subproblem subseqHelper(2, -1) may be computed multiple times. To avoid this repetition, we use memoization to store the results of previously computed subproblems.\n",
    "\n",
    "The recursive solution involves two parameters:\n",
    "\n",
    "- idx (the current index in the array).\n",
    "\n",
    "- prev (the index of the last included element in the subsequence).\n",
    "\n",
    "We need to track both parameters, so we create a 2D array memo of size (n) x (n+1). We initialize the 2D array memo with -1 to indicate that no subproblems have been computed yet. Before computing a result, we check if the value at memo[idx][prev+1] is -1. If it is, we compute and store the result. Otherwise, we return the stored result."
   ]
  },
  {
   "cell_type": "code",
   "execution_count": 206,
   "id": "12a8ba56-39a3-48e0-9982-5e42b429df5c",
   "metadata": {},
   "outputs": [
    {
     "name": "stdout",
     "output_type": "stream",
     "text": [
      "3\n"
     ]
    }
   ],
   "source": [
    "# Python program to find the longest subsequence such that\n",
    "# the difference between adjacent elements is one using\n",
    "# recursion with memoization.\n",
    "\n",
    "def subseq_helper(idx, prev, arr, memo):\n",
    "  \n",
    "    # Base case: if index reaches the end of the array\n",
    "    if idx == len(arr):\n",
    "        return 0\n",
    "\n",
    "    # Check if the result is already computed\n",
    "    if memo[idx][prev + 1] != -1:\n",
    "        return memo[idx][prev + 1]\n",
    "\n",
    "    # Skip the current element and move to the next index\n",
    "    no_take = subseq_helper(idx + 1, prev, arr, memo)\n",
    "\n",
    "    # Take the current element if the condition is met\n",
    "    take = 0\n",
    "    if prev == -1 or abs(arr[idx] - arr[prev]) == 1:\n",
    "        take = 1 + subseq_helper(idx + 1, idx, arr, memo)\n",
    "\n",
    "    # Store the result in the memo table\n",
    "    memo[idx][prev + 1] = max(take, no_take)\n",
    "\n",
    "    # Return the stored result\n",
    "    return memo[idx][prev + 1]\n",
    "\n",
    "def longest_subseq(arr):\n",
    "    n = len(arr)\n",
    "    \n",
    "    # Create a memoization table initialized to -1\n",
    "    memo = [[-1 for _ in range(n + 1)] for _ in range(n)]\n",
    "    \n",
    "    # Start recursion from index 0 with \n",
    "    # no previous element\n",
    "    return subseq_helper(0, -1, arr, memo)\n",
    "\n",
    "if __name__ == \"__main__\":\n",
    "    \n",
    "    arr = [10, 9, 4, 5, 4, 8, 6]\n",
    "\n",
    "    print(longest_subseq(arr))"
   ]
  },
  {
   "cell_type": "markdown",
   "id": "cdea92dd-6141-4f4f-b9b0-3496bff756c3",
   "metadata": {},
   "source": [
    "### Using Bottom-Up DP (Tabulation) - O(n) Time and O(n) Space\n",
    "\n",
    "The approach is similar to the recursive method, but instead of breaking down the problem recursively, we iteratively build the solution in a bottom-up manner.\n",
    "Instead of using recursion, we utilize a hashmap based dynamic programming table (dp) to store the lengths of the longest subsequences. This helps us efficiently calculate and update the subsequence lengths for all possible values of array elements.\n",
    "\n",
    "Dynamic Programming Relation:\n",
    "\n",
    "dp[x] represents the length of the longest subsequence ending with the element x.\n",
    "\n",
    "For every element arr[i] in the array: If arr[i] + 1 or arr[i] - 1 exists in dp:\n",
    "\n",
    "dp[arr[i]] = 1 + max(dp[arr[i] + 1], dp[arr[i] - 1]);\n",
    "\n",
    "This means we can extend the subsequences ending with arr[i] + 1 or arr[i] - 1 by including arr[i]. \n",
    "\n",
    "Otherwise, start a new subsequence: \n",
    "\n",
    "dp[arr[i]] = 1;\n",
    "\n",
    "\n",
    "\n"
   ]
  },
  {
   "cell_type": "code",
   "execution_count": 207,
   "id": "24bea0fa-4837-4277-b3cf-11dd26cf37f6",
   "metadata": {},
   "outputs": [
    {
     "name": "stdout",
     "output_type": "stream",
     "text": [
      "3\n"
     ]
    }
   ],
   "source": [
    "def longestSubseq(arr):\n",
    "\n",
    "    n = len(arr)\n",
    "\n",
    "    # Base case: if the array has only one element\n",
    "    if n == 1:\n",
    "        return 1\n",
    "\n",
    "    # Dictionary to store the length of the \n",
    "    # longest subsequence\n",
    "    dp = {}\n",
    "    ans = 1\n",
    "\n",
    "    for i in range(n):\n",
    "\n",
    "        # Check if the current element is adjacent to \n",
    "        # another subsequence\n",
    "        if arr[i] + 1 in dp or arr[i] - 1 in dp:\n",
    "            dp[arr[i]] = 1 + max(dp.get(arr[i] + 1, 0), \\\n",
    "                                 dp.get(arr[i] - 1, 0))\n",
    "        else:\n",
    "            dp[arr[i]] = 1\n",
    "\n",
    "        # Update the result with the maximum\n",
    "        # subsequence length\n",
    "        ans = max(ans, dp[arr[i]])\n",
    "\n",
    "    return ans\n",
    "\n",
    "if __name__ == \"__main__\":\n",
    "\n",
    "    arr = [10, 9, 4, 5, 4, 8, 6]\n",
    "\n",
    "    print(longestSubseq(arr))"
   ]
  },
  {
   "cell_type": "markdown",
   "id": "a733dbb9-316e-4826-acec-a5829e806769",
   "metadata": {},
   "source": [
    "### Maximum Tip Calculator\n",
    "\n",
    "Rahul and Ankit are the only two waiters in the Royal Restaurant. Today, the restaurant received N orders. The amount of tips may differ when handled by different waiters and given as arrays A[] and B[] such that if Rahul takes the ith Order, he would be tipped A[i] rupees, and if Ankit takes this order, the tip would be B[i] rupees.\n",
    "\n",
    "In order to maximize the total tip value, they decided to distribute the order among themselves. One order will be handled by one person only. Also, due to time constraints, Rahul cannot take more than X orders and Ankit cannot take more than Y orders. It is guaranteed that X + Y is greater than or equal to N, which means that all the orders can be handled by either Rahul or Ankit. The task is to find out the maximum possible amount of total tip money after processing all the orders.\n",
    "\n",
    "Examples:\n",
    "\n",
    "\n",
    "\n",
    "Input: N = 5, X = 3, Y = 3, A[] = {1, 2, 3, 4, 5}, B[] = {5, 4, 3, 2, 1}\n",
    "Output: 21\n",
    "Explanation:\n",
    "Step 1: 5 is included from Ankit's array\n",
    "Step 2: 4 is included from Ankit's array\n",
    "Step 3: As both of them has same value 3 then choose any one of them\n",
    "Step 4: 4 is included from Rahul's array\n",
    "Step 4: 5 is included from Rahul's array\n",
    "Therefore, the maximum possible amount of total tip money sums up to 21.\n",
    "\n",
    "Input: N = 7, X = 3, Y = 4, A[] = {8, 7, 15, 19, 16, 16, 18}, B[] = {1, 7, 15, 11, 12, 31, 9}\n",
    "Output: 110\n",
    "\n"
   ]
  },
  {
   "cell_type": "code",
   "execution_count": 208,
   "id": "00f8b305-bd0a-467a-9d1a-82e385cdcd65",
   "metadata": {},
   "outputs": [
    {
     "name": "stdout",
     "output_type": "stream",
     "text": [
      "21\n"
     ]
    }
   ],
   "source": [
    "# Python program for the above approach\n",
    "\n",
    "# Function that finds the maximum tips\n",
    "# from the given arrays as per the\n",
    "# given conditions\n",
    "def maximumTip(arr1, arr2, n, x, y):\n",
    "\n",
    "    # Base Condition\n",
    "    if n == 0:\n",
    "        return 0\n",
    "\n",
    "    # If both have non-zero count then\n",
    "    # return max element from both array\n",
    "    if x != 0 and y != 0:\n",
    "        return max(\n",
    "            arr1[n-1] + maximumTip(arr1, arr2, n - 1, x-1, y),\n",
    "            arr2[n-1] + maximumTip(arr1, arr2, n-1, x, y-1)\n",
    "            )\n",
    "\n",
    "    # Traverse first array, as y\n",
    "    # count has become 0\n",
    "    if y == 0:\n",
    "        return arr1[n-1] + maximumTip(arr1, arr2, n-1, x-1, y)\n",
    "\n",
    "    # Traverse 2nd array, as x\n",
    "    # count has become 0\n",
    "    else:\n",
    "        return arr2[n - 1] + maximumTip(arr1, arr2, n-1, x, y-1)\n",
    "\n",
    "\n",
    "# Drive Code\n",
    "N = 5\n",
    "X = 3\n",
    "Y = 3\n",
    "A = [1, 2, 3, 4, 5]\n",
    "B = [5, 4, 3, 2, 1]\n",
    "\n",
    "# Function Call\n",
    "print(maximumTip(A, B, N, X, Y))"
   ]
  },
  {
   "cell_type": "code",
   "execution_count": 209,
   "id": "336533e6-4669-4728-a0da-b9c640d0902b",
   "metadata": {},
   "outputs": [
    {
     "name": "stdout",
     "output_type": "stream",
     "text": [
      "21\n"
     ]
    }
   ],
   "source": [
    "# Python program for the above approach\n",
    "\n",
    "def maximumTip(arr1, arr2, n, x, y, dd):\n",
    "\n",
    "    # Create key of N, X, Y\n",
    "    key = str(n) + '_' + str(x) + '_' + str(y)\n",
    "\n",
    "    # Return if the current state is\n",
    "    # already calculated\n",
    "    if key in dd:\n",
    "        return dd[key]\n",
    "\n",
    "    # Base Condition\n",
    "    if n == 0:\n",
    "        return 0\n",
    "\n",
    "    # Store and return\n",
    "    if x != 0 and y != 0:\n",
    "        dd[key] = max(\n",
    "            arr1[n-1] + maximumTip(arr1, arr2, n-1, x-1, y, dd),\n",
    "            arr2[n-1] + maximumTip(arr1, arr2, n-1, x, y-1, dd)\n",
    "        )\n",
    "\n",
    "        # Return the current state result\n",
    "        return dd[key]\n",
    "\n",
    "    # If y is zero, only x value\n",
    "    # can be used\n",
    "    if y == 0:\n",
    "        dd[key] = arr1[n-1] + maximumTip(arr1, arr2, n-1, x-1, y, dd)\n",
    "\n",
    "        # Return the current state result\n",
    "        return dd[key]\n",
    "\n",
    "    # If x is zero, only y value\n",
    "    # can be used\n",
    "    else:\n",
    "\n",
    "        dd[key] = arr2[n-1] + maximumTip(arr1, arr2, n-1, x, y-1, dd)\n",
    "\n",
    "        # Return the current state result\n",
    "        return dd[key]\n",
    "\n",
    "\n",
    "# Drive Code\n",
    "N = 5\n",
    "X = 3\n",
    "Y = 3\n",
    "A = [1, 2, 3, 4, 5]\n",
    "B = [5, 4, 3, 2, 1]\n",
    "\n",
    "# Stores the results of the\n",
    "# overlapping state\n",
    "dd = {}\n",
    "\n",
    "# Function Call\n",
    "print(maximumTip(A, B, N, X, Y, dd))"
   ]
  },
  {
   "cell_type": "markdown",
   "id": "2d5d498e-3707-4c4f-839e-4c7ef03f9473",
   "metadata": {},
   "source": [
    "### Egg Dropping Puzzle | DP-11\n",
    "\n",
    "You are given n identical eggs and you have access to a k-floored building from 1 to k.\n",
    "\n",
    "There exists a floor f where 0 <= f <= k such that any egg dropped from a floor higher than f will break, and any egg dropped from or below floor f will not break. There are a few rules given below:\n",
    "\n",
    "An egg that survives a fall can be used again.\n",
    "A broken egg must be discarded.\n",
    "The effect of a fall is the same for all eggs.\n",
    "If the egg doesn't break at a certain floor, it will not break at any floor below.\n",
    "If the egg breaks on a certain floor, it will break on any floor above.\n",
    "Your task is to find the minimum number of moves you need to determine the value of f with certainty."
   ]
  },
  {
   "cell_type": "markdown",
   "id": "568ee2b3-cb68-4aa5-a9b0-cfc8fa201595",
   "metadata": {},
   "source": [
    "[Naive Approach] Using Recursion - O(n ^ k) Time and O(1) Space\n",
    "The idea is to try dropping an egg from every floor (from 1 to K) and recursively calculate the minimum number of droppings needed in the worst case. To do so, run a loop from x equal to 1 to K, where i denotes the current floor. When we drop an egg from floor i, there are two possibilities:\n",
    "\n",
    "If the egg breaks: Then we need to check for floors lower than i with 1 less egg, i.e. the value of both egg and floor will be reduced by 1.\n",
    "\n",
    "If the egg doesn't break: Then we need to check for floors higher than i with same number of eggs, i.e. the number of floors to check will be k - i, and the count of eggs will remain same.\n",
    "\n",
    "The maximum of  these two move + 1(current move) will be considered, and the minimum of this is our answer.\n",
    "\n",
    "For each recursive call, follow the below given steps:\n",
    "\n",
    "If k == 1 or k == 0 then return k, i.e. is we need to check only 1 or no floors.\n",
    "\n",
    "If n == 1 return k, i.e. we need to check all floors starting from the first one.\n",
    "\n",
    "Create an integer res equal to the integer Maximum.\n",
    "\n",
    "Run a for loop from i equal to 1 till i is less than or equal to k.\n",
    "\n",
    "Set curr equal to maximum of eggDrop(n-1, i-1) or eggDrop(n, k-i).\n",
    "\n",
    "If curr is less than res then set res equal to curr.\n",
    "\n",
    "Return res"
   ]
  },
  {
   "cell_type": "code",
   "execution_count": 210,
   "id": "bf07eecc-713d-4862-a2c4-1414ac876077",
   "metadata": {},
   "outputs": [
    {
     "name": "stdout",
     "output_type": "stream",
     "text": [
      "4\n"
     ]
    }
   ],
   "source": [
    "# Function to find minimum number of attempts \n",
    "# needed in order to find the critical floor\n",
    "def eggDrop(n, k):\n",
    "    \n",
    "    # if there is less than or equal to one floor\n",
    "    if k == 1 or k == 0:\n",
    "        return k\n",
    "    \n",
    "    # if there is only one egg\n",
    "    if n == 1:\n",
    "        return k\n",
    "    \n",
    "    # to store the minimum number of attempts\n",
    "    res = float('inf')\n",
    "    \n",
    "    # Consider all droppings from\n",
    "    # 1st floor to kth floor\n",
    "    for i in range(1, k + 1):\n",
    "        cur = 1 + max(eggDrop(n - 1, i - 1), eggDrop(n, k - i))\n",
    "        if cur < res:\n",
    "            res = cur\n",
    "    \n",
    "    return res\n",
    "\n",
    "if __name__ == \"__main__\":\n",
    "    n = 2\n",
    "    k = 10\n",
    "    print(eggDrop(n, k))\n",
    "    "
   ]
  },
  {
   "cell_type": "markdown",
   "id": "d597e127-f0d1-4267-80a0-a0d12b5f9ac7",
   "metadata": {},
   "source": [
    "Analyzing the Overlapping Subproblems in Egg Dropping Puzzle\n",
    "In the recursive solution, many subproblems are computed more than once. Consider calculating the number of attempts for 2 eggs and 10 floors.\n",
    "When dropping an egg from a certain floor i, the problem divides into two subproblems: \n",
    "\n",
    "one for the floors below (eggDrop(1, i-1))\n",
    "one for the floors above (eggDrop(2, 10-i)).\n",
    "Different choices of i can lead to the same subproblem being solved multiple times (for example, eggDrop(2, 3) might be computed in several different branches)."
   ]
  },
  {
   "cell_type": "markdown",
   "id": "5c851459-8513-416c-8dcb-043db5f0f02a",
   "metadata": {},
   "source": [
    "#### Using Memoization - O(n * k^2) Time and O(n * k) Space\n",
    "\n",
    "The above approach can be optimized using memoization, as we are computing the same sub-problem multiple times. \n",
    "\n",
    "The idea is to create a 2d array memo[][] of order n * k, to store the results of the sub-problem, where memo[i][j] stores the result of i eggs and j floors.  \n",
    "For each recursive call, check if the value is already computed, if so, return the stored value, else proceed similar to the above approach, and at last store the results in memo[][] and return the value."
   ]
  },
  {
   "cell_type": "code",
   "execution_count": 211,
   "id": "9575167f-9ea0-443e-813c-a0f8601030e9",
   "metadata": {},
   "outputs": [
    {
     "name": "stdout",
     "output_type": "stream",
     "text": [
      "4\n"
     ]
    }
   ],
   "source": [
    "# Function to find minimum number of attempts \n",
    "# needed in order to find the critical floor\n",
    "def solveEggDrop(n, k, memo):\n",
    "    \n",
    "    # if value is already calculated\n",
    "    if memo[n][k] != -1:\n",
    "        return memo[n][k]\n",
    "    \n",
    "    # if there is less than or equal to one floor\n",
    "    if k == 1 or k == 0:\n",
    "        return k\n",
    "    \n",
    "    # if there is only one egg\n",
    "    if n == 1:\n",
    "        return k\n",
    "    \n",
    "    # to store the minimum number of attempts\n",
    "    res = float('inf')\n",
    "    \n",
    "    # Consider all droppings from\n",
    "    # 1st floor to kth floor\n",
    "    for i in range(1, k + 1):\n",
    "        cur = max(solveEggDrop(n - 1, i - 1, memo), \\\n",
    "                    solveEggDrop(n, k - i, memo))\n",
    "        if cur < res:\n",
    "            res = cur\n",
    "    \n",
    "    # update the memo, and return\n",
    "    memo[n][k] = res + 1\n",
    "    return memo[n][k]\n",
    "\n",
    "# Function to find minimum number of attempts \n",
    "# needed in order to find the critical floor\n",
    "def eggDrop(n, k):\n",
    "    \n",
    "    # create memo table\n",
    "    memo = [[-1 for _ in range(k + 1)] for _ in range(n + 1)]\n",
    "    \n",
    "    return solveEggDrop(n, k, memo)\n",
    "\n",
    "if __name__ == \"__main__\":\n",
    "    n = 2\n",
    "    k = 10\n",
    "    print(eggDrop(n, k))"
   ]
  },
  {
   "cell_type": "markdown",
   "id": "1c8195b1-d5b5-4464-9abe-bdb45eab4ed1",
   "metadata": {},
   "source": [
    "#### [Expected Approach] Using Tabulation with Optimization - O(n * k) Time and O(n * k) Space\n",
    "A direct tabulation based solution for the above memoization and recursive approach would require O(n * k^2) Time and O(n * k) Space. We can further optimize the above approach. \n",
    "\n",
    "In the above approach, each state memo[i][j] stores the number of moves required to solve the sub-problem of i eggs and j floors. Instead of doing so, the idea is to make dp[i][j] store the maximum number of floors that can be processed using i moves and j eggs. By doing so, we will only be required to find the maximum reachable floor in the previous move, and will avoid checking each k floor for all the states.\n",
    "\n",
    "Step-by-step approach:\n",
    "\n",
    "Create a 2d table dp[][] of order k * n (as k is the maximum possible moves required).\n",
    "Initialize the counter cnt to store the number of moves.\n",
    "Run a while loop until the number of floors i.e. dp[cnt][n] is less than k.\n",
    "At each iteration increment the moves by 1 (i.e. increment cnt by 1), and run a loop from 1 to n, representing the number of eggs.\n",
    "At each iteration, there are two possibilities:\n",
    "If egg breaks, then check the result of dp[cnt - 1][i - 1].\n",
    "If egg doesn't break, then check the result of dp[cnt - 1][i].\n",
    "Update dp[cnt][i] = 1 + dp[cnt - 1][i - 1] + dp[cnt - 1][i], where we are adding 1 for the current floor.\n",
    "At last return the count of moves cnt."
   ]
  },
  {
   "cell_type": "code",
   "execution_count": 212,
   "id": "d07bac7f-bac0-4c4f-81d1-622b3e3a7f74",
   "metadata": {},
   "outputs": [
    {
     "name": "stdout",
     "output_type": "stream",
     "text": [
      "4\n"
     ]
    }
   ],
   "source": [
    "# Function to find minimum number of attempts \n",
    "# needed in order to find the critical floor\n",
    "def eggDrop(n, k):\n",
    "    \n",
    "    # create a 2D table to store the results\n",
    "    dp = [[0 for _ in range(n + 1)] for _ in range(k + 1)]\n",
    "    \n",
    "    # to count the number of moves\n",
    "    cnt = 0\n",
    "    \n",
    "    # while the number of floors is less than k\n",
    "    while dp[cnt][n] < k:\n",
    "        cnt += 1\n",
    "        \n",
    "        # for each egg\n",
    "        for i in range(1, n + 1):\n",
    "            dp[cnt][i] = 1 + dp[cnt - 1][i - 1] + dp[cnt - 1][i]\n",
    "    return cnt\n",
    "\n",
    "if __name__ == \"__main__\":\n",
    "    n = 2\n",
    "    k = 10\n",
    "    print(eggDrop(n, k))"
   ]
  },
  {
   "cell_type": "markdown",
   "id": "896ac5f1-ade9-4baf-a208-4f40526bbac8",
   "metadata": {},
   "source": [
    "#### [Optimized Approach] Using Space-Optimized Table - O(n * k) Time and O(n) Space\n",
    "In the above approach, to calculate the current row of the dp[][] table, we require only the previous row results. The idea is to create a 1D array dp[] of size n to store the result for each move. To do so, proceed similar to above approach, and for each iteration, set dp[i] = 1 + dp[i] + dp[i-1]. At last return the value stored in dp[n]."
   ]
  },
  {
   "cell_type": "code",
   "execution_count": 213,
   "id": "8dc1000d-7536-47fe-8123-b9224873a16a",
   "metadata": {},
   "outputs": [
    {
     "name": "stdout",
     "output_type": "stream",
     "text": [
      "4\n"
     ]
    }
   ],
   "source": [
    "# Function to find minimum number of attempts \n",
    "# needed in order to find the critical floor\n",
    "def eggDrop(n, k):\n",
    "    \n",
    "    # create an array to store the results\n",
    "    dp = [0] * (n + 1)\n",
    "    \n",
    "    # to count the number of moves\n",
    "    cnt = 0\n",
    "    \n",
    "    # while the number of floors is less than k\n",
    "    while dp[n] < k:\n",
    "        cnt += 1\n",
    "        \n",
    "        # for each egg\n",
    "        for i in range(n, 0, -1):\n",
    "            dp[i] += 1 + dp[i - 1]\n",
    "    return cnt\n",
    "\n",
    "if __name__ == \"__main__\":\n",
    "    n = 2\n",
    "    k = 10\n",
    "    print(eggDrop(n, k))"
   ]
  },
  {
   "cell_type": "markdown",
   "id": "e4b9b704-eac9-4922-8b0b-b3ffb959a42f",
   "metadata": {},
   "source": [
    "### Palindrome Substrings Count\n",
    "\n",
    "Given a string s, the task is to count all palindromic substrings of length more than one.\n",
    "\n"
   ]
  },
  {
   "cell_type": "code",
   "execution_count": 214,
   "id": "b5bc7280-d729-44e6-b996-c54335bd6eef",
   "metadata": {},
   "outputs": [],
   "source": [
    "def is_palindrome(s, i, j):\n",
    "    if i >= j:\n",
    "        return True\n",
    "    return s[i] == s[j] and is_palindrome(s, i + 1, j - 1)\n",
    "\n",
    "def count_palindromic_substrings_recursive(s):\n",
    "    n = len(s)\n",
    "    count = 0\n",
    "    for i in range(n):\n",
    "        for j in range(i + 1, n):  # j > i to ensure length ≥ 2\n",
    "            if is_palindrome(s, i, j):\n",
    "                count += 1\n",
    "    return count\n"
   ]
  },
  {
   "cell_type": "code",
   "execution_count": 215,
   "id": "3fec7e69-7065-460e-b730-78cc48569ffe",
   "metadata": {},
   "outputs": [],
   "source": [
    "def count_palindromic_substrings_memo(s):\n",
    "    n = len(s)\n",
    "    memo = [[-1] * n for _ in range(n)]\n",
    "\n",
    "    def is_palindrome(i, j):\n",
    "        if i >= j:\n",
    "            return True\n",
    "        if memo[i][j] != -1:\n",
    "            return memo[i][j]\n",
    "        memo[i][j] = s[i] == s[j] and is_palindrome(i + 1, j - 1)\n",
    "        return memo[i][j]\n",
    "\n",
    "    count = 0\n",
    "    for i in range(n):\n",
    "        for j in range(i + 1, n):\n",
    "            if is_palindrome(i, j):\n",
    "                count += 1\n",
    "    return count\n"
   ]
  },
  {
   "cell_type": "code",
   "execution_count": 216,
   "id": "82d87b20-24dc-4063-a4e9-02335c68c581",
   "metadata": {},
   "outputs": [],
   "source": [
    "def count_palindromic_substrings_tabulation(s):\n",
    "    n = len(s)\n",
    "    dp = [[False] * n for _ in range(n)]\n",
    "    count = 0\n",
    "\n",
    "    # All single-character substrings are palindromes\n",
    "    for i in range(n):\n",
    "        dp[i][i] = True\n",
    "\n",
    "    # Now check for substrings of length 2 and more\n",
    "    for length in range(2, n + 1):\n",
    "        for i in range(n - length + 1):\n",
    "            j = i + length - 1\n",
    "            if s[i] == s[j]:\n",
    "                if length == 2:\n",
    "                    dp[i][j] = True\n",
    "                else:\n",
    "                    dp[i][j] = dp[i + 1][j - 1]\n",
    "                if dp[i][j]:\n",
    "                    count += 1\n",
    "    return count\n"
   ]
  },
  {
   "cell_type": "code",
   "execution_count": 217,
   "id": "4e3c1705-cab1-439e-a452-3e57751cf3b4",
   "metadata": {},
   "outputs": [],
   "source": [
    "def count_palindromic_substrings_center(s):\n",
    "    n = len(s)\n",
    "    count = 0\n",
    "\n",
    "    def expand_around_center(left, right):\n",
    "        nonlocal count\n",
    "        while left >= 0 and right < n and s[left] == s[right]:\n",
    "            if right - left + 1 >= 2:  # Only count substrings of length ≥ 2\n",
    "                count += 1\n",
    "            left -= 1\n",
    "            right += 1\n",
    "\n",
    "    for center in range(n):\n",
    "        # Odd-length palindromes (centered at one character)\n",
    "        expand_around_center(center, center)\n",
    "        # Even-length palindromes (centered between two characters)\n",
    "        expand_around_center(center, center + 1)\n",
    "\n",
    "    return count\n"
   ]
  },
  {
   "cell_type": "code",
   "execution_count": 218,
   "id": "dee32ade-123b-4e8c-94b4-81f8600d612e",
   "metadata": {},
   "outputs": [
    {
     "name": "stdout",
     "output_type": "stream",
     "text": [
      "Recursive: 4\n",
      "Memoized: 4\n",
      "Tabulation: 4\n",
      "Center Expansion: 4\n"
     ]
    }
   ],
   "source": [
    "s = \"abbaeae\"\n",
    "\n",
    "print(\"Recursive:\", count_palindromic_substrings_recursive(s))\n",
    "print(\"Memoized:\", count_palindromic_substrings_memo(s))\n",
    "print(\"Tabulation:\", count_palindromic_substrings_tabulation(s))\n",
    "print(\"Center Expansion:\", count_palindromic_substrings_center(s))\n"
   ]
  },
  {
   "cell_type": "markdown",
   "id": "dd846106-81dd-45e4-b16c-6f27c4b6bf68",
   "metadata": {},
   "source": [
    "# 📚 Palindromic Substrings of Length ≥ 2 — Methods & Explanations\n",
    "\n",
    "Given a string `s`, we want to count all palindromic substrings of **length ≥ 2**.\n",
    "\n",
    "---\n",
    "\n",
    "## 🌀 1. Recursive (Naive)\n",
    "\n",
    "- For every pair of indices `(i, j)` such that `j > i`, check if `s[i..j]` is a palindrome.\n",
    "- Use recursion to check if the substring between them (`s[i+1..j-1]`) is also a palindrome.\n",
    "- Count the substring only if it's a palindrome and has length ≥ 2.\n",
    "- ❌ Inefficient due to redundant recursive calls.\n",
    "\n",
    "---\n",
    "\n",
    "## 🧠 2. Recursive + Memoization (Top-Down DP)\n",
    "\n",
    "- Same logic as the naive recursive approach.\n",
    "- Use a 2D memoization table `memo[i][j]` to store whether `s[i..j]` is a palindrome.\n",
    "- Avoids recomputing the result for the same substring multiple times.\n",
    "- ✅ Much faster than naive recursion.\n",
    "\n",
    "---\n",
    "\n",
    "## 📊 3. Tabulation (Bottom-Up DP)\n",
    "\n",
    "- Build a 2D table `dp[i][j]` where `dp[i][j] = True` if `s[i..j]` is a palindrome.\n",
    "- **Base Case**: All substrings of length 1 are palindromes (`dp[i][i] = True`).\n",
    "- Check substrings of increasing lengths (starting from 2).\n",
    "  - If `s[i] == s[j]` and the inner substring `s[i+1..j-1]` is also a palindrome, then `s[i..j]` is a palindrome.\n",
    "- Count all `dp[i][j]` where `j - i + 1 ≥ 2` and `dp[i][j] = True`.\n",
    "\n",
    "---\n",
    "\n",
    "## 🎯 4. Center Expansion Method (Optimal)\n",
    "\n",
    "- A palindrome can be expanded from its **center**.\n",
    "- There are `2n - 1` centers in a string (`n` characters + `n-1` gaps between them).\n",
    "- For each center, expand outward while characters match on both sides.\n",
    "- For every valid palindrome found during expansion, count it **only if its length ≥ 2**.\n",
    "- ✅ Most space-efficient (`O(1)` space), very clean and fast.\n",
    "\n",
    "---\n",
    "\n",
    "## ✅ Summary Table\n",
    "\n",
    "| Method              | Idea                                                             | Time      | Space  | Strength                              |\n",
    "|---------------------|------------------------------------------------------------------|-----------|--------|----------------------------------------|\n",
    "| Recursive           | Try every substring; check palindrome recursively               | O(n³)     | O(1)   | Conceptually simple, but very slow     |\n",
    "| Memoized Recursion  | Same as above, but store results                                | O(n²)     | O(n²)  | Avoids redundant computation           |\n",
    "| Tabulation          | Bottom-up DP table for substrings                               | O(n²)     | O(n²)  | Classic DP, good structure             |\n",
    "| Center Expansion    | Expand around every center                                       | O(n²)     | O(1)   | ✅ Fastest and most memory-efficient   |\n",
    "\n",
    "---\n",
    "\n"
   ]
  },
  {
   "cell_type": "markdown",
   "id": "a9ff2e5a-6314-4049-ae80-4b3412db2d1e",
   "metadata": {},
   "source": [
    "### The Painter's Partition Problem\n",
    "\n",
    "Given an array arr[] and k, where the array represents the boards and each element of the given array represents the length of each board. k numbers of painters are available to paint these boards. Consider that each unit of a board takes 1 unit of time to paint. The task is to find the minimum time to get this job done by painting all the boards under the constraint that any painter will only paint the continuous sections of boards. say board [2, 3, 4] or only board [1] or nothing but not board [2, 4, 5].\n",
    "\n",
    "Examples: \n",
    "\n",
    "Input: arr[] = [5, 10, 30, 20, 15], k = 3\n",
    "Output: 35\n",
    "Explanation: The most optimal way will be: Painter 1 allocation : [5,10], Painter 2 allocation : [30], Painter 3 allocation : [20, 15], Job will be done when all painters finish i.e. at time = max(5 + 10, 30, 20 + 15) = 35\n",
    "\n",
    "Input: arr[] = [10, 20, 30, 40], k = 2\n",
    "Output: 60\n",
    "Explanation: The most optimal way to paint: Painter 1 allocation : [10, 20, 30], Painter 2 allocation : [40], Job will be complete at time = 60"
   ]
  },
  {
   "cell_type": "code",
   "execution_count": 219,
   "id": "1040dd8e-29a7-47b4-80c3-edeb83a8656a",
   "metadata": {},
   "outputs": [],
   "source": [
    "def is_possible(arr, k, max_time):\n",
    "    painter_count = 1\n",
    "    curr_sum = 0\n",
    "\n",
    "    for length in arr:\n",
    "        if length > max_time:\n",
    "            return False\n",
    "        if curr_sum + length > max_time:\n",
    "            painter_count += 1\n",
    "            curr_sum = length\n",
    "            if painter_count > k:\n",
    "                return False\n",
    "        else:\n",
    "            curr_sum += length\n",
    "    return True\n",
    "\n",
    "def painters_partition_bs(arr, k):\n",
    "    low, high = max(arr), sum(arr)\n",
    "    result = high\n",
    "\n",
    "    while low <= high:\n",
    "        mid = (low + high) // 2\n",
    "        if is_possible(arr, k, mid):\n",
    "            result = mid\n",
    "            high = mid - 1\n",
    "        else:\n",
    "            low = mid + 1\n",
    "    return result\n"
   ]
  },
  {
   "cell_type": "code",
   "execution_count": 220,
   "id": "f5f26caa-5d2f-4088-a9a2-f4778a490cab",
   "metadata": {},
   "outputs": [],
   "source": [
    "import sys\n",
    "sys.setrecursionlimit(10000)\n",
    "\n",
    "def painters_partition_memo(arr, k):\n",
    "    n = len(arr)\n",
    "    memo = [[-1] * (k + 1) for _ in range(n + 1)]\n",
    "\n",
    "    prefix = [0] * (n + 1)\n",
    "    for i in range(n):\n",
    "        prefix[i + 1] = prefix[i] + arr[i]\n",
    "\n",
    "    def helper(i, k):\n",
    "        if k == 1:\n",
    "            return prefix[n] - prefix[i]\n",
    "        if memo[i][k] != -1:\n",
    "            return memo[i][k]\n",
    "\n",
    "        min_time = float('inf')\n",
    "        for j in range(i + 1, n - k + 2):  # at least one board for each painter\n",
    "            curr = prefix[j] - prefix[i]\n",
    "            next_painter = helper(j, k - 1)\n",
    "            max_time = max(curr, next_painter)\n",
    "            min_time = min(min_time, max_time)\n",
    "\n",
    "        memo[i][k] = min_time\n",
    "        return min_time\n",
    "\n",
    "    return helper(0, k)\n"
   ]
  },
  {
   "cell_type": "code",
   "execution_count": 221,
   "id": "a69663d2-3a7e-4266-bba6-62aa05ce6908",
   "metadata": {},
   "outputs": [],
   "source": [
    "def painters_partition_dp(arr, k):\n",
    "    n = len(arr)\n",
    "    prefix = [0] * (n + 1)\n",
    "    for i in range(n):\n",
    "        prefix[i + 1] = prefix[i] + arr[i]\n",
    "\n",
    "    dp = [[float('inf')] * (n + 1) for _ in range(k + 1)]\n",
    "    for j in range(n + 1):\n",
    "        dp[1][j] = prefix[j]  # One painter does all work\n",
    "\n",
    "    for i in range(2, k + 1):  # From 2 painters to k\n",
    "        for j in range(1, n + 1):\n",
    "            for p in range(j):  # Try splitting at p\n",
    "                time = max(dp[i - 1][p], prefix[j] - prefix[p])\n",
    "                dp[i][j] = min(dp[i][j], time)\n",
    "\n",
    "    return dp[k][n]\n"
   ]
  },
  {
   "cell_type": "code",
   "execution_count": 222,
   "id": "79e05b8b-d9c5-45eb-9e30-dd5d58512a66",
   "metadata": {},
   "outputs": [
    {
     "name": "stdout",
     "output_type": "stream",
     "text": [
      "Binary Search: 35\n",
      "Memoization: 35\n",
      "DP Tabulation: 35\n",
      "Binary Search: 60\n",
      "Memoization: 60\n",
      "DP Tabulation: 60\n"
     ]
    }
   ],
   "source": [
    "arr1 = [5, 10, 30, 20, 15]\n",
    "k1 = 3\n",
    "print(\"Binary Search:\", painters_partition_bs(arr1, k1))     # 35\n",
    "print(\"Memoization:\", painters_partition_memo(arr1, k1))     # 35\n",
    "print(\"DP Tabulation:\", painters_partition_dp(arr1, k1))     # 35\n",
    "\n",
    "arr2 = [10, 20, 30, 40]\n",
    "k2 = 2\n",
    "print(\"Binary Search:\", painters_partition_bs(arr2, k2))     # 60\n",
    "print(\"Memoization:\", painters_partition_memo(arr2, k2))     # 60\n",
    "print(\"DP Tabulation:\", painters_partition_dp(arr2, k2))     # 60\n"
   ]
  },
  {
   "cell_type": "markdown",
   "id": "09572ed8-06d4-42ea-8b10-5f3f1632e327",
   "metadata": {},
   "source": [
    "# 🎨 Painter's Partition Problem – Methods Overview\n",
    "\n",
    "## 📘 Problem Statement\n",
    "\n",
    "- You're given an array `arr[]` of board lengths.\n",
    "- You have `k` painters.\n",
    "- Each painter can only paint **contiguous boards**.\n",
    "- Each unit length of board takes **1 unit of time** to paint.\n",
    "- The goal is to **minimize the time taken by the painter who paints the most**.\n",
    "\n",
    "---\n",
    "\n",
    "## 🧠 Method 1: Binary Search + Greedy (Optimal Approach)\n",
    "\n",
    "- Perform binary search on the range of possible time values:\n",
    "  - `low = max(arr)` (minimum time needed by a painter)\n",
    "  - `high = sum(arr)` (if one painter does all the work)\n",
    "- For each midpoint `mid`, check if the painting job can be completed with at most `k` painters, such that no painter paints more than `mid` units.\n",
    "- Use a greedy allocation:\n",
    "  - Assign boards to painters one by one without exceeding `mid`.\n",
    "  - If a painter exceeds `mid`, allocate the next board to a new painter.\n",
    "- If `k` painters are enough, try to lower the maximum time (`high = mid - 1`).\n",
    "- Otherwise, increase the time limit (`low = mid + 1`).\n",
    "- **Time Complexity:** `O(n * log(sum - max))`\n",
    "- **Space Complexity:** `O(1)`\n",
    "\n",
    "---\n",
    "\n",
    "## 🧠 Method 2: Memoization (Top-Down Dynamic Programming)\n",
    "\n",
    "- Define a recursive function `f(i, k)` that computes the minimum time needed to paint boards starting from index `i` using `k` painters.\n",
    "- Try every possible partition:\n",
    "  - Allocate the first few boards to one painter.\n",
    "  - Recursively solve the remaining boards with one fewer painter.\n",
    "- Use **memoization** to store and reuse subproblem results.\n",
    "- Utilizes **prefix sums** to efficiently calculate board time segments.\n",
    "- **Time Complexity:** `O(k * n^2)`\n",
    "- **Space Complexity:** `O(k * n)` (for memoization table)\n",
    "\n",
    "---\n",
    "\n",
    "## 🧠 Method 3: Tabulation (Bottom-Up Dynamic Programming)\n",
    "\n",
    "- Build a `dp` table where `dp[i][j]` represents the minimum time to paint the first `j` boards using `i` painters.\n",
    "- Initialization:\n",
    "  - `dp[1][j]` = sum of first `j` boards (if 1 painter paints all).\n",
    "- Fill the table iteratively:\n",
    "  - For each painter `i`, try all possible split points to minimize the maximum load among painters.\n",
    "  - Use prefix sums to get board sums quickly.\n",
    "- Transition formula:\n",
    "  - `dp[i][j] = min over all x < j of max(dp[i-1][x], sum(x+1 to j))`\n",
    "- **Time Complexity:** `O(k * n^2)`\n",
    "- **Space Complexity:** `O(k * n)`\n",
    "\n",
    "---\n",
    "\n",
    "## 🧾 Summary Table\n",
    "\n",
    "| Method                | Approach                    | Time Complexity         | Space Complexity | Notes                            |\n",
    "|------------------------|-----------------------------|--------------------------|------------------|-----------------------------------|\n",
    "| Binary Search + Greedy | Search + Validation         | `O(n * log(sum - max))`  | `O(1)`           | ✅ Most efficient in practice     |\n",
    "| Memoization (Top-Down) | Recursive + DP              | `O(k * n^2)`             | `O(k * n)`       | Good for understanding recursion |\n",
    "| Tabulation (Bottom-Up) | Iterative DP                | `O(k * n^2)`             | `O(k * n)`       | Structured and easy to trace     |\n"
   ]
  },
  {
   "cell_type": "code",
   "execution_count": 223,
   "id": "d103084b-3c68-48eb-9ee0-415abf9da31d",
   "metadata": {},
   "outputs": [],
   "source": [
    "def painters_partition_recursive(arr, k):\n",
    "    n = len(arr)\n",
    "\n",
    "    def paint(i, k):\n",
    "        # If only one painter left, paint all remaining boards\n",
    "        if k == 1:\n",
    "            return sum(arr[i:])\n",
    "\n",
    "        min_time = float('inf')\n",
    "        current_sum = 0\n",
    "\n",
    "        # Try all possible partitions from i to n-k+1\n",
    "        for j in range(i, n - k + 1):\n",
    "            current_sum += arr[j]\n",
    "            # Maximum time painter 1 spends is current_sum,\n",
    "            # rest of the painters paint remaining boards\n",
    "            time = max(current_sum, paint(j + 1, k - 1))\n",
    "            min_time = min(min_time, time)\n",
    "\n",
    "        return min_time\n",
    "\n",
    "    return paint(0, k)\n"
   ]
  },
  {
   "cell_type": "code",
   "execution_count": 224,
   "id": "a7a115e9-0f82-4f3b-9925-880b5dbcfb97",
   "metadata": {},
   "outputs": [
    {
     "name": "stdout",
     "output_type": "stream",
     "text": [
      "35\n"
     ]
    }
   ],
   "source": [
    "arr = [5, 10, 30, 20, 15]\n",
    "k = 3\n",
    "print(painters_partition_recursive(arr, k))  # Output: 35\n"
   ]
  },
  {
   "cell_type": "markdown",
   "id": "9232bbff-9dab-4bcb-bc82-1eeef6785300",
   "metadata": {},
   "source": [
    "### Maximum sum rectangle in a 2D matrix | DP-27"
   ]
  },
  {
   "cell_type": "code",
   "execution_count": 225,
   "id": "22945e91-b870-4a7a-8c7f-a3ea58d33a6f",
   "metadata": {},
   "outputs": [],
   "source": [
    "def max_sum_rectangle_recursive(matrix):\n",
    "    rows = len(matrix)\n",
    "    cols = len(matrix[0])\n",
    "    \n",
    "    def submatrix_sum(r1, c1, r2, c2):\n",
    "        # sum of submatrix defined by corners (r1,c1) and (r2,c2)\n",
    "        total = 0\n",
    "        for r in range(r1, r2 + 1):\n",
    "            for c in range(c1, c2 + 1):\n",
    "                total += matrix[r][c]\n",
    "        return total\n",
    "\n",
    "    max_sum = float('-inf')\n",
    "    for r1 in range(rows):\n",
    "        for c1 in range(cols):\n",
    "            for r2 in range(r1, rows):\n",
    "                for c2 in range(c1, cols):\n",
    "                    max_sum = max(max_sum, submatrix_sum(r1, c1, r2, c2))\n",
    "    \n",
    "    return max_sum\n"
   ]
  },
  {
   "cell_type": "code",
   "execution_count": 226,
   "id": "a9882bce-de9c-47b6-9fd3-c0ea8f3b2c63",
   "metadata": {},
   "outputs": [],
   "source": [
    "def max_sum_rectangle_memo(matrix):\n",
    "    rows = len(matrix)\n",
    "    cols = len(matrix[0])\n",
    "\n",
    "    # Compute prefix sums\n",
    "    prefix = [[0] * (cols + 1) for _ in range(rows + 1)]\n",
    "    for r in range(1, rows + 1):\n",
    "        for c in range(1, cols + 1):\n",
    "            prefix[r][c] = matrix[r-1][c-1] + prefix[r-1][c] + prefix[r][c-1] - prefix[r-1][c-1]\n",
    "\n",
    "    memo = {}\n",
    "\n",
    "    def get_sum(r1, c1, r2, c2):\n",
    "        return prefix[r2+1][c2+1] - prefix[r1][c2+1] - prefix[r2+1][c1] + prefix[r1][c1]\n",
    "\n",
    "    def dfs(r1, c1, r2, c2):\n",
    "        if (r1, c1, r2, c2) in memo:\n",
    "            return memo[(r1, c1, r2, c2)]\n",
    "        if r1 > r2 or c1 > c2:\n",
    "            return float('-inf')\n",
    "        # Calculate sum of current rectangle\n",
    "        current_sum = get_sum(r1, c1, r2, c2)\n",
    "        # Try smaller rectangles by shrinking borders\n",
    "        res = current_sum\n",
    "        res = max(res, dfs(r1+1, c1, r2, c2))\n",
    "        res = max(res, dfs(r1, c1+1, r2, c2))\n",
    "        res = max(res, dfs(r1, c1, r2-1, c2))\n",
    "        res = max(res, dfs(r1, c1, r2, c2-1))\n",
    "        memo[(r1, c1, r2, c2)] = res\n",
    "        return res\n",
    "\n",
    "    return dfs(0, 0, rows-1, cols-1)\n"
   ]
  },
  {
   "cell_type": "code",
   "execution_count": 227,
   "id": "ae96c210-38ce-4b3d-9a8b-2cd83c06a12e",
   "metadata": {},
   "outputs": [],
   "source": [
    "def max_sum_rectangle_tab(matrix):\n",
    "    rows = len(matrix)\n",
    "    cols = len(matrix[0])\n",
    "    max_sum = float('-inf')\n",
    "\n",
    "    for top in range(rows):\n",
    "        temp = [0] * cols\n",
    "        for bottom in range(top, rows):\n",
    "            for col in range(cols):\n",
    "                temp[col] += matrix[bottom][col]\n",
    "            \n",
    "            # Kadane's algorithm for 1D max subarray sum on temp\n",
    "            curr_sum = 0\n",
    "            curr_max = float('-inf')\n",
    "            for val in temp:\n",
    "                curr_sum += val\n",
    "                if curr_sum > curr_max:\n",
    "                    curr_max = curr_sum\n",
    "                if curr_sum < 0:\n",
    "                    curr_sum = 0\n",
    "            \n",
    "            max_sum = max(max_sum, curr_max)\n",
    "    \n",
    "    return max_sum\n"
   ]
  },
  {
   "cell_type": "code",
   "execution_count": 228,
   "id": "c6913e3f-7b55-4e15-9b99-6bd9d3b420bc",
   "metadata": {},
   "outputs": [
    {
     "name": "stdout",
     "output_type": "stream",
     "text": [
      "Maximum Sum (Recursive): 27\n",
      "Maximum Sum (Memoization): 27\n",
      "Maximum Sum (Tabulation): 27\n"
     ]
    }
   ],
   "source": [
    "matrix = [\n",
    "    [1, -2, -1, 4],\n",
    "    [-8, 3, 4, 2],\n",
    "    [3, 8, 10, -8],\n",
    "    [-4, -1, 1, 7]\n",
    "]\n",
    "\n",
    "# Function calls for all methods\n",
    "max_sum_recursive = max_sum_rectangle_recursive(matrix)\n",
    "print(\"Maximum Sum (Recursive):\", max_sum_recursive)\n",
    "\n",
    "max_sum_memo = max_sum_rectangle_memo(matrix)\n",
    "print(\"Maximum Sum (Memoization):\", max_sum_memo)\n",
    "\n",
    "max_sum_tab = max_sum_rectangle_tab(matrix)\n",
    "print(\"Maximum Sum (Tabulation):\", max_sum_tab)"
   ]
  },
  {
   "cell_type": "markdown",
   "id": "38b88205-93f2-4617-97f9-520e21436413",
   "metadata": {},
   "source": [
    "# 🟩 Maximum Sum Rectangle in a 2D Matrix – Methods Overview\n",
    "\n",
    "---\n",
    "\n",
    "## 1️⃣ Recursive (Brute Force) Method\n",
    "\n",
    "- **Idea:**  \n",
    "  Try every possible rectangular sub-matrix by brute force and compute its sum.\n",
    "- **Steps:**  \n",
    "  - Iterate all possible top-left and bottom-right corners.\n",
    "  - Sum all elements in the submatrix.\n",
    "  - Track the maximum sum found.\n",
    "- **Time Complexity:** Very high (`O(rows² * cols² * rows * cols)`) — impractical for large matrices.\n",
    "- **Space Complexity:** `O(1)`\n",
    "\n",
    "---\n",
    "\n",
    "## 2️⃣ Memoization Method (Prefix Sum + Recursion + Caching)\n",
    "\n",
    "- **Idea:**  \n",
    "  Use prefix sums to compute submatrix sums in O(1), and recursively check all submatrices with memoization to avoid recomputation.\n",
    "- **Steps:**  \n",
    "  - Precompute prefix sums of the matrix.\n",
    "  - Use recursion with memo to find max sums by shrinking submatrix borders.\n",
    "- **Time Complexity:** `O(rows² * cols²)`  \n",
    "- **Space Complexity:** `O(rows² * cols²)` (due to memoization)\n",
    "\n",
    "---\n",
    "\n",
    "## 3️⃣ Tabulation Method (Kadane's Algorithm in 2D)\n",
    "\n",
    "- **Idea:**  \n",
    "  Extend Kadane’s algorithm to 2D by fixing pairs of rows and reducing the problem to max sum subarray on columns.\n",
    "- **Steps:**  \n",
    "  - Fix top row.\n",
    "  - Incrementally add rows below to build a temp array with column sums.\n",
    "  - Run Kadane’s algorithm on temp to find max sum for that row pair.\n",
    "- **Time Complexity:** `O(rows² * cols)`  \n",
    "- **Space Complexity:** `O(cols)`\n",
    "\n",
    "---\n",
    "\n",
    "## Summary Table\n",
    "\n",
    "| Method          | Time Complexity          | Space Complexity | Notes                      |\n",
    "|-----------------|-------------------------|------------------|----------------------------|\n",
    "| Recursive       | Very High (Exponential) | O(1)             | Brute force, educational   |\n",
    "| Memoization     | O(rows² * cols²)        | O(rows² * cols²) | Uses prefix sums + caching  |\n",
    "| Tabulation      | O(rows² * cols)         | O(cols)          | Most efficient in practice |\n",
    "\n",
    "---\n",
    "\n",
    "### Example Input\n",
    "\n",
    "```python\n",
    "matrix = [\n",
    "    [1, -2, -1, 4],\n",
    "    [-8, 3, 4, 2],\n",
    "    [3, 8, 10, -8],\n",
    "    [-4, -1, 1, 7]\n",
    "]\n"
   ]
  },
  {
   "cell_type": "markdown",
   "id": "7e343ac9-3e12-4d3d-85be-32e814d887d0",
   "metadata": {},
   "source": [
    "# 🏠 House Robber – Maximum Possible Stolen Value\n",
    "\n",
    "---\n",
    "\n",
    "## Table of Contents\n",
    "\n",
    "1. [Naive Approach: Using Recursion](#naive-approach)\n",
    "2. [Better Approach: Using Memoization](#memoization-approach)\n",
    "3. [Expected Approach 1: Using Tabulation](#tabulation-approach)\n",
    "4. [Expected Approach 2: Using Space-Optimized Tabulation](#space-optimized-tabulation)\n",
    "\n",
    "---\n",
    "\n",
    "## 1️⃣ Naive Approach: Using Recursion\n",
    "\n",
    "- **Description:**  \n",
    "  Explore all possibilities recursively — either rob the current house or skip it.\n",
    "- **Time Complexity:** `O(2^n)` — exponential due to overlapping subproblems.  \n",
    "- **Space Complexity:** `O(n)` — recursion call stack.\n",
    "\n",
    "---\n",
    "\n",
    "## 2️⃣ Better Approach: Using Memoization\n",
    "\n",
    "- **Description:**  \n",
    "  Store results of subproblems to avoid recomputation (top-down DP).  \n",
    "- **Time Complexity:** `O(n)` — each subproblem computed once.  \n",
    "- **Space Complexity:** `O(n)` — memo array + recursion stack.\n",
    "\n",
    "---\n",
    "\n",
    "## 3️⃣ Expected Approach 1: Using Tabulation\n",
    "\n",
    "- **Description:**  \n",
    "  Bottom-up DP where dp[i] stores max stolen value up to house i.  \n",
    "- **Time Complexity:** `O(n)`  \n",
    "- **Space Complexity:** `O(n)`\n",
    "\n",
    "---\n",
    "\n",
    "## 4️⃣ Expected Approach 2: Using Space-Optimized Tabulation\n",
    "\n",
    "- **Description:**  \n",
    "  Optimize space by keeping track of only the last two states instead of full dp array.  \n",
    "- **Time Complexity:** `O(n)`  \n",
    "- **Space Complexity:** `O(1)`\n",
    "\n",
    "---\n",
    "\n",
    "## Summary Table\n",
    "\n",
    "| Approach                 | Time Complexity | Space Complexity | Notes                           |\n",
    "|--------------------------|-----------------|------------------|---------------------------------|\n",
    "| Naive Recursion          | O(2^n)          | O(n)             | Simple but inefficient          |\n",
    "| Memoization              | O(n)            | O(n)             | Avoids recomputation            |\n",
    "| Tabulation               | O(n)            | O(n)             | Bottom-up DP                   |\n",
    "| Space-Optimized Tabulation| O(n)            | O(1)             | Most efficient and practical    |\n"
   ]
  },
  {
   "cell_type": "code",
   "execution_count": 229,
   "id": "1ccc5d53-e1f8-42db-81da-bb72f357df6b",
   "metadata": {},
   "outputs": [],
   "source": [
    "# 1️⃣ Naive Approach: Using Recursion\n",
    "def house_robber_recursive(nums, i=0):\n",
    "    if i >= len(nums):\n",
    "        return 0\n",
    "    # Rob current house or skip it\n",
    "    rob = nums[i] + house_robber_recursive(nums, i + 2)\n",
    "    skip = house_robber_recursive(nums, i + 1)\n",
    "    return max(rob, skip)\n",
    "\n",
    "\n",
    "# 2️⃣ Better Approach: Using Memoization\n",
    "def house_robber_memo(nums):\n",
    "    memo = {}\n",
    "\n",
    "    def dfs(i):\n",
    "        if i >= len(nums):\n",
    "            return 0\n",
    "        if i in memo:\n",
    "            return memo[i]\n",
    "        rob = nums[i] + dfs(i + 2)\n",
    "        skip = dfs(i + 1)\n",
    "        memo[i] = max(rob, skip)\n",
    "        return memo[i]\n",
    "\n",
    "    return dfs(0)\n",
    "\n",
    "\n",
    "# 3️⃣ Expected Approach 1: Using Tabulation\n",
    "def house_robber_tab(nums):\n",
    "    n = len(nums)\n",
    "    if n == 0:\n",
    "        return 0\n",
    "    dp = [0] * (n + 1)\n",
    "    dp[0] = 0\n",
    "    dp[1] = nums[0]\n",
    "\n",
    "    for i in range(2, n + 1):\n",
    "        dp[i] = max(dp[i - 1], nums[i - 1] + dp[i - 2])\n",
    "\n",
    "    return dp[n]\n",
    "\n",
    "\n",
    "# 4️⃣ Expected Approach 2: Using Space-Optimized Tabulation\n",
    "def house_robber_space_optimized(nums):\n",
    "    prev = 0  # dp[i-2]\n",
    "    curr = 0  # dp[i-1]\n",
    "\n",
    "    for num in nums:\n",
    "        temp = curr\n",
    "        curr = max(curr, prev + num)\n",
    "        prev = temp\n",
    "\n",
    "    return curr\n"
   ]
  },
  {
   "cell_type": "code",
   "execution_count": 230,
   "id": "7d77058c-04e2-4a1c-a7d8-8a4ca2ec96a7",
   "metadata": {},
   "outputs": [
    {
     "name": "stdout",
     "output_type": "stream",
     "text": [
      "Naive Recursive: 12\n",
      "Memoization: 12\n",
      "Tabulation: 12\n",
      "Space-Optimized Tabulation: 12\n"
     ]
    }
   ],
   "source": [
    "houses = [2, 7, 9, 3, 1]\n",
    "\n",
    "print(\"Naive Recursive:\", house_robber_recursive(houses))\n",
    "print(\"Memoization:\", house_robber_memo(houses))\n",
    "print(\"Tabulation:\", house_robber_tab(houses))\n",
    "print(\"Space-Optimized Tabulation:\", house_robber_space_optimized(houses))\n"
   ]
  },
  {
   "cell_type": "markdown",
   "id": "903047a5-3bbc-42b3-9794-e1f8b1946f99",
   "metadata": {},
   "source": [
    "### Min Cost Path\n",
    "\n",
    "You are given a 2D matrix cost[][] of dimensions m × n, where each cell represents the cost of traversing through that position. Your goal is to determine the minimum cost required to reach the bottom-right cell (m-1, n-1) starting from the top-left cell (0,0).\n",
    "The total cost of a path is the sum of all cell values along the path, including both the starting and ending positions. From any cell (i, j), you can move in the following three directions:\n",
    "\n",
    "Right (i, j+1)\n",
    "Down (i+1, j)\n",
    "Diagonal (i+1, j+1)\n",
    "Find the minimum cost path from (0,0) to (m-1, n-1), ensuring that movement constraints are followed."
   ]
  },
  {
   "cell_type": "code",
   "execution_count": 231,
   "id": "6173cb92-e97c-4cef-836c-f7547513e6e8",
   "metadata": {},
   "outputs": [],
   "source": [
    "def min_cost_path_recursive(cost, i=0, j=0):\n",
    "    m, n = len(cost), len(cost[0])\n",
    "    if i == m - 1 and j == n - 1:\n",
    "        return cost[i][j]\n",
    "    if i >= m or j >= n:\n",
    "        return float('inf')\n",
    "    \n",
    "    right = min_cost_path_recursive(cost, i, j + 1)\n",
    "    down = min_cost_path_recursive(cost, i + 1, j)\n",
    "    diag = min_cost_path_recursive(cost, i + 1, j + 1)\n",
    "    \n",
    "    return cost[i][j] + min(right, down, diag)\n"
   ]
  },
  {
   "cell_type": "code",
   "execution_count": 232,
   "id": "02e0dd70-a02f-4a6f-9d46-057b4535bd76",
   "metadata": {},
   "outputs": [],
   "source": [
    "def min_cost_path_memo(cost):\n",
    "    m, n = len(cost), len(cost[0])\n",
    "    memo = {}\n",
    "\n",
    "    def dfs(i, j):\n",
    "        if i == m - 1 and j == n - 1:\n",
    "            return cost[i][j]\n",
    "        if i >= m or j >= n:\n",
    "            return float('inf')\n",
    "        if (i, j) in memo:\n",
    "            return memo[(i, j)]\n",
    "        \n",
    "        right = dfs(i, j + 1)\n",
    "        down = dfs(i + 1, j)\n",
    "        diag = dfs(i + 1, j + 1)\n",
    "        \n",
    "        memo[(i, j)] = cost[i][j] + min(right, down, diag)\n",
    "        return memo[(i, j)]\n",
    "    \n",
    "    return dfs(0, 0)\n"
   ]
  },
  {
   "cell_type": "code",
   "execution_count": 233,
   "id": "7112887a-653c-4cda-ac52-5ea658dfecb0",
   "metadata": {},
   "outputs": [],
   "source": [
    "def min_cost_path_tab(cost):\n",
    "    m, n = len(cost), len(cost[0])\n",
    "    dp = [[0] * n for _ in range(m)]\n",
    "    \n",
    "    dp[m-1][n-1] = cost[m-1][n-1]\n",
    "    \n",
    "    # Last row\n",
    "    for j in range(n-2, -1, -1):\n",
    "        dp[m-1][j] = cost[m-1][j] + dp[m-1][j+1]\n",
    "    \n",
    "    # Last column\n",
    "    for i in range(m-2, -1, -1):\n",
    "        dp[i][n-1] = cost[i][n-1] + dp[i+1][n-1]\n",
    "    \n",
    "    # Fill the rest\n",
    "    for i in range(m-2, -1, -1):\n",
    "        for j in range(n-2, -1, -1):\n",
    "            dp[i][j] = cost[i][j] + min(dp[i+1][j], dp[i][j+1], dp[i+1][j+1])\n",
    "    \n",
    "    return dp[0][0]\n"
   ]
  },
  {
   "cell_type": "code",
   "execution_count": 234,
   "id": "df2540a9-a5e7-46d5-ba17-6afbade3fb2a",
   "metadata": {},
   "outputs": [
    {
     "name": "stdout",
     "output_type": "stream",
     "text": [
      "Min cost path (Recursion): 8\n",
      "Min cost path (Memoization): 8\n",
      "Min cost path (Tabulation): 8\n"
     ]
    }
   ],
   "source": [
    "cost = [\n",
    "    [1, 2, 3],\n",
    "    [4, 8, 2],\n",
    "    [1, 5, 3]\n",
    "]\n",
    "\n",
    "print(\"Min cost path (Recursion):\", min_cost_path_recursive(cost))\n",
    "print(\"Min cost path (Memoization):\", min_cost_path_memo(cost))\n",
    "print(\"Min cost path (Tabulation):\", min_cost_path_tab(cost))\n"
   ]
  },
  {
   "cell_type": "markdown",
   "id": "39d5345c-d410-4ecb-8232-b1c34643f957",
   "metadata": {},
   "source": [
    "# 🧮 Min Cost Path in a 2D Grid\n",
    "\n",
    "---\n",
    "\n",
    "## 📘 Problem Statement\n",
    "\n",
    "Given a 2D grid `cost[][]` of size `m x n`, where `cost[i][j]` is the cost of stepping on cell `(i, j)`, find the minimum cost to reach the bottom-right corner `(m-1, n-1)` starting from the top-left corner `(0, 0)`.\n",
    "\n",
    "### ✅ Allowed Moves:\n",
    "- Move Right → `(i, j+1)`\n",
    "- Move Down ↓ `(i+1, j)`\n",
    "- Move Diagonally ↘ `(i+1, j+1)`\n",
    "\n",
    "The total path cost is the **sum of all visited cells**, including the start and end.\n",
    "\n",
    "---\n",
    "\n",
    "## 1️⃣ Naive Approach – Recursion\n",
    "\n",
    "- **Idea:**  \n",
    "  Explore all 3 valid directions recursively.\n",
    "- **Base Cases:**  \n",
    "  - If out of bounds → return infinity.\n",
    "  - If at destination → return cost of that cell.\n",
    "- **Recursive Case:**  \n",
    "  `min_cost(i, j) = cost[i][j] + min(right, down, diagonal)`\n",
    "\n",
    "### 🔧 Time Complexity:\n",
    "- `O(3^(m + n))` — due to 3-way branching.\n",
    "  \n",
    "### 💾 Space Complexity:\n",
    "- `O(m + n)` — call stack depth.\n",
    "\n",
    "---\n",
    "\n",
    "## 2️⃣ Better Approach – Memoization (Top-Down DP)\n",
    "\n",
    "- **Idea:**  \n",
    "  Store results of subproblems `(i, j)` to avoid recomputation.\n",
    "- **Tool:**  \n",
    "  Use a memoization dictionary or a 2D DP table.\n",
    "\n",
    "### 🔧 Time Complexity:\n",
    "- `O(m * n)` — each state `(i, j)` computed once.\n",
    "\n",
    "### 💾 Space Complexity:\n",
    "- `O(m * n)` — for memo table + recursion stack.\n",
    "\n",
    "---\n",
    "\n",
    "## 3️⃣ Optimal Approach – Tabulation (Bottom-Up DP)\n",
    "\n",
    "- **Idea:**  \n",
    "  Build a DP table `dp[i][j]` where each cell holds the min cost to reach the destination from `(i, j)`.\n",
    "- **Initialization:**  \n",
    "  - Bottom-right cell = its cost.\n",
    "  - Last row/column = cumulative cost (only 1 way to move).\n",
    "- **Transition:**  \n",
    "  `dp[i][j] = cost[i][j] + min(dp[i+1][j], dp[i][j+1], dp[i+1][j+1])`\n",
    "\n",
    "### 🔧 Time Complexity:\n",
    "- `O(m * n)` — every cell visited once.\n",
    "\n",
    "### 💾 Space Complexity:\n",
    "- `O(m * n)` — for the DP table.\n",
    "\n",
    "> 🧠 This method is the most efficient and scalable.\n",
    "\n",
    "---\n",
    "\n",
    "## 📌 Summary Table\n",
    "\n",
    "| Method        | Time Complexity | Space Complexity | Notes                      |\n",
    "|---------------|------------------|------------------|----------------------------|\n",
    "| Recursion     | O(3^(m+n))       | O(m+n)           | Brute force, very slow     |\n",
    "| Memoization   | O(m × n)         | O(m × n)         | Top-down DP with cache     |\n",
    "| Tabulation    | O(m × n)         | O(m × n)         | Bottom-up, most efficient  |\n",
    "\n",
    "---\n",
    "\n",
    "## 🧪 Sample Input\n",
    "\n",
    "```python\n",
    "cost = [\n",
    "    [1, 2, 3],\n",
    "    [4, 8, 2],\n",
    "    [1, 5, 3]\n",
    "]\n"
   ]
  },
  {
   "cell_type": "code",
   "execution_count": 235,
   "id": "5447bc09-7934-417a-97a6-fa65ec29239a",
   "metadata": {},
   "outputs": [],
   "source": [
    "def min_cost_path_space_optimized(cost):\n",
    "    m, n = len(cost), len(cost[0])\n",
    "    \n",
    "    # Initialize dp as the last row of the matrix\n",
    "    dp = [0] * n\n",
    "    \n",
    "    # Fill base case for the last row\n",
    "    dp[n - 1] = cost[m - 1][n - 1]\n",
    "    \n",
    "    # Fill last row from right to left\n",
    "    for j in range(n - 2, -1, -1):\n",
    "        dp[j] = cost[m - 1][j] + dp[j + 1]\n",
    "    \n",
    "    # Process remaining rows from bottom to top\n",
    "    for i in range(m - 2, -1, -1):\n",
    "        new_dp = [0] * n\n",
    "        new_dp[n - 1] = cost[i][n - 1] + dp[n - 1]  # last column\n",
    "        for j in range(n - 2, -1, -1):\n",
    "            new_dp[j] = cost[i][j] + min(dp[j], new_dp[j + 1], dp[j + 1])\n",
    "        dp = new_dp  # move to the next row up\n",
    "    \n",
    "    return dp[0]\n"
   ]
  },
  {
   "cell_type": "markdown",
   "id": "9c229fff-f8ac-43c5-8654-6af343a80480",
   "metadata": {},
   "source": [
    "# 🧮 Min Cost Path – Space Optimized DP\n",
    "\n",
    "---\n",
    "\n",
    "## 🚀 Optimal Approach – Space Optimized Tabulation\n",
    "\n",
    "- **Idea:**  \n",
    "  Use a 1D array instead of a full 2D DP table to store only the necessary previous row values.\n",
    "- **Why it works:**  \n",
    "  At any point, you only need values from:\n",
    "  - The current row (`new_dp`)\n",
    "  - The row below (`dp`)\n",
    "- **Transition Formula:**  \n",
    "  dp[j] = cost[i][j] + min(\n",
    "      dp[j],         # down\n",
    "      new_dp[j + 1], # right\n",
    "      dp[j + 1]      # diagonal\n",
    "  )\n",
    "  \n",
    "  \n",
    "| Approach                   | Time Complexity | Space Complexity | Notes                      |\n",
    "| -------------------------- | --------------- | ---------------- | -------------------------- |\n",
    "| Space-Optimized Tabulation | O(m × n)        | O(n)             | Most efficient in practice |\n",
    "\n"
   ]
  },
  {
   "cell_type": "code",
   "execution_count": 236,
   "id": "14259cff-1229-49f4-bd81-66d63cac536c",
   "metadata": {},
   "outputs": [
    {
     "name": "stdout",
     "output_type": "stream",
     "text": [
      "Min cost (Space Optimized): 8\n"
     ]
    }
   ],
   "source": [
    "cost = [\n",
    "    [1, 2, 3],\n",
    "    [4, 8, 2],\n",
    "    [1, 5, 3]\n",
    "]\n",
    "\n",
    "print(\"Min cost (Space Optimized):\", min_cost_path_space_optimized(cost))\n",
    "# Output: 8\n"
   ]
  },
  {
   "cell_type": "markdown",
   "id": "78ece76d-b43a-43c4-9e48-d22a296a7a1e",
   "metadata": {},
   "source": [
    "### Subset Sum Problem\n",
    "\n",
    "Given an array arr[] of non-negative integers and a value sum, the task is to check if there is a subset of the given array whose sum is equal to the given sum. \n",
    "\n",
    "Examples: \n",
    "\n",
    "Input: arr[] = [3, 34, 4, 12, 5, 2], sum = 9\n",
    "Output: True\n",
    "Explanation: There is a subset (4, 5) with sum 9.\n",
    "\n",
    "Input: arr[] = [3, 34, 4, 12, 5, 2], sum = 30\n",
    "Output: False\n",
    "Explanation: There is no subset that add up to 30."
   ]
  },
  {
   "cell_type": "code",
   "execution_count": 237,
   "id": "00dff813-f7ec-48db-a895-147bbd492303",
   "metadata": {},
   "outputs": [],
   "source": [
    "def subset_sum_recursive(arr, n, total):\n",
    "    if total == 0:\n",
    "        return True\n",
    "    if n == 0:\n",
    "        return arr[0] == total\n",
    "    if arr[n] > total:\n",
    "        return subset_sum_recursive(arr, n - 1, total)\n",
    "    \n",
    "    # Include or exclude current element\n",
    "    return subset_sum_recursive(arr, n - 1, total) or \\\n",
    "           subset_sum_recursive(arr, n - 1, total - arr[n])\n"
   ]
  },
  {
   "cell_type": "code",
   "execution_count": 238,
   "id": "37349a0d-cbce-4b23-85e4-b508072306a7",
   "metadata": {},
   "outputs": [],
   "source": [
    "def subset_sum_memo(arr, total):\n",
    "    n = len(arr)\n",
    "    memo = {}\n",
    "\n",
    "    def dfs(i, t):\n",
    "        if t == 0:\n",
    "            return True\n",
    "        if i < 0:\n",
    "            return False\n",
    "        if (i, t) in memo:\n",
    "            return memo[(i, t)]\n",
    "        if arr[i] > t:\n",
    "            memo[(i, t)] = dfs(i - 1, t)\n",
    "        else:\n",
    "            memo[(i, t)] = dfs(i - 1, t) or dfs(i - 1, t - arr[i])\n",
    "        return memo[(i, t)]\n",
    "\n",
    "    return dfs(n - 1, total)\n"
   ]
  },
  {
   "cell_type": "code",
   "execution_count": 239,
   "id": "bc01ce31-57a7-483f-9ce1-36d86e8e8076",
   "metadata": {},
   "outputs": [],
   "source": [
    "def subset_sum_tabulation(arr, total):\n",
    "    n = len(arr)\n",
    "    dp = [[False] * (total + 1) for _ in range(n + 1)]\n",
    "    \n",
    "    for i in range(n + 1):\n",
    "        dp[i][0] = True  # Zero sum is always possible\n",
    "    \n",
    "    for i in range(1, n + 1):\n",
    "        for j in range(1, total + 1):\n",
    "            if arr[i - 1] > j:\n",
    "                dp[i][j] = dp[i - 1][j]\n",
    "            else:\n",
    "                dp[i][j] = dp[i - 1][j] or dp[i - 1][j - arr[i - 1]]\n",
    "    \n",
    "    return dp[n][total]\n"
   ]
  },
  {
   "cell_type": "code",
   "execution_count": 240,
   "id": "8d065e9f-bbdb-41ed-97c1-f96447191bc0",
   "metadata": {},
   "outputs": [],
   "source": [
    "def subset_sum_space_optimized(arr, total):\n",
    "    n = len(arr)\n",
    "    dp = [False] * (total + 1)\n",
    "    dp[0] = True\n",
    "\n",
    "    for num in arr:\n",
    "        for j in range(total, num - 1, -1):\n",
    "            dp[j] = dp[j] or dp[j - num]\n",
    "    \n",
    "    return dp[total]\n"
   ]
  },
  {
   "cell_type": "code",
   "execution_count": 241,
   "id": "09491e79-54fd-4948-b0f9-8a32018d5911",
   "metadata": {},
   "outputs": [
    {
     "name": "stdout",
     "output_type": "stream",
     "text": [
      "Recursive: True\n",
      "Memoization: True\n",
      "Tabulation: True\n",
      "Space Optimized: True\n"
     ]
    }
   ],
   "source": [
    "arr = [3, 34, 4, 12, 5, 2]\n",
    "target = 9\n",
    "\n",
    "print(\"Recursive:\", subset_sum_recursive(arr, len(arr) - 1, target))\n",
    "print(\"Memoization:\", subset_sum_memo(arr, target))\n",
    "print(\"Tabulation:\", subset_sum_tabulation(arr, target))\n",
    "print(\"Space Optimized:\", subset_sum_space_optimized(arr, target))\n"
   ]
  },
  {
   "cell_type": "markdown",
   "id": "81907fc9-4644-4c46-81bd-9633f2751402",
   "metadata": {},
   "source": [
    "# 🎯 Subset Sum Problem – 4 Approaches\n",
    "\n",
    "---\n",
    "\n",
    "## ✅ Problem Statement\n",
    "\n",
    "Given an array `arr[]` of non-negative integers and a value `sum`, determine whether there exists a **subset** of elements that sums up to `sum`.\n",
    "\n",
    "---\n",
    "\n",
    "## 1️⃣ Recursive Approach\n",
    "\n",
    "- Try all subsets using include/exclude recursion.\n",
    "- **Time:** O(2ⁿ)\n",
    "- **Space:** O(n) (call stack)\n",
    "\n",
    "---\n",
    "\n",
    "## 2️⃣ Memoization (Top-Down DP)\n",
    "\n",
    "- Use recursion + cache to avoid redundant calls.\n",
    "- **Time:** O(n × sum)\n",
    "- **Space:** O(n × sum)\n",
    "\n",
    "---\n",
    "\n",
    "## 3️⃣ Tabulation (Bottom-Up DP)\n",
    "\n",
    "- Build a 2D table `dp[i][j]` = True if subset sum `j` is possible with first `i` elements.\n",
    "- **Time:** O(n × sum)\n",
    "- **Space:** O(n × sum)\n",
    "\n",
    "---\n",
    "\n",
    "## 4️⃣ Space-Optimized DP\n",
    "\n",
    "- Use a 1D array instead of full 2D table.\n",
    "- Traverse `dp[]` in reverse to update current state.\n",
    "- **Time:** O(n × sum)\n",
    "- **Space:** O(sum)\n",
    "\n",
    "---\n",
    "\n",
    "## 🧪 Example\n",
    "\n",
    "```python\n",
    "arr = [3, 34, 4, 12, 5, 2]\n",
    "sum = 9\n"
   ]
  },
  {
   "cell_type": "markdown",
   "id": "09a70bfc-d283-463f-ac81-e0a83aa0b6a8",
   "metadata": {},
   "source": [
    "### Coin Change - Count Ways to Make Sum\n",
    "\n",
    "Given an integer array of coins[] of size n representing different types of denominations and an integer sum, the task is to count all combinations of coins to make a given value sum.  \n",
    "\n",
    "Note: Assume that you have an infinite supply of each type of coin. "
   ]
  },
  {
   "cell_type": "markdown",
   "id": "39cf9009-09aa-4873-8db3-e822aa19667e",
   "metadata": {},
   "source": [
    "# 🪙 Coin Change – Count Number of Ways\n",
    "\n",
    "---\n",
    "\n",
    "## 🧠 Problem Statement\n",
    "\n",
    "Given an array `coins[]` of different denominations and an integer `sum`, count the number of ways to make up that sum using the coins. You may use any number of coins of a given denomination.\n",
    "\n",
    "---\n",
    "\n",
    "## 🔢 Example:\n",
    "\n",
    "```python\n",
    "coins = [1, 2, 3]\n",
    "sum = 4\n",
    "```\n",
    "\n",
    "Output: `4`  \n",
    "Ways: `[1+1+1+1], [1+1+2], [2+2], [1+3]`\n",
    "\n",
    "---\n",
    "\n",
    "## 1️⃣ Recursive Approach\n",
    "\n",
    "- Explore all combinations recursively.\n",
    "- Include current coin or skip it.\n",
    "\n",
    "⏱️ **Time Complexity**: `O(2^(n+sum))`  \n",
    "💾 **Space Complexity**: `O(sum)` (call stack)\n",
    "\n",
    "---\n",
    "\n",
    "## 2️⃣ Memoization (Top-Down DP)\n",
    "\n",
    "- Cache subproblem results `(index, target)`.\n",
    "- Avoids recomputation.\n",
    "\n",
    "⏱️ **Time Complexity**: `O(n × sum)`  \n",
    "💾 **Space Complexity**: `O(n × sum)` (cache + recursion stack)\n",
    "\n",
    "---\n",
    "\n",
    "## 3️⃣ Tabulation (Bottom-Up DP)\n",
    "\n",
    "- Build `dp[i][j]` table where `i` is index in coins, and `j` is target sum.\n",
    "- `dp[i][j]` = number of ways to make sum `j` with first `i` coins.\n",
    "\n",
    "⏱️ **Time Complexity**: `O(n × sum)`  \n",
    "💾 **Space Complexity**: `O(n × sum)`\n",
    "\n",
    "---\n",
    "\n",
    "## 4️⃣ Space-Optimized DP\n",
    "\n",
    "- Use a 1D array of size `sum + 1`.\n",
    "- Update it in-place for each coin.\n",
    "\n",
    "⏱️ **Time Complexity**: `O(n × sum)`  \n",
    "💾 **Space Complexity**: `O(sum)`\n",
    "\n",
    "---\n",
    "\n",
    "## 📊 Summary\n",
    "\n",
    "| Method                | Time Complexity | Space Complexity | Notes                         |\n",
    "|------------------------|----------------|------------------|-------------------------------|\n",
    "| Recursive              | Exponential     | O(sum)           | Simple, slow                  |\n",
    "| Memoization            | O(n × sum)      | O(n × sum)       | Efficient, uses recursion     |\n",
    "| Tabulation             | O(n × sum)      | O(n × sum)       | Iterative and efficient       |\n",
    "| Space-Optimized        | O(n × sum)      | O(sum)           | Best for large inputs         |\n",
    "\n",
    "---\n",
    "\n",
    "## 🔁 Function Call Example\n",
    "\n",
    "```python\n",
    "coins = [1, 2, 3]\n",
    "total = 4\n",
    "\n",
    "print(\"Recursive:\", coin_change_recursive(coins, len(coins), total))\n",
    "print(\"Memoization:\", coin_change_memo(coins, total))\n",
    "print(\"Tabulation:\", coin_change_tabulation(coins, total))\n",
    "print(\"Space Optimized:\", coin_change_space_optimized(coins, total))\n",
    "```\n",
    "\n",
    "---\n"
   ]
  },
  {
   "cell_type": "code",
   "execution_count": 85,
   "id": "403fafd6-5eea-4d24-8b5a-f6eb7a3fd3e4",
   "metadata": {},
   "outputs": [],
   "source": [
    "def coin_change_recursive(coins, n, total):\n",
    "    if total == 0:\n",
    "        return 1\n",
    "    if n == 0:\n",
    "        return 0\n",
    "    if coins[n - 1] > total:\n",
    "        return coin_change_recursive(coins, n - 1, total)\n",
    "    # Include + Exclude\n",
    "    return coin_change_recursive(coins, n, total - coins[n - 1]) + \\\n",
    "           coin_change_recursive(coins, n - 1, total)\n"
   ]
  },
  {
   "cell_type": "code",
   "execution_count": 81,
   "id": "c6b51035-a3a4-40a1-8afb-43ebf7ecf51b",
   "metadata": {},
   "outputs": [],
   "source": [
    "def coin_change_memo(coins, total):\n",
    "    n = len(coins)\n",
    "    memo = {}\n",
    "\n",
    "    def dfs(i, t):\n",
    "        if t == 0:\n",
    "            return 1\n",
    "        if i == n:\n",
    "            return 0\n",
    "        if (i, t) in memo:\n",
    "            return memo[(i, t)]\n",
    "        # Don't pick current coin\n",
    "        ways = dfs(i + 1, t)\n",
    "        # Pick current coin\n",
    "        if coins[i] <= t:\n",
    "            ways += dfs(i, t - coins[i])\n",
    "        memo[(i, t)] = ways\n",
    "        return ways\n",
    "\n",
    "    return dfs(0, total)\n"
   ]
  },
  {
   "cell_type": "code",
   "execution_count": 82,
   "id": "0f78138d-3f8a-494d-abc0-34a4d90505ad",
   "metadata": {},
   "outputs": [],
   "source": [
    "def coin_change_tabulation(coins, total):\n",
    "    n = len(coins)\n",
    "    dp = [[0] * (total + 1) for _ in range(n + 1)]\n",
    "    \n",
    "    # Base case: 1 way to make sum 0\n",
    "    for i in range(n + 1):\n",
    "        dp[i][0] = 1\n",
    "\n",
    "    for i in range(1, n + 1):\n",
    "        for j in range(total + 1):\n",
    "            # Don't take current coin\n",
    "            dp[i][j] = dp[i - 1][j]\n",
    "            # Take current coin\n",
    "            if coins[i - 1] <= j:\n",
    "                dp[i][j] += dp[i][j - coins[i - 1]]\n",
    "    \n",
    "    return dp[n][total]\n"
   ]
  },
  {
   "cell_type": "code",
   "execution_count": 83,
   "id": "ef9a4fa6-b46f-449b-a3a0-ef553f582785",
   "metadata": {},
   "outputs": [],
   "source": [
    "def coin_change_space_optimized(coins, total):\n",
    "    dp = [0] * (total + 1)\n",
    "    dp[0] = 1  # Base case\n",
    "\n",
    "    for coin in coins:\n",
    "        for j in range(coin, total + 1):\n",
    "            dp[j] += dp[j - coin]\n",
    "\n",
    "    return dp[total]\n"
   ]
  },
  {
   "cell_type": "code",
   "execution_count": 84,
   "id": "eed54b3f-3cb2-4e4e-8680-709648e29be2",
   "metadata": {},
   "outputs": [
    {
     "name": "stdout",
     "output_type": "stream",
     "text": [
      "Recursive: 4\n",
      "Memoization: 4\n",
      "Tabulation: 4\n",
      "Space Optimized: 4\n"
     ]
    }
   ],
   "source": [
    "coins = [1, 2, 3]\n",
    "total = 4\n",
    "\n",
    "print(\"Recursive:\", coin_change_recursive(coins, len(coins), total))\n",
    "print(\"Memoization:\", coin_change_memo(coins, total))\n",
    "print(\"Tabulation:\", coin_change_tabulation(coins, total))\n",
    "print(\"Space Optimized:\", coin_change_space_optimized(coins, total))\n"
   ]
  },
  {
   "cell_type": "markdown",
   "id": "4685bcf3-656e-4a80-8997-4de459738e4e",
   "metadata": {},
   "source": [
    "### Coin Change - Minimum Coins to Make Sum\n",
    "\n",
    "Given an array of coins[] of size n and a target value sum, where coins[i] represent the coins of different denominations. You have an infinite supply of each of the coins. The task is to find the minimum number of coins required to make the given value sum. If it is not possible to form the sum using the given coins, return -1."
   ]
  },
  {
   "cell_type": "markdown",
   "id": "1772c1d0-2655-46e1-b5b9-6abeb910ab60",
   "metadata": {},
   "source": [
    "# 🪙 Coin Change – Minimum Coins to Make Sum\n",
    "\n",
    "---\n",
    "\n",
    "## 🧠 Problem Statement\n",
    "\n",
    "Given an array `coins[]` and a target value `sum`, return the **minimum number of coins** required to make the sum. You may use **infinite supply** of each coin.\n",
    "\n",
    "- If it's **not possible** to make the sum → return `-1`.\n",
    "\n",
    "---\n",
    "\n",
    "## 🔢 Example\n",
    "\n",
    "```python\n",
    "coins = [1, 2, 5]\n",
    "sum = 11\n",
    "Output: 3  # (5 + 5 + 1)\n",
    "\n",
    "coins = [2]\n",
    "sum = 3\n",
    "Output: -1\n",
    "```\n",
    "\n",
    "---\n",
    "\n",
    "## 1️⃣ Recursive Approach\n",
    "\n",
    "- Try subtracting each coin recursively.\n",
    "- Base Case: `sum = 0` → 0 coins.\n",
    "- If `sum < 0`, return infinity.\n",
    "\n",
    "⏱️ Time: `O(n^sum)` (Exponential)  \n",
    "💾 Space: `O(sum)` (call stack)\n",
    "\n",
    "---\n",
    "\n",
    "## 2️⃣ Memoization (Top-Down DP)\n",
    "\n",
    "- Cache results for each target sum.\n",
    "- Avoid recomputation.\n",
    "\n",
    "⏱️ Time: `O(n × sum)`  \n",
    "💾 Space: `O(sum)` (memo + recursion stack)\n",
    "\n",
    "---\n",
    "\n",
    "## 3️⃣ Tabulation (Bottom-Up DP)\n",
    "\n",
    "- Use a 1D `dp[]` array.\n",
    "- `dp[i] = min(dp[i], 1 + dp[i - coin])` for all `coin <= i`\n",
    "\n",
    "⏱️ Time: `O(n × sum)`  \n",
    "💾 Space: `O(sum)`\n",
    "\n",
    "---\n",
    "\n",
    "## 4️⃣ Space Optimized DP\n",
    "\n",
    "- Tabulation is already optimized with `O(sum)` space.\n",
    "- No additional reduction needed.\n",
    "\n",
    "---\n",
    "\n",
    "## 📊 Summary\n",
    "\n",
    "| Method         | Time Complexity | Space Complexity | Notes                     |\n",
    "|----------------|-----------------|------------------|---------------------------|\n",
    "| Recursive      | Exponential     | O(sum)           | Simple but slow           |\n",
    "| Memoization    | O(n × sum)      | O(sum)           | Fast and memory efficient |\n",
    "| Tabulation     | O(n × sum)      | O(sum)           | Iterative and efficient   |\n",
    "| Space-Optimized| O(n × sum)      | O(sum)           | Same as tabulation        |\n",
    "\n",
    "---\n",
    "\n",
    "## 🔁 Function Call Example\n",
    "\n",
    "```python\n",
    "coins = [1, 2, 5]\n",
    "sum = 11\n",
    "\n",
    "print(\"Recursive:\", min_coins_recursive(coins, len(coins), sum))\n",
    "print(\"Memoization:\", min_coins_memo(coins, sum))\n",
    "print(\"Tabulation:\", min_coins_tabulation(coins, sum))\n",
    "```\n",
    "\n",
    "---\n",
    "\n"
   ]
  },
  {
   "cell_type": "code",
   "execution_count": 68,
   "id": "d782400d-51f1-4c98-9239-68263dacc4a9",
   "metadata": {},
   "outputs": [],
   "source": [
    "def min_coins_recursive(coins, n, total):\n",
    "    if total == 0:\n",
    "        return 0\n",
    "    if total < 0:\n",
    "        return float('inf')\n",
    "\n",
    "    min_coins = float('inf')\n",
    "    for i in range(n):\n",
    "        res = min_coins_recursive(coins, n, total - coins[i])\n",
    "        if res != float('inf'):\n",
    "            min_coins = min(min_coins, 1 + res)\n",
    "\n",
    "    return min_coins\n"
   ]
  },
  {
   "cell_type": "code",
   "execution_count": 69,
   "id": "843b94b8-be33-4762-a86e-aac147215289",
   "metadata": {},
   "outputs": [],
   "source": [
    "def min_coins_memo(coins, total):\n",
    "    memo = {}\n",
    "\n",
    "    def dfs(t):\n",
    "        if t == 0:\n",
    "            return 0\n",
    "        if t < 0:\n",
    "            return float('inf')\n",
    "        if t in memo:\n",
    "            return memo[t]\n",
    "\n",
    "        min_coins = float('inf')\n",
    "        for coin in coins:\n",
    "            res = dfs(t - coin)\n",
    "            if res != float('inf'):\n",
    "                min_coins = min(min_coins, 1 + res)\n",
    "\n",
    "        memo[t] = min_coins\n",
    "        return memo[t]\n",
    "\n",
    "    ans = dfs(total)\n",
    "    return -1 if ans == float('inf') else ans\n"
   ]
  },
  {
   "cell_type": "code",
   "execution_count": 70,
   "id": "ede55d09-66a2-42ab-a37f-5afd8bb13c91",
   "metadata": {},
   "outputs": [],
   "source": [
    "def min_coins_tabulation(coins, total):\n",
    "    dp = [float('inf')] * (total + 1)\n",
    "    dp[0] = 0  # base case\n",
    "\n",
    "    for i in range(1, total + 1):\n",
    "        for coin in coins:\n",
    "            if i >= coin:\n",
    "                dp[i] = min(dp[i], 1 + dp[i - coin])\n",
    "\n",
    "    return -1 if dp[total] == float('inf') else dp[total]\n"
   ]
  },
  {
   "cell_type": "code",
   "execution_count": 71,
   "id": "cedadba4-f644-49ac-b37a-6f182d3b4dcd",
   "metadata": {},
   "outputs": [
    {
     "name": "stdout",
     "output_type": "stream",
     "text": [
      "Recursive: 3\n",
      "Memoization: 3\n",
      "Tabulation: 3\n"
     ]
    }
   ],
   "source": [
    "coins = [1, 2, 5]\n",
    "total = 11\n",
    "\n",
    "print(\"Recursive:\", min_coins_recursive(coins, len(coins), total))  # Might be slow\n",
    "print(\"Memoization:\", min_coins_memo(coins, total))\n",
    "print(\"Tabulation:\", min_coins_tabulation(coins, total))\n"
   ]
  },
  {
   "cell_type": "markdown",
   "id": "9dc1be79-d4a7-41f7-8693-c2690e9448cf",
   "metadata": {},
   "source": [
    "### Painting Fence Algorithm\n",
    "\n",
    "Given a fence with n posts and k colors, the task is to find out the number of ways of painting the fence so that not more than two consecutive posts have the same color.\n",
    "\n",
    "Examples:\n",
    "\n",
    "Input: n = 2, k = 4\n",
    "Output: 16\n",
    "Explanation: We have 4 colors and 2 posts.\n",
    "Ways when both posts have same color: 4 \n",
    "Ways when both posts have diff color: 4(choices for 1st post) * 3(choices for 2nd post) = 12\n",
    "\n",
    "Input: n = 3, k = 2\n",
    "Output: 6"
   ]
  },
  {
   "cell_type": "markdown",
   "id": "7dd09fee-b4c4-4653-91c5-36bbfdd33a3c",
   "metadata": {},
   "source": [
    "# 🎨 Painting Fence Algorithm\n",
    "\n",
    "---\n",
    "\n",
    "## 🧠 Problem Statement\n",
    "\n",
    "- Given `n` fence posts and `k` colors.\n",
    "- Find the number of ways to paint the fence such that **no more than two adjacent posts have the same color**.\n",
    "\n",
    "---\n",
    "\n",
    "## 🔢 Examples\n",
    "\n",
    "- **Example 1:**  \n",
    "  `n = 2, k = 4` → Output: 16  \n",
    "  Ways where both posts have same color: 4  \n",
    "  Ways where posts have different colors: 4 × 3 = 12\n",
    "\n",
    "- **Example 2:**  \n",
    "  `n = 3, k = 2` → Output: 6\n",
    "\n",
    "---\n",
    "\n",
    "## 1️⃣ Recursive Approach (Naive)\n",
    "\n",
    "- Base cases:  \n",
    "  - For 1 post, ways = `k`  \n",
    "  - For 2 posts, ways = `k * k`\n",
    "- For `n > 2`, use the recurrence:  \n",
    "  - Total ways for `n` = (ways for `n-1` + ways for `n-2`) × (k - 1)  \n",
    "- Explores all possible combinations recursively.\n",
    "- Exponential time complexity due to repeated calculations.\n",
    "\n",
    "---\n",
    "\n",
    "## 2️⃣ Memoization (Top-Down DP)\n",
    "\n",
    "- Same recurrence as recursion, but stores intermediate results in a cache (memo).\n",
    "- Avoids recomputation by returning cached results.\n",
    "- Reduces time complexity from exponential to linear (`O(n)`).\n",
    "- Uses extra space for memo storage and recursion stack.\n",
    "\n",
    "---\n",
    "\n",
    "## 3️⃣ Tabulation (Bottom-Up DP)\n",
    "\n",
    "- Builds the solution iteratively starting from base cases.\n",
    "- Maintains two variables to keep track of ways for last two posts (`n-1` and `n-2`).\n",
    "- For each post `i` from 3 to `n`:  \n",
    "  - Calculate ways using `(ways[i-1] + ways[i-2]) * (k - 1)`.\n",
    "- Time complexity is linear (`O(n)`).\n",
    "- Space complexity optimized to `O(1)` using variables instead of arrays.\n",
    "\n",
    "---\n",
    "\n",
    "## 📊 Complexity Summary\n",
    "\n",
    "| Approach     | Time Complexity | Space Complexity |\n",
    "|--------------|-----------------|------------------|\n",
    "| Recursive    | Exponential     | O(n)             |\n",
    "| Memoization  | O(n)            | O(n)             |\n",
    "| Tabulation   | O(n)            | O(1)             |\n",
    "\n",
    "---\n"
   ]
  },
  {
   "cell_type": "code",
   "execution_count": 72,
   "id": "e66f11a3-f2f9-4339-a4c9-10b8c24356b0",
   "metadata": {},
   "outputs": [],
   "source": [
    "def painting_fence_recursive(n, k):\n",
    "    if n == 1:\n",
    "        return k\n",
    "    if n == 2:\n",
    "        return k * k\n",
    "\n",
    "    return (painting_fence_recursive(n - 1, k) + painting_fence_recursive(n - 2, k)) * (k - 1)\n"
   ]
  },
  {
   "cell_type": "code",
   "execution_count": 73,
   "id": "d6746e6e-84a0-4b8b-bba7-e92f9df595e6",
   "metadata": {},
   "outputs": [],
   "source": [
    "def painting_fence_memo(n, k):\n",
    "    memo = {}\n",
    "\n",
    "    def dp(i):\n",
    "        if i == 1:\n",
    "            return k\n",
    "        if i == 2:\n",
    "            return k * k\n",
    "        if i in memo:\n",
    "            return memo[i]\n",
    "        memo[i] = (dp(i - 1) + dp(i - 2)) * (k - 1)\n",
    "        return memo[i]\n",
    "\n",
    "    return dp(n)\n"
   ]
  },
  {
   "cell_type": "code",
   "execution_count": 74,
   "id": "bbf73f7f-6c7c-43e2-ac70-ba5a1e9a4a50",
   "metadata": {},
   "outputs": [],
   "source": [
    "def painting_fence(n, k):\n",
    "    if n == 1:\n",
    "        return k\n",
    "    if n == 2:\n",
    "        return k * k\n",
    "\n",
    "    same = k  # ways to paint first two with same color\n",
    "    diff = k * (k - 1)  # ways to paint first two with different colors\n",
    "    total = same + diff\n",
    "\n",
    "    for i in range(3, n + 1):\n",
    "        same = diff\n",
    "        diff = total * (k - 1)\n",
    "        total = same + diff\n",
    "\n",
    "    return total\n"
   ]
  },
  {
   "cell_type": "code",
   "execution_count": 75,
   "id": "ba8d7b01-232e-49d0-84fe-1075ecfea5b2",
   "metadata": {},
   "outputs": [
    {
     "name": "stdout",
     "output_type": "stream",
     "text": [
      "Recursive: 6\n",
      "Memoization: 6\n",
      "Tabulation: 6\n"
     ]
    }
   ],
   "source": [
    "n = 3\n",
    "k = 2\n",
    "\n",
    "print(\"Recursive:\", painting_fence_recursive(n, k))\n",
    "print(\"Memoization:\", painting_fence_memo(n, k))\n",
    "print(\"Tabulation:\", painting_fence(n, k))  # from earlier\n"
   ]
  },
  {
   "cell_type": "markdown",
   "id": "8e23433c-efc4-40ac-a996-363c97dffda0",
   "metadata": {},
   "source": [
    "### Rod Cutting\n",
    "\n",
    "Given a rod of length n inches and an array price[]. price[i] denotes the value of a piece of length i. The task is to determine the maximum value obtainable by cutting up the rod and selling the pieces.\n",
    "\n",
    "Note: price[] is 1-indexed array.\n",
    "\n",
    "Input: price[] =  [1, 5, 8, 9, 10, 17, 17, 20]\n",
    "Output: 22\n",
    "Explanation:  The maximum obtainable value is 22 by cutting in two pieces of lengths 2 and 6, i.e., 5 + 17 = 22.\n",
    "\n",
    "Input : price[] =  [3, 5, 8, 9, 10, 17, 17, 20]\n",
    "Output : 24\n",
    "Explanation : The maximum obtainable value is 24 by cutting the rod into 8 pieces of length 1, i.e, 8*price[1]= 8*3 = 24.\n",
    "\n",
    "Input : price[] =  [3]\n",
    "Output : 3\n",
    "Explanation: There is only 1 way to pick a piece of length 1."
   ]
  },
  {
   "cell_type": "markdown",
   "id": "cfeb9146-bb45-4b3c-8262-87ee6d48afc1",
   "metadata": {},
   "source": [
    "# 🪓 Rod Cutting Problem\n",
    "\n",
    "---\n",
    "\n",
    "## 🧠 Problem Statement\n",
    "\n",
    "- Given a rod of length `n` inches and a price array `price[]` of size `n`.\n",
    "- `price[i]` denotes the value of a rod piece of length `i+1` (1-indexed).\n",
    "- Task: Determine the maximum value obtainable by cutting the rod into pieces and selling them.\n",
    "\n",
    "---\n",
    "\n",
    "## 🔢 Examples\n",
    "\n",
    "- **Example 1:**  \n",
    "  Input: `price = [1, 5, 8, 9, 10, 17, 17, 20]` (length 8)  \n",
    "  Output: `22`  \n",
    "  Explanation: Cut the rod into lengths 2 and 6 → 5 + 17 = 22\n",
    "\n",
    "- **Example 2:**  \n",
    "  Input: `price = [3, 5, 8, 9, 10, 17, 17, 20]` (length 8)  \n",
    "  Output: `24`  \n",
    "  Explanation: Cut into 8 pieces of length 1 → 8 * 3 = 24\n",
    "\n",
    "- **Example 3:**  \n",
    "  Input: `price = [3]` (length 1)  \n",
    "  Output: `3`\n",
    "\n",
    "---\n",
    "\n",
    "## 1️⃣ Recursive Approach (Naive)\n",
    "\n",
    "- Consider all possible first cut lengths `i` from 1 to `n`.\n",
    "- Recursively solve for remaining length `n - i`.\n",
    "- Calculate maximum value by trying all cuts.\n",
    "- Exponential time due to repeated subproblems.\n",
    "\n",
    "---\n",
    "\n",
    "## 2️⃣ Memoization (Top-Down DP)\n",
    "\n",
    "- Same recursive approach but store results of subproblems.\n",
    "- When a subproblem is solved once, reuse its result from cache.\n",
    "- Reduces time complexity to `O(n^2)`.\n",
    "\n",
    "---\n",
    "\n",
    "## 3️⃣ Tabulation (Bottom-Up DP)\n",
    "\n",
    "- Build the solution iteratively from smaller lengths up to `n`.\n",
    "- For each length `j` (from 1 to `n`), calculate max value by trying all cuts.\n",
    "- Use a DP array `dp[]` where `dp[j]` stores max value for length `j`.\n",
    "- Time complexity `O(n^2)`, space complexity `O(n)`.\n",
    "\n",
    "---\n",
    "\n",
    "## 4️⃣ Space Optimization\n",
    "\n",
    "- The tabulation method already uses only a 1D DP array of size `n + 1`.\n",
    "- Space optimized by default.\n",
    "\n",
    "---\n",
    "\n",
    "## 📊 Complexity Summary\n",
    "\n",
    "| Approach     | Time Complexity | Space Complexity |\n",
    "|--------------|-----------------|------------------|\n",
    "| Recursive    | Exponential     | O(n)             |\n",
    "| Memoization  | O(n^2)          | O(n)             |\n",
    "| Tabulation   | O(n^2)          | O(n)             |\n",
    "\n",
    "---\n",
    "\n",
    "## 🔁 Example Use Case\n",
    "\n",
    "- For a rod of length 8 and prices `[1, 5, 8, 9, 10, 17, 17, 20]`,  \n",
    "  the maximum obtainable value is `22` by cutting into lengths 2 and 6.\n",
    "\n",
    "---\n"
   ]
  },
  {
   "cell_type": "code",
   "execution_count": 76,
   "id": "94d5b77a-4e6f-457b-9e5d-7e5aac2339b9",
   "metadata": {},
   "outputs": [],
   "source": [
    "# 1️⃣ Recursive Solution (Naive)\n",
    "def rod_cutting_recursive(price, n):\n",
    "    if n == 0:\n",
    "        return 0\n",
    "    max_val = float('-inf')\n",
    "    for i in range(1, n + 1):\n",
    "        max_val = max(max_val, price[i - 1] + rod_cutting_recursive(price, n - i))\n",
    "    return max_val\n",
    "\n",
    "\n",
    "# 2️⃣ Memoization (Top-Down DP)\n",
    "def rod_cutting_memo(price, n):\n",
    "    memo = [-1] * (n + 1)\n",
    "\n",
    "    def dp(length):\n",
    "        if length == 0:\n",
    "            return 0\n",
    "        if memo[length] != -1:\n",
    "            return memo[length]\n",
    "\n",
    "        max_val = float('-inf')\n",
    "        for i in range(1, length + 1):\n",
    "            max_val = max(max_val, price[i - 1] + dp(length - i))\n",
    "        memo[length] = max_val\n",
    "        return max_val\n",
    "\n",
    "    return dp(n)\n",
    "\n",
    "\n",
    "# 3️⃣ Tabulation (Bottom-Up DP)\n",
    "def rod_cutting_tab(price, n):\n",
    "    dp = [0] * (n + 1)\n",
    "\n",
    "    for length in range(1, n + 1):\n",
    "        max_val = float('-inf')\n",
    "        for cut_length in range(1, length + 1):\n",
    "            max_val = max(max_val, price[cut_length - 1] + dp[length - cut_length])\n",
    "        dp[length] = max_val\n",
    "\n",
    "    return dp[n]\n"
   ]
  },
  {
   "cell_type": "code",
   "execution_count": 77,
   "id": "bfb9ec9a-923d-4608-bcf2-9f77eb5047be",
   "metadata": {},
   "outputs": [
    {
     "name": "stdout",
     "output_type": "stream",
     "text": [
      "Recursive: 22\n",
      "Memoization: 22\n",
      "Tabulation: 22\n"
     ]
    }
   ],
   "source": [
    "price = [1, 5, 8, 9, 10, 17, 17, 20]\n",
    "n = len(price)\n",
    "\n",
    "print(\"Recursive:\", rod_cutting_recursive(price, n))\n",
    "print(\"Memoization:\", rod_cutting_memo(price, n))\n",
    "print(\"Tabulation:\", rod_cutting_tab(price, n))\n"
   ]
  },
  {
   "cell_type": "markdown",
   "id": "1d47f2ca-a1db-4467-a047-1168b76f521d",
   "metadata": {},
   "source": [
    "### Longest Common Substring (Space optimized DP solution)\n",
    "\n",
    "Given two strings ‘s1‘ and ‘s2‘, find the length of the longest common substring. \n",
    "\n",
    "Example: \n",
    "\n",
    "Input: s1 = “GeeksforGeeks”, s2 = “GeeksQuiz” \n",
    "Output : 5 \n",
    "Explanation:\n",
    "The longest common substring is “Geeks” and is of length 5.\n",
    "\n",
    "Input: s1 = “abcdxyz”, s2 = “xyzabcd” \n",
    "Output : 4\n",
    "Explanation:\n",
    "The longest common substring is “abcd” and is of length 4.\n",
    "\n",
    "Input: s1 = “abc”, s2 = “” \n",
    "Output : 0."
   ]
  },
  {
   "cell_type": "code",
   "execution_count": 79,
   "id": "091b0dc5-9326-4969-876f-64f02d4506c9",
   "metadata": {},
   "outputs": [],
   "source": [
    "def longest_common_substring_space_optimized(s1, s2):\n",
    "    m, n = len(s1), len(s2)\n",
    "    dp = [0] * (n + 1)\n",
    "    max_len = 0\n",
    "\n",
    "    for i in range(1, m + 1):\n",
    "        # Traverse backwards to avoid overwriting dp[j-1] too early\n",
    "        for j in range(n, 0, -1):\n",
    "            if s1[i - 1] == s2[j - 1]:\n",
    "                dp[j] = dp[j - 1] + 1\n",
    "                max_len = max(max_len, dp[j])\n",
    "            else:\n",
    "                dp[j] = 0\n",
    "    return max_len\n"
   ]
  },
  {
   "cell_type": "code",
   "execution_count": 80,
   "id": "2c08c96a-8951-4f6d-9813-6fdb39faab08",
   "metadata": {},
   "outputs": [
    {
     "name": "stdout",
     "output_type": "stream",
     "text": [
      "2\n"
     ]
    }
   ],
   "source": [
    "s1 = \"abcde\"\n",
    "s2 = \"abfce\"\n",
    "print(longest_common_substring_space_optimized(s1, s2))  # Output: 2 (\"ab\")\n"
   ]
  },
  {
   "cell_type": "code",
   "execution_count": null,
   "id": "5cb6cc50-6346-4c86-aadc-da03bc715b70",
   "metadata": {},
   "outputs": [],
   "source": []
  }
 ],
 "metadata": {
  "kernelspec": {
   "display_name": "Python 3 (ipykernel)",
   "language": "python",
   "name": "python3"
  },
  "language_info": {
   "codemirror_mode": {
    "name": "ipython",
    "version": 3
   },
   "file_extension": ".py",
   "mimetype": "text/x-python",
   "name": "python",
   "nbconvert_exporter": "python",
   "pygments_lexer": "ipython3",
   "version": "3.9.15"
  }
 },
 "nbformat": 4,
 "nbformat_minor": 5
}
