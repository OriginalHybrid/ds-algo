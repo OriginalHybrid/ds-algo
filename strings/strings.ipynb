{
 "cells": [
  {
   "cell_type": "markdown",
   "id": "48b25292-bee0-44de-996f-8ba2741be4c4",
   "metadata": {},
   "source": [
    "### Insert characters in a string at a certain position"
   ]
  },
  {
   "cell_type": "code",
   "execution_count": 5,
   "id": "7dab6f1e-41e5-495f-a7db-31b0fa239a16",
   "metadata": {},
   "outputs": [],
   "source": [
    "def insert_chars(s, pos):\n",
    "    res = \"\"\n",
    "    j = 0\n",
    "    for i in range(len(s)):\n",
    "        if j < len(pos) and i == pos[j] :\n",
    "            res += '*'\n",
    "            j += 1\n",
    "        res += s[i]\n",
    "    return res"
   ]
  },
  {
   "cell_type": "code",
   "execution_count": 6,
   "id": "506f5aec-8fbb-40b1-af0a-ca3504ef2909",
   "metadata": {},
   "outputs": [
    {
     "data": {
      "text/plain": [
       "'g*eeks*fo*rg*eeks'"
      ]
     },
     "execution_count": 6,
     "metadata": {},
     "output_type": "execute_result"
    }
   ],
   "source": [
    "string = \"geeksforgeeks\"\n",
    "pos = [ 1, 5, 7, 9 ]\n",
    "\n",
    "insert_chars(string, pos)"
   ]
  },
  {
   "cell_type": "markdown",
   "id": "bb434ff7-bd79-4b10-abe2-7195693ec530",
   "metadata": {},
   "source": [
    "### All substrings of a given String"
   ]
  },
  {
   "cell_type": "code",
   "execution_count": 8,
   "id": "e0c43059-1e95-4548-b5fc-5340dc448356",
   "metadata": {},
   "outputs": [],
   "source": [
    "def print_substr(s):\n",
    "    res = []\n",
    "    n = len(s)\n",
    "    for i in range(n):\n",
    "        sub = \"\"\n",
    "        for j in range(i, n):\n",
    "            sub += s[j]\n",
    "            res.append(sub)\n",
    "    return res "
   ]
  },
  {
   "cell_type": "code",
   "execution_count": 9,
   "id": "59cf97a5-a41e-426a-a899-f533586eb496",
   "metadata": {},
   "outputs": [
    {
     "data": {
      "text/plain": [
       "['a', 'ab', 'abc', 'b', 'bc', 'c']"
      ]
     },
     "execution_count": 9,
     "metadata": {},
     "output_type": "execute_result"
    }
   ],
   "source": [
    "s = \"abc\"\n",
    "print_substr(s)"
   ]
  },
  {
   "cell_type": "markdown",
   "id": "b742ab78-e127-44cd-85b1-f8da81155815",
   "metadata": {},
   "source": [
    "### Camel case of a given sentence"
   ]
  },
  {
   "cell_type": "code",
   "execution_count": 10,
   "id": "5df7ff9c-6904-4a60-a8df-5171db0ba00f",
   "metadata": {},
   "outputs": [],
   "source": [
    "def came_case(s):\n",
    "    i = 0\n",
    "    res = \"\"\n",
    "    while i < len(s):\n",
    "        if s[i] == ' ':\n",
    "            i += 1\n",
    "            res += s[i].upper()\n",
    "        else:\n",
    "            res += s[i]\n",
    "        i += 1\n",
    "    \n",
    "    return res"
   ]
  },
  {
   "cell_type": "code",
   "execution_count": 11,
   "id": "b5e937b8-1fa5-4dd1-a494-723f3a5771e0",
   "metadata": {},
   "outputs": [
    {
     "data": {
      "text/plain": [
       "'iGotInternAtGeeksforgeeks'"
      ]
     },
     "execution_count": 11,
     "metadata": {},
     "output_type": "execute_result"
    }
   ],
   "source": [
    "s = \"i got intern at geeksforgeeks\"\n",
    "came_case(s)"
   ]
  },
  {
   "cell_type": "markdown",
   "id": "47556a1f-709b-4020-939c-9016c9abe0f7",
   "metadata": {},
   "source": [
    "### Count of substrings that start and end with 1 in given Binary String"
   ]
  },
  {
   "cell_type": "code",
   "execution_count": 14,
   "id": "f00682bd-4cca-4c02-97b4-4efb48cb22f8",
   "metadata": {},
   "outputs": [],
   "source": [
    "def count_ones_substr(s):\n",
    "    n = s.count('1')\n",
    "    return int(n*(n-1)*0.5)"
   ]
  },
  {
   "cell_type": "code",
   "execution_count": 15,
   "id": "82af7f91-a148-4837-8ee5-db53b8a7e9c6",
   "metadata": {},
   "outputs": [
    {
     "data": {
      "text/plain": [
       "3"
      ]
     },
     "execution_count": 15,
     "metadata": {},
     "output_type": "execute_result"
    }
   ],
   "source": [
    "st = \"00100101\"\n",
    "count_ones_substr(st)"
   ]
  },
  {
   "cell_type": "markdown",
   "id": "7b6f06c4-9cac-4477-a1e1-5f33adeec139",
   "metadata": {},
   "source": [
    "### Check if given String is Pangram or not"
   ]
  },
  {
   "cell_type": "code",
   "execution_count": 24,
   "id": "7c2e3afd-4e30-4295-9ce1-eaf88d4703e5",
   "metadata": {},
   "outputs": [],
   "source": [
    "def check_panagram(s):\n",
    "    st = set()\n",
    "    for i in s:\n",
    "        if i != ' ':\n",
    "            st.add(i.lower())\n",
    "    if len(st) == 26:\n",
    "        return True\n",
    "    return False"
   ]
  },
  {
   "cell_type": "code",
   "execution_count": 25,
   "id": "b56cbadf-a7e2-41dc-a9bd-c73dd8c269da",
   "metadata": {},
   "outputs": [
    {
     "data": {
      "text/plain": [
       "True"
      ]
     },
     "execution_count": 25,
     "metadata": {},
     "output_type": "execute_result"
    }
   ],
   "source": [
    "s = \"The quick brown fox jumps over the lazy dog\"\n",
    "check_panagram(s)"
   ]
  },
  {
   "cell_type": "markdown",
   "id": "3bf5e697-af92-45e0-b346-c3b9e8c030e5",
   "metadata": {},
   "source": [
    "### Palindrome String"
   ]
  },
  {
   "cell_type": "code",
   "execution_count": 30,
   "id": "b001f2ac-d886-4ed1-bf20-8e7f0c4509e1",
   "metadata": {},
   "outputs": [],
   "source": [
    "def check_palindrome(s):\n",
    "    i, j = 0, len(s) -1\n",
    "    \n",
    "    while i <= j:\n",
    "        if s[i] != s[j]:\n",
    "            return False\n",
    "        i += 1\n",
    "        j -= 1\n",
    "    return True"
   ]
  },
  {
   "cell_type": "code",
   "execution_count": 31,
   "id": "fa2055a2-a5f4-4d37-9a78-1781ed8e3ef8",
   "metadata": {},
   "outputs": [
    {
     "data": {
      "text/plain": [
       "True"
      ]
     },
     "execution_count": 31,
     "metadata": {},
     "output_type": "execute_result"
    }
   ],
   "source": [
    "s = \"abba\"\n",
    "check_palindrome(s)"
   ]
  },
  {
   "cell_type": "markdown",
   "id": "134b3aae-5298-4eeb-a4d8-8da2c48dd4f8",
   "metadata": {},
   "source": [
    "### Check if a string is substring of another"
   ]
  },
  {
   "cell_type": "code",
   "execution_count": 32,
   "id": "4c3c0042-5f8f-4c33-a7b5-8aa54aab4321",
   "metadata": {},
   "outputs": [],
   "source": [
    "def checck_substr(s, sub):\n",
    "    n = len(s)\n",
    "    m = len(sub)\n",
    "    \n",
    "    for i in range(0, n-m):\n",
    "        if s[i:i+m] == sub:\n",
    "            return i\n",
    "    \n",
    "    return -1"
   ]
  },
  {
   "cell_type": "code",
   "execution_count": 33,
   "id": "12fafdb0-6eae-4aa6-8f6f-b7c836c84c9b",
   "metadata": {},
   "outputs": [
    {
     "data": {
      "text/plain": [
       "2"
      ]
     },
     "execution_count": 33,
     "metadata": {},
     "output_type": "execute_result"
    }
   ],
   "source": [
    "txt = \"geeksforgeeks\"\n",
    "sub = \"eks\"\n",
    "checck_substr(txt, sub)"
   ]
  },
  {
   "cell_type": "markdown",
   "id": "4bef31f7-b410-4ba4-94e8-1df8b68b5cfe",
   "metadata": {},
   "source": [
    "### Check if one string is subsequence of other"
   ]
  },
  {
   "cell_type": "code",
   "execution_count": 34,
   "id": "05dcbbc4-3c9c-41d7-8340-04047127d300",
   "metadata": {},
   "outputs": [],
   "source": [
    "def check_sub_seq(s1, s2):\n",
    "    i , j = 0, 0\n",
    "    \n",
    "    while j < len(s1) and i < len(s2):\n",
    "        if s2[i] == s1[j]:\n",
    "            j += 1\n",
    "        i += 1\n",
    "    \n",
    "    if j == len(s1):\n",
    "        return True\n",
    "    return False\n",
    "        "
   ]
  },
  {
   "cell_type": "code",
   "execution_count": 35,
   "id": "31df2a06-9dae-491f-b6c0-cd6e28e30453",
   "metadata": {},
   "outputs": [
    {
     "data": {
      "text/plain": [
       "True"
      ]
     },
     "execution_count": 35,
     "metadata": {},
     "output_type": "execute_result"
    }
   ],
   "source": [
    "string1 = \"gksrek\"\n",
    "string2 = \"geeksforgeeks\"\n",
    "check_sub_seq(string1, string2)"
   ]
  },
  {
   "cell_type": "markdown",
   "id": "9367d925-6bec-4e44-a204-9f0f53ba4924",
   "metadata": {},
   "source": [
    "### Check if two Strings are Anagrams of each other"
   ]
  },
  {
   "cell_type": "code",
   "execution_count": 42,
   "id": "b9d4380d-ae51-47ee-adcb-a59af6fe7511",
   "metadata": {},
   "outputs": [],
   "source": [
    "def check_anagrams(s1, s2):\n",
    "    f = [0] * 26\n",
    "    for c in s1:\n",
    "        f[ord(c) - ord('a')] += 1\n",
    "    for c in s2:\n",
    "        f[ord(c) - ord('a')] -= 1\n",
    "    for i in range(26):\n",
    "        if f[i] != 0:\n",
    "            return False\n",
    "    return True"
   ]
  },
  {
   "cell_type": "code",
   "execution_count": 43,
   "id": "fc72c7ee-a5fa-4205-a58d-b633fc76c18e",
   "metadata": {},
   "outputs": [
    {
     "data": {
      "text/plain": [
       "True"
      ]
     },
     "execution_count": 43,
     "metadata": {},
     "output_type": "execute_result"
    }
   ],
   "source": [
    "s1 = \"geeks\"\n",
    "s2 = \"kseeg\"\n",
    "\n",
    "check_anagrams(s1, s2)"
   ]
  },
  {
   "cell_type": "markdown",
   "id": "55c24fb8-a474-4606-9693-1dbbf62b7535",
   "metadata": {},
   "source": [
    "### Check if two strings are k-anagrams or not"
   ]
  },
  {
   "cell_type": "code",
   "execution_count": 54,
   "id": "8fb61ec9-c0d5-4f2f-8265-428eaa9c9fa0",
   "metadata": {},
   "outputs": [],
   "source": [
    "def check_k_anagrams(s1, s2, k):\n",
    "    f = [0] * 26\n",
    "    for c in s1:\n",
    "        f[ord(c) - ord('a')] += 1\n",
    "    for c in s2:\n",
    "        f[ord(c) - ord('a')] -= 1\n",
    "    from_c = []\n",
    "    to_c = []\n",
    "    for i in range(26):\n",
    "        if f[i] > 0:\n",
    "            from_c.append(chr(97 + i))\n",
    "        elif f[i] < 0:\n",
    "            to_c.append(chr(97 + i))\n",
    "    if len(from_c) > k or len(to_c) > k:\n",
    "        return False\n",
    "    print(f\"Change characters from {from_c} to {to_c}\")"
   ]
  },
  {
   "cell_type": "code",
   "execution_count": 55,
   "id": "94738d39-3439-4871-b21a-7f657960b60f",
   "metadata": {},
   "outputs": [
    {
     "name": "stdout",
     "output_type": "stream",
     "text": [
      "Change characters from ['a', 'n'] to ['m', 'r']\n"
     ]
    }
   ],
   "source": [
    "str1 = \"anagram\"\n",
    "str2 = \"grammar\"\n",
    "k = 2\n",
    "check_k_anagrams(str1, str2, k)"
   ]
  },
  {
   "cell_type": "markdown",
   "id": "8f403d45-12f4-42e3-b451-48e391dfb50b",
   "metadata": {},
   "source": [
    "### Print all the duplicate characters in a string"
   ]
  },
  {
   "cell_type": "code",
   "execution_count": 62,
   "id": "0e8a3808-8d7a-4426-8b39-80959081b883",
   "metadata": {},
   "outputs": [],
   "source": [
    "def print_dup(s):\n",
    "    f = [0] * 26\n",
    "    for c in s:\n",
    "        if c != ' ':\n",
    "            f[ord(c) - ord('a')] += 1\n",
    "    \n",
    "    for i in range(26):\n",
    "        if f[i] > 1:\n",
    "            print(f\"{chr(i + 97)}, count = {f[i]}\")"
   ]
  },
  {
   "cell_type": "code",
   "execution_count": 63,
   "id": "e171b093-b8c2-4637-ac1e-e8383dcbb08c",
   "metadata": {},
   "outputs": [
    {
     "name": "stdout",
     "output_type": "stream",
     "text": [
      "s, count = 2\n",
      "t, count = 3\n"
     ]
    }
   ],
   "source": [
    "s = \"test string\"\n",
    "print_dup(s)"
   ]
  },
  {
   "cell_type": "markdown",
   "id": "95451664-2b16-418e-95c3-a5233a300172",
   "metadata": {},
   "source": [
    "### Longest substring between any pair of occurrences ōf similar characters"
   ]
  },
  {
   "cell_type": "code",
   "execution_count": 70,
   "id": "dea07dfb-7ba5-461f-a62b-cfd63395e0f4",
   "metadata": {},
   "outputs": [],
   "source": [
    "def longest_substr(s):\n",
    "    res = 0\n",
    "    n = len(s)\n",
    "    for i in range(n):\n",
    "        for j in range(i, n):\n",
    "            if s[i] == s[j]:\n",
    "                res = max(res, j-i-1)\n",
    "                # print(s[i], \" \", j, \" \", i) \n",
    "    return res"
   ]
  },
  {
   "cell_type": "code",
   "execution_count": 71,
   "id": "2eaf613e-c3b1-4384-b589-6e3b841a05da",
   "metadata": {},
   "outputs": [
    {
     "data": {
      "text/plain": [
       "6"
      ]
     },
     "execution_count": 71,
     "metadata": {},
     "output_type": "execute_result"
    }
   ],
   "source": [
    "s = \"accabbacc\"\n",
    "longest_substr(s)"
   ]
  },
  {
   "cell_type": "markdown",
   "id": "1fd61c4c-1337-4684-ba9c-f61694e12f5f",
   "metadata": {},
   "source": [
    "### Check if Strings Are Rotations of Each Other"
   ]
  },
  {
   "cell_type": "code",
   "execution_count": 72,
   "id": "7502c981-e26a-46f4-a17d-54c3d25b71a7",
   "metadata": {},
   "outputs": [],
   "source": [
    "def chk_rotations(s1, s2):\n",
    "    for _ in range(len(s1)):\n",
    "        if s1 == s2:\n",
    "            return True\n",
    "        s1 = s1[1:] + s[0]\n",
    "    return False"
   ]
  },
  {
   "cell_type": "code",
   "execution_count": 76,
   "id": "1b2b338b-e2b3-40aa-9035-867c0f09b194",
   "metadata": {},
   "outputs": [
    {
     "data": {
      "text/plain": [
       "True"
      ]
     },
     "execution_count": 76,
     "metadata": {},
     "output_type": "execute_result"
    }
   ],
   "source": [
    "s1 = \"aab\"\n",
    "s2 = \"aba\"\n",
    "chk_rotations(s1, s2)"
   ]
  },
  {
   "cell_type": "code",
   "execution_count": 82,
   "id": "08c1e9c3-d55c-4e46-a983-816125146f1f",
   "metadata": {},
   "outputs": [],
   "source": [
    "def chk_rotations2(s1, s2):\n",
    "    s = s1 + s1\n",
    "    n = len(s)\n",
    "    m = len(s2)\n",
    "    match_found = False\n",
    "    i, j = 0, 0\n",
    "    while i < n and j < m:\n",
    "        if s[i] == s2[j]:\n",
    "            j += 1\n",
    "            # i += 1\n",
    "            match_found = True\n",
    "            if j == m:\n",
    "                return True\n",
    "        elif i < n and s[i] != s2[j]:\n",
    "            if match_found is True:\n",
    "                match_found = False\n",
    "                i -= 1\n",
    "            j = 0\n",
    "        i += 1\n",
    "    \n",
    "    return False"
   ]
  },
  {
   "cell_type": "code",
   "execution_count": 83,
   "id": "8df61fda-1835-4066-979c-d6ae6e50c23e",
   "metadata": {},
   "outputs": [
    {
     "data": {
      "text/plain": [
       "False"
      ]
     },
     "execution_count": 83,
     "metadata": {},
     "output_type": "execute_result"
    }
   ],
   "source": [
    "s1 = \"abcd\"\n",
    "s2 = \"acbd\"\n",
    "chk_rotations2(s1, s2)"
   ]
  },
  {
   "cell_type": "code",
   "execution_count": 84,
   "id": "5d45ced5-84ae-4ce4-8bc3-de4e84a86fe3",
   "metadata": {},
   "outputs": [
    {
     "data": {
      "text/plain": [
       "True"
      ]
     },
     "execution_count": 84,
     "metadata": {},
     "output_type": "execute_result"
    }
   ],
   "source": [
    "s1 = \"aab\"\n",
    "s2 = \"aba\"\n",
    "s = \"aabaab\"\n",
    "chk_rotations2(s1, s2)"
   ]
  },
  {
   "cell_type": "code",
   "execution_count": 87,
   "id": "9863202d-0645-4e28-b926-3031170c10f8",
   "metadata": {},
   "outputs": [
    {
     "data": {
      "text/plain": [
       "True"
      ]
     },
     "execution_count": 87,
     "metadata": {},
     "output_type": "execute_result"
    }
   ],
   "source": [
    "s = \"123\"\n",
    "s.isnumeric()"
   ]
  },
  {
   "cell_type": "markdown",
   "id": "5e5bddc3-dacf-4923-9937-647d3a4894e3",
   "metadata": {},
   "source": [
    "### Count strings with consecutive 1’s"
   ]
  },
  {
   "cell_type": "markdown",
   "id": "9aa52081-8769-40a9-a8a9-f3a4eb961715",
   "metadata": {},
   "source": [
    "Let’s focus on counting strings WITHOUT consecutive 1s, and subtract from total.\n",
    "\n",
    "Let:\n",
    "\n",
    "countValid(n) = number of length n binary strings without consecutive 1s\n",
    "\n",
    "We'll build a recurrence.\n",
    "\n",
    "Key Idea:\n",
    "Let’s define:\n",
    "\n",
    "a(n) = number of strings of length n ending in 0 (no two consecutive 1s)\n",
    "\n",
    "b(n) = number of strings of length n ending in 1 (no two consecutive 1s)\n",
    "\n",
    "Transitions:\n",
    "a(n) = a(n-1) + b(n-1)\n",
    "(we can put 0 after both 0 and 1)\n",
    "\n",
    "b(n) = a(n-1)\n",
    "(we can only put 1 after a 0, not another 1)\n",
    "\n",
    "Base Cases:\n",
    "a(1) = 1 → string \"0\"\n",
    "\n",
    "b(1) = 1 → string \"1\"\n",
    "\n",
    "Total valid strings:\n",
    "countValid(n) = a(n) + b(n)\n",
    "\n",
    "Then:\n",
    "\n",
    "Answer = 2^n - countValid(n)\n",
    "\n",
    "Example for n = 5:\n",
    "Let’s walk through step by step.\n",
    "\n",
    "-------------\n",
    "a(1) = 1\n",
    "b(1) = 1\n",
    "-------------\n",
    "a(2) = a(1) + b(1) = 1 + 1 = 2\n",
    "b(2) = a(1) = 1\n",
    "-------------\n",
    "a(3) = a(2) + b(2) = 2 + 1 = 3\n",
    "b(3) = a(2) = 2\n",
    "-------------\n",
    "a(4) = a(3) + b(3) = 3 + 2 = 5\n",
    "b(4) = a(3) = 3\n",
    "-------------\n",
    "a(5) = a(4) + b(4) = 5 + 3 = 8\n",
    "b(5) = a(4) = 5\n",
    "-------------\n",
    "countValid(5) = a(5) + b(5) = 8 + 5 = 13"
   ]
  },
  {
   "cell_type": "code",
   "execution_count": 92,
   "id": "9c4beceb-7ad8-420d-9b5b-defc23e789f4",
   "metadata": {},
   "outputs": [],
   "source": [
    "def count_str_with_consecutive_ones(n):\n",
    "    if n == 0:\n",
    "        return 0\n",
    "    a = [0] * (n+1)\n",
    "    b = [0] * (n+1)\n",
    "    \n",
    "    a[1], b[1] = 1, 1\n",
    "    for i in range(2, n+1):\n",
    "        a[i] = a[i-1] + b[i-1]\n",
    "        b[i] = a[i-1]\n",
    "    \n",
    "    without_cons_ones = a[n] + b[n]\n",
    "    res = 2**n - without_cons_ones\n",
    "    \n",
    "    return res"
   ]
  },
  {
   "cell_type": "code",
   "execution_count": 93,
   "id": "71a2478d-83c9-4969-b2b1-17208bd83408",
   "metadata": {},
   "outputs": [
    {
     "data": {
      "text/plain": [
       "19"
      ]
     },
     "execution_count": 93,
     "metadata": {},
     "output_type": "execute_result"
    }
   ],
   "source": [
    "count_str_with_consecutive_ones(5)"
   ]
  },
  {
   "cell_type": "markdown",
   "id": "1245c7ba-e67f-4620-a7fc-da547a2eeb20",
   "metadata": {},
   "source": [
    "### Generate all binary strings from given pattern"
   ]
  },
  {
   "cell_type": "code",
   "execution_count": 99,
   "id": "421f9542-9a59-4003-8e03-415846c72ef1",
   "metadata": {},
   "outputs": [],
   "source": [
    "def generate_bs_pattern(s, i):\n",
    "    if i == len(s):\n",
    "        print(\"\".join(s))\n",
    "        return\n",
    "    \n",
    "    if s[i] == '?':\n",
    "        s[i] = '0'\n",
    "        generate_bs_pattern(s, i + 1)\n",
    "\n",
    "        s[i] = '1'\n",
    "        generate_bs_pattern(s, i + 1)\n",
    "        string[i] = '?'\n",
    "    else:\n",
    "        generate_bs_pattern(s, i + 1)\n",
    "    "
   ]
  },
  {
   "cell_type": "code",
   "execution_count": 100,
   "id": "d473368e-ae2e-4146-910b-98004ba266a5",
   "metadata": {},
   "outputs": [
    {
     "name": "stdout",
     "output_type": "stream",
     "text": [
      "10000101\n",
      "10001101\n",
      "10100101\n",
      "10101101\n",
      "11000101\n",
      "11001101\n",
      "11100101\n",
      "11101101\n"
     ]
    }
   ],
   "source": [
    "string = \"1??0?101\"\n",
    "string = list(string)\n",
    "generate_bs_pattern(string, 0)"
   ]
  },
  {
   "cell_type": "code",
   "execution_count": 111,
   "id": "09370a31-4175-4110-afb7-01c6af35ca1b",
   "metadata": {},
   "outputs": [],
   "source": [
    "def generate_bs_pattern2(s):\n",
    "    q = []\n",
    "    q.append(s)\n",
    "    \n",
    "    while len(q) > 0:\n",
    "        s = q[0]\n",
    "        \n",
    "        try:\n",
    "            i = s.index('?')\n",
    "        except ValueError:\n",
    "            i = -1\n",
    "        if i != -1:\n",
    "            s1 = s.replace('?', '0', 1)\n",
    "            q.append(s1)\n",
    "            s2 = s.replace('?', '1', 1)\n",
    "            q.append(s2)\n",
    "        else:\n",
    "            print(s)\n",
    "        q.pop(0)"
   ]
  },
  {
   "cell_type": "code",
   "execution_count": 112,
   "id": "5766fb6f-727b-44f3-a48b-fb1083baea9c",
   "metadata": {},
   "outputs": [
    {
     "name": "stdout",
     "output_type": "stream",
     "text": [
      "10000101\n",
      "10001101\n",
      "10100101\n",
      "10101101\n",
      "11000101\n",
      "11001101\n",
      "11100101\n",
      "11101101\n"
     ]
    }
   ],
   "source": [
    "string = \"1??0?101\"\n",
    "generate_bs_pattern2(string)"
   ]
  },
  {
   "cell_type": "code",
   "execution_count": 113,
   "id": "07bf4ba2-4aec-46ca-a786-2330b0e20377",
   "metadata": {},
   "outputs": [],
   "source": [
    "def generate_bs_pattern3(s):\n",
    "    if '?' in s:\n",
    "        s1 = s.replace('?', '0', 1)\n",
    "        s2 = s.replace('?', '1', 1)\n",
    "        \n",
    "        generate_bs_pattern3(s1)\n",
    "        generate_bs_pattern3(s2)\n",
    "        \n",
    "    else:\n",
    "        print(s)"
   ]
  },
  {
   "cell_type": "code",
   "execution_count": 114,
   "id": "500884d7-b3ab-4969-a553-ad4c6ca19b58",
   "metadata": {},
   "outputs": [
    {
     "name": "stdout",
     "output_type": "stream",
     "text": [
      "10000101\n",
      "10001101\n",
      "10100101\n",
      "10101101\n",
      "11000101\n",
      "11001101\n",
      "11100101\n",
      "11101101\n"
     ]
    }
   ],
   "source": [
    "string = \"1??0?101\"\n",
    "generate_bs_pattern3(string)"
   ]
  },
  {
   "cell_type": "markdown",
   "id": "7ad0a945-c831-4d32-bacd-3597fab535ad",
   "metadata": {},
   "source": [
    "### Print all possible strings that can be made by placing spaces"
   ]
  },
  {
   "cell_type": "code",
   "execution_count": 115,
   "id": "ee7e6f90-fd28-4a9a-9fd1-95b5b3c2cc23",
   "metadata": {},
   "outputs": [],
   "source": [
    "def generate_space_combinations(s):\n",
    "    def backtrack(index, path):\n",
    "        if index == len(s):\n",
    "            print(path)\n",
    "            return\n",
    "        \n",
    "        # Choice 1: Add space before next character\n",
    "        backtrack(index + 1, path + ' ' + s[index])\n",
    "        \n",
    "        # Choice 2: Don't add space\n",
    "        backtrack(index + 1, path + s[index])\n",
    "\n",
    "    # Start with first character (no space before it)\n",
    "    backtrack(1, s[0])\n"
   ]
  },
  {
   "cell_type": "code",
   "execution_count": 116,
   "id": "f92c8851-3021-4aec-b0b0-3307365c7e38",
   "metadata": {},
   "outputs": [
    {
     "name": "stdout",
     "output_type": "stream",
     "text": [
      "A B C\n",
      "A BC\n",
      "AB C\n",
      "ABC\n"
     ]
    }
   ],
   "source": [
    "# Test\n",
    "generate_space_combinations(\"ABC\")"
   ]
  },
  {
   "cell_type": "markdown",
   "id": "f040d48d-4d12-4b61-92f2-6f37e03887cc",
   "metadata": {},
   "source": [
    "### String to Integer – Write your own atoi()"
   ]
  },
  {
   "cell_type": "code",
   "execution_count": 117,
   "id": "ac4e035b-a305-4465-b1e5-13a024565937",
   "metadata": {},
   "outputs": [],
   "source": [
    "def my_atoi(s):\n",
    "    INT_MAX = 2**31 - 1\n",
    "    INT_MIN = -2**31\n",
    "\n",
    "    s = s.lstrip()  # Trim leading spaces\n",
    "    if not s:\n",
    "        return 0\n",
    "\n",
    "    sign = 1\n",
    "    index = 0\n",
    "    result = 0\n",
    "\n",
    "    # Handle optional sign\n",
    "    if s[index] == '+':\n",
    "        index += 1\n",
    "    elif s[index] == '-':\n",
    "        sign = -1\n",
    "        index += 1\n",
    "\n",
    "    # Convert characters to digits\n",
    "    while index < len(s) and s[index].isdigit():\n",
    "        digit = int(s[index])\n",
    "\n",
    "        # Check for overflow BEFORE multiplying\n",
    "        if result > (INT_MAX - digit) // 10:\n",
    "            return INT_MAX if sign == 1 else INT_MIN\n",
    "\n",
    "        result = result * 10 + digit\n",
    "        index += 1\n",
    "\n",
    "    return sign * result\n"
   ]
  },
  {
   "cell_type": "code",
   "execution_count": 119,
   "id": "cc70af7e-40bc-4ff5-9abf-1e61352fd869",
   "metadata": {},
   "outputs": [
    {
     "name": "stdout",
     "output_type": "stream",
     "text": [
      "2147483647\n",
      "-2147483648\n",
      "-12\n",
      "0\n",
      "42\n"
     ]
    }
   ],
   "source": [
    "print(my_atoi(\"  1231231231311133\"))  # Output: 2147483647\n",
    "print(my_atoi(\"-999999999999\"))       # Output: -2147483648\n",
    "print(my_atoi(\"  -0012gfg4\"))         # Output: -12\n",
    "print(my_atoi(\"words123\"))            # Output: 0\n",
    "print(my_atoi(\"   +42\"))              # Output: 42"
   ]
  },
  {
   "cell_type": "markdown",
   "id": "50f3455f-d510-4291-a9b6-c7eac0b5da4d",
   "metadata": {},
   "source": [
    "### Add two binary strings"
   ]
  },
  {
   "cell_type": "code",
   "execution_count": 120,
   "id": "a98afb60-4a31-41e3-902e-546b29d63ef0",
   "metadata": {},
   "outputs": [
    {
     "name": "stdout",
     "output_type": "stream",
     "text": [
      "10100\n"
     ]
    }
   ],
   "source": [
    "# Python program to add two binary strings\n",
    "# using Bit-by-Bit addition\n",
    "\n",
    "def trimLeadingZeros(s):\n",
    "    \n",
    "    # Find the position of the first '1'\n",
    "    firstOne = s.find('1')\n",
    "    return s[firstOne:] if firstOne != -1 else \"0\"\n",
    "\n",
    "\n",
    "# This function adds two binary strings and return\n",
    "# result as a third string\n",
    "def addBinary(s1, s2):\n",
    "    \n",
    "    # Trim Leading Zeros\n",
    "    s1 = trimLeadingZeros(s1)\n",
    "    s2 = trimLeadingZeros(s2)\n",
    "    \n",
    "    n = len(s1)\n",
    "    m = len(s2)\n",
    "\n",
    "    # Swap the strings if s1 is of smaller length\n",
    "    if n < m:\n",
    "        s1, s2 = s2, s1\n",
    "        n, m = m, n\n",
    "\n",
    "    j = m - 1\n",
    "    carry = 0\n",
    "    result = []\n",
    "\n",
    "    # Traverse both strings from the end\n",
    "    for i in range(n - 1, -1, -1):\n",
    "\n",
    "        # Current bit of s1\n",
    "        bit1 = int(s1[i])\n",
    "        bitSum = bit1 + carry\n",
    "\n",
    "        # If there are remaining bits in s2\n",
    "        # add them to the bitSum\n",
    "        if j >= 0:\n",
    "            # Current bit of s2\n",
    "            bit2 = int(s2[j])\n",
    "            bitSum += bit2\n",
    "            j -= 1\n",
    "\n",
    "        # Calculate the result bit and update carry\n",
    "        bit = bitSum % 2\n",
    "        carry = bitSum // 2\n",
    "\n",
    "        # Update the current bit in result\n",
    "        result.append(str(bit))\n",
    "\n",
    "    # If there's any carry left, prepend it to the result\n",
    "    if carry > 0:\n",
    "        result.append('1')\n",
    "\n",
    "    return ''.join(result[::-1])\n",
    "\n",
    "\n",
    "if __name__ == \"__main__\":\n",
    "    s1 = \"1101\"\n",
    "    s2 = \"111\"\n",
    "    print(addBinary(s1, s2))\n"
   ]
  },
  {
   "cell_type": "code",
   "execution_count": 121,
   "id": "0edee155-cdb2-499b-969f-e03f4210ebdf",
   "metadata": {},
   "outputs": [],
   "source": [
    "# function to add n binary strings\n",
    "def addNBinary(arr):\n",
    "    res = \"0\"\n",
    "    for i in range(len(arr)):\n",
    "        res = addBinary(res, arr[i])\n",
    "    return res\n"
   ]
  },
  {
   "cell_type": "code",
   "execution_count": 123,
   "id": "02d0ecc1-995c-43cf-aa7c-02ea00b9b8ed",
   "metadata": {},
   "outputs": [
    {
     "name": "stdout",
     "output_type": "stream",
     "text": [
      "110\n"
     ]
    }
   ],
   "source": [
    "arr = [\"1\", \"10\", \"11\"]\n",
    "print(addNBinary(arr))"
   ]
  },
  {
   "cell_type": "markdown",
   "id": "fca96252-66d8-43f0-a15a-0e813542714c",
   "metadata": {},
   "source": [
    "### Isomorphic Strings Check"
   ]
  },
  {
   "cell_type": "code",
   "execution_count": 126,
   "id": "5143b11e-12d8-49bf-8c3c-d41ca580f46f",
   "metadata": {},
   "outputs": [],
   "source": [
    "def check_isomorphic(s1, s2):\n",
    "    a = {}\n",
    "    b = {}\n",
    "    \n",
    "    if len(s1) != len(s2):\n",
    "        return False\n",
    "    \n",
    "    for i in range(len(s1)):\n",
    "        \n",
    "        if s1[i] not in a:\n",
    "            a[s1[i]] = i\n",
    "        if s2[i] not in b:\n",
    "            b[s2[i]] = i\n",
    "            \n",
    "        if a[s1[i]] != b[s2[i]]:\n",
    "            return False\n",
    "    return True"
   ]
  },
  {
   "cell_type": "code",
   "execution_count": 127,
   "id": "9fb9d514-38a1-4567-99da-40ecf66ef5c3",
   "metadata": {},
   "outputs": [
    {
     "data": {
      "text/plain": [
       "True"
      ]
     },
     "execution_count": 127,
     "metadata": {},
     "output_type": "execute_result"
    }
   ],
   "source": [
    "check_isomorphic(\"aab\", \"xxy\")"
   ]
  },
  {
   "cell_type": "markdown",
   "id": "3b64c0df-ebfb-4341-869d-65aba8adc315",
   "metadata": {},
   "source": [
    "### Check if a String is Interleaving of Other Two"
   ]
  },
  {
   "cell_type": "code",
   "execution_count": 128,
   "id": "5548e459-d5a4-43c7-b73e-dba9f3bdbc0f",
   "metadata": {},
   "outputs": [],
   "source": [
    "def check_interleaving(s1, s2, s3):\n",
    "    a = len(s1)\n",
    "    b = len(s2)\n",
    "    c = len(s3)\n",
    "    \n",
    "    if a + b != c:\n",
    "        return False\n",
    "    i , j = 0, 0\n",
    "    while j < c:\n",
    "        if i < a and s1[i] == s3[j]:\n",
    "            i += 1\n",
    "        j += 1\n",
    "    \n",
    "    if i < a:\n",
    "        return False\n",
    "    \n",
    "    k , j = 0, 0\n",
    "    while j < c:\n",
    "        if k < b and s2[k] == s3[j]:\n",
    "            k += 1\n",
    "        j += 1\n",
    "    if i < b:\n",
    "        return False\n",
    "    \n",
    "    if i == a and k == b:\n",
    "        return True"
   ]
  },
  {
   "cell_type": "code",
   "execution_count": 129,
   "id": "8c96aa73-19f7-434d-b9c8-a0781e3f5be9",
   "metadata": {},
   "outputs": [
    {
     "data": {
      "text/plain": [
       "False"
      ]
     },
     "execution_count": 130,
     "metadata": {},
     "output_type": "execute_result"
    }
   ],
   "source": [
    "s1 = \"AAB\"\n",
    "s2 = \"AAC\"\n",
    "s3 = \"AAABC\"\n",
    "\n",
    "check_interleaving(s1, s2, s3)"
   ]
  },
  {
   "cell_type": "code",
   "execution_count": 132,
   "id": "76cd3a29-d463-4984-9c3b-f0263aae47e7",
   "metadata": {},
   "outputs": [
    {
     "data": {
      "text/plain": [
       "False"
      ]
     },
     "execution_count": 132,
     "metadata": {},
     "output_type": "execute_result"
    }
   ],
   "source": [
    "s1 = \"YX\"\n",
    "s2 = \"X\"\n",
    "s3 = \"XXY\"\n",
    "check_interleaving(s1, s2, s3)"
   ]
  },
  {
   "cell_type": "markdown",
   "id": "b55edeb5-15eb-4df6-955a-b420099c4669",
   "metadata": {},
   "source": [
    "### Permutations of given String"
   ]
  },
  {
   "cell_type": "code",
   "execution_count": 133,
   "id": "5ff512bb-fa4b-4f2a-97b9-023fcf768e6e",
   "metadata": {},
   "outputs": [],
   "source": [
    "def recurPermute(index, s, ans):\n",
    "\n",
    "    # Base Case\n",
    "    if index == len(s):\n",
    "        ans.append(\"\".join(s))\n",
    "        return\n",
    "\n",
    "    # Swap the current index with all\n",
    "    # possible indices and recur\n",
    "    for i in range(index, len(s)):\n",
    "        s[index], s[i] = s[i], s[index]\n",
    "        recurPermute(index + 1, s, ans)\n",
    "        s[index], s[i] = s[i], s[index]\n",
    "\n",
    "# Function to find all unique permutations\n",
    "def findPermutation(s):\n",
    "\n",
    "    # Stores the final answer\n",
    "    ans = []\n",
    "\n",
    "    recurPermute(0, list(s), ans)\n",
    "\n",
    "    # sort the resultant list\n",
    "    ans.sort()\n",
    "\n",
    "    return ans"
   ]
  },
  {
   "cell_type": "code",
   "execution_count": 135,
   "id": "21dbd3cf-185c-45c4-8361-b42e35b79e35",
   "metadata": {},
   "outputs": [
    {
     "data": {
      "text/plain": [
       "['ABC', 'ACB', 'BAC', 'BCA', 'CAB', 'CBA']"
      ]
     },
     "execution_count": 135,
     "metadata": {},
     "output_type": "execute_result"
    }
   ],
   "source": [
    "s = \"ABC\"\n",
    "findPermutation(s)"
   ]
  },
  {
   "cell_type": "markdown",
   "id": "18d8f26d-b947-4e44-85b2-4b95a4c8ab09",
   "metadata": {},
   "source": [
    "### Longest Palindromic Substring"
   ]
  },
  {
   "cell_type": "code",
   "execution_count": 155,
   "id": "26bee3f0-c55a-46ba-8524-c32154205bdb",
   "metadata": {},
   "outputs": [],
   "source": [
    "def longest_palindromic_substr(s):\n",
    "    res = \"\"\n",
    "    maxLen = 0\n",
    "    \n",
    "    for i in range(len(s)):\n",
    "        # odd\n",
    "        l, r = i, i\n",
    "        #print(l, r)\n",
    "        while i >= 0 and r < len(s) and s[l] == s[r]:\n",
    "            if (r - l + 1) > maxLen:\n",
    "                res = s[l:r+1]\n",
    "                maxLen = r - l + 1\n",
    "            l -= 1\n",
    "            r += 1\n",
    "        \n",
    "        # even\n",
    "        l, r = i, i + 1\n",
    "        while i >= 0 and r < len(s)-1 and s[l] == s[r]:\n",
    "            if (r - l + 1) > maxLen:\n",
    "                res = s[l:r+1]\n",
    "                maxLen = r - l + 1\n",
    "            l -= 1\n",
    "            r += 1\n",
    "            \n",
    "    return res, maxLen"
   ]
  },
  {
   "cell_type": "code",
   "execution_count": 156,
   "id": "d3249a0e-e644-4974-8c11-d762a0ba2e8c",
   "metadata": {},
   "outputs": [
    {
     "data": {
      "text/plain": [
       "('geeksskeeg', 10)"
      ]
     },
     "execution_count": 156,
     "metadata": {},
     "output_type": "execute_result"
    }
   ],
   "source": [
    "s = \"forgeeksskeegfor\"\n",
    "longest_palindromic_substr(s)"
   ]
  },
  {
   "cell_type": "markdown",
   "id": "763d6472-c4ff-4ac2-96da-58219ab43136",
   "metadata": {},
   "source": [
    "### Queries for same characters in a repeated string"
   ]
  },
  {
   "cell_type": "code",
   "execution_count": 157,
   "id": "2e189fb4-1546-45f3-8880-bcfcdda7a352",
   "metadata": {},
   "outputs": [],
   "source": [
    "def queries_for_string(s, queries):\n",
    "    res = []\n",
    "    n = len(s)\n",
    "    for i in queries:\n",
    "        a , b = i[0], i[1]\n",
    "        \n",
    "        ra = a % n\n",
    "        rb = b % n\n",
    "        \n",
    "        if s[ra] == s[rb]:\n",
    "            res.append(\"Yes\")\n",
    "        else:\n",
    "            res.append(\"No\")\n",
    "    return res"
   ]
  },
  {
   "cell_type": "code",
   "execution_count": 158,
   "id": "edf0e6f3-54af-4e9b-a1ce-24de2bae8bb2",
   "metadata": {},
   "outputs": [
    {
     "data": {
      "text/plain": [
       "['Yes', 'Yes', 'No']"
      ]
     },
     "execution_count": 158,
     "metadata": {},
     "output_type": "execute_result"
    }
   ],
   "source": [
    "s = \"geeksforgeeks\"\n",
    "queries = [[0, 8], [8, 13], [6, 15]]\n",
    "\n",
    "queries_for_string(s, queries)"
   ]
  },
  {
   "cell_type": "markdown",
   "id": "feb86d12-2211-4eea-bb60-ee99ba051051",
   "metadata": {},
   "source": [
    "### Count of total anagram substrings"
   ]
  },
  {
   "cell_type": "code",
   "execution_count": 159,
   "id": "fc8fab87-5bc8-40eb-ac7b-a197e1bda39a",
   "metadata": {},
   "outputs": [],
   "source": [
    "from collections import defaultdict\n",
    "\n",
    "def count_anagrammatic_pairs(s):\n",
    "    n = len(s)\n",
    "    freq_map = defaultdict(int)\n",
    "\n",
    "    # Step 1: Generate all substrings\n",
    "    for i in range(n):\n",
    "        count = [0] * 26  # for 'a' to 'z'\n",
    "        for j in range(i, n):\n",
    "            # Update character count\n",
    "            count[ord(s[j]) - ord('a')] += 1\n",
    "            # Use tuple as a hashable frequency signature\n",
    "            freq_map[tuple(count)] += 1\n",
    "\n",
    "    # Step 2: Count pairs in each anagram group\n",
    "    result = 0\n",
    "    for val in freq_map.values():\n",
    "        result += (val * (val - 1)) // 2\n",
    "\n",
    "    return result\n"
   ]
  },
  {
   "cell_type": "code",
   "execution_count": 160,
   "id": "20301096-d1ca-4dc4-b2f0-c088723723a5",
   "metadata": {},
   "outputs": [
    {
     "data": {
      "text/plain": [
       "4"
      ]
     },
     "execution_count": 160,
     "metadata": {},
     "output_type": "execute_result"
    }
   ],
   "source": [
    "s = \"xyyx\"\n",
    "count_anagrammatic_pairs(s)"
   ]
  },
  {
   "cell_type": "markdown",
   "id": "ba93ffee-8fe7-4478-9dca-81050914b4a4",
   "metadata": {},
   "source": [
    "### Count number of binary strings without consecutive 1’s"
   ]
  },
  {
   "cell_type": "code",
   "execution_count": 161,
   "id": "051255ce-e8cc-4093-8ecd-be51273cbd7a",
   "metadata": {},
   "outputs": [],
   "source": [
    "## this will follow fibonacci pattern"
   ]
  },
  {
   "cell_type": "code",
   "execution_count": 162,
   "id": "46f593ae-a928-467c-9915-f98a844fcde3",
   "metadata": {},
   "outputs": [],
   "source": [
    "def countStrings(n):\n",
    "    if n == 1:\n",
    "        return 2\n",
    "    if n == 2:\n",
    "        return 3\n",
    "\n",
    "    prev1, prev2 = 3, 2\n",
    "\n",
    "    for i in range(n-2):\n",
    "        curr = prev1 + prev2\n",
    "\n",
    "        prev2 = prev1\n",
    "        prev1 = curr\n",
    "\n",
    "    return prev1"
   ]
  },
  {
   "cell_type": "code",
   "execution_count": 165,
   "id": "206ef505-08ab-4012-8dbc-8d8b8da15356",
   "metadata": {},
   "outputs": [
    {
     "data": {
      "text/plain": [
       "5"
      ]
     },
     "execution_count": 165,
     "metadata": {},
     "output_type": "execute_result"
    }
   ],
   "source": [
    "countStrings(3)"
   ]
  },
  {
   "cell_type": "code",
   "execution_count": 166,
   "id": "5d486399-4b1e-4153-85cf-50581553695e",
   "metadata": {},
   "outputs": [
    {
     "name": "stdout",
     "output_type": "stream",
     "text": [
      "5\n"
     ]
    }
   ],
   "source": [
    "def matrix_mult(A, B):\n",
    "    return [\n",
    "        [A[0][0]*B[0][0] + A[0][1]*B[1][0],\n",
    "         A[0][0]*B[0][1] + A[0][1]*B[1][1]],\n",
    "        [A[1][0]*B[0][0] + A[1][1]*B[1][0],\n",
    "         A[1][0]*B[0][1] + A[1][1]*B[1][1]]\n",
    "    ]\n",
    "\n",
    "def matrix_power(T, n):\n",
    "    if n == 1:\n",
    "        return T\n",
    "    if n % 2 == 0:\n",
    "        half = matrix_power(T, n//2)\n",
    "        return matrix_mult(half, half)\n",
    "    else:\n",
    "        half = matrix_power(T, n//2)\n",
    "        return matrix_mult(T, matrix_mult(half, half))\n",
    "\n",
    "def count_binary_strings_no_consecutive_1s(n):\n",
    "    if n == 0:\n",
    "        return 1\n",
    "    if n == 1:\n",
    "        return 2\n",
    "    T = [[1, 1], [1, 0]]\n",
    "    T_n_minus_1 = matrix_power(T, n-1)\n",
    "    \n",
    "    # Base values\n",
    "    f1 = 2\n",
    "    f0 = 1\n",
    "    \n",
    "    fn = T_n_minus_1[0][0] * f1 + T_n_minus_1[0][1] * f0\n",
    "    return fn\n",
    "\n",
    "# Example\n",
    "n = 3\n",
    "print(count_binary_strings_no_consecutive_1s(n))  # Output: 5\n"
   ]
  },
  {
   "cell_type": "markdown",
   "id": "5c808e6d-d771-4545-bccd-d61d465afb1d",
   "metadata": {},
   "source": [
    "### Lexicographically next string"
   ]
  },
  {
   "cell_type": "code",
   "execution_count": 170,
   "id": "c880b252-02c4-4656-a9b1-71e0196695cd",
   "metadata": {},
   "outputs": [],
   "source": [
    "def nextWord(s):\n",
    "\t\n",
    "\t# If string is empty.\n",
    "\tif (s == \" \"):\n",
    "\t\treturn \"a\"\n",
    "\n",
    "\t# Find first character from right \n",
    "\t# which is not z.\n",
    "\ti = len(s) - 1\n",
    "\twhile (s[i] == 'z' and i >= 0):\n",
    "\t\ti -= 1\n",
    "\n",
    "\t# If all characters are 'z', append\n",
    "\t# an 'a' at the end.\n",
    "\tif (i == -1):\n",
    "\t\ts = s + 'a'\n",
    "\n",
    "\t# If there are some non-z characters \n",
    "\telse:\n",
    "\t\ts = s[:i] +  chr(ord(s[i]) + 1) + s[i+1:] \n",
    "\n",
    "\treturn s"
   ]
  },
  {
   "cell_type": "code",
   "execution_count": 171,
   "id": "d810c0ed-5dd3-431b-b3fb-f4d8fadf3f12",
   "metadata": {},
   "outputs": [
    {
     "name": "stdout",
     "output_type": "stream",
     "text": [
      "samefz\n"
     ]
    }
   ],
   "source": [
    "str = \"sameez\"\n",
    "print(nextWord(str))\n"
   ]
  },
  {
   "cell_type": "markdown",
   "id": "06dc1bc4-0d3c-46f0-a969-1e07e1ec716e",
   "metadata": {},
   "source": [
    "### Check if given string can be split into four distinct strings"
   ]
  },
  {
   "cell_type": "code",
   "execution_count": 172,
   "id": "57d7aa8b-976d-4dc6-928e-9e99f0459dea",
   "metadata": {},
   "outputs": [],
   "source": [
    "# Python3 program to check if we can \n",
    "# break a into four distinct strings. \n",
    "\n",
    "# Return if the given string can be \n",
    "# split or not. \n",
    "def check(s):\n",
    "\n",
    "    # We can always break a of size 10 or \n",
    "    # more into four distinct strings. \n",
    "    if (len(s) >= 10):\n",
    "        return True\n",
    "\n",
    "    # Brute Force \n",
    "    for i in range(0, len(s)): \n",
    "    \n",
    "        for j in range(i + 1, len(s)): \n",
    "        \n",
    "            for k in range(j + 1, len(s)):\n",
    "            \n",
    "                # Making 4 from the given \n",
    "                s1 = s[0:i] \n",
    "                s2 = s[i:j - i]\n",
    "                s3 = s[j: k - j]\n",
    "                s4 = s[k: len(s) - k]\n",
    "                \n",
    "                # Checking if they are distinct or not. \n",
    "                if (s1 != s2 and s1 != s3 and s1 != s4 and\n",
    "                    s2 != s3 and s2 != s4 and s3 != s4): \n",
    "                    return True\n",
    "            \n",
    "    return False\n"
   ]
  },
  {
   "cell_type": "code",
   "execution_count": 173,
   "id": "4e7bc894-d2ed-4983-8b25-f95016852768",
   "metadata": {},
   "outputs": [
    {
     "data": {
      "text/plain": [
       "False"
      ]
     },
     "execution_count": 173,
     "metadata": {},
     "output_type": "execute_result"
    }
   ],
   "source": [
    "\n",
    "str = \"aaabb\"\n",
    "check(str)"
   ]
  },
  {
   "cell_type": "markdown",
   "id": "26f8149a-9be1-4c6b-88e0-d31eed4867c9",
   "metadata": {},
   "source": [
    "### Word Break"
   ]
  },
  {
   "cell_type": "code",
   "execution_count": 174,
   "id": "8d453f8e-e26e-4413-a0e8-428f777505a4",
   "metadata": {},
   "outputs": [],
   "source": [
    "def word_break_recursive(s, dictionary):\n",
    "    if s == \"\":\n",
    "        return True\n",
    "\n",
    "    for i in range(1, len(s) + 1):\n",
    "        prefix = s[:i]\n",
    "        if prefix in dictionary and word_break_recursive(s[i:], dictionary):\n",
    "            return True\n",
    "\n",
    "    return False"
   ]
  },
  {
   "cell_type": "code",
   "execution_count": 176,
   "id": "2b4029d4-9eec-4e89-89b1-b3244ef3e303",
   "metadata": {},
   "outputs": [],
   "source": [
    "s = \"ilikegfg\"\n",
    "dictionary = [\"i\", \"like\", \"gfg\", \"man\", \"coding\"]"
   ]
  },
  {
   "cell_type": "code",
   "execution_count": 177,
   "id": "1d6215ef-ac13-4bf6-bf1f-ac6fbead62c3",
   "metadata": {},
   "outputs": [
    {
     "data": {
      "text/plain": [
       "True"
      ]
     },
     "execution_count": 177,
     "metadata": {},
     "output_type": "execute_result"
    }
   ],
   "source": [
    "word_break_recursive(s, dictionary)"
   ]
  },
  {
   "cell_type": "code",
   "execution_count": 178,
   "id": "21c8f6c2-c4e2-4683-86dc-f0732c9d04a5",
   "metadata": {},
   "outputs": [],
   "source": [
    "def word_break_memo(s, dictionary, memo=None):\n",
    "    if memo is None:\n",
    "        memo = {}\n",
    "\n",
    "    if s in memo:\n",
    "        return memo[s]\n",
    "\n",
    "    if s == \"\":\n",
    "        return True\n",
    "\n",
    "    for i in range(1, len(s) + 1):\n",
    "        prefix = s[:i]\n",
    "        if prefix in dictionary and word_break_memo(s[i:], dictionary, memo):\n",
    "            memo[s] = True\n",
    "            return True\n",
    "\n",
    "    memo[s] = False\n",
    "    return False"
   ]
  },
  {
   "cell_type": "code",
   "execution_count": 179,
   "id": "93ceb2b9-b65d-41a3-bedb-71b19fe3565c",
   "metadata": {},
   "outputs": [
    {
     "data": {
      "text/plain": [
       "True"
      ]
     },
     "execution_count": 179,
     "metadata": {},
     "output_type": "execute_result"
    }
   ],
   "source": [
    "word_break_memo(s, dictionary, None)"
   ]
  },
  {
   "cell_type": "code",
   "execution_count": 180,
   "id": "5afa00dd-b0d4-4a7a-8ed5-5c47ec6ae6f6",
   "metadata": {},
   "outputs": [],
   "source": [
    "def word_break_dp(s, dictionary):\n",
    "    n = len(s)\n",
    "    dp = [False] * (n + 1)\n",
    "    dp[0] = True  # empty string\n",
    "\n",
    "    for i in range(1, n + 1):\n",
    "        for j in range(i):\n",
    "            if dp[j] and s[j:i] in dictionary:\n",
    "                dp[i] = True\n",
    "                break\n",
    "\n",
    "    return dp[n]\n"
   ]
  },
  {
   "cell_type": "code",
   "execution_count": 181,
   "id": "01fe85bd-4870-4667-9ac2-5eca80e7a827",
   "metadata": {},
   "outputs": [
    {
     "data": {
      "text/plain": [
       "True"
      ]
     },
     "execution_count": 181,
     "metadata": {},
     "output_type": "execute_result"
    }
   ],
   "source": [
    "word_break_dp(s, dictionary)"
   ]
  },
  {
   "cell_type": "markdown",
   "id": "d2a323a4-7cef-46b6-b027-db919e1104d2",
   "metadata": {},
   "source": [
    "### Longest Balanced Subsequence"
   ]
  },
  {
   "cell_type": "code",
   "execution_count": 182,
   "id": "8dd3656c-81bf-46b1-bbf6-e63e60b79bb2",
   "metadata": {},
   "outputs": [],
   "source": [
    "# Function to find the length of\n",
    "# maximum balanced subsequence.\n",
    "def maxBalancedSubseq(str):\n",
    "    n = len(str)\n",
    "    \n",
    "    # to count invalid open and close braces\n",
    "    invalidOpen = 0\n",
    "    invalidClose = 0\n",
    "    \n",
    "    # Iterating over the String\n",
    "    for i in range(n):\n",
    "        \n",
    "        # count of open braces that\n",
    "        # hasn't been closed yet\n",
    "        if str[i] == '(':\n",
    "            invalidOpen += 1\n",
    "        else:\n",
    "            \n",
    "            # count of close braces that\n",
    "            # cannot be mapped to any open brace\n",
    "            if invalidOpen == 0:\n",
    "                invalidClose += 1\n",
    "            # Mapping the ith close brace\n",
    "            # to one of the open brace\n",
    "            else:\n",
    "                invalidOpen -= 1\n",
    "    return n - (invalidOpen + invalidClose)"
   ]
  },
  {
   "cell_type": "code",
   "execution_count": 184,
   "id": "5b269c3c-aa45-4d5f-80eb-8d2fed4491c8",
   "metadata": {},
   "outputs": [
    {
     "name": "stdout",
     "output_type": "stream",
     "text": [
      "4\n"
     ]
    }
   ],
   "source": [
    "str = \"()(((((()\"\n",
    "print(maxBalancedSubseq(str))\n"
   ]
  },
  {
   "cell_type": "code",
   "execution_count": 185,
   "id": "afd86ffa-b20b-4a62-affb-5ed590274794",
   "metadata": {},
   "outputs": [],
   "source": [
    "def longest_balanced_subsequence(s):\n",
    "    open_count = 0\n",
    "    pair_count = 0\n",
    "\n",
    "    for ch in s:\n",
    "        if ch == '(':\n",
    "            open_count += 1\n",
    "        elif ch == ')' and open_count > 0:\n",
    "            pair_count += 1\n",
    "            open_count -= 1\n",
    "\n",
    "    return pair_count * 2\n"
   ]
  },
  {
   "cell_type": "code",
   "execution_count": 193,
   "id": "25d76c64-821e-418a-8d91-273db2b4b9e1",
   "metadata": {},
   "outputs": [
    {
     "name": "stdout",
     "output_type": "stream",
     "text": [
      "4\n"
     ]
    }
   ],
   "source": [
    "s = \"()(((((()\"\n",
    "print(maxBalancedSubseq(str))"
   ]
  },
  {
   "cell_type": "markdown",
   "id": "3e7bf1bf-f12d-47c2-acbb-b07349f9392e",
   "metadata": {},
   "source": [
    "### Min Adjacent Swaps for Bracket Balancing"
   ]
  },
  {
   "cell_type": "code",
   "execution_count": 194,
   "id": "b22404bf-37e1-4b28-ad75-47ad8211ecaf",
   "metadata": {},
   "outputs": [],
   "source": [
    "def min_swaps_to_balance(s):\n",
    "    pos = []  # stores indexes of '['\n",
    "    for i, char in enumerate(s):\n",
    "        if char == '[':\n",
    "            pos.append(i)\n",
    "    print(pos)\n",
    "    count = 0    # balance counter\n",
    "    p = 0        # pointer to '[' positions\n",
    "    swaps = 0    # total swaps\n",
    "    s = list(s)  # convert to list for in-place simulation (optional)\n",
    "\n",
    "    for i in range(len(s)):\n",
    "        if s[i] == '[':\n",
    "            count += 1\n",
    "            p += 1\n",
    "        else:  # s[i] == ']'\n",
    "            count -= 1\n",
    "\n",
    "            if count < 0:\n",
    "                # imbalance: need to swap with next '['\n",
    "                swaps += pos[p] - i\n",
    "                # simulate swap (optional)\n",
    "                s[i], s[pos[p]] = s[pos[p]], s[i]\n",
    "                p += 1\n",
    "                count = 1  # reset balance after swap\n",
    "    print(\"\".join(s))\n",
    "    return swaps\n"
   ]
  },
  {
   "cell_type": "code",
   "execution_count": 195,
   "id": "afd8d705-fe76-4425-9edb-bfce2f75a7ff",
   "metadata": {},
   "outputs": [
    {
     "name": "stdout",
     "output_type": "stream",
     "text": [
      "[0, 3, 5]\n",
      "[][][]\n"
     ]
    },
    {
     "data": {
      "text/plain": [
       "2"
      ]
     },
     "execution_count": 195,
     "metadata": {},
     "output_type": "execute_result"
    }
   ],
   "source": [
    "s = \"[]][][\"\n",
    "min_swaps_to_balance(s)"
   ]
  },
  {
   "cell_type": "markdown",
   "id": "6b11440a-e0d5-4145-a936-5f2022e9be7c",
   "metadata": {},
   "source": [
    "### Form minimum number from given sequence"
   ]
  },
  {
   "cell_type": "code",
   "execution_count": 1,
   "id": "eb3d929a-a9de-4c4b-a2d8-4e2cb8bf05ee",
   "metadata": {},
   "outputs": [],
   "source": [
    "def print_min_number_for_pattern(pattern):\n",
    "    result = []\n",
    "    stack = []\n",
    "    num = 1\n",
    "\n",
    "    for i in range(len(pattern) + 1):\n",
    "        stack.append(num)\n",
    "        num += 1\n",
    "\n",
    "        # If current character is 'I' or we're at the end\n",
    "        if i == len(pattern) or pattern[i] == 'I':\n",
    "            while stack:\n",
    "                result.append(str(stack.pop()))\n",
    "\n",
    "    return ''.join(result)\n"
   ]
  },
  {
   "cell_type": "code",
   "execution_count": 2,
   "id": "2993063b-667d-47e3-90fb-890c592097a6",
   "metadata": {},
   "outputs": [
    {
     "data": {
      "text/plain": [
       "'126543'"
      ]
     },
     "execution_count": 2,
     "metadata": {},
     "output_type": "execute_result"
    }
   ],
   "source": [
    "s = \"IIDDD\"\n",
    "print_min_number_for_pattern(s)"
   ]
  },
  {
   "cell_type": "markdown",
   "id": "de3c86a3-5344-4612-9dfe-df45ed5200f9",
   "metadata": {},
   "source": [
    "### Print shortest path to print a string on screen\n",
    "\n",
    "You have a 5×5 grid of characters (A-Y) and a last row with just one character Z.\n",
    "\n",
    "A  B  C  D  E\n",
    "\n",
    "F  G  H  I  J\n",
    "\n",
    "K  L  M  N  O\n",
    "\n",
    "P  Q  R  S  T\n",
    "\n",
    "U  V  W  X  Y\n",
    "\n",
    "Z\n"
   ]
  },
  {
   "cell_type": "code",
   "execution_count": 4,
   "id": "4650ad46-4ab7-4102-b446-f779953c0f78",
   "metadata": {},
   "outputs": [],
   "source": [
    "def shortest_path_to_type(s):\n",
    "    # Step 1: Map characters to their grid positions\n",
    "    pos = {}\n",
    "    for i in range(26):\n",
    "        char = chr(ord('A') + i)\n",
    "        if char == 'Z':\n",
    "            pos[char] = (5, 0)\n",
    "        else:\n",
    "            pos[char] = (i // 5, i % 5)\n",
    "\n",
    "    curr_row, curr_col = 0, 0  # Starting at 'A'\n",
    "    path = []\n",
    "\n",
    "    for ch in s:\n",
    "        target_row, target_col = pos[ch]\n",
    "\n",
    "        # Special handling for 'Z' - move vertically before horizontal\n",
    "        if ch == 'Z':\n",
    "            # Move vertically first\n",
    "            while curr_row < target_row:\n",
    "                path.append(\"Down\")\n",
    "                curr_row += 1\n",
    "            while curr_row > target_row:\n",
    "                path.append(\"Up\")\n",
    "                curr_row -= 1\n",
    "            # Then move horizontally\n",
    "            while curr_col < target_col:\n",
    "                path.append(\"Right\")\n",
    "                curr_col += 1\n",
    "            while curr_col > target_col:\n",
    "                path.append(\"Left\")\n",
    "                curr_col -= 1\n",
    "        else:\n",
    "            # Move horizontally first\n",
    "            while curr_col < target_col:\n",
    "                path.append(\"Right\")\n",
    "                curr_col += 1\n",
    "            while curr_col > target_col:\n",
    "                path.append(\"Left\")\n",
    "                curr_col -= 1\n",
    "            # Then move vertically\n",
    "            while curr_row < target_row:\n",
    "                path.append(\"Down\")\n",
    "                curr_row += 1\n",
    "            while curr_row > target_row:\n",
    "                path.append(\"Up\")\n",
    "                curr_row -= 1\n",
    "\n",
    "        path.append(\"OK\")  # Press the character\n",
    "\n",
    "    return path"
   ]
  },
  {
   "cell_type": "code",
   "execution_count": 5,
   "id": "e8962b65-f824-45d0-8661-0d7347c444e8",
   "metadata": {},
   "outputs": [],
   "source": [
    "s = \"GEEKS\""
   ]
  },
  {
   "cell_type": "code",
   "execution_count": 6,
   "id": "d370fc69-fa6c-46fc-929b-e8b3a22284bd",
   "metadata": {},
   "outputs": [
    {
     "data": {
      "text/plain": [
       "['Right',\n",
       " 'Down',\n",
       " 'OK',\n",
       " 'Right',\n",
       " 'Right',\n",
       " 'Right',\n",
       " 'Up',\n",
       " 'OK',\n",
       " 'OK',\n",
       " 'Left',\n",
       " 'Left',\n",
       " 'Left',\n",
       " 'Left',\n",
       " 'Down',\n",
       " 'Down',\n",
       " 'OK',\n",
       " 'Right',\n",
       " 'Right',\n",
       " 'Right',\n",
       " 'Down',\n",
       " 'OK']"
      ]
     },
     "execution_count": 6,
     "metadata": {},
     "output_type": "execute_result"
    }
   ],
   "source": [
    "shortest_path_to_type(s)"
   ]
  },
  {
   "cell_type": "markdown",
   "id": "7c56544e-07c9-43d0-9608-31cb85be24af",
   "metadata": {},
   "source": [
    "### Mirror characters of a string"
   ]
  },
  {
   "cell_type": "code",
   "execution_count": 7,
   "id": "6317cdc4-88cb-43b5-9321-9917d73550a1",
   "metadata": {},
   "outputs": [],
   "source": [
    "def mirrorTransform(s, k):\n",
    "    \n",
    "    # Mirror mapping for lowercase letters\n",
    "    mirror = \"zyxwvutsrqponmlkjihgfedcba\"\n",
    "\n",
    "    # Apply the transformation from k-th position \n",
    "    # to the end\n",
    "    s = list(s)\n",
    "    for i in range(k - 1, len(s)):\n",
    "        s[i] = mirror[ord(s[i]) - ord('a')]\n",
    "    \n",
    "    return \"\".join(s)\n"
   ]
  },
  {
   "cell_type": "code",
   "execution_count": 8,
   "id": "d636f4f8-5844-4564-a6e2-6425716edaec",
   "metadata": {},
   "outputs": [
    {
     "data": {
      "text/plain": [
       "'geekhulitvvph'"
      ]
     },
     "execution_count": 8,
     "metadata": {},
     "output_type": "execute_result"
    }
   ],
   "source": [
    "s = \"geeksforgeeks\"\n",
    "k = 5\n",
    "mirrorTransform(s, k)"
   ]
  },
  {
   "cell_type": "code",
   "execution_count": 9,
   "id": "b22552e5-ea51-47bd-be6f-15af2659affb",
   "metadata": {},
   "outputs": [],
   "source": [
    "def mirrorTransform2(s, k):\n",
    "    \n",
    "    # Apply the transformation from k-th position \n",
    "    # to the end\n",
    "    s = list(s)\n",
    "    for i in range(k - 1, len(s)):\n",
    "        s[i] = chr(ord('a') + (ord('z') - ord(s[i])))\n",
    "    \n",
    "    return \"\".join(s)"
   ]
  },
  {
   "cell_type": "code",
   "execution_count": 10,
   "id": "707e0d98-d26d-4623-8806-950d6bb8af63",
   "metadata": {},
   "outputs": [
    {
     "data": {
      "text/plain": [
       "'geekhulitvvph'"
      ]
     },
     "execution_count": 10,
     "metadata": {},
     "output_type": "execute_result"
    }
   ],
   "source": [
    "s = \"geeksforgeeks\"\n",
    "k = 5\n",
    "mirrorTransform2(s, k)"
   ]
  },
  {
   "cell_type": "markdown",
   "id": "7431356c-04cb-4700-9d2a-caccb99b0f3f",
   "metadata": {},
   "source": [
    "### Lexicographic rank of a String"
   ]
  },
  {
   "cell_type": "markdown",
   "id": "e45a57e4-2282-46f2-bd5f-990881eb9e2d",
   "metadata": {},
   "source": [
    "Rank += (number of smaller chars to right of current) × (factorial of remaining positions)\n"
   ]
  },
  {
   "cell_type": "code",
   "execution_count": 11,
   "id": "640374c7-095c-4782-b5c3-03ad257437a8",
   "metadata": {},
   "outputs": [],
   "source": [
    "from math import factorial\n",
    "\n",
    "def lexicographic_rank(s):\n",
    "    n = len(s)\n",
    "    rank = 1\n",
    "    mul = factorial(n)\n",
    "\n",
    "    # Count of characters smaller than current\n",
    "    for i in range(n):\n",
    "        mul //= n - i  # factorial(n - i - 1)\n",
    "\n",
    "        # Count smaller characters after s[i]\n",
    "        count = sum(1 for ch in s[i+1:] if ch < s[i])\n",
    "\n",
    "        # Add permutations that start with smaller characters\n",
    "        rank += count * mul\n",
    "\n",
    "    return rank\n"
   ]
  },
  {
   "cell_type": "code",
   "execution_count": 12,
   "id": "b97cf7fb-3ed3-462b-ad24-8a9bccabc18d",
   "metadata": {},
   "outputs": [
    {
     "data": {
      "text/plain": [
       "2"
      ]
     },
     "execution_count": 12,
     "metadata": {},
     "output_type": "execute_result"
    }
   ],
   "source": [
    "s = \"acb\"\n",
    "lexicographic_rank(s)"
   ]
  },
  {
   "cell_type": "code",
   "execution_count": 13,
   "id": "ddb04ac5-1e5a-4677-88fb-8c2004877391",
   "metadata": {},
   "outputs": [],
   "source": [
    "from math import factorial\n",
    "\n",
    "def optimized_lex_rank2(s):\n",
    "    n = len(s)\n",
    "    rank = 1\n",
    "    mul = factorial(n)\n",
    "\n",
    "    # Frequency table for characters\n",
    "    count = [0] * 256\n",
    "    for ch in s:\n",
    "        count[ord(ch)] += 1\n",
    "\n",
    "    # Convert to cumulative count\n",
    "    for i in range(1, 256):\n",
    "        count[i] += count[i - 1]\n",
    "\n",
    "    for i in range(n):\n",
    "        mul //= n - i\n",
    "\n",
    "        # Count of chars less than s[i]\n",
    "        smaller = count[ord(s[i]) - 1]\n",
    "        rank += smaller * mul\n",
    "\n",
    "        # Reduce the frequency (remove current char)\n",
    "        for j in range(ord(s[i]), 256):\n",
    "            count[j] -= 1\n",
    "\n",
    "    return rank\n"
   ]
  },
  {
   "cell_type": "code",
   "execution_count": 14,
   "id": "3db4ecad-d933-4465-b299-5cc0ec65d2b1",
   "metadata": {},
   "outputs": [
    {
     "data": {
      "text/plain": [
       "2"
      ]
     },
     "execution_count": 14,
     "metadata": {},
     "output_type": "execute_result"
    }
   ],
   "source": [
    "optimized_lex_rank2(s)"
   ]
  },
  {
   "cell_type": "markdown",
   "id": "328a7324-acd8-42ec-af28-d5cd77659247",
   "metadata": {},
   "source": [
    "### Remove minimum characters so that two strings become anagram"
   ]
  },
  {
   "cell_type": "code",
   "execution_count": 15,
   "id": "68db5766-8bbe-4a0f-b0b7-61e027464f7d",
   "metadata": {},
   "outputs": [],
   "source": [
    "def remAnagram(s1, s2):\n",
    "    \n",
    "    cnt1 = [0] * 26\n",
    "    cnt2 = [0] * 26\n",
    "\n",
    "    # count frequency of each character in first string\n",
    "    for ch in s1:\n",
    "        cnt1[ord(ch) - ord('a')] += 1\n",
    "\n",
    "    # count frequency of each character in second string\n",
    "    for ch in s2:\n",
    "        cnt2[ord(ch) - ord('a')] += 1\n",
    "\n",
    "    # traverse count arrays to find number of characters\n",
    "    # to be removed\n",
    "    ans = 0\n",
    "\n",
    "    for i in range(26):\n",
    "        ans += abs(cnt1[i] - cnt2[i])\n",
    "        \n",
    "    return ans"
   ]
  },
  {
   "cell_type": "code",
   "execution_count": 16,
   "id": "c94b9c6b-82fd-4803-a412-d5ee5018ffe0",
   "metadata": {},
   "outputs": [
    {
     "data": {
      "text/plain": [
       "3"
      ]
     },
     "execution_count": 16,
     "metadata": {},
     "output_type": "execute_result"
    }
   ],
   "source": [
    "str1 = \"bcadeh\"\n",
    "str2 = \"hea\"\n",
    "\n",
    "remAnagram(str1, str2)"
   ]
  },
  {
   "cell_type": "markdown",
   "id": "5e4c3362-44a0-4c95-a605-4c15e5f5997c",
   "metadata": {},
   "source": [
    "### Minimum Changes to Make Anagram Without Deletion"
   ]
  },
  {
   "cell_type": "code",
   "execution_count": 17,
   "id": "161a1ce0-7bec-4313-8388-81c6f5af2593",
   "metadata": {},
   "outputs": [],
   "source": [
    "def minManipulation(s1, s2):\n",
    "    \n",
    "    freq = [0] * 26\n",
    "    \n",
    "    # Increment character frequency \n",
    "    # for string s1\n",
    "    for ch in s1:\n",
    "        freq[ord(ch) - ord('a')] += 1\n",
    "    \n",
    "    # Decrement character frequency\n",
    "    # for string s2 \n",
    "    for ch in s2:\n",
    "        freq[ord(ch) - ord('a')] -= 1\n",
    "    \n",
    "    count = 0\n",
    "    \n",
    "    # Count the number of mismatches\n",
    "    for i in range(26):\n",
    "        count += abs(freq[i])\n",
    "\n",
    "    # Return the count divided by 2\n",
    "    return count // 2"
   ]
  },
  {
   "cell_type": "code",
   "execution_count": 18,
   "id": "f6907eac-6d3c-4093-9981-52f78fa4ed33",
   "metadata": {},
   "outputs": [
    {
     "data": {
      "text/plain": [
       "2"
      ]
     },
     "execution_count": 18,
     "metadata": {},
     "output_type": "execute_result"
    }
   ],
   "source": [
    "s1 = \"ddcf\"\n",
    "s2 = \"cedk\"\n",
    "minManipulation(s1,s2)"
   ]
  },
  {
   "cell_type": "code",
   "execution_count": 20,
   "id": "302a2926-b148-4a20-830e-b3d30f0ed08f",
   "metadata": {},
   "outputs": [
    {
     "name": "stdout",
     "output_type": "stream",
     "text": [
      "\n",
      "Final Power Set:\n",
      "Current path: [], Trying: a\n",
      "Appended: a\n",
      "Current path: ['a'], Trying: b\n",
      "Appended: ab\n",
      "Current path: ['a', 'b'], Trying: c\n",
      "Appended: abc\n",
      "Backtracking from: ['a', 'b', 'c']\n",
      "Backtracking from: ['a', 'b']\n",
      "Current path: ['a'], Trying: c\n",
      "Appended: ac\n",
      "Backtracking from: ['a', 'c']\n",
      "Backtracking from: ['a']\n",
      "Current path: [], Trying: b\n",
      "Appended: b\n",
      "Current path: ['b'], Trying: c\n",
      "Appended: bc\n",
      "Backtracking from: ['b', 'c']\n",
      "Backtracking from: ['b']\n",
      "Current path: [], Trying: c\n",
      "Appended: c\n",
      "Backtracking from: ['c']\n",
      "['a', 'ab', 'abc', 'ac', 'b', 'bc', 'c']\n"
     ]
    }
   ],
   "source": [
    "def power_set_lex_order(s):\n",
    "    def backtrack(start, path):\n",
    "        if path:\n",
    "            result.append(\"\".join(path))  # Add the current subset to result (if non-empty)\n",
    "            print(f\"Appended: {''.join(path)}\")  # Print the current subset that was appended\n",
    "        for i in range(start, len(s)):  # Loop through each character starting from 'start'\n",
    "            print(f\"Current path: {path}, Trying: {s[i]}\")\n",
    "            path.append(s[i])  # Add the character to the current subset\n",
    "            backtrack(i + 1, path)  # Recurse to generate further subsets\n",
    "            print(f\"Backtracking from: {path}\")\n",
    "            path.pop()  # Backtrack by removing the character from current subset\n",
    "\n",
    "    s = ''.join(sorted(s))  # Sort the string first to ensure lexicographical order\n",
    "    result = []  # To store the final power set\n",
    "    backtrack(0, [])  # Initial call to backtrack\n",
    "    return result\n",
    "\n",
    "s = \"abc\"\n",
    "print(\"\\nFinal Power Set:\")\n",
    "result = power_set_lex_order(s)\n",
    "print(result)\n"
   ]
  },
  {
   "cell_type": "code",
   "execution_count": null,
   "id": "1e5ffd22-5bdf-4970-991b-21b1fa945e21",
   "metadata": {},
   "outputs": [],
   "source": []
  }
 ],
 "metadata": {
  "kernelspec": {
   "display_name": "Python 3 (ipykernel)",
   "language": "python",
   "name": "python3"
  },
  "language_info": {
   "codemirror_mode": {
    "name": "ipython",
    "version": 3
   },
   "file_extension": ".py",
   "mimetype": "text/x-python",
   "name": "python",
   "nbconvert_exporter": "python",
   "pygments_lexer": "ipython3",
   "version": "3.9.15"
  }
 },
 "nbformat": 4,
 "nbformat_minor": 5
}
