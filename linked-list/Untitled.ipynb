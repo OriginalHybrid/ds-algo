{
 "cells": [
  {
   "cell_type": "markdown",
   "id": "4ea637f5-3e58-449a-9cd2-8de0036ad55e",
   "metadata": {},
   "source": [
    "## Singly Linked List"
   ]
  },
  {
   "cell_type": "code",
   "execution_count": 1,
   "id": "53d26255-31ba-4e61-84ee-d6406e96c6e3",
   "metadata": {},
   "outputs": [],
   "source": [
    "# Definition of a Node in a singly linked list\n",
    "class Node:\n",
    "    def __init__(self, data):\n",
    "       # Data part of the node\n",
    "        self.data = data   \n",
    "        self.next = None    \n"
   ]
  },
  {
   "cell_type": "code",
   "execution_count": 2,
   "id": "c8920f1e-a6a1-41dd-a8a8-57e900d73ecb",
   "metadata": {},
   "outputs": [],
   "source": [
    "\n",
    "# Create a hard-coded linked list:\n",
    "# 10 -> 20 -> 30 -> 40\n",
    "head = Node(10)\n",
    "head.next = Node(20)\n",
    "head.next.next = Node(30)\n",
    "head.next.next.next = Node(40)"
   ]
  },
  {
   "cell_type": "markdown",
   "id": "0220773a-dfaa-4272-bc12-a54b5a047904",
   "metadata": {},
   "source": [
    "### 1. Traversal of Singly Linked List"
   ]
  },
  {
   "cell_type": "code",
   "execution_count": 3,
   "id": "d380aa8c-1ba8-47c4-bd6a-8bfd30a3636f",
   "metadata": {},
   "outputs": [],
   "source": [
    "def traverseList(head):\n",
    "    temp = head\n",
    "    while(temp is not None):\n",
    "        print(temp.data, end = \" \")\n",
    "        temp = temp.next"
   ]
  },
  {
   "cell_type": "code",
   "execution_count": 4,
   "id": "56e89d53-cf0f-4ffd-b6bd-1cc9b8c50d01",
   "metadata": {},
   "outputs": [
    {
     "name": "stdout",
     "output_type": "stream",
     "text": [
      "10 20 30 40 "
     ]
    }
   ],
   "source": [
    "\n",
    "# Example of traversing the node and printing\n",
    "traverseList(head)"
   ]
  },
  {
   "cell_type": "code",
   "execution_count": 5,
   "id": "2a04f8d9-c579-4936-96c3-809a42586595",
   "metadata": {},
   "outputs": [],
   "source": [
    "def traverseLLRec(head):\n",
    "    if head is None:\n",
    "        return\n",
    "    else:\n",
    "        print(head.data, end = \" \")\n",
    "        traverseLLRec(head.next)"
   ]
  },
  {
   "cell_type": "code",
   "execution_count": 6,
   "id": "b5cd8a15-859b-48e4-b9d0-c191744a1459",
   "metadata": {},
   "outputs": [
    {
     "name": "stdout",
     "output_type": "stream",
     "text": [
      "10 20 30 40 "
     ]
    }
   ],
   "source": [
    "traverseLLRec(head)"
   ]
  },
  {
   "cell_type": "markdown",
   "id": "52ce2e1c-b9cb-4e70-bcf8-777bf4846ed2",
   "metadata": {},
   "source": [
    "### 2. Searching in Singly Linked List"
   ]
  },
  {
   "cell_type": "code",
   "execution_count": 7,
   "id": "904dd156-16e7-4a4b-87e3-38d6e37ac9ab",
   "metadata": {},
   "outputs": [],
   "source": [
    "def search_key(head, key):\n",
    "    temp = head\n",
    "    while temp is not None:\n",
    "        if temp.data == key:\n",
    "            print(\"Key Found\")\n",
    "            return\n",
    "        else:\n",
    "            temp = temp.next\n",
    "    print(\"Key Not Found\")"
   ]
  },
  {
   "cell_type": "code",
   "execution_count": 8,
   "id": "03629e19-646d-4426-8c29-65219e913725",
   "metadata": {},
   "outputs": [
    {
     "name": "stdout",
     "output_type": "stream",
     "text": [
      "Key Not Found\n"
     ]
    }
   ],
   "source": [
    "search_key(head, 203)"
   ]
  },
  {
   "cell_type": "code",
   "execution_count": 9,
   "id": "611af3c6-db88-454a-83df-577ce878531d",
   "metadata": {},
   "outputs": [],
   "source": [
    "def search_keyRec(head, key):\n",
    "    if head is None:\n",
    "        print(\"Key Not Found\")\n",
    "        return\n",
    "    if head.data == key:\n",
    "        print(\"Key Found\")\n",
    "        return\n",
    "    search_keyRec(head.next, key)"
   ]
  },
  {
   "cell_type": "code",
   "execution_count": 10,
   "id": "a8de1570-9025-43f6-b0f3-d99a11a05d98",
   "metadata": {},
   "outputs": [
    {
     "name": "stdout",
     "output_type": "stream",
     "text": [
      "Key Found\n"
     ]
    }
   ],
   "source": [
    "search_keyRec(head, 20)"
   ]
  },
  {
   "cell_type": "code",
   "execution_count": 11,
   "id": "7ee2f748-64c6-4082-8ad4-670d63d22efc",
   "metadata": {},
   "outputs": [
    {
     "name": "stdout",
     "output_type": "stream",
     "text": [
      "Key Not Found\n"
     ]
    }
   ],
   "source": [
    "search_keyRec(head, 200)"
   ]
  },
  {
   "cell_type": "markdown",
   "id": "fe9ddf8f-4959-47d5-8a34-427c437ae1ac",
   "metadata": {},
   "source": [
    "### 3. Length of Singly Linked List"
   ]
  },
  {
   "cell_type": "code",
   "execution_count": 12,
   "id": "b3b26d76-c082-497e-8051-93ece5e61c6e",
   "metadata": {},
   "outputs": [],
   "source": [
    "def findLengthLL(head):\n",
    "    temp = head\n",
    "    l = 0\n",
    "    while temp is not None:\n",
    "        l = l + 1\n",
    "        temp = temp.next\n",
    "    return l"
   ]
  },
  {
   "cell_type": "code",
   "execution_count": 13,
   "id": "80ed4a5a-f742-429c-8032-2430c12bdaa7",
   "metadata": {},
   "outputs": [
    {
     "name": "stdout",
     "output_type": "stream",
     "text": [
      "4\n"
     ]
    }
   ],
   "source": [
    "ln = findLengthLL(head)\n",
    "print(ln)"
   ]
  },
  {
   "cell_type": "code",
   "execution_count": 14,
   "id": "4e64b5cf-6b82-4eb6-85c3-65cfc451cf7e",
   "metadata": {},
   "outputs": [],
   "source": [
    "def findLengthLLRec(head, l = 0):\n",
    "    if head is None:\n",
    "        print(l)\n",
    "        return\n",
    "    findLengthLLRec(head.next, l + 1)\n",
    "    "
   ]
  },
  {
   "cell_type": "code",
   "execution_count": 15,
   "id": "135eeb5e-70df-4882-bce1-f9ca0687f705",
   "metadata": {},
   "outputs": [
    {
     "name": "stdout",
     "output_type": "stream",
     "text": [
      "4\n"
     ]
    }
   ],
   "source": [
    "findLengthLLRec(head, 0)"
   ]
  },
  {
   "cell_type": "markdown",
   "id": "5d085cdd-0aee-46d4-8e67-cee7b3d3a91b",
   "metadata": {},
   "source": [
    "### 4. Insertion in Singly Linked List"
   ]
  },
  {
   "cell_type": "markdown",
   "id": "a809d73e-30f8-4cc0-9cc7-008cfe3e9b8c",
   "metadata": {},
   "source": [
    "#### a. Insertion at the Beginning of Singly Linked List"
   ]
  },
  {
   "cell_type": "code",
   "execution_count": 16,
   "id": "46ccfbdb-a095-40ce-ae7d-bca39eb2a2c7",
   "metadata": {},
   "outputs": [],
   "source": [
    "def insert_at_beg(head, data):\n",
    "    n = Node(data)\n",
    "    if head is None:\n",
    "        head = n\n",
    "    else:\n",
    "        n.next = head\n",
    "        head = n\n",
    "    return head"
   ]
  },
  {
   "cell_type": "code",
   "execution_count": 17,
   "id": "cc743f9a-04ab-4ee7-a6d2-3177adb523a3",
   "metadata": {},
   "outputs": [
    {
     "name": "stdout",
     "output_type": "stream",
     "text": [
      "10 20 30 40 "
     ]
    }
   ],
   "source": [
    "traverseList(head)"
   ]
  },
  {
   "cell_type": "code",
   "execution_count": 18,
   "id": "628ba6cb-92d9-43df-8d75-9d68d0ae2f6a",
   "metadata": {},
   "outputs": [],
   "source": [
    "head = insert_at_beg(head, 5)"
   ]
  },
  {
   "cell_type": "code",
   "execution_count": 19,
   "id": "bce24b30-1d70-4930-ab5f-aa601cbf6e5f",
   "metadata": {},
   "outputs": [
    {
     "name": "stdout",
     "output_type": "stream",
     "text": [
      "5 10 20 30 40 "
     ]
    }
   ],
   "source": [
    "traverseList(head)"
   ]
  },
  {
   "cell_type": "markdown",
   "id": "11c29f15-e8c3-4f33-b0df-f44cea036708",
   "metadata": {},
   "source": [
    "#### b. Insertion at the End of Singly Linked List"
   ]
  },
  {
   "cell_type": "code",
   "execution_count": 20,
   "id": "27cc4ca6-c6ed-484f-b752-204829a6d850",
   "metadata": {},
   "outputs": [],
   "source": [
    "def insert_at_end(head, data):\n",
    "    n = Node(data)\n",
    "    temp = head\n",
    "    while temp.next is not None:\n",
    "        temp = temp.next\n",
    "    temp.next = n\n",
    "    return head"
   ]
  },
  {
   "cell_type": "code",
   "execution_count": 21,
   "id": "284084ac-8f0e-40b5-88f6-3e25e39b87dd",
   "metadata": {},
   "outputs": [
    {
     "name": "stdout",
     "output_type": "stream",
     "text": [
      "5 10 20 30 40 "
     ]
    }
   ],
   "source": [
    "traverseList(head)"
   ]
  },
  {
   "cell_type": "code",
   "execution_count": 22,
   "id": "6bb3bd51-f6de-40e3-91eb-aad42b3eb5da",
   "metadata": {},
   "outputs": [],
   "source": [
    "head = insert_at_end(head, 50)"
   ]
  },
  {
   "cell_type": "code",
   "execution_count": 23,
   "id": "1e5069c9-4b5c-40a2-a11d-a7afc673e004",
   "metadata": {},
   "outputs": [
    {
     "name": "stdout",
     "output_type": "stream",
     "text": [
      "5 10 20 30 40 50 "
     ]
    }
   ],
   "source": [
    "traverseList(head)"
   ]
  },
  {
   "cell_type": "markdown",
   "id": "27e73aad-1160-4365-ba8a-7469697eff7e",
   "metadata": {},
   "source": [
    "#### c. Insertion at a Specific Position of the Singly Linked List"
   ]
  },
  {
   "cell_type": "code",
   "execution_count": 24,
   "id": "10e85db5-c1e2-4539-a8aa-31327bdfeaa1",
   "metadata": {},
   "outputs": [],
   "source": [
    "def insert_at_pos(head, pos, data):\n",
    "    n = Node(data)\n",
    "    if pos == 1:\n",
    "        n.next = head\n",
    "        head = n\n",
    "        return head\n",
    "    temp = head\n",
    "    while pos > 1:\n",
    "        temp = temp.next\n",
    "        pos = pos - 1\n",
    "    n.next = temp.next\n",
    "    temp.next = n\n",
    "    return head\n",
    "        "
   ]
  },
  {
   "cell_type": "code",
   "execution_count": 25,
   "id": "a0b3e35a-1fd0-425a-b804-2565d22ddb39",
   "metadata": {},
   "outputs": [
    {
     "name": "stdout",
     "output_type": "stream",
     "text": [
      "5 10 20 30 40 50 "
     ]
    }
   ],
   "source": [
    "traverseList(head)"
   ]
  },
  {
   "cell_type": "code",
   "execution_count": 26,
   "id": "6c64eb14-e656-4043-9be0-a8b092e18439",
   "metadata": {},
   "outputs": [
    {
     "data": {
      "text/plain": [
       "<__main__.Node at 0x26ceb8c9810>"
      ]
     },
     "execution_count": 26,
     "metadata": {},
     "output_type": "execute_result"
    }
   ],
   "source": [
    "insert_at_pos(head, 3, 37)"
   ]
  },
  {
   "cell_type": "code",
   "execution_count": 27,
   "id": "792403eb-e26d-40cc-a807-2bc1846fe0d8",
   "metadata": {},
   "outputs": [
    {
     "name": "stdout",
     "output_type": "stream",
     "text": [
      "5 10 20 37 30 40 50 "
     ]
    }
   ],
   "source": [
    "traverseList(head)"
   ]
  },
  {
   "cell_type": "markdown",
   "id": "682486f6-87d0-4539-a88b-a0ed3ebd65bc",
   "metadata": {},
   "source": [
    "### 5. Deletion in Singly Linked List"
   ]
  },
  {
   "cell_type": "markdown",
   "id": "565ef962-d512-4c78-8607-8f0ffc45d390",
   "metadata": {},
   "source": [
    "#### a. Deletion at the Beginning of Singly Linked List"
   ]
  },
  {
   "cell_type": "code",
   "execution_count": 28,
   "id": "d2066533-bfc5-4186-90a9-8755cc06aab2",
   "metadata": {},
   "outputs": [],
   "source": [
    "def del_at_beg(head):\n",
    "    temp = head\n",
    "    head = head.next\n",
    "    print(temp.data, \" Deleted\")\n",
    "    del temp\n",
    "    return head\n"
   ]
  },
  {
   "cell_type": "code",
   "execution_count": 29,
   "id": "437480d3-8011-47ce-b0f3-5b0e1562f6f3",
   "metadata": {},
   "outputs": [
    {
     "name": "stdout",
     "output_type": "stream",
     "text": [
      "5  Deleted\n"
     ]
    }
   ],
   "source": [
    "head = del_at_beg(head)"
   ]
  },
  {
   "cell_type": "code",
   "execution_count": 30,
   "id": "ba93e018-1a51-42df-a028-abaf22a36747",
   "metadata": {},
   "outputs": [
    {
     "name": "stdout",
     "output_type": "stream",
     "text": [
      "10 20 37 30 40 50 "
     ]
    }
   ],
   "source": [
    "traverseList(head)"
   ]
  },
  {
   "cell_type": "markdown",
   "id": "360dcc56-6fe1-4a5f-a7da-7e47288241ca",
   "metadata": {},
   "source": [
    "#### b. Deletion at the End of Singly Linked List"
   ]
  },
  {
   "cell_type": "code",
   "execution_count": 31,
   "id": "b19998b9-340b-4c6b-8ff3-220208f896bd",
   "metadata": {},
   "outputs": [],
   "source": [
    "def del_at_end(head):\n",
    "    if head is None:\n",
    "        return None\n",
    "    if head.next is None:\n",
    "        del head\n",
    "        head = None\n",
    "        return head\n",
    "    temp = head\n",
    "    while temp.next.next is not None:\n",
    "        temp = temp.next\n",
    "    print(temp.next.data, \" Deleted...\")\n",
    "    del temp.next\n",
    "    temp.next = None\n",
    "    return head"
   ]
  },
  {
   "cell_type": "code",
   "execution_count": 32,
   "id": "23a28109-defa-45ad-bfba-e1504ff53916",
   "metadata": {},
   "outputs": [
    {
     "name": "stdout",
     "output_type": "stream",
     "text": [
      "10 20 37 30 40 50 "
     ]
    }
   ],
   "source": [
    "traverseList(head)"
   ]
  },
  {
   "cell_type": "code",
   "execution_count": 33,
   "id": "b7394d1d-96af-472e-8578-ca97cfc7f7c7",
   "metadata": {},
   "outputs": [
    {
     "name": "stdout",
     "output_type": "stream",
     "text": [
      "50  Deleted...\n"
     ]
    },
    {
     "data": {
      "text/plain": [
       "<__main__.Node at 0x26cea8846d0>"
      ]
     },
     "execution_count": 33,
     "metadata": {},
     "output_type": "execute_result"
    }
   ],
   "source": [
    "del_at_end(head)"
   ]
  },
  {
   "cell_type": "code",
   "execution_count": 34,
   "id": "e7807f41-3fd2-4879-a4ae-e7c30d7cce84",
   "metadata": {},
   "outputs": [
    {
     "name": "stdout",
     "output_type": "stream",
     "text": [
      "10 20 37 30 40 "
     ]
    }
   ],
   "source": [
    "traverseList(head)"
   ]
  },
  {
   "cell_type": "markdown",
   "id": "738f3450-f6da-44b4-a698-08418049dbd8",
   "metadata": {},
   "source": [
    "#### c. Deletion at a Specific Position of Singly Linked List"
   ]
  },
  {
   "cell_type": "code",
   "execution_count": 35,
   "id": "bb471b13-b464-4550-8009-7557f2fa909d",
   "metadata": {},
   "outputs": [],
   "source": [
    "def del_at_pos(head, pos):\n",
    "    if head is None:\n",
    "        return head\n",
    "    tmp = head\n",
    "    if head.next is None and pos == 1:\n",
    "        print(tmp.data, \" Deleted...\")\n",
    "        del tmp\n",
    "        head = None\n",
    "        return head\n",
    "    else:\n",
    "        while pos > 1:\n",
    "            tmp = tmp.next\n",
    "            pos = pos - 1\n",
    "        e = tmp.next\n",
    "        tmp.next = e.next\n",
    "        del e\n",
    "    \n",
    "    return head"
   ]
  },
  {
   "cell_type": "code",
   "execution_count": 36,
   "id": "7e6b2b6e-c301-4dc7-9435-03d9eb987574",
   "metadata": {},
   "outputs": [
    {
     "name": "stdout",
     "output_type": "stream",
     "text": [
      "10 20 37 30 40 "
     ]
    }
   ],
   "source": [
    "traverseList(head)"
   ]
  },
  {
   "cell_type": "code",
   "execution_count": 37,
   "id": "c0e3e2d7-9433-4adc-98e3-bf0abaa43461",
   "metadata": {},
   "outputs": [
    {
     "data": {
      "text/plain": [
       "<__main__.Node at 0x26cea8846d0>"
      ]
     },
     "execution_count": 37,
     "metadata": {},
     "output_type": "execute_result"
    }
   ],
   "source": [
    "del_at_pos(head, 3)"
   ]
  },
  {
   "cell_type": "code",
   "execution_count": 38,
   "id": "7737f69b-85b8-48db-a975-eb47eb887f3a",
   "metadata": {},
   "outputs": [
    {
     "name": "stdout",
     "output_type": "stream",
     "text": [
      "10 20 37 40 "
     ]
    }
   ],
   "source": [
    "traverseList(head)"
   ]
  },
  {
   "cell_type": "markdown",
   "id": "5041d42c-368d-4203-afcb-382c688c0b95",
   "metadata": {},
   "source": [
    "### 6. Modify a Singly Linked List"
   ]
  },
  {
   "cell_type": "code",
   "execution_count": 39,
   "id": "f21b3dc9-683a-4f3e-abe8-d44f605d05c8",
   "metadata": {},
   "outputs": [],
   "source": [
    "def modify_ll(head, pos, data):\n",
    "    if head is None:\n",
    "        return\n",
    "    temp = head\n",
    "    while pos > 1 and temp.next is not None:\n",
    "        temp = temp.next\n",
    "        pos = pos - 1\n",
    "    if pos >=1 and temp.next is None:\n",
    "        print(\"Invalid Location\")\n",
    "    else:\n",
    "        temp.next.data = data\n",
    "    return head"
   ]
  },
  {
   "cell_type": "code",
   "execution_count": 40,
   "id": "31dcc0a9-0f6e-4fd9-a3ba-933c8ae7b381",
   "metadata": {},
   "outputs": [
    {
     "data": {
      "text/plain": [
       "<__main__.Node at 0x26cea8846d0>"
      ]
     },
     "execution_count": 40,
     "metadata": {},
     "output_type": "execute_result"
    }
   ],
   "source": [
    "modify_ll(head, 2, 35)"
   ]
  },
  {
   "cell_type": "code",
   "execution_count": 41,
   "id": "f1b5f99d-0f2e-46ff-997c-e1e394db2144",
   "metadata": {},
   "outputs": [
    {
     "name": "stdout",
     "output_type": "stream",
     "text": [
      "10 20 35 40 "
     ]
    }
   ],
   "source": [
    "traverseList(head)"
   ]
  },
  {
   "cell_type": "markdown",
   "id": "56e1e128-3e27-4d48-acb7-34febc31f885",
   "metadata": {},
   "source": [
    "### 7. Reversing a Singly Linked List"
   ]
  },
  {
   "cell_type": "code",
   "execution_count": 42,
   "id": "5677907e-2e18-4423-b80d-19f33c2a9f2c",
   "metadata": {},
   "outputs": [],
   "source": [
    "def reverse_ll(head):\n",
    "    prev = None\n",
    "    curr = head\n",
    "    next_node = None\n",
    "    \n",
    "    while curr is not None:\n",
    "        next_node = curr.next\n",
    "        curr.next = prev\n",
    "        prev = curr\n",
    "        curr = next_node\n",
    "    \n",
    "    head = prev\n",
    "    return head"
   ]
  },
  {
   "cell_type": "code",
   "execution_count": 43,
   "id": "7a817162-dd44-47f3-91a5-8080ec4cd925",
   "metadata": {},
   "outputs": [
    {
     "name": "stdout",
     "output_type": "stream",
     "text": [
      "10 20 35 40 "
     ]
    }
   ],
   "source": [
    "traverseList(head)"
   ]
  },
  {
   "cell_type": "code",
   "execution_count": 44,
   "id": "9318bbbf-1ee3-4757-9323-bb753cc45f64",
   "metadata": {},
   "outputs": [],
   "source": [
    "head = reverse_ll(head)"
   ]
  },
  {
   "cell_type": "code",
   "execution_count": 45,
   "id": "52489210-72d9-4de8-99cf-1d4b234736af",
   "metadata": {},
   "outputs": [
    {
     "name": "stdout",
     "output_type": "stream",
     "text": [
      "40 35 20 10 "
     ]
    }
   ],
   "source": [
    "traverseList(head)"
   ]
  },
  {
   "cell_type": "markdown",
   "id": "f9cc5355-d56d-4188-898d-0dc4b12d8b19",
   "metadata": {},
   "source": [
    "## Doubly Linked List"
   ]
  },
  {
   "cell_type": "code",
   "execution_count": 46,
   "id": "9571295c-8461-44e4-8c15-ad11db07ae5c",
   "metadata": {},
   "outputs": [],
   "source": [
    "class DllNode:\n",
    "  \n",
    "    def __init__(self, data):\n",
    "        # To store the value or data.\n",
    "        self.data = data\n",
    "\n",
    "        # Reference to the previous node\n",
    "        self.prev = None\n",
    "\n",
    "        # Reference to the next node\n",
    "        self.next = None\n"
   ]
  },
  {
   "cell_type": "code",
   "execution_count": 47,
   "id": "1e96fd19-c0f6-4bfd-b735-6b62e8754333",
   "metadata": {},
   "outputs": [],
   "source": [
    "# Create a hardcoded doubly linked list:\n",
    "# 1 <-> 2 <-> 3\n",
    "head = DllNode(1)\n",
    "second = DllNode(2)\n",
    "third = DllNode(3)\n",
    "\n",
    "head.next = second\n",
    "second.prev = head\n",
    "second.next = third\n",
    "third.prev = second"
   ]
  },
  {
   "cell_type": "markdown",
   "id": "c4fb7bc5-e19c-4a61-ae37-6a35f9f29d33",
   "metadata": {},
   "source": [
    "#### Traversal in Doubly Linked List"
   ]
  },
  {
   "cell_type": "code",
   "execution_count": 48,
   "id": "bbc8ad53-56c9-49a8-b29e-bd4a96e4dc89",
   "metadata": {},
   "outputs": [],
   "source": [
    "def dll_forward_traversal(head):\n",
    "    if head is None:\n",
    "        print(\"Empty List\")\n",
    "    else:\n",
    "        temp = head\n",
    "        while temp is not None:\n",
    "            print(temp.data, end = \" \")\n",
    "            temp = temp.next"
   ]
  },
  {
   "cell_type": "code",
   "execution_count": 49,
   "id": "2679028d-c926-49d7-89e7-a9eb6a2c51b9",
   "metadata": {},
   "outputs": [
    {
     "name": "stdout",
     "output_type": "stream",
     "text": [
      "1 2 3 "
     ]
    }
   ],
   "source": [
    "dll_forward_traversal(head)"
   ]
  },
  {
   "cell_type": "code",
   "execution_count": 50,
   "id": "c8f0790a-bf67-4942-a58c-1148ed3282ba",
   "metadata": {},
   "outputs": [],
   "source": [
    "def dll_backword_traversal(tail):\n",
    "    if tail is None:\n",
    "        print(\"Empty List\")\n",
    "    else:\n",
    "        temp = tail\n",
    "        while temp is not None:\n",
    "            print(temp.data, end = \" \")\n",
    "            temp = temp.prev"
   ]
  },
  {
   "cell_type": "code",
   "execution_count": 51,
   "id": "1f86e6ac-78b7-4804-83db-bc7ea9039bbc",
   "metadata": {},
   "outputs": [
    {
     "name": "stdout",
     "output_type": "stream",
     "text": [
      "3 2 1 "
     ]
    }
   ],
   "source": [
    "dll_backword_traversal(third)"
   ]
  },
  {
   "cell_type": "code",
   "execution_count": 52,
   "id": "e4dbfea2-46c3-45f8-9aac-8005e8cb1dda",
   "metadata": {},
   "outputs": [],
   "source": [
    "def dll_forward_traversal_rec(head):\n",
    "    if head is None:\n",
    "        return\n",
    "    else:\n",
    "        print(head.data, end = \" \")\n",
    "        dll_forward_traversal_rec(head.next)"
   ]
  },
  {
   "cell_type": "code",
   "execution_count": 53,
   "id": "5ba70de5-d865-4c27-9c8b-58eb68fef884",
   "metadata": {},
   "outputs": [
    {
     "name": "stdout",
     "output_type": "stream",
     "text": [
      "1 2 3 "
     ]
    }
   ],
   "source": [
    "dll_forward_traversal_rec(head)"
   ]
  },
  {
   "cell_type": "code",
   "execution_count": 54,
   "id": "b82dfdd3-1971-4597-b795-12aaf21e5cd8",
   "metadata": {},
   "outputs": [],
   "source": [
    "def dll_backward_traversal_rec(tail):\n",
    "    if tail is None:\n",
    "        return\n",
    "    else:\n",
    "        print(tail.data, end = \" \")\n",
    "        dll_backward_traversal_rec(tail.prev)"
   ]
  },
  {
   "cell_type": "code",
   "execution_count": 55,
   "id": "fb4de4de-e7e8-4ad3-a58d-21106c1c79ed",
   "metadata": {},
   "outputs": [
    {
     "name": "stdout",
     "output_type": "stream",
     "text": [
      "3 2 1 "
     ]
    }
   ],
   "source": [
    "dll_backward_traversal_rec(third)"
   ]
  },
  {
   "cell_type": "markdown",
   "id": "26e10794-a86f-4772-8eec-105399f17b57",
   "metadata": {},
   "source": [
    "#### 2.  Finding Length of Doubly Linked List"
   ]
  },
  {
   "cell_type": "code",
   "execution_count": 56,
   "id": "0aebce83-7ddd-4182-b4ef-e798086d643d",
   "metadata": {},
   "outputs": [],
   "source": [
    "def dll_size(head):\n",
    "    s = 0\n",
    "    if head is None:\n",
    "        return s\n",
    "    else:\n",
    "        temp = head\n",
    "        while temp is not None:\n",
    "            s = s + 1\n",
    "            temp = temp.next\n",
    "        return s"
   ]
  },
  {
   "cell_type": "code",
   "execution_count": 57,
   "id": "a78bf70e-2c18-48ee-a96b-0f03599763b6",
   "metadata": {},
   "outputs": [
    {
     "name": "stdout",
     "output_type": "stream",
     "text": [
      "3\n"
     ]
    }
   ],
   "source": [
    "length = dll_size(head)\n",
    "print(length)"
   ]
  },
  {
   "cell_type": "code",
   "execution_count": 58,
   "id": "e1def1e4-2de0-428c-9f22-ca07fdab8d9a",
   "metadata": {},
   "outputs": [],
   "source": [
    "def dll_findSize_rec(head):\n",
    "    if head is None:\n",
    "        return 0\n",
    "    return 1 + dll_findSize_rec(head.next)  # Recursive call"
   ]
  },
  {
   "cell_type": "code",
   "execution_count": 59,
   "id": "b709c573-19e8-4737-8ada-71858b4b0000",
   "metadata": {},
   "outputs": [
    {
     "data": {
      "text/plain": [
       "3"
      ]
     },
     "execution_count": 59,
     "metadata": {},
     "output_type": "execute_result"
    }
   ],
   "source": [
    "dll_findSize_rec(head)"
   ]
  },
  {
   "cell_type": "markdown",
   "id": "89c2136f-7375-431c-a957-1f027b886eda",
   "metadata": {},
   "source": [
    "#### 3. Insertion in a Doubly Linked List"
   ]
  },
  {
   "cell_type": "markdown",
   "id": "03fab3a6-10ce-4254-9966-de2e36f98efb",
   "metadata": {},
   "source": [
    "#### Insert a Node at Front/Beginning of Doubly Linked List"
   ]
  },
  {
   "cell_type": "code",
   "execution_count": 60,
   "id": "872d8255-f361-4b67-bfba-369d3168af03",
   "metadata": {},
   "outputs": [],
   "source": [
    "def dll_insert_at_beg(head, data):\n",
    "    nn = DllNode(data)\n",
    "    if head is None:\n",
    "        head = nn\n",
    "    else:\n",
    "        nn.next = head\n",
    "        head.prev = nn\n",
    "        head = nn\n",
    "    return head"
   ]
  },
  {
   "cell_type": "code",
   "execution_count": 61,
   "id": "cb52c036-924e-4ee7-9b99-9aa921a0eee7",
   "metadata": {},
   "outputs": [
    {
     "name": "stdout",
     "output_type": "stream",
     "text": [
      "1 2 3 "
     ]
    }
   ],
   "source": [
    "dll_forward_traversal(head)"
   ]
  },
  {
   "cell_type": "code",
   "execution_count": 62,
   "id": "4b0a6023-2367-465f-a8d6-aa336ef73b59",
   "metadata": {},
   "outputs": [],
   "source": [
    "head = dll_insert_at_beg(head, 5)"
   ]
  },
  {
   "cell_type": "code",
   "execution_count": 63,
   "id": "55459b54-790a-46cc-996a-b0a99ea04269",
   "metadata": {},
   "outputs": [
    {
     "name": "stdout",
     "output_type": "stream",
     "text": [
      "5 1 2 3 "
     ]
    }
   ],
   "source": [
    "dll_forward_traversal(head)"
   ]
  },
  {
   "cell_type": "markdown",
   "id": "8cd27df5-7156-47dc-bf3e-7cfdb87af901",
   "metadata": {},
   "source": [
    "#### Insert a Node at the end of Doubly Linked List"
   ]
  },
  {
   "cell_type": "code",
   "execution_count": 64,
   "id": "f0f7843e-1a0c-445f-b29f-bc0f88f89343",
   "metadata": {},
   "outputs": [],
   "source": [
    "def dll_insert_at_end(head, data):\n",
    "    nn = DllNode(data)\n",
    "    if head is None:\n",
    "        head = nn\n",
    "    else:\n",
    "        temp = head\n",
    "        while temp.next is not None:\n",
    "            temp = temp.next\n",
    "        temp.next = nn\n",
    "        nn.prev = temp\n",
    "    return head"
   ]
  },
  {
   "cell_type": "code",
   "execution_count": 65,
   "id": "442f40bb-14cd-46da-b08d-e6a321926357",
   "metadata": {},
   "outputs": [
    {
     "name": "stdout",
     "output_type": "stream",
     "text": [
      "5 1 2 3 "
     ]
    }
   ],
   "source": [
    "dll_forward_traversal(head)"
   ]
  },
  {
   "cell_type": "code",
   "execution_count": 66,
   "id": "011fcb47-5a6c-491a-a7d7-9680d2e178d4",
   "metadata": {},
   "outputs": [],
   "source": [
    "head = dll_insert_at_end(head, 7)"
   ]
  },
  {
   "cell_type": "code",
   "execution_count": 67,
   "id": "e640eb9e-6539-4774-8e2d-406052a8d24d",
   "metadata": {},
   "outputs": [
    {
     "name": "stdout",
     "output_type": "stream",
     "text": [
      "5 1 2 3 7 "
     ]
    }
   ],
   "source": [
    "dll_forward_traversal(head)"
   ]
  },
  {
   "cell_type": "markdown",
   "id": "ac5c3e05-199e-49f8-839b-ea03ca9be03a",
   "metadata": {},
   "source": [
    "#### Insert a Node at a specific position in Doubly Linked List"
   ]
  },
  {
   "cell_type": "code",
   "execution_count": 68,
   "id": "dd164d26-d624-4b1e-bce5-5f8c74c8b46f",
   "metadata": {},
   "outputs": [],
   "source": [
    "def dll_insert_at_pos(head, pos, data):\n",
    "    nn = DllNode(data)\n",
    "    if pos == 1:\n",
    "        nn.next = head\n",
    "        head.prev = nn\n",
    "        head = nn\n",
    "    else:\n",
    "        temp = head\n",
    "        for i in range(1,pos):\n",
    "            temp = temp.next\n",
    "        \n",
    "        nn.next = temp.next\n",
    "        temp.next.prev = nn\n",
    "        temp.next = nn\n",
    "        nn.prev = temp\n",
    "    return head"
   ]
  },
  {
   "cell_type": "code",
   "execution_count": 69,
   "id": "29458e2c-2093-49bd-bb40-8c03adf7fc50",
   "metadata": {},
   "outputs": [
    {
     "name": "stdout",
     "output_type": "stream",
     "text": [
      "5 1 2 3 7 "
     ]
    }
   ],
   "source": [
    "dll_forward_traversal(head)"
   ]
  },
  {
   "cell_type": "code",
   "execution_count": 70,
   "id": "887fcf90-f2f2-450e-b362-cca7665b2a0d",
   "metadata": {},
   "outputs": [],
   "source": [
    "head = dll_insert_at_pos(head, 4, 4)"
   ]
  },
  {
   "cell_type": "code",
   "execution_count": 71,
   "id": "bad745d6-8ee5-4b9a-8c15-75e914fd719c",
   "metadata": {},
   "outputs": [
    {
     "name": "stdout",
     "output_type": "stream",
     "text": [
      "5 1 2 3 4 7 "
     ]
    }
   ],
   "source": [
    "dll_forward_traversal(head)"
   ]
  },
  {
   "cell_type": "markdown",
   "id": "c1becc27-c37f-45c7-a6cd-c7bf2eeedbb4",
   "metadata": {},
   "source": [
    "#### 4. Deletion in a Doubly Linked List"
   ]
  },
  {
   "cell_type": "markdown",
   "id": "2eb83b92-2038-4465-a343-2eb6d5ea7afa",
   "metadata": {},
   "source": [
    "#### Deletion at beginning (Removal of first node) in a Linked List"
   ]
  },
  {
   "cell_type": "code",
   "execution_count": 72,
   "id": "0e92b8da-d221-4b3c-a62d-44b42a062e17",
   "metadata": {},
   "outputs": [],
   "source": [
    "def dll_del_at_beg(head):\n",
    "    temp = head\n",
    "    head = temp.next\n",
    "    head.prev = None\n",
    "    temp.next = None\n",
    "    print(temp.data, \" Deleted...\")\n",
    "    \n",
    "    return head\n",
    "    "
   ]
  },
  {
   "cell_type": "code",
   "execution_count": 73,
   "id": "873fc9bd-869d-460e-b762-e2179cb4b14c",
   "metadata": {},
   "outputs": [
    {
     "name": "stdout",
     "output_type": "stream",
     "text": [
      "5 1 2 3 4 7 "
     ]
    }
   ],
   "source": [
    "dll_forward_traversal(head)"
   ]
  },
  {
   "cell_type": "code",
   "execution_count": 74,
   "id": "80c905da-f760-43a8-a24b-c4e370b9b017",
   "metadata": {},
   "outputs": [
    {
     "name": "stdout",
     "output_type": "stream",
     "text": [
      "5  Deleted...\n"
     ]
    }
   ],
   "source": [
    "head = dll_del_at_beg(head)"
   ]
  },
  {
   "cell_type": "code",
   "execution_count": 75,
   "id": "dff2156e-82d0-4d71-adec-bc9f4d4d30bf",
   "metadata": {},
   "outputs": [
    {
     "name": "stdout",
     "output_type": "stream",
     "text": [
      "1 2 3 4 7 "
     ]
    }
   ],
   "source": [
    "dll_forward_traversal(head)"
   ]
  },
  {
   "cell_type": "markdown",
   "id": "954ce3e9-e5d9-4963-89ae-c6a310d9e41d",
   "metadata": {},
   "source": [
    "#### Deletion at the End"
   ]
  },
  {
   "cell_type": "code",
   "execution_count": 76,
   "id": "f419db15-141a-48d0-ba8b-b5b34f3d283d",
   "metadata": {},
   "outputs": [],
   "source": [
    "def dll_del_at_end(head):\n",
    "    temp = head\n",
    "    while temp.next.next is not None:\n",
    "        temp = temp.next\n",
    "    print(temp.next.data, \" Deleted...\")\n",
    "    k = temp.next\n",
    "    temp.next = None\n",
    "    k.prev = None\n",
    "    del k\n",
    "    return head"
   ]
  },
  {
   "cell_type": "code",
   "execution_count": 77,
   "id": "11e2f6cd-cea3-494e-b148-7b26345f0741",
   "metadata": {},
   "outputs": [
    {
     "name": "stdout",
     "output_type": "stream",
     "text": [
      "1 2 3 4 7 "
     ]
    }
   ],
   "source": [
    "dll_forward_traversal(head)"
   ]
  },
  {
   "cell_type": "code",
   "execution_count": 78,
   "id": "d573180e-d701-4bdd-8a4b-36900bb576ce",
   "metadata": {},
   "outputs": [
    {
     "name": "stdout",
     "output_type": "stream",
     "text": [
      "7  Deleted...\n"
     ]
    }
   ],
   "source": [
    "head = dll_del_at_end(head)"
   ]
  },
  {
   "cell_type": "code",
   "execution_count": 79,
   "id": "4d4d1eac-8a07-415b-a9e0-8c4b8a45c8ad",
   "metadata": {},
   "outputs": [
    {
     "name": "stdout",
     "output_type": "stream",
     "text": [
      "1 2 3 4 "
     ]
    }
   ],
   "source": [
    "dll_forward_traversal(head)"
   ]
  },
  {
   "cell_type": "markdown",
   "id": "a04da162-fed1-458b-9092-c6c1ed28deee",
   "metadata": {},
   "source": [
    "#### Deletion at a Specific Position"
   ]
  },
  {
   "cell_type": "code",
   "execution_count": 80,
   "id": "7985c2bb-fc53-4390-88ef-ef58a89f098e",
   "metadata": {},
   "outputs": [],
   "source": [
    "def dll_del_at_pos(head, pos):\n",
    "    if head is None:\n",
    "        return head\n",
    "    temp = head\n",
    "    for i in range(1, pos):\n",
    "        temp = temp.next\n",
    "    k = temp.next\n",
    "    print(k.data, \" Deleted...\")\n",
    "    temp.next = k.next\n",
    "    if k.next is not None:\n",
    "        k.next.prev = temp\n",
    "    k.prev = None\n",
    "    k.next = None\n",
    "    del k\n",
    "    \n",
    "    return head\n"
   ]
  },
  {
   "cell_type": "code",
   "execution_count": 81,
   "id": "79cd1f4b-119c-4fb9-b21c-a1f7116452aa",
   "metadata": {},
   "outputs": [
    {
     "name": "stdout",
     "output_type": "stream",
     "text": [
      "1 2 3 4 "
     ]
    }
   ],
   "source": [
    "dll_forward_traversal(head)"
   ]
  },
  {
   "cell_type": "code",
   "execution_count": 82,
   "id": "90a0dafa-c85d-45d1-9daa-e2ec417fe93c",
   "metadata": {},
   "outputs": [
    {
     "name": "stdout",
     "output_type": "stream",
     "text": [
      "4  Deleted...\n"
     ]
    }
   ],
   "source": [
    "head = dll_del_at_pos(head, 3)"
   ]
  },
  {
   "cell_type": "markdown",
   "id": "2c4bbe61-1548-4c5b-afd4-8f9d20c73553",
   "metadata": {},
   "source": [
    "## Circular Linked List"
   ]
  },
  {
   "cell_type": "markdown",
   "id": "41f6a943-17f5-4b79-91bd-027fd2acdea8",
   "metadata": {},
   "source": [
    "### Circular Singly Linked List"
   ]
  },
  {
   "cell_type": "code",
   "execution_count": 83,
   "id": "8d922ca1-1845-4c7f-92e6-8f34a72e6680",
   "metadata": {},
   "outputs": [],
   "source": [
    "class CsllNode:\n",
    "    def __init__(self, data):\n",
    "        self.data = data\n",
    "        self.next = None\n"
   ]
  },
  {
   "cell_type": "code",
   "execution_count": 84,
   "id": "c359958a-aafd-4ab4-a0c2-2349746e087b",
   "metadata": {},
   "outputs": [],
   "source": [
    "# Initilize and allocate memory for nodes\n",
    "first = CsllNode(2)\n",
    "second = CsllNode(3)\n",
    "last = CsllNode(4)\n",
    "\n",
    "# Connect nodes\n",
    "first.next = second\n",
    "second.next = last\n",
    "last.next = first\n"
   ]
  },
  {
   "cell_type": "markdown",
   "id": "8d6b132e-f644-4f7d-b382-5fe3d8d29987",
   "metadata": {},
   "source": [
    "#### Printing List"
   ]
  },
  {
   "cell_type": "code",
   "execution_count": 85,
   "id": "6b09daa0-b81d-4047-99ce-39d22bcbd5b6",
   "metadata": {},
   "outputs": [],
   "source": [
    "def printList(last):\n",
    "    if last is None:\n",
    "        return\n",
    "    \n",
    "    # Start from the head node\n",
    "    temp = last.next\n",
    "    while True:\n",
    "        print(temp.data, end = \" \")\n",
    "        temp = temp.next\n",
    "        if temp == last.next:\n",
    "            break"
   ]
  },
  {
   "cell_type": "code",
   "execution_count": 86,
   "id": "7515b709-f99b-4234-8734-b84f097b9179",
   "metadata": {},
   "outputs": [
    {
     "name": "stdout",
     "output_type": "stream",
     "text": [
      "2 3 4 "
     ]
    }
   ],
   "source": [
    "printList(last)"
   ]
  },
  {
   "cell_type": "markdown",
   "id": "cd2e5dc2-ffab-4e11-8121-c726eda5c9d1",
   "metadata": {},
   "source": [
    "#### Insertion in the circular linked list"
   ]
  },
  {
   "cell_type": "markdown",
   "id": "aa1ec28a-425e-4d43-89f3-fd38b55d8420",
   "metadata": {},
   "source": [
    "#### 1. Insertion in an empty List in the circular linked list"
   ]
  },
  {
   "cell_type": "code",
   "execution_count": 87,
   "id": "abdfc780-7240-4979-b207-7221151a4b82",
   "metadata": {},
   "outputs": [],
   "source": [
    "def csll_insert_empty(last, data):\n",
    "    if last is not None:\n",
    "        print(\"Not an Empty List\")\n",
    "        return\n",
    "    nn = CsllNode(data)\n",
    "    last  = nn\n",
    "    last.next = nn\n",
    "    \n",
    "    return last"
   ]
  },
  {
   "cell_type": "code",
   "execution_count": 88,
   "id": "2b5786f8-6181-4cf3-9876-ada151801063",
   "metadata": {},
   "outputs": [
    {
     "name": "stdout",
     "output_type": "stream",
     "text": [
      "2 3 4 "
     ]
    }
   ],
   "source": [
    "printList(last)"
   ]
  },
  {
   "cell_type": "code",
   "execution_count": 89,
   "id": "a1284088-aa9c-4435-8f92-da3c10889e14",
   "metadata": {},
   "outputs": [
    {
     "name": "stdout",
     "output_type": "stream",
     "text": [
      "Not an Empty List\n"
     ]
    }
   ],
   "source": [
    "newlast = csll_insert_empty(last, 5)"
   ]
  },
  {
   "cell_type": "code",
   "execution_count": 90,
   "id": "5a2dc692-cb4e-4f15-a97e-425d0c813a8c",
   "metadata": {},
   "outputs": [],
   "source": [
    "newlast = None"
   ]
  },
  {
   "cell_type": "code",
   "execution_count": 91,
   "id": "ab73bfed-faa3-47cc-8d85-faf8f0947823",
   "metadata": {},
   "outputs": [],
   "source": [
    "newlast = csll_insert_empty(newlast, 1)"
   ]
  },
  {
   "cell_type": "code",
   "execution_count": 92,
   "id": "deddc357-9829-4f91-83d1-b1bec54290b8",
   "metadata": {},
   "outputs": [
    {
     "name": "stdout",
     "output_type": "stream",
     "text": [
      "1 "
     ]
    }
   ],
   "source": [
    "printList(newlast)"
   ]
  },
  {
   "cell_type": "markdown",
   "id": "44f068c5-e7bf-47fe-bedc-0aea9047d64d",
   "metadata": {},
   "source": [
    "#### 2. Insertion at the beginning in circular linked list"
   ]
  },
  {
   "cell_type": "code",
   "execution_count": 93,
   "id": "bdd3afda-cf7a-4eec-be62-4764e1e30fcb",
   "metadata": {},
   "outputs": [],
   "source": [
    "def csll_insert_at_beg(last, data):\n",
    "    nn = CsllNode(data)\n",
    "    if last is None:\n",
    "        last = nn\n",
    "        last.next = last\n",
    "    else:\n",
    "        nn.next = last.next\n",
    "        last.next= nn\n",
    "    return last"
   ]
  },
  {
   "cell_type": "code",
   "execution_count": 94,
   "id": "d9d0daa5-2f5f-4e8b-985c-d474fe63295e",
   "metadata": {},
   "outputs": [
    {
     "name": "stdout",
     "output_type": "stream",
     "text": [
      "2 3 4 "
     ]
    }
   ],
   "source": [
    "printList(last)"
   ]
  },
  {
   "cell_type": "code",
   "execution_count": 95,
   "id": "96f65e39-fe60-4feb-8edb-ca91c21789ee",
   "metadata": {},
   "outputs": [],
   "source": [
    "last = csll_insert_at_beg(last, 1)"
   ]
  },
  {
   "cell_type": "code",
   "execution_count": 96,
   "id": "df88dd7c-4000-48de-93f0-6a90d977fceb",
   "metadata": {},
   "outputs": [
    {
     "name": "stdout",
     "output_type": "stream",
     "text": [
      "1 2 3 4 "
     ]
    }
   ],
   "source": [
    "printList(last)"
   ]
  },
  {
   "cell_type": "markdown",
   "id": "46c6ab89-08d3-428c-949b-5d2aacb61415",
   "metadata": {},
   "source": [
    "#### 3. Insertion at the end in circular linked list"
   ]
  },
  {
   "cell_type": "code",
   "execution_count": 97,
   "id": "52a05a4d-ef69-462b-8540-97b20cc8f5a2",
   "metadata": {},
   "outputs": [],
   "source": [
    "def csll_insert_end(last, data):\n",
    "    nn = CsllNode(data)\n",
    "    if last is None:\n",
    "        last = nn\n",
    "        last.next = last\n",
    "    else:\n",
    "        nn.next = last.next\n",
    "        last.next= nn\n",
    "        last = nn\n",
    "    return last"
   ]
  },
  {
   "cell_type": "code",
   "execution_count": 98,
   "id": "68988a1d-c07f-4a3e-9e04-000e8d4502b0",
   "metadata": {},
   "outputs": [
    {
     "name": "stdout",
     "output_type": "stream",
     "text": [
      "1 2 3 4 "
     ]
    }
   ],
   "source": [
    "printList(last)"
   ]
  },
  {
   "cell_type": "code",
   "execution_count": 99,
   "id": "464fd557-38ae-45c9-8a9d-a378ad37e76d",
   "metadata": {},
   "outputs": [],
   "source": [
    "last = csll_insert_end(last, 5)"
   ]
  },
  {
   "cell_type": "code",
   "execution_count": 100,
   "id": "53fd2d49-b7c2-4aef-ad64-82426178a51f",
   "metadata": {},
   "outputs": [
    {
     "name": "stdout",
     "output_type": "stream",
     "text": [
      "1 2 3 4 5 "
     ]
    }
   ],
   "source": [
    "printList(last)"
   ]
  },
  {
   "cell_type": "markdown",
   "id": "937c645e-a198-4e30-aa2d-80368a89e55a",
   "metadata": {},
   "source": [
    "#### 4. Insertion at specific position in circular linked list"
   ]
  },
  {
   "cell_type": "code",
   "execution_count": 101,
   "id": "99ec3e89-f067-45f5-b7e8-5347d59cf912",
   "metadata": {},
   "outputs": [],
   "source": [
    "def csll_insert_at_pos(last, pos, data):\n",
    "    nn = CsllNode(data)\n",
    "    if last is None and pos != 1:\n",
    "        print(\"Invalid Position\")\n",
    "        last = nn\n",
    "        last.next = last\n",
    "        return last\n",
    "    else:\n",
    "        temp = last.next\n",
    "        for i in range(1, pos):\n",
    "            temp = temp.next\n",
    "        nn.next = temp.next\n",
    "        temp.next = nn\n",
    "    return last"
   ]
  },
  {
   "cell_type": "code",
   "execution_count": 102,
   "id": "b4c3767f-4629-4a71-a4e8-014cfe87cca9",
   "metadata": {},
   "outputs": [
    {
     "name": "stdout",
     "output_type": "stream",
     "text": [
      "1 2 3 4 5 "
     ]
    }
   ],
   "source": [
    "printList(last)"
   ]
  },
  {
   "cell_type": "code",
   "execution_count": 103,
   "id": "c1259f4d-181a-4f85-8603-a2fb929653ea",
   "metadata": {},
   "outputs": [],
   "source": [
    "last = csll_insert_at_pos(last, 4, 7)"
   ]
  },
  {
   "cell_type": "code",
   "execution_count": 104,
   "id": "8c9d7278-2ced-4d39-99fa-cc7295043069",
   "metadata": {},
   "outputs": [
    {
     "name": "stdout",
     "output_type": "stream",
     "text": [
      "1 2 3 4 7 5 "
     ]
    }
   ],
   "source": [
    "printList(last)"
   ]
  },
  {
   "cell_type": "markdown",
   "id": "351b5379-fffa-4db1-a06d-be597dc765e6",
   "metadata": {},
   "source": [
    "#### Deletion from a Circular Linked List"
   ]
  },
  {
   "cell_type": "markdown",
   "id": "15ae8c81-cd4c-4b59-b8c0-ba0d51bef38b",
   "metadata": {},
   "source": [
    "#### 1. Delete the first node in circular linked list"
   ]
  },
  {
   "cell_type": "code",
   "execution_count": 105,
   "id": "cd4713be-0949-4997-9203-bce0891baa07",
   "metadata": {},
   "outputs": [],
   "source": [
    "def csll_del_first(last):\n",
    "    if last is None:\n",
    "        print(\"Empty list...\")\n",
    "        retrun\n",
    "    elif last.next == last:\n",
    "        print(last.next, \" Deleted...\")\n",
    "        del last\n",
    "        last = None\n",
    "    else:\n",
    "        temp = last.next\n",
    "        last.next = temp.next\n",
    "        print(temp.data, \" Deleted...\")\n",
    "        temp.next = None\n",
    "        del temp\n",
    "    return last\n",
    "        "
   ]
  },
  {
   "cell_type": "code",
   "execution_count": 106,
   "id": "26948ed4-ace5-43b5-b4a5-8012f32e422f",
   "metadata": {},
   "outputs": [
    {
     "name": "stdout",
     "output_type": "stream",
     "text": [
      "1 2 3 4 7 5 "
     ]
    }
   ],
   "source": [
    "printList(last)"
   ]
  },
  {
   "cell_type": "code",
   "execution_count": 107,
   "id": "9591973c-93da-4417-87e8-ab9b4431618e",
   "metadata": {},
   "outputs": [
    {
     "name": "stdout",
     "output_type": "stream",
     "text": [
      "1  Deleted...\n"
     ]
    }
   ],
   "source": [
    "last = csll_del_first(last)"
   ]
  },
  {
   "cell_type": "code",
   "execution_count": 108,
   "id": "df58d1ed-44db-4795-b545-e0cccf18c9c8",
   "metadata": {},
   "outputs": [
    {
     "name": "stdout",
     "output_type": "stream",
     "text": [
      "2 3 4 7 5 "
     ]
    }
   ],
   "source": [
    "printList(last)"
   ]
  },
  {
   "cell_type": "markdown",
   "id": "72588612-9c2f-4e3e-9d3b-4e792457772f",
   "metadata": {},
   "source": [
    "#### 2. Delete a specific node in circular linked list"
   ]
  },
  {
   "cell_type": "code",
   "execution_count": 109,
   "id": "0a3f01ce-3792-42bb-bf32-47b6fbe53809",
   "metadata": {},
   "outputs": [],
   "source": [
    "def csll_delete_spcific(last, key):\n",
    "    if last is None:\n",
    "        return\n",
    "    else:\n",
    "        temp = last.next\n",
    "        while temp.next.data != key:\n",
    "            temp = temp.next\n",
    "        print(temp.next.data, \" Deleted...\")\n",
    "        if temp.next == temp:\n",
    "            temp.next = None\n",
    "            del temp\n",
    "            return None\n",
    "        else:\n",
    "            k = temp.next\n",
    "            temp.next = k.next\n",
    "            k.next = None\n",
    "            del k\n",
    "            return last"
   ]
  },
  {
   "cell_type": "code",
   "execution_count": 110,
   "id": "f1c23c8d-06a0-4341-97a8-31d984d6b3d9",
   "metadata": {},
   "outputs": [
    {
     "name": "stdout",
     "output_type": "stream",
     "text": [
      "2 3 4 7 5 "
     ]
    }
   ],
   "source": [
    "printList(last)"
   ]
  },
  {
   "cell_type": "code",
   "execution_count": 111,
   "id": "4964fadd-9066-4c57-a0bb-8563470fa7e8",
   "metadata": {},
   "outputs": [
    {
     "name": "stdout",
     "output_type": "stream",
     "text": [
      "4  Deleted...\n"
     ]
    }
   ],
   "source": [
    "last = csll_delete_spcific(last, 4 )"
   ]
  },
  {
   "cell_type": "code",
   "execution_count": 112,
   "id": "523c6798-ef89-42e0-b332-686816217c90",
   "metadata": {},
   "outputs": [
    {
     "name": "stdout",
     "output_type": "stream",
     "text": [
      "2 3 7 5 "
     ]
    }
   ],
   "source": [
    "printList(last)"
   ]
  },
  {
   "cell_type": "markdown",
   "id": "6ffebf51-6941-4507-bfaf-b169da00aa60",
   "metadata": {},
   "source": [
    "#### 3. Deletion at the end of Circular linked list"
   ]
  },
  {
   "cell_type": "code",
   "execution_count": 113,
   "id": "5b978768-cfcf-4d6e-8b17-9cc5985952df",
   "metadata": {},
   "outputs": [],
   "source": [
    "def del_at_end(last):\n",
    "    temp = last.next\n",
    "    while temp.next != last:\n",
    "        temp = temp.next\n",
    "    print(last.data, \" Deleted...\")\n",
    "    temp.next = last.next\n",
    "    last.next = None\n",
    "    del last\n",
    "    last = temp\n",
    "    \n",
    "    return last"
   ]
  },
  {
   "cell_type": "code",
   "execution_count": 114,
   "id": "f29ee90e-9e49-4ca2-84e1-340b1abe66fa",
   "metadata": {},
   "outputs": [
    {
     "name": "stdout",
     "output_type": "stream",
     "text": [
      "2 3 7 5 "
     ]
    }
   ],
   "source": [
    "printList(last)"
   ]
  },
  {
   "cell_type": "code",
   "execution_count": 115,
   "id": "5d7c7941-1d56-4a14-848a-11c19ce6f483",
   "metadata": {},
   "outputs": [
    {
     "name": "stdout",
     "output_type": "stream",
     "text": [
      "5  Deleted...\n"
     ]
    }
   ],
   "source": [
    "last = del_at_end(last)"
   ]
  },
  {
   "cell_type": "code",
   "execution_count": 116,
   "id": "672fb5e7-8196-4205-9d51-23c9f3bb88d4",
   "metadata": {},
   "outputs": [
    {
     "name": "stdout",
     "output_type": "stream",
     "text": [
      "2 3 7 "
     ]
    }
   ],
   "source": [
    "printList(last)"
   ]
  },
  {
   "cell_type": "markdown",
   "id": "6f7b5d49-6d55-47cb-be5b-c101be58ea72",
   "metadata": {},
   "source": [
    "### Problems on LL"
   ]
  },
  {
   "cell_type": "code",
   "execution_count": 117,
   "id": "66a0eeab-fc35-4aaa-ab1a-d401914745f0",
   "metadata": {},
   "outputs": [],
   "source": [
    "class Node:\n",
    "    def __init__(self, new_data):\n",
    "        self.data = new_data\n",
    "        self.next = None"
   ]
  },
  {
   "cell_type": "code",
   "execution_count": 118,
   "id": "911f6821-b798-40a7-9ec3-56f385e77e8d",
   "metadata": {},
   "outputs": [],
   "source": [
    "def create_linked_list():\n",
    "    head = Node(1)\n",
    "    head.next = Node(2)\n",
    "    head.next.next = Node(3)\n",
    "    head.next.next.next = Node(4)\n",
    "    head.next.next.next.next = Node(5)\n",
    "    head.next.next.next.next.next = Node(6)\n",
    "    print(\"linked list created...\")\n",
    "    return head"
   ]
  },
  {
   "cell_type": "code",
   "execution_count": 119,
   "id": "768d5089-3a69-4ee2-bb59-87908b137045",
   "metadata": {},
   "outputs": [
    {
     "name": "stdout",
     "output_type": "stream",
     "text": [
      "linked list created...\n"
     ]
    }
   ],
   "source": [
    "head = create_linked_list()"
   ]
  },
  {
   "cell_type": "code",
   "execution_count": 120,
   "id": "f06275a0-cb78-495f-ad93-31443d32754f",
   "metadata": {},
   "outputs": [
    {
     "name": "stdout",
     "output_type": "stream",
     "text": [
      "1 2 3 4 5 6 "
     ]
    }
   ],
   "source": [
    "traverseList(head)"
   ]
  },
  {
   "cell_type": "markdown",
   "id": "c45cf3d1-ed18-4b82-91db-2863caf1f30b",
   "metadata": {},
   "source": [
    "#### Remove every k-th node of the linked list"
   ]
  },
  {
   "cell_type": "markdown",
   "id": "b424e6dc-02b5-4a9a-8e79-26e98d662438",
   "metadata": {},
   "source": [
    "Given a singly linked list, the task is to remove every kth node of the linked list. Assume that k is always less than or equal to the length of the Linked List."
   ]
  },
  {
   "cell_type": "code",
   "execution_count": 121,
   "id": "293577e9-bb5c-48bb-8a5b-f4389a77d69c",
   "metadata": {},
   "outputs": [],
   "source": [
    "def removekthnode(head, k):\n",
    "    if head is None or k <= 0:\n",
    "        return\n",
    "    else:\n",
    "        curr = head\n",
    "        prev = None\n",
    "        count = 0\n",
    "        while curr is not None:\n",
    "            count = count + 1\n",
    "            if count % k == 0:\n",
    "                temp = curr\n",
    "                if prev is not None:\n",
    "                    prev.next = curr.next\n",
    "                else:\n",
    "                    head = curr.next\n",
    "                del temp\n",
    "            else:\n",
    "                prev = curr\n",
    "            curr = curr.next\n",
    "        \n",
    "        return head"
   ]
  },
  {
   "cell_type": "code",
   "execution_count": 122,
   "id": "47e4ad00-959e-488c-80ae-5bb962951ca9",
   "metadata": {},
   "outputs": [
    {
     "name": "stdout",
     "output_type": "stream",
     "text": [
      "1 2 3 4 5 6 "
     ]
    }
   ],
   "source": [
    "traverseList(head)"
   ]
  },
  {
   "cell_type": "code",
   "execution_count": 123,
   "id": "e8c72026-a51b-41ab-8379-e28e988b8394",
   "metadata": {},
   "outputs": [],
   "source": [
    "head = removekthnode(head, 2)"
   ]
  },
  {
   "cell_type": "code",
   "execution_count": 124,
   "id": "9a5eedbd-c6b5-42ca-9d7e-891d90cba2ac",
   "metadata": {},
   "outputs": [
    {
     "name": "stdout",
     "output_type": "stream",
     "text": [
      "1 3 5 "
     ]
    }
   ],
   "source": [
    "traverseList(head)"
   ]
  },
  {
   "cell_type": "markdown",
   "id": "b29c3f0f-c95c-4fda-9099-9cd5e8e51bcd",
   "metadata": {},
   "source": [
    "#### Find Middle of the Linked List"
   ]
  },
  {
   "cell_type": "code",
   "execution_count": 125,
   "id": "6e760a9c-f262-47fe-8db6-cb20b0c7b3f3",
   "metadata": {},
   "outputs": [],
   "source": [
    "def findmid(head):\n",
    "    fp, sp = head, head\n",
    "    while fp is not None and fp.next is not None:\n",
    "        fp  = fp.next.next\n",
    "        sp = sp.next\n",
    "    return sp.data"
   ]
  },
  {
   "cell_type": "code",
   "execution_count": 126,
   "id": "736bd061-9744-4cb9-88f8-76436cd80bfa",
   "metadata": {},
   "outputs": [
    {
     "name": "stdout",
     "output_type": "stream",
     "text": [
      "linked list created...\n"
     ]
    }
   ],
   "source": [
    "head = create_linked_list()"
   ]
  },
  {
   "cell_type": "code",
   "execution_count": 127,
   "id": "06db0e19-d9ef-42b3-90e5-c5cbe0ccd7ce",
   "metadata": {},
   "outputs": [
    {
     "name": "stdout",
     "output_type": "stream",
     "text": [
      "1 2 3 4 5 6 "
     ]
    }
   ],
   "source": [
    "traverseList(head)"
   ]
  },
  {
   "cell_type": "code",
   "execution_count": 128,
   "id": "df48fc59-a20e-4442-a1bc-3f64b94314b1",
   "metadata": {},
   "outputs": [],
   "source": [
    "mid = findmid(head)"
   ]
  },
  {
   "cell_type": "code",
   "execution_count": 129,
   "id": "c6727977-adbc-4015-a586-975ade6132f6",
   "metadata": {},
   "outputs": [
    {
     "data": {
      "text/plain": [
       "4"
      ]
     },
     "execution_count": 129,
     "metadata": {},
     "output_type": "execute_result"
    }
   ],
   "source": [
    "mid"
   ]
  },
  {
   "cell_type": "markdown",
   "id": "ada0888d-fc05-4059-a6a2-543c0812e2e6",
   "metadata": {},
   "source": [
    "#### Count Occurrences in a Linked List"
   ]
  },
  {
   "cell_type": "code",
   "execution_count": 130,
   "id": "aead8f49-c7c5-4937-964e-9d9adda5496b",
   "metadata": {},
   "outputs": [],
   "source": [
    "def countOccurences(head, key):\n",
    "    temp = head\n",
    "    count= 0\n",
    "    if temp is None:\n",
    "        return count\n",
    "    while temp is not None:\n",
    "        if temp.data == key:\n",
    "            count += 1\n",
    "        temp = temp.next\n",
    "    return count"
   ]
  },
  {
   "cell_type": "code",
   "execution_count": 131,
   "id": "f20fe675-3e96-490c-949e-4f550e6f145d",
   "metadata": {},
   "outputs": [],
   "source": [
    "head = Node(1)\n",
    "head.next = Node(2)\n",
    "head.next.next = Node(1)\n",
    "head.next.next.next = Node(2)\n",
    "head.next.next.next.next = Node(1)"
   ]
  },
  {
   "cell_type": "code",
   "execution_count": 132,
   "id": "3100a324-41e2-4eb7-8a2e-a229faa0e381",
   "metadata": {},
   "outputs": [
    {
     "data": {
      "text/plain": [
       "3"
      ]
     },
     "execution_count": 132,
     "metadata": {},
     "output_type": "execute_result"
    }
   ],
   "source": [
    "countOccurences(head, 1)"
   ]
  },
  {
   "cell_type": "code",
   "execution_count": 133,
   "id": "7354d3cb-ced5-4a7a-a49b-5236c8053e6c",
   "metadata": {},
   "outputs": [
    {
     "data": {
      "text/plain": [
       "2"
      ]
     },
     "execution_count": 133,
     "metadata": {},
     "output_type": "execute_result"
    }
   ],
   "source": [
    "countOccurences(head, 2)"
   ]
  },
  {
   "cell_type": "markdown",
   "id": "0925a4e1-d9ff-48ec-a10b-9767a9a25379",
   "metadata": {},
   "source": [
    "#### Check if a linked list is Circular Linked List"
   ]
  },
  {
   "cell_type": "code",
   "execution_count": 134,
   "id": "bb1d7445-b5bc-46f4-8589-8bbafe11fdb3",
   "metadata": {},
   "outputs": [],
   "source": [
    "def check_circular(head):\n",
    "    temp = head\n",
    "    if temp.next is None:\n",
    "        return False\n",
    "    while temp.next is not head:\n",
    "        temp = temp.next\n",
    "        if temp is None:\n",
    "            return False\n",
    "    return True"
   ]
  },
  {
   "cell_type": "code",
   "execution_count": 135,
   "id": "28d11ef9-9a1d-40d8-b250-11aa4986fb3f",
   "metadata": {},
   "outputs": [],
   "source": [
    "head = Node(1)\n",
    "head.next = Node(2)\n",
    "head.next.next = Node(3)\n",
    "head.next.next.next = Node(4)"
   ]
  },
  {
   "cell_type": "code",
   "execution_count": 136,
   "id": "0e1a43b9-7050-4576-bd9b-cc5bae747859",
   "metadata": {},
   "outputs": [
    {
     "data": {
      "text/plain": [
       "False"
      ]
     },
     "execution_count": 136,
     "metadata": {},
     "output_type": "execute_result"
    }
   ],
   "source": [
    "check_circular(head)"
   ]
  },
  {
   "cell_type": "code",
   "execution_count": 137,
   "id": "7320b04f-f6e1-4cd8-bbf2-975655f55671",
   "metadata": {},
   "outputs": [],
   "source": [
    "# Making the linked list circular\n",
    "head.next.next.next.next = head"
   ]
  },
  {
   "cell_type": "code",
   "execution_count": 138,
   "id": "464a8103-48a8-49aa-83d2-c03c6378f27f",
   "metadata": {},
   "outputs": [
    {
     "data": {
      "text/plain": [
       "True"
      ]
     },
     "execution_count": 138,
     "metadata": {},
     "output_type": "execute_result"
    }
   ],
   "source": [
    "check_circular(head)"
   ]
  },
  {
   "cell_type": "markdown",
   "id": "01a2cd0f-e53b-4881-96b4-8478f7405099",
   "metadata": {},
   "source": [
    "#### Exchange first and last nodes in Circular Linked List"
   ]
  },
  {
   "cell_type": "markdown",
   "id": "2f847b09-a2a5-4abf-826d-bf52ce175b51",
   "metadata": {},
   "source": [
    "Given Circular linked list exchange the first and the last node. The task should be done with only one extra node, you can not declare more than one extra node, and also you are not allowed to declare any other temporary variable. \n",
    "\n",
    "Note: Extra node means the need of a node to traverse a list.  "
   ]
  },
  {
   "cell_type": "code",
   "execution_count": 139,
   "id": "5cb05e40-1e88-4afd-ac1a-d36a3a2b9db4",
   "metadata": {},
   "outputs": [],
   "source": [
    "def exchange_nodes(head):\n",
    "    if head.next.next == head:\n",
    "        head = head.next\n",
    "    else:\n",
    "        temp = head\n",
    "        while temp.next is not head:\n",
    "            temp = temp.next\n",
    "        temp.data, head.data = head.data, temp.data\n",
    "    "
   ]
  },
  {
   "cell_type": "code",
   "execution_count": 140,
   "id": "201d4c5d-0a1c-4ab9-a938-1cdc3ed52010",
   "metadata": {},
   "outputs": [],
   "source": [
    "# Initilize and allocate memory for nodes\n",
    "first = CsllNode(2)\n",
    "second = CsllNode(3)\n",
    "last = CsllNode(4)\n",
    "\n",
    "# Connect nodes\n",
    "first.next = second\n",
    "second.next = last\n",
    "last.next = first\n"
   ]
  },
  {
   "cell_type": "code",
   "execution_count": 141,
   "id": "d849c519-621c-4d01-bf59-e45927c8d7aa",
   "metadata": {},
   "outputs": [
    {
     "name": "stdout",
     "output_type": "stream",
     "text": [
      "2 3 4 "
     ]
    }
   ],
   "source": [
    "printList(last)"
   ]
  },
  {
   "cell_type": "code",
   "execution_count": 142,
   "id": "00b221f1-617a-424a-9d65-42b049123f04",
   "metadata": {},
   "outputs": [],
   "source": [
    "exchange_nodes(first)"
   ]
  },
  {
   "cell_type": "code",
   "execution_count": 143,
   "id": "ebb8f582-40cd-45b0-af3e-5253a11713f2",
   "metadata": {},
   "outputs": [
    {
     "name": "stdout",
     "output_type": "stream",
     "text": [
      "4 3 2 "
     ]
    }
   ],
   "source": [
    "printList(last)"
   ]
  },
  {
   "cell_type": "markdown",
   "id": "452db204-170b-4fb5-b99e-6a72e1b099e0",
   "metadata": {},
   "source": [
    "#### Reverse Doubly Linked List"
   ]
  },
  {
   "cell_type": "code",
   "execution_count": 144,
   "id": "9ac622cb-77b2-4a3d-a80b-2bd6be0c4a8e",
   "metadata": {},
   "outputs": [],
   "source": [
    "def reverse_dll(head):\n",
    "    if head is None or head.next is None:\n",
    "        return\n",
    "    \n",
    "    temp = None\n",
    "    curr = head\n",
    "    while curr:\n",
    "        temp = curr.prev\n",
    "        curr.prev = curr.next\n",
    "        curr.next = temp\n",
    "        \n",
    "        curr = curr.prev\n",
    "        \n",
    "    if temp:\n",
    "        head = temp.prev\n",
    "    return head"
   ]
  },
  {
   "cell_type": "code",
   "execution_count": 145,
   "id": "cb254570-1462-4ba6-bd82-b33bc0e0c5e3",
   "metadata": {},
   "outputs": [],
   "source": [
    "# Create a hardcoded doubly linked list:\n",
    "# 1 <-> 2 <-> 3\n",
    "head = DllNode(1)\n",
    "second = DllNode(2)\n",
    "third = DllNode(3)\n",
    "\n",
    "head.next = second\n",
    "second.prev = head\n",
    "second.next = third\n",
    "third.prev = second"
   ]
  },
  {
   "cell_type": "code",
   "execution_count": 146,
   "id": "653961b6-e421-400e-a01b-4ff86376b148",
   "metadata": {},
   "outputs": [
    {
     "name": "stdout",
     "output_type": "stream",
     "text": [
      "1 2 3 "
     ]
    }
   ],
   "source": [
    "dll_forward_traversal(head)"
   ]
  },
  {
   "cell_type": "code",
   "execution_count": 147,
   "id": "a036ba99-64f9-4f1f-ba27-18f4a876a9c1",
   "metadata": {},
   "outputs": [],
   "source": [
    "head = reverse_dll(head)"
   ]
  },
  {
   "cell_type": "code",
   "execution_count": 148,
   "id": "d90d5588-d920-4fd0-a0fa-892d962e8cdd",
   "metadata": {},
   "outputs": [
    {
     "name": "stdout",
     "output_type": "stream",
     "text": [
      "3 2 1 "
     ]
    }
   ],
   "source": [
    "dll_forward_traversal(head)"
   ]
  },
  {
   "cell_type": "markdown",
   "id": "25bd9eab-4d24-4955-89da-666645fe6661",
   "metadata": {},
   "source": [
    "Head --> 1 <=> 2 <=> 3\n",
    "\n",
    "| **Iteration**   | **Current Node** | **current.prev** (Before) | **current.next** (Before) | **Step 1: temp = current.prev** | **Step 2: current.prev = current.next** | **Step 3: current.next = temp** | **Step 4: current = current.prev** | **Updated List** |\n",
    "|-----------------|------------------|---------------------------|---------------------------|----------------------------------|--------------------------------------|--------------------------------|----------------------------------|------------------|\n",
    "| **Initial**     | -                | -                         | -                         | -                                | -                                    | -                              | -                                | `1 <=> 2 <=> 3` |\n",
    "| **1st Iteration**| `1`              | `None`                    | `2`                       | `temp = None`                   | `current.prev = 2`                  | `current.next = None`           | `current = 2`                  | `1 <=> None` <br> `2 <=> 1 <=> 3` |\n",
    "| **2nd Iteration**| `2`              | `1`                       | `3`                       | `temp = 1`                      | `current.prev = 3`                  | `current.next = 1`             | `current = 3`                  | `1 <=> None` <br> `2 <=> 1 <=> None` <br> `3 <=> 2 <=> 1` |\n",
    "| **3rd Iteration**| `3`              | `2`                       | `None`                     | `temp = 2`                      | `current.prev = None`               | `current.next = 2`             | `current = None`               | `1 <=> None` <br> `2 <=> 1 <=> None` <br> `3 <=> 2 <=> 1 <=> None` |\n",
    "\n",
    "\n",
    "Head --> 3 <=> 2 <=> 1\n"
   ]
  },
  {
   "cell_type": "markdown",
   "id": "7df0aeec-0860-48f4-9ddb-427bbe529b2b",
   "metadata": {},
   "source": [
    "#### Pairwise Swap Elements of a given Linked List"
   ]
  },
  {
   "cell_type": "code",
   "execution_count": 149,
   "id": "2b23f2d8-cac6-4e10-83d3-d9786f544200",
   "metadata": {},
   "outputs": [],
   "source": [
    "def pairwise_swap(head):\n",
    "    curr = head\n",
    "    while curr is not None and curr.next is not None:\n",
    "        curr.data, curr.next.data = curr.next.data, curr.data\n",
    "        curr = curr.next.next"
   ]
  },
  {
   "cell_type": "code",
   "execution_count": 150,
   "id": "6736d876-6a48-4b7d-8046-38d7c0b035a0",
   "metadata": {},
   "outputs": [],
   "source": [
    "head = Node(1)\n",
    "head.next = Node(2)\n",
    "head.next.next = Node(3)\n",
    "head.next.next.next = Node(4)\n",
    "head.next.next.next.next = Node(5)\n",
    "head.next.next.next.next.next = Node(6)"
   ]
  },
  {
   "cell_type": "code",
   "execution_count": 151,
   "id": "ed18d996-9d10-4695-bc3b-c878065d2219",
   "metadata": {},
   "outputs": [
    {
     "name": "stdout",
     "output_type": "stream",
     "text": [
      "1 2 3 4 5 6 "
     ]
    }
   ],
   "source": [
    "traverseList(head)"
   ]
  },
  {
   "cell_type": "code",
   "execution_count": 152,
   "id": "2ce75e76-3be3-4d70-98a2-ef90750f042f",
   "metadata": {},
   "outputs": [],
   "source": [
    "pairwise_swap(head)"
   ]
  },
  {
   "cell_type": "code",
   "execution_count": 153,
   "id": "2449eba8-4dce-440d-b2a1-695b6a043c55",
   "metadata": {},
   "outputs": [
    {
     "name": "stdout",
     "output_type": "stream",
     "text": [
      "2 1 4 3 6 5 "
     ]
    }
   ],
   "source": [
    "traverseList(head)"
   ]
  },
  {
   "cell_type": "code",
   "execution_count": 154,
   "id": "f7fdda01-4e7d-4c8f-8c18-6897721f2ac2",
   "metadata": {},
   "outputs": [],
   "source": [
    "def pairwise_swap_2(head):\n",
    "    if head is None or head.next is None:\n",
    "        return\n",
    "    prev = head\n",
    "    curr = head.next\n",
    "    \n",
    "    head = curr\n",
    "    \n",
    "    while True:\n",
    "        nn = curr.next\n",
    "        curr.next = prev\n",
    "        \n",
    "        if nn is None:\n",
    "            prev.next = nn\n",
    "            break\n",
    "        \n",
    "        prev.next = nn.next\n",
    "        \n",
    "        prev = nn\n",
    "        curr = prev.next\n",
    "    \n",
    "    return head\n",
    "        "
   ]
  },
  {
   "cell_type": "code",
   "execution_count": 155,
   "id": "e98740b3-cb28-426f-b85d-4e6a0a5d56f0",
   "metadata": {},
   "outputs": [],
   "source": [
    "head = pairwise_swap_2(head)"
   ]
  },
  {
   "cell_type": "code",
   "execution_count": 156,
   "id": "4017f323-31d3-43f1-afd8-2095fcf80b88",
   "metadata": {},
   "outputs": [
    {
     "name": "stdout",
     "output_type": "stream",
     "text": [
      "1 2 3 4 5 6 "
     ]
    }
   ],
   "source": [
    "traverseList(head)"
   ]
  },
  {
   "cell_type": "markdown",
   "id": "84b27a16-ea7f-4293-944c-fdb8f6e1e8da",
   "metadata": {},
   "source": [
    "#### Detect Loop or Cycle in Linked List"
   ]
  },
  {
   "cell_type": "code",
   "execution_count": 157,
   "id": "8c9e063b-1b67-42d8-9430-7ad29dbde0cd",
   "metadata": {},
   "outputs": [],
   "source": [
    "def detect_loop(head):\n",
    "    sp = head\n",
    "    fp = head\n",
    "    f = 0\n",
    "    while(fp is not None or fp.next is not None):\n",
    "        if fp == sp:\n",
    "            print(\"Loop Detected\")\n",
    "            f = 1\n",
    "            break\n",
    "        fp = fp.next.next\n",
    "        sp = sp.next\n",
    "    if f == 0:\n",
    "        print(\"Loop Not Detected\")"
   ]
  },
  {
   "cell_type": "code",
   "execution_count": 158,
   "id": "4c31d793-488e-4353-908a-26ad02c4c969",
   "metadata": {},
   "outputs": [],
   "source": [
    "head = Node(1)\n",
    "head.next = Node(3)\n",
    "head.next.next = Node(4)\n",
    "\n",
    "# Create a loop\n",
    "head.next.next.next = head.next"
   ]
  },
  {
   "cell_type": "code",
   "execution_count": 159,
   "id": "ca2fd3b6-6b81-47a3-8480-8239d1187add",
   "metadata": {},
   "outputs": [
    {
     "name": "stdout",
     "output_type": "stream",
     "text": [
      "Loop Detected\n"
     ]
    }
   ],
   "source": [
    "detect_loop(head)"
   ]
  },
  {
   "cell_type": "markdown",
   "id": "d3e22c81-0536-45ae-b157-17d8c764dd54",
   "metadata": {},
   "source": [
    "#### Find length of loop/cycle in given Linked List"
   ]
  },
  {
   "cell_type": "code",
   "execution_count": 170,
   "id": "e368495e-8f2c-48b1-babd-5b97352d51b0",
   "metadata": {},
   "outputs": [],
   "source": [
    "def find_loop_length(head):\n",
    "    sp = head\n",
    "    fp = head\n",
    "    c = 1\n",
    "    while(fp is not None and fp.next is not None):\n",
    "        fp = fp.next.next\n",
    "        sp = sp.next\n",
    "        \n",
    "        if fp == sp:\n",
    "            print(\"Loop Detected\")\n",
    "            break\n",
    "    \n",
    "    print(\"Calculating length...\")\n",
    "    cycle_start = fp  # At this point, both sp and fp are at the cycle's start point\n",
    "    sp = sp.next\n",
    "    while True:\n",
    "        sp = sp.next\n",
    "        c += 1\n",
    "        if sp == cycle_start:  # Once we loop back to the starting point, the cycle is complete\n",
    "            break\n",
    "    return c"
   ]
  },
  {
   "cell_type": "code",
   "execution_count": 171,
   "id": "173651a8-91b9-4896-8da4-fe66fd6638db",
   "metadata": {},
   "outputs": [
    {
     "name": "stdout",
     "output_type": "stream",
     "text": [
      "Loop Detected\n",
      "Calculating length...\n"
     ]
    },
    {
     "data": {
      "text/plain": [
       "2"
      ]
     },
     "execution_count": 171,
     "metadata": {},
     "output_type": "execute_result"
    }
   ],
   "source": [
    "find_loop_length(head)"
   ]
  },
  {
   "cell_type": "markdown",
   "id": "e38b0643-5479-4d88-a9e1-ed9c69955635",
   "metadata": {},
   "source": [
    "### Remove duplicates from a sorted linked list"
   ]
  },
  {
   "cell_type": "code",
   "execution_count": 177,
   "id": "c2b36fa6-2f72-4aff-a842-57b59a6a0221",
   "metadata": {},
   "outputs": [],
   "source": [
    "def remove_dup(head):\n",
    "    curr = head\n",
    "    while curr and curr.next:\n",
    "        if curr.data == curr.next.data:\n",
    "            temp = curr.next\n",
    "            curr.next = temp.next\n",
    "            del temp\n",
    "        else:\n",
    "            curr= curr.next\n",
    "    return head"
   ]
  },
  {
   "cell_type": "code",
   "execution_count": 178,
   "id": "68c5f998-aeaf-43af-a667-00c9943437dd",
   "metadata": {},
   "outputs": [],
   "source": [
    "head = Node(11)\n",
    "head.next = Node(11)\n",
    "head.next.next = Node(11)\n",
    "head.next.next.next = Node(13)\n",
    "head.next.next.next.next = Node(13)\n",
    "head.next.next.next.next.next = Node(20)"
   ]
  },
  {
   "cell_type": "code",
   "execution_count": 179,
   "id": "fcb70265-bb14-40bc-9c3e-7c65ce7400ae",
   "metadata": {},
   "outputs": [
    {
     "name": "stdout",
     "output_type": "stream",
     "text": [
      "11 11 11 13 13 20 "
     ]
    }
   ],
   "source": [
    "traverseList(head)"
   ]
  },
  {
   "cell_type": "code",
   "execution_count": 180,
   "id": "459e038f-3df3-469f-9656-0e4a4d265d1f",
   "metadata": {},
   "outputs": [],
   "source": [
    "head = remove_dup(head)"
   ]
  },
  {
   "cell_type": "code",
   "execution_count": 181,
   "id": "4848a1e2-6968-46b4-be1c-bc81a0e8ccc4",
   "metadata": {},
   "outputs": [
    {
     "name": "stdout",
     "output_type": "stream",
     "text": [
      "11 13 20 "
     ]
    }
   ],
   "source": [
    "traverseList(head)"
   ]
  },
  {
   "cell_type": "markdown",
   "id": "fbc61b8c-7f9c-4a7e-8be4-d0638139be2c",
   "metadata": {},
   "source": [
    "#### Remove Duplicates from an Unsorted Linked List"
   ]
  },
  {
   "cell_type": "code",
   "execution_count": 191,
   "id": "5db45c16-663d-4200-9277-5433daddb656",
   "metadata": {},
   "outputs": [],
   "source": [
    "def remove_dup_uns(head):\n",
    "    s = set()\n",
    "    s.add(head.data)\n",
    "    prev = head\n",
    "    curr = head.next\n",
    "    while curr:\n",
    "        if curr.data in s:\n",
    "            temp = curr\n",
    "            prev.next = temp.next\n",
    "            del temp\n",
    "            curr = prev.next\n",
    "        else:\n",
    "            s.add(curr.data)\n",
    "            prev = curr\n",
    "            curr = curr.next\n",
    "    return head"
   ]
  },
  {
   "cell_type": "code",
   "execution_count": 192,
   "id": "ff8e702e-f411-4244-bbde-dbc48411a1bf",
   "metadata": {},
   "outputs": [],
   "source": [
    "head = Node(11)\n",
    "head.next = Node(11)\n",
    "head.next.next = Node(11)\n",
    "head.next.next.next = Node(13)\n",
    "head.next.next.next.next = Node(13)\n",
    "head.next.next.next.next.next = Node(20)"
   ]
  },
  {
   "cell_type": "code",
   "execution_count": 193,
   "id": "896f6042-f709-4ada-86b0-b42995c7f579",
   "metadata": {},
   "outputs": [
    {
     "name": "stdout",
     "output_type": "stream",
     "text": [
      "11 11 11 13 13 20 "
     ]
    }
   ],
   "source": [
    "traverseList(head)"
   ]
  },
  {
   "cell_type": "code",
   "execution_count": 194,
   "id": "7ded25cd-1379-4748-a0f0-c38b49efc163",
   "metadata": {},
   "outputs": [],
   "source": [
    "head = remove_dup_uns(head)"
   ]
  },
  {
   "cell_type": "code",
   "execution_count": 195,
   "id": "906ec0cf-a3ec-4573-9c6a-e94737c90761",
   "metadata": {},
   "outputs": [
    {
     "name": "stdout",
     "output_type": "stream",
     "text": [
      "11 13 20 "
     ]
    }
   ],
   "source": [
    "traverseList(head)"
   ]
  },
  {
   "cell_type": "markdown",
   "id": "212743a2-8056-44a1-8b40-e5f0ae994a3a",
   "metadata": {},
   "source": [
    "#### Intersection of two Sorted Linked Lists"
   ]
  },
  {
   "cell_type": "code",
   "execution_count": 199,
   "id": "3e283898-c061-4698-88e3-90ef3cdc55bf",
   "metadata": {},
   "outputs": [],
   "source": [
    "def intersection_ll(head1, head2):\n",
    "    p1 = head1\n",
    "    p2 = head2\n",
    "    \n",
    "    head = None\n",
    "    tail = None\n",
    "    \n",
    "    while p1 is not None and p2 is not None:\n",
    "        if p1.data > p2.data:\n",
    "            p2 = p2.next\n",
    "        elif p2.data > p1.data:\n",
    "            p1 = p1.next\n",
    "        elif p1.data == p2.data:\n",
    "            n = Node(p1.data)\n",
    "            if head is None:\n",
    "                head = n\n",
    "                tail = n\n",
    "            else:\n",
    "                tail.next = n\n",
    "                tail = n\n",
    "            p1 = p1.next\n",
    "            p2 = p2.next\n",
    "    return head"
   ]
  },
  {
   "cell_type": "code",
   "execution_count": 200,
   "id": "d8c82b8a-e330-47ba-a292-bcc0dde16b9d",
   "metadata": {},
   "outputs": [],
   "source": [
    "# Create the first linked list\n",
    "head1 = Node(1)\n",
    "head1.next = Node(2)\n",
    "head1.next.next = Node(3)\n",
    "head1.next.next.next = Node(4)\n",
    "head1.next.next.next.next = Node(6)\n",
    "\n",
    "# Create the second linked list\n",
    "head2 = Node(2)\n",
    "head2.next = Node(4)\n",
    "head2.next.next = Node(6)\n",
    "head2.next.next.next = Node(8)"
   ]
  },
  {
   "cell_type": "code",
   "execution_count": 201,
   "id": "f59e85c4-8d15-4b59-b45a-e1158f0e79d0",
   "metadata": {},
   "outputs": [],
   "source": [
    "result = intersection_ll(head1, head2)"
   ]
  },
  {
   "cell_type": "code",
   "execution_count": 202,
   "id": "08952969-8801-4ab2-ba88-85d4cdff686b",
   "metadata": {},
   "outputs": [
    {
     "name": "stdout",
     "output_type": "stream",
     "text": [
      "1 2 3 4 6 "
     ]
    }
   ],
   "source": [
    "traverseList(head1)"
   ]
  },
  {
   "cell_type": "code",
   "execution_count": 203,
   "id": "edc47730-9a93-45e2-a49c-8c3c3a4bc3e0",
   "metadata": {},
   "outputs": [
    {
     "name": "stdout",
     "output_type": "stream",
     "text": [
      "2 4 6 8 "
     ]
    }
   ],
   "source": [
    "traverseList(head2)"
   ]
  },
  {
   "cell_type": "code",
   "execution_count": 204,
   "id": "4d949856-463f-4611-aca2-aef1a2ab6911",
   "metadata": {},
   "outputs": [
    {
     "name": "stdout",
     "output_type": "stream",
     "text": [
      "2 4 6 "
     ]
    }
   ],
   "source": [
    "traverseList(result)"
   ]
  },
  {
   "cell_type": "markdown",
   "id": "329e1886-5c9c-4468-af48-d807df472f71",
   "metadata": {},
   "source": [
    "#### Partitioning a linked list around a given value and keeping the original order"
   ]
  },
  {
   "cell_type": "code",
   "execution_count": 210,
   "id": "04d640ed-603d-4f17-b40c-748cd6908f92",
   "metadata": {},
   "outputs": [],
   "source": [
    "def partition(head, x):\n",
    "    lessthanx, lh = None, None\n",
    "    greaterthanx, gh = None, None\n",
    "    equaltox, eh = None, None\n",
    "    \n",
    "    curr = head\n",
    "    while curr is not None:\n",
    "        nn = Node(curr.data)\n",
    "        if curr.data < x:\n",
    "            if lh is None:\n",
    "                lh = nn\n",
    "                lessthanx = nn\n",
    "            else:\n",
    "                lessthanx.next = nn\n",
    "                lessthanx = nn\n",
    "        elif curr.data > x:\n",
    "            if gh is None:\n",
    "                gh = nn\n",
    "                greaterthanx = nn\n",
    "            else:\n",
    "                greaterthanx.next = nn\n",
    "                greaterthanx = nn\n",
    "        else:\n",
    "            if eh is None:\n",
    "                eh = nn\n",
    "                equaltox = nn\n",
    "            else:\n",
    "                equaltox.next = nn\n",
    "                equaltox = nn\n",
    "        curr = curr.next\n",
    "        \n",
    "    lessthanx.next = eh\n",
    "    equaltox.next = gh\n",
    "    \n",
    "    return lh"
   ]
  },
  {
   "cell_type": "code",
   "execution_count": 211,
   "id": "4571d212-9633-450d-ae44-3a42edc4a88a",
   "metadata": {},
   "outputs": [],
   "source": [
    "head = Node(1)\n",
    "head.next = Node(4)\n",
    "head.next.next = Node(3)\n",
    "head.next.next.next = Node(2)\n",
    "head.next.next.next.next = Node(5)\n",
    "head.next.next.next.next.next = Node(2)"
   ]
  },
  {
   "cell_type": "code",
   "execution_count": 212,
   "id": "0db99b71-8165-4ae0-a6a5-cc06441e3060",
   "metadata": {},
   "outputs": [
    {
     "name": "stdout",
     "output_type": "stream",
     "text": [
      "1 4 3 2 5 2 "
     ]
    }
   ],
   "source": [
    "traverseList(head)"
   ]
  },
  {
   "cell_type": "code",
   "execution_count": 213,
   "id": "c3658488-aa50-4872-bb8f-c289c0c0ae3f",
   "metadata": {},
   "outputs": [],
   "source": [
    "ph = partition(head, 3)"
   ]
  },
  {
   "cell_type": "code",
   "execution_count": 214,
   "id": "9409a3fc-f7af-4945-8a1d-5e8538fb1596",
   "metadata": {},
   "outputs": [
    {
     "name": "stdout",
     "output_type": "stream",
     "text": [
      "1 2 2 3 4 5 "
     ]
    }
   ],
   "source": [
    "traverseList(ph)"
   ]
  },
  {
   "cell_type": "markdown",
   "id": "463f9994-02c1-4da9-8337-51b29e086ae2",
   "metadata": {},
   "source": [
    "#### Split a Circular Linked List into two halves"
   ]
  },
  {
   "cell_type": "code",
   "execution_count": 227,
   "id": "1cb8a494-a9dd-4e04-80d5-a09f1a96970b",
   "metadata": {},
   "outputs": [],
   "source": [
    "def split_cll(head):\n",
    "    fp = head\n",
    "    sp = head\n",
    "    while fp.next != head and fp.next.next != head:\n",
    "        fp = fp.next.next\n",
    "        sp = sp.next\n",
    "        \n",
    "    temp = sp.next\n",
    "    sp.next = None\n",
    "    \n",
    "    curr = temp\n",
    "    while curr.next is not head:\n",
    "        curr = curr.next\n",
    "    curr.next = None\n",
    "    return head, temp"
   ]
  },
  {
   "cell_type": "code",
   "execution_count": 228,
   "id": "495ecb73-7914-449a-8c63-4374566ea39c",
   "metadata": {},
   "outputs": [],
   "source": [
    "head = Node(1)\n",
    "head.next = Node(2)\n",
    "head.next.next = Node(3)\n",
    "head.next.next.next = Node(4)\n",
    "head.next.next.next.next = head"
   ]
  },
  {
   "cell_type": "code",
   "execution_count": 229,
   "id": "59b07317-4338-4045-9f76-1083d37c417e",
   "metadata": {},
   "outputs": [],
   "source": [
    "head1, head2 = split_cll(head)"
   ]
  },
  {
   "cell_type": "code",
   "execution_count": 230,
   "id": "eaa152ca-4e61-45a2-9f66-6b39243d7ccd",
   "metadata": {},
   "outputs": [
    {
     "name": "stdout",
     "output_type": "stream",
     "text": [
      "1 2 "
     ]
    }
   ],
   "source": [
    "traverseList(head1)"
   ]
  },
  {
   "cell_type": "code",
   "execution_count": 231,
   "id": "8cc39117-3aea-40bb-b798-b452e995c876",
   "metadata": {},
   "outputs": [
    {
     "name": "stdout",
     "output_type": "stream",
     "text": [
      "3 4 "
     ]
    }
   ],
   "source": [
    "traverseList(head2)"
   ]
  },
  {
   "cell_type": "markdown",
   "id": "42f80fff-e84c-4a91-b184-f7f09cd3ede2",
   "metadata": {},
   "source": [
    "#### Merge two sorted linked lists"
   ]
  },
  {
   "cell_type": "code",
   "execution_count": 238,
   "id": "35294c37-d957-4f87-92b4-908132f43e11",
   "metadata": {},
   "outputs": [],
   "source": [
    "def merge_sorted_ll_rec(head1, head2):\n",
    "    if head1 is None:\n",
    "        return head2\n",
    "    if head2 is None:\n",
    "        return head1\n",
    "    if head1.data <= head2.data:\n",
    "        head1.next = merge_sorted_ll_rec(head1.next, head2)\n",
    "        return head1\n",
    "    else:\n",
    "        head2.next = merge_sorted_ll_rec(head2.next, head1)\n",
    "        return head2\n"
   ]
  },
  {
   "cell_type": "code",
   "execution_count": 239,
   "id": "477232b2-73fd-4c9a-be4b-1b559fec7cd7",
   "metadata": {},
   "outputs": [],
   "source": [
    "# First linked list: 5 -> 10 -> 15\n",
    "head1 = Node(5)\n",
    "head1.next = Node(10)\n",
    "head1.next.next = Node(15)\n",
    "\n",
    "# Second linked list: 2 -> 3 -> 20\n",
    "head2 = Node(2)\n",
    "head2.next = Node(3)\n",
    "head2.next.next = Node(20)"
   ]
  },
  {
   "cell_type": "code",
   "execution_count": 240,
   "id": "cc57fc6f-d492-45ac-8686-d9681c302ae7",
   "metadata": {},
   "outputs": [
    {
     "name": "stdout",
     "output_type": "stream",
     "text": [
      "5 10 15 "
     ]
    }
   ],
   "source": [
    "traverseList(head1)"
   ]
  },
  {
   "cell_type": "code",
   "execution_count": 241,
   "id": "7b8de685-689d-431f-8c55-caf4a71ba7bd",
   "metadata": {},
   "outputs": [
    {
     "name": "stdout",
     "output_type": "stream",
     "text": [
      "2 3 20 "
     ]
    }
   ],
   "source": [
    "traverseList(head2)"
   ]
  },
  {
   "cell_type": "code",
   "execution_count": 242,
   "id": "5ac53b2b-1540-4a71-8c35-7e900c1904b6",
   "metadata": {},
   "outputs": [],
   "source": [
    "res = merge_sorted_ll_rec(head1, head2)"
   ]
  },
  {
   "cell_type": "code",
   "execution_count": 243,
   "id": "a51fcd69-63f7-46ca-8f24-d7cc2a979e8e",
   "metadata": {},
   "outputs": [
    {
     "name": "stdout",
     "output_type": "stream",
     "text": [
      "2 3 5 10 15 20 "
     ]
    }
   ],
   "source": [
    "traverseList(res)"
   ]
  },
  {
   "cell_type": "code",
   "execution_count": 244,
   "id": "8bfd87c7-0fa4-47a5-98e5-8e8ca60aa5a0",
   "metadata": {},
   "outputs": [],
   "source": [
    "def merge_sorted_ll(head1, head2):\n",
    "    temp = Node(0)\n",
    "    curr = temp\n",
    "    while head1 is not None and head2 is not None:\n",
    "        if head1.data <= head2.data:\n",
    "            curr.next = head1\n",
    "            head1 = head1.next\n",
    "        else:\n",
    "            curr.next = head2\n",
    "            head2 = head2.next\n",
    "        curr = curr.next\n",
    "        \n",
    "    if head1 is not None:\n",
    "        curr.next = head1\n",
    "    elif head2 is not None:\n",
    "        curr.next = head2\n",
    "    \n",
    "    return temp.next"
   ]
  },
  {
   "cell_type": "code",
   "execution_count": 245,
   "id": "ff33ac57-1da0-4b2f-a153-572f0b2f566b",
   "metadata": {},
   "outputs": [],
   "source": [
    "# First linked list: 5 -> 10 -> 15\n",
    "head1 = Node(5)\n",
    "head1.next = Node(10)\n",
    "head1.next.next = Node(15)\n",
    "\n",
    "# Second linked list: 2 -> 3 -> 20\n",
    "head2 = Node(2)\n",
    "head2.next = Node(3)\n",
    "head2.next.next = Node(20)"
   ]
  },
  {
   "cell_type": "code",
   "execution_count": 246,
   "id": "7e53e7c0-4e97-4c70-b133-6541ad01fc4c",
   "metadata": {},
   "outputs": [],
   "source": [
    "res = merge_sorted_ll(head1, head2)"
   ]
  },
  {
   "cell_type": "code",
   "execution_count": 247,
   "id": "4d17f30e-8920-46fa-a10b-0220fcdc35a5",
   "metadata": {},
   "outputs": [
    {
     "name": "stdout",
     "output_type": "stream",
     "text": [
      "2 3 5 10 15 20 "
     ]
    }
   ],
   "source": [
    "traverseList(res)"
   ]
  },
  {
   "cell_type": "markdown",
   "id": "8ba152a1-ab57-4eba-b693-6af3f42853af",
   "metadata": {},
   "source": [
    "#### Intersection of List"
   ]
  },
  {
   "cell_type": "code",
   "execution_count": 249,
   "id": "87d79ff0-0b84-466f-81b5-ee5a46de9b6a",
   "metadata": {},
   "outputs": [],
   "source": [
    "def get_intersection(head1, head2):\n",
    "    s = set()\n",
    "    p = head1\n",
    "    while p is not None:\n",
    "        s.add(p.data)\n",
    "        p = p.next\n",
    "    \n",
    "    curr = None\n",
    "    p = head2\n",
    "    while p is not None:\n",
    "        if p.data in s:\n",
    "            if curr is None:\n",
    "                curr = Node(p.data)\n",
    "            else:\n",
    "                temp = Node(p.data)\n",
    "                temp.next = curr\n",
    "                curr = temp\n",
    "        p = p.next\n",
    "        \n",
    "    return curr"
   ]
  },
  {
   "cell_type": "code",
   "execution_count": 251,
   "id": "c59654c1-fd8b-4c34-9703-65169dacc371",
   "metadata": {},
   "outputs": [],
   "source": [
    "head1 = Node(1)\n",
    "head1.next = Node(2)\n",
    "head1.next.next = Node(3)\n",
    "head1.next.next.next = Node(3)\n",
    "head1.next.next.next.next = Node(4)\n",
    "head1.next.next.next.next.next = Node(5)\n",
    "\n",
    "# List 2: 1 -> 5 -> 6\n",
    "head2 = Node(1)\n",
    "head2.next = Node(5)\n",
    "head2.next.next = Node(6)"
   ]
  },
  {
   "cell_type": "code",
   "execution_count": 252,
   "id": "02dbcf5b-02bd-41d7-981f-8e3f16335808",
   "metadata": {},
   "outputs": [
    {
     "name": "stdout",
     "output_type": "stream",
     "text": [
      "1 2 3 3 4 5 "
     ]
    }
   ],
   "source": [
    "traverseList(head1)"
   ]
  },
  {
   "cell_type": "code",
   "execution_count": 253,
   "id": "78c9d3c4-e68a-4618-a496-d114d47dfe26",
   "metadata": {},
   "outputs": [
    {
     "name": "stdout",
     "output_type": "stream",
     "text": [
      "1 5 6 "
     ]
    }
   ],
   "source": [
    "traverseList(head2)"
   ]
  },
  {
   "cell_type": "code",
   "execution_count": 254,
   "id": "96c8045b-bf4d-4858-8848-36b3f672f4e0",
   "metadata": {},
   "outputs": [],
   "source": [
    "intersect = get_intersection(head1, head2)"
   ]
  },
  {
   "cell_type": "code",
   "execution_count": 255,
   "id": "cfea09f5-1e22-40cd-9cdf-d9c893c1cf7f",
   "metadata": {},
   "outputs": [
    {
     "name": "stdout",
     "output_type": "stream",
     "text": [
      "5 1 "
     ]
    }
   ],
   "source": [
    "traverseList(intersect)"
   ]
  },
  {
   "cell_type": "markdown",
   "id": "bc583688-9629-4d35-89d7-f1a29a66ded4",
   "metadata": {},
   "source": [
    "#### Get Union of two linked lists"
   ]
  },
  {
   "cell_type": "code",
   "execution_count": 262,
   "id": "f9f02a57-5da4-46c7-8ad1-d9b43ee365f6",
   "metadata": {},
   "outputs": [],
   "source": [
    "def get_union(head1, head2):\n",
    "    s = set()\n",
    "    p = head1\n",
    "    q = head2\n",
    "    \n",
    "    while p is not None:\n",
    "        s.add(p.data)\n",
    "        p = p.next\n",
    "    \n",
    "    while q is not None:\n",
    "        s.add(q.data)\n",
    "        q = q.next\n",
    "    \n",
    "    head, tail = None, None\n",
    "    for i in s:\n",
    "        if head is None:\n",
    "            head = Node(i)\n",
    "            tail = head\n",
    "        else:\n",
    "            tail.next = Node(i)\n",
    "            tail = tail.next\n",
    "    return head"
   ]
  },
  {
   "cell_type": "code",
   "execution_count": 263,
   "id": "bda1741e-4be3-43e5-a72a-9b721911ced7",
   "metadata": {},
   "outputs": [],
   "source": [
    "union = get_union(head1, head2)"
   ]
  },
  {
   "cell_type": "code",
   "execution_count": 264,
   "id": "a29ffdcc-0e79-455c-8725-c756eb481d37",
   "metadata": {},
   "outputs": [
    {
     "name": "stdout",
     "output_type": "stream",
     "text": [
      "1 2 3 4 5 6 "
     ]
    }
   ],
   "source": [
    "traverseList(union)"
   ]
  },
  {
   "cell_type": "code",
   "execution_count": null,
   "id": "d4c882c5-ed6c-4b42-93b2-bc8c43b11d32",
   "metadata": {},
   "outputs": [],
   "source": []
  }
 ],
 "metadata": {
  "kernelspec": {
   "display_name": "uoa",
   "language": "python",
   "name": "uoa"
  },
  "language_info": {
   "codemirror_mode": {
    "name": "ipython",
    "version": 3
   },
   "file_extension": ".py",
   "mimetype": "text/x-python",
   "name": "python",
   "nbconvert_exporter": "python",
   "pygments_lexer": "ipython3",
   "version": "3.10.0"
  }
 },
 "nbformat": 4,
 "nbformat_minor": 5
}
