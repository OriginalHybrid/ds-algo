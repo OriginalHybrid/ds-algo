{
 "cells": [
  {
   "cell_type": "markdown",
   "id": "48a1599a-fcf3-430f-a33f-c2eb69b98948",
   "metadata": {},
   "source": [
    "### Implement Stack using Array"
   ]
  },
  {
   "cell_type": "markdown",
   "id": "950ae23b-5ef2-42ec-887b-b53675d6b728",
   "metadata": {},
   "source": [
    "Step-by-step approach:\n",
    "\n",
    "- Initialize an array to represent the stack.\n",
    "- Use the end of the array to represent the top of the stack.\n",
    "- Implement push (add to end), pop (remove from the end), and peek (check end) operations, ensuring to handle empty and full stack conditions."
   ]
  },
  {
   "cell_type": "code",
   "execution_count": 3,
   "id": "1559305a-6134-408a-81cc-610d51ef0669",
   "metadata": {},
   "outputs": [],
   "source": [
    "class Stack:\n",
    "    def __init__(self, cap):\n",
    "        self.capacity = cap\n",
    "        self.top = -1\n",
    "        self.s = [0] * cap\n",
    "    \n",
    "    def push(self, x):\n",
    "        if self.isEmpty():\n",
    "            self.top = 0\n",
    "        else:\n",
    "            self.top += 1\n",
    "        \n",
    "        if self.top == self.capacity:\n",
    "            print(\"Stack Full\")\n",
    "            return\n",
    "        self.s[self.top] = x\n",
    "    \n",
    "    def pop(self):\n",
    "        if self.isEmpty():\n",
    "            print(\"Stack Empty\")\n",
    "            return\n",
    "        x = self.s[self.top]\n",
    "        self.top -= 1\n",
    "        return x\n",
    "    \n",
    "    def peek(self):\n",
    "        if self.isEmpty():\n",
    "            print(\"Stack Empty\")\n",
    "            return\n",
    "        return self.s[self.top]\n",
    "    \n",
    "    def isEmpty(self):\n",
    "        return self.top == -1\n",
    "    \n",
    "    def printStack(self):\n",
    "        print(self.s[:self.top + 1])\n",
    "        "
   ]
  },
  {
   "cell_type": "code",
   "execution_count": 4,
   "id": "f345f9eb-f940-4bb0-af5e-d4b58f30a3dd",
   "metadata": {},
   "outputs": [
    {
     "name": "stdout",
     "output_type": "stream",
     "text": [
      "[10, 20, 30]\n",
      "None\n"
     ]
    }
   ],
   "source": [
    "s = Stack(5)\n",
    "s.push(10)\n",
    "s.push(20)\n",
    "s.push(30)\n",
    "print(s.printStack())"
   ]
  },
  {
   "cell_type": "code",
   "execution_count": 5,
   "id": "8682f32c-94c3-43dd-8ea6-2ecd6783dfe1",
   "metadata": {},
   "outputs": [
    {
     "name": "stdout",
     "output_type": "stream",
     "text": [
      "30 popped from stack\n"
     ]
    }
   ],
   "source": [
    "print(s.pop(), \"popped from stack\")"
   ]
  },
  {
   "cell_type": "code",
   "execution_count": 6,
   "id": "3fe50cd6-7485-4780-bff1-1f4c85e176bc",
   "metadata": {},
   "outputs": [
    {
     "name": "stdout",
     "output_type": "stream",
     "text": [
      "[10, 20]\n",
      "None\n"
     ]
    }
   ],
   "source": [
    "print(s.printStack())"
   ]
  },
  {
   "cell_type": "code",
   "execution_count": 7,
   "id": "6b4d76dd-ec81-423c-958d-d0e924edbe3a",
   "metadata": {},
   "outputs": [
    {
     "name": "stdout",
     "output_type": "stream",
     "text": [
      "Top element is: 20\n"
     ]
    }
   ],
   "source": [
    "print(\"Top element is:\", s.peek())"
   ]
  },
  {
   "cell_type": "markdown",
   "id": "ae058c0a-4b38-4813-a35d-e7d82f24c192",
   "metadata": {},
   "source": [
    "### Stack Implementation using Deque"
   ]
  },
  {
   "cell_type": "code",
   "execution_count": 8,
   "id": "7a50b012-46cd-4e74-b64c-81c47edb75f6",
   "metadata": {},
   "outputs": [
    {
     "name": "stdout",
     "output_type": "stream",
     "text": [
      "30 popped from stack\n",
      "Top element is: 20\n"
     ]
    }
   ],
   "source": [
    "from collections import deque\n",
    "\n",
    "stack = deque()\n",
    "\n",
    "stack.append(10)\n",
    "stack.append(20)\n",
    "stack.append(30)\n",
    "\n",
    "print(f'{stack.pop()} popped from stack')\n",
    "print(f'Top element is: {stack[-1]}' if stack else 'Stack is empty')\n"
   ]
  },
  {
   "cell_type": "markdown",
   "id": "5eef1ebe-5da9-4c17-b8fd-a5ee0a93613b",
   "metadata": {},
   "source": [
    "### The Celebrity Problem\n",
    "\n",
    "Given a square matrix mat[][] of size n x n, such that mat[i][j] = 1 means ith person knows jth person, the task is to find the celebrity. A celebrity is a person who is known to all but does not know anyone. Return the index of the celebrity, if there is no celebrity return -1.\n",
    "\n",
    "Note: Follow 0-based indexing and mat[i][i] will always be 1."
   ]
  },
  {
   "cell_type": "markdown",
   "id": "11b27ad8-e65c-4c98-be60-b564a056e612",
   "metadata": {},
   "source": [
    "Some observations are based on Stack Based elimination technique :\n",
    "\n",
    "\n",
    "- If A knows B, then A can’t be a celebrity. Discard A, and B may be celebrity.\n",
    "- If A doesn’t know B, then B can’t be a celebrity. Discard B, and A may be celebrity.\n",
    "- Repeat above two steps till there is only one person.\n",
    "- Ensure the remained person is a celebrity. "
   ]
  },
  {
   "cell_type": "code",
   "execution_count": 16,
   "id": "ff94deea-e8af-47b2-80a4-1d03410355db",
   "metadata": {},
   "outputs": [],
   "source": [
    "mat = [[0, 1, 0],\n",
    "       [0, 0, 0],\n",
    "       [0, 1, 0]]"
   ]
  },
  {
   "cell_type": "code",
   "execution_count": 10,
   "id": "5be6ecfb-4425-43f4-8f8d-9cc87f9c6c67",
   "metadata": {},
   "outputs": [
    {
     "data": {
      "text/plain": [
       "[[0, 1, 0], [0, 0, 0], [0, 1, 0]]"
      ]
     },
     "execution_count": 10,
     "metadata": {},
     "output_type": "execute_result"
    }
   ],
   "source": [
    "mat"
   ]
  },
  {
   "cell_type": "code",
   "execution_count": 11,
   "id": "2cb1009b-aa17-487d-89ad-04a06a5cbc1f",
   "metadata": {},
   "outputs": [
    {
     "name": "stdout",
     "output_type": "stream",
     "text": [
      "0\n",
      "1\n",
      "2\n"
     ]
    }
   ],
   "source": [
    "for i in range(len(mat)):\n",
    "    print(i)"
   ]
  },
  {
   "cell_type": "code",
   "execution_count": 17,
   "id": "e2fac453-ae1b-400b-94ad-6dda760b93a8",
   "metadata": {},
   "outputs": [],
   "source": [
    "def find_celeb(mat):\n",
    "    \n",
    "    s = []\n",
    "    n = len(mat)\n",
    "    for i in range(n):\n",
    "        s.append(i)\n",
    "        \n",
    "    while len(s) > 1:\n",
    "        a = s.pop()\n",
    "        b = s.pop()\n",
    "        \n",
    "        if mat[a][b] == 1:\n",
    "            s.append(b)\n",
    "        else:\n",
    "            s.append(a)\n",
    "    \n",
    "    c = s.pop()\n",
    "    # print(c)\n",
    "    \n",
    "    #check if c is celeb\n",
    "    for i in range(n):\n",
    "        if i == c:\n",
    "            continue\n",
    "        if mat[c][i] == 1:\n",
    "            return -1\n",
    "        if mat[i][c] == 0:\n",
    "            return -1\n",
    "    \n",
    "    return c"
   ]
  },
  {
   "cell_type": "code",
   "execution_count": 18,
   "id": "dc9c0c1a-0fb0-40f2-a7fc-e728f2a1e29e",
   "metadata": {},
   "outputs": [
    {
     "name": "stdout",
     "output_type": "stream",
     "text": [
      "1\n"
     ]
    },
    {
     "data": {
      "text/plain": [
       "1"
      ]
     },
     "execution_count": 18,
     "metadata": {},
     "output_type": "execute_result"
    }
   ],
   "source": [
    "find_celeb(mat)"
   ]
  },
  {
   "cell_type": "code",
   "execution_count": 19,
   "id": "007f9ddd-23a2-4ab0-a35c-fca3a390b15d",
   "metadata": {},
   "outputs": [],
   "source": [
    "def find_celeb2(mat):\n",
    "    i, j = 0, len(mat)-1\n",
    "    \n",
    "    while i < j:\n",
    "        if mat[i][j] == 1:\n",
    "            i += 1\n",
    "        else:\n",
    "             j -= 1\n",
    "    c = i\n",
    "    #check if c is celeb\n",
    "    for i in range(len(mat)):\n",
    "        if i == c:\n",
    "            continue\n",
    "        if mat[c][i] == 1 or mat[i][c] == 0:\n",
    "            return -1\n",
    "    \n",
    "    return c"
   ]
  },
  {
   "cell_type": "code",
   "execution_count": 20,
   "id": "6f5983f9-429e-4358-80ca-34cb37079273",
   "metadata": {},
   "outputs": [
    {
     "data": {
      "text/plain": [
       "1"
      ]
     },
     "execution_count": 20,
     "metadata": {},
     "output_type": "execute_result"
    }
   ],
   "source": [
    "find_celeb2(mat)"
   ]
  },
  {
   "cell_type": "markdown",
   "id": "eae16cba-f4a6-492a-aa65-3ffa5257356c",
   "metadata": {},
   "source": [
    "### Queue using Stacks"
   ]
  },
  {
   "cell_type": "code",
   "execution_count": 23,
   "id": "fc63fa02-262a-4a81-83c8-68150348bc4b",
   "metadata": {},
   "outputs": [],
   "source": [
    "class Q:\n",
    "    def __init__(self):\n",
    "        self.s1 = []\n",
    "        self.s2 = []\n",
    "    \n",
    "    def enqueue(self, x):\n",
    "        self.s1.append(x)\\\n",
    "    \n",
    "    def dequeue(self):\n",
    "        if not self.s1 and self.s2:\n",
    "            return -1\n",
    "        else:\n",
    "            while self.s1:\n",
    "                x = self.s1.pop()\n",
    "                self.s2.append(x)\n",
    "        return self.s2.pop()\n"
   ]
  },
  {
   "cell_type": "code",
   "execution_count": 24,
   "id": "8156bb8a-4fa1-4830-b699-f6bcffd78945",
   "metadata": {},
   "outputs": [
    {
     "name": "stdout",
     "output_type": "stream",
     "text": [
      "1\n"
     ]
    }
   ],
   "source": [
    "q = Q()\n",
    "\n",
    "q.enqueue(1)\n",
    "q.enqueue(2)\n",
    "q.enqueue(3)\n",
    "\n",
    "print(q.dequeue())"
   ]
  },
  {
   "cell_type": "markdown",
   "id": "fdddbd60-56b3-464d-8e49-12bf92dd4963",
   "metadata": {},
   "source": [
    "### Implement two Stacks in an Array"
   ]
  },
  {
   "cell_type": "code",
   "execution_count": 28,
   "id": "0d5313bd-e8e2-479d-969e-a7dec4da7c29",
   "metadata": {},
   "outputs": [],
   "source": [
    "class TwoStacks:\n",
    "    def __init__(self, s):\n",
    "        self.size = s\n",
    "        self.stk = [None] * s\n",
    "        self.top1 = s//2\n",
    "        self.top2 = s //2 - 1\n",
    "        \n",
    "    def push1(self, x):\n",
    "        if self.top1 == 0:\n",
    "            print(\"Stack 1 Full\")\n",
    "            return\n",
    "        else:\n",
    "            self.top1 -= 1\n",
    "            self.stk[self.top1] = x\n",
    "    \n",
    "    def push2(self, x):\n",
    "        if self.top2 == self.size - 1:\n",
    "            print(\"Stack 2 Full\")\n",
    "            return\n",
    "        else:\n",
    "            self.top2 += 1\n",
    "            self.stk[self.top2] = x\n",
    "    \n",
    "    def pop1(self):\n",
    "        if self.top1 == self.size//2:\n",
    "            print(\"Stack 1 Empty\")\n",
    "            return None\n",
    "        else:\n",
    "            x = self.stk[self.top1]\n",
    "            self.stk[self.top1] = None\n",
    "            self.top1 -= 1\n",
    "            return x\n",
    "        \n",
    "    def pop2(self):\n",
    "        if self.top2 == self.size//2 - 1:\n",
    "            print(\"Stack 2 Empty\")\n",
    "            return None\n",
    "        else:\n",
    "            x = self.stk[self.top2]\n",
    "            self.stk[self.top2] = None\n",
    "            self.top2 += 1\n",
    "            return x"
   ]
  },
  {
   "cell_type": "code",
   "execution_count": 29,
   "id": "b2124247-e695-497e-a05a-766c82cdae4c",
   "metadata": {},
   "outputs": [],
   "source": [
    "ts = TwoStacks(5) \n",
    "ts.push1(5) \n",
    "ts.push2(10) \n",
    "ts.push2(15) \n",
    "ts.push1(11) \n",
    "ts.push2(7)"
   ]
  },
  {
   "cell_type": "code",
   "execution_count": 30,
   "id": "ceed306b-91d0-4d9c-8c09-70f1227e4cbe",
   "metadata": {},
   "outputs": [
    {
     "name": "stdout",
     "output_type": "stream",
     "text": [
      "Popped element from stack1 is : 11\n"
     ]
    }
   ],
   "source": [
    "print(\"Popped element from stack1 is : \" + str(ts.pop1())) "
   ]
  },
  {
   "cell_type": "code",
   "execution_count": 31,
   "id": "bc67bc53-6346-4f36-8afc-ef0d75c825e8",
   "metadata": {},
   "outputs": [
    {
     "name": "stdout",
     "output_type": "stream",
     "text": [
      "Stack 2 Full\n"
     ]
    }
   ],
   "source": [
    "ts.push2(40)"
   ]
  },
  {
   "cell_type": "code",
   "execution_count": 32,
   "id": "cf8d9257-deeb-456a-bc8a-f59b8231ab47",
   "metadata": {},
   "outputs": [
    {
     "name": "stdout",
     "output_type": "stream",
     "text": [
      "Popped element from stack2 is : 7\n"
     ]
    }
   ],
   "source": [
    "print(\"Popped element from stack2 is : \" + str(ts.pop2()))"
   ]
  },
  {
   "cell_type": "markdown",
   "id": "cb3ddce4-1f44-4820-91eb-6b83dfb1256b",
   "metadata": {},
   "source": [
    "### Valid Parentheses in an Expression"
   ]
  },
  {
   "cell_type": "code",
   "execution_count": 1,
   "id": "4614168c-2ce2-46b1-b5d4-90f7d6485bd2",
   "metadata": {},
   "outputs": [],
   "source": [
    "def is_valid(s):\n",
    "    stk = []\n",
    "    \n",
    "    for c in s:\n",
    "        if c in ['(', '{', '[']:\n",
    "            stk.append(c)\n",
    "        if c == ']':\n",
    "            if len(stk) != 0:\n",
    "                e = stk.pop()\n",
    "                if e != '[':\n",
    "                    return False\n",
    "        elif c == ')':\n",
    "            if len(stk) != 0:\n",
    "                e = stk.pop()\n",
    "                if e != '(':\n",
    "                    return False\n",
    "        elif c == '}':\n",
    "            if len(stk) != 0:\n",
    "                e = stk.pop()\n",
    "                if e != '{':\n",
    "                    return False\n",
    "    if len(stk) != 0:\n",
    "        return False\n",
    "    \n",
    "    return True\n",
    "            \n",
    "    "
   ]
  },
  {
   "cell_type": "code",
   "execution_count": 2,
   "id": "0a8876e1-7a6f-4e1f-bb39-3086493d578f",
   "metadata": {},
   "outputs": [],
   "source": [
    "s = \"{([])}\""
   ]
  },
  {
   "cell_type": "code",
   "execution_count": 3,
   "id": "41a3e98f-2333-4142-99c2-afcae0811b02",
   "metadata": {},
   "outputs": [
    {
     "data": {
      "text/plain": [
       "True"
      ]
     },
     "execution_count": 3,
     "metadata": {},
     "output_type": "execute_result"
    }
   ],
   "source": [
    "is_valid(s)"
   ]
  },
  {
   "cell_type": "code",
   "execution_count": 4,
   "id": "313a1aa4-7aa7-497d-b197-3cbe68c79eca",
   "metadata": {},
   "outputs": [],
   "source": [
    "s = '([{]})'"
   ]
  },
  {
   "cell_type": "code",
   "execution_count": 5,
   "id": "1a5885c7-9ab6-421d-86fd-c315bcedde0f",
   "metadata": {},
   "outputs": [
    {
     "data": {
      "text/plain": [
       "False"
      ]
     },
     "execution_count": 5,
     "metadata": {},
     "output_type": "execute_result"
    }
   ],
   "source": [
    "is_valid(s)"
   ]
  },
  {
   "cell_type": "code",
   "execution_count": 6,
   "id": "15cbc1fc-e299-4e63-b73e-f954bc211d6d",
   "metadata": {},
   "outputs": [],
   "source": [
    "s = '([]'"
   ]
  },
  {
   "cell_type": "code",
   "execution_count": 7,
   "id": "4299b7ee-1c58-43d7-80b9-cc6ead3d5b68",
   "metadata": {},
   "outputs": [
    {
     "data": {
      "text/plain": [
       "False"
      ]
     },
     "execution_count": 7,
     "metadata": {},
     "output_type": "execute_result"
    }
   ],
   "source": [
    "is_valid(s)"
   ]
  },
  {
   "cell_type": "markdown",
   "id": "91e26713-90e7-47b0-9e48-3bb2490b8b4e",
   "metadata": {},
   "source": [
    "### Arithmetic Expression Evaluation"
   ]
  },
  {
   "cell_type": "code",
   "execution_count": 28,
   "id": "2b5df849-fb80-4958-9869-0d09b645ec5f",
   "metadata": {},
   "outputs": [],
   "source": [
    "def eval_postfix(s):\n",
    "    stk = []\n",
    "    for c in s:\n",
    "        if c in '1234567890':\n",
    "            stk.append(int(c))\n",
    "            print(stk)\n",
    "        elif c != ' ':\n",
    "            b = stk.pop()\n",
    "            a = stk.pop()\n",
    "            \n",
    "            if c == '+':\n",
    "                stk.append(a+b)\n",
    "            elif c == '-':\n",
    "                stk.append(a-b)\n",
    "            elif c == '*':\n",
    "                stk.append(a*b)\n",
    "            elif c == '/':\n",
    "                stk.append(a/b)\n",
    "            elif c == '^':\n",
    "                stk.append(a^b)\n",
    "    return stk.pop()"
   ]
  },
  {
   "cell_type": "code",
   "execution_count": 29,
   "id": "3f5297b9-86b7-4a7d-a4c7-91e71651aeca",
   "metadata": {},
   "outputs": [],
   "source": [
    "exp = \"2 4 + 4 6 + *\""
   ]
  },
  {
   "cell_type": "code",
   "execution_count": 30,
   "id": "a5a5e1d7-1c4a-4771-abe9-a999786c82d6",
   "metadata": {},
   "outputs": [
    {
     "name": "stdout",
     "output_type": "stream",
     "text": [
      "[2]\n",
      "[2, 4]\n",
      "[6, 4]\n",
      "[6, 4, 6]\n"
     ]
    },
    {
     "data": {
      "text/plain": [
       "60"
      ]
     },
     "execution_count": 30,
     "metadata": {},
     "output_type": "execute_result"
    }
   ],
   "source": [
    "eval_postfix(exp)"
   ]
  },
  {
   "cell_type": "markdown",
   "id": "62e5c0af-92bf-420e-990a-cb2a34a35023",
   "metadata": {},
   "source": [
    "### Resverse Stack"
   ]
  },
  {
   "cell_type": "code",
   "execution_count": 28,
   "id": "7e689f38-61c3-4010-a3e4-c7e9a2b7f552",
   "metadata": {},
   "outputs": [],
   "source": [
    "def insert_at_bottom(s, item):\n",
    "    if not s:\n",
    "        s.append(item)\n",
    "        return\n",
    "    temp = s.pop()\n",
    "    insert_at_bottom(s, item)\n",
    "    s.append(temp)\n",
    "\n",
    "def rev_stack(s):\n",
    "    if not s:\n",
    "        return\n",
    "    temp = s.pop()\n",
    "    rev_stack(s)\n",
    "    insert_at_bottom(s, temp)\n"
   ]
  },
  {
   "cell_type": "code",
   "execution_count": 29,
   "id": "62d6bcbb-e714-4619-9851-18da73a38d18",
   "metadata": {},
   "outputs": [],
   "source": [
    "s = [1,2,3,4,5]"
   ]
  },
  {
   "cell_type": "code",
   "execution_count": 30,
   "id": "b1373c43-faac-48fb-b84e-f844fadbcb69",
   "metadata": {},
   "outputs": [],
   "source": [
    "rev_stack(s)"
   ]
  },
  {
   "cell_type": "code",
   "execution_count": 31,
   "id": "eeb053e2-6666-43a7-bd10-013bad3b82e6",
   "metadata": {},
   "outputs": [
    {
     "data": {
      "text/plain": [
       "[5, 4, 3, 2, 1]"
      ]
     },
     "execution_count": 31,
     "metadata": {},
     "output_type": "execute_result"
    }
   ],
   "source": [
    "s"
   ]
  },
  {
   "cell_type": "markdown",
   "id": "dab00d5d-df70-4dd9-afa8-eb2a1519eba2",
   "metadata": {},
   "source": [
    "### Reverse individual words "
   ]
  },
  {
   "cell_type": "code",
   "execution_count": 37,
   "id": "2637a24c-e543-4530-aa12-1eccf37683e1",
   "metadata": {},
   "outputs": [],
   "source": [
    "def rev_individual_words(s):\n",
    "    stk = []\n",
    "    res = \"\"\n",
    "    for c in s:\n",
    "        if c == ' ':\n",
    "            while len(stk) != 0:\n",
    "                res = res + stk.pop()\n",
    "            res += ' '\n",
    "        else:\n",
    "            stk.append(c)\n",
    "    \n",
    "    if len(stk) != 0:\n",
    "        while len(stk) != 0:\n",
    "                res = res + stk.pop()\n",
    "    \n",
    "    return res"
   ]
  },
  {
   "cell_type": "code",
   "execution_count": 39,
   "id": "0daae99d-7a43-4388-9c2f-b930998df7d6",
   "metadata": {},
   "outputs": [
    {
     "data": {
      "text/plain": [
       "'skeeG rof llA'"
      ]
     },
     "execution_count": 39,
     "metadata": {},
     "output_type": "execute_result"
    }
   ],
   "source": [
    "string = \"Geeks for All\"\n",
    "rev_individual_words(string)"
   ]
  },
  {
   "cell_type": "markdown",
   "id": "421bb1ad-2d60-4a5c-879b-67a932578aac",
   "metadata": {},
   "source": [
    "### Nearest smaller numbers on left side in an array"
   ]
  },
  {
   "cell_type": "code",
   "execution_count": 13,
   "id": "d39a97e6-f22d-4037-88d5-e6a9682a0c43",
   "metadata": {},
   "outputs": [],
   "source": [
    "def nearest_small(arr):\n",
    "    s = []\n",
    "    res = []\n",
    "    for i in arr:\n",
    "        if not s or s[-1] >= i:\n",
    "            res.append(-1)\n",
    "        else:\n",
    "            res.append(s[-1])\n",
    "        s.append(i)\n",
    "        # print(s)\n",
    "    return res"
   ]
  },
  {
   "cell_type": "code",
   "execution_count": 14,
   "id": "1e84fb7e-f2a2-491c-b615-edc672f4a8e8",
   "metadata": {},
   "outputs": [],
   "source": [
    "arr = [1, 5, 0, 3, 4, 5]"
   ]
  },
  {
   "cell_type": "code",
   "execution_count": 15,
   "id": "1331c5b6-b572-4450-b54f-4539e99d8be3",
   "metadata": {},
   "outputs": [
    {
     "data": {
      "text/plain": [
       "[-1, 1, -1, 0, 3, 4]"
      ]
     },
     "execution_count": 15,
     "metadata": {},
     "output_type": "execute_result"
    }
   ],
   "source": [
    "nearest_small(arr)"
   ]
  },
  {
   "cell_type": "markdown",
   "id": "1c0211b6-88ab-4fcb-8026-ce58cfc85d3c",
   "metadata": {},
   "source": [
    "### Next Greater Element (NGE) for every element in given Array"
   ]
  },
  {
   "cell_type": "code",
   "execution_count": 16,
   "id": "8868f7c8-f617-4285-aa38-a30ba3deb16f",
   "metadata": {},
   "outputs": [],
   "source": [
    "def next_grtr(arr):\n",
    "    n = len(arr)\n",
    "    res = [-1] * n\n",
    "    \n",
    "    s = []\n",
    "    \n",
    "    for i in range(n-1, -1, -1):\n",
    "        if i == n-1:\n",
    "            s.append(arr[i])\n",
    "        else:\n",
    "            while s and s[-1] < arr[i]:\n",
    "                s.pop()\n",
    "            if s:\n",
    "                res[i] = s[-1]\n",
    "            s.append(arr[i])\n",
    "    return res"
   ]
  },
  {
   "cell_type": "code",
   "execution_count": 17,
   "id": "8c11ffbe-1ecc-42a4-b54a-9ca9682d0e9f",
   "metadata": {},
   "outputs": [],
   "source": [
    "arr = [6, 8, 0, 1, 3]"
   ]
  },
  {
   "cell_type": "code",
   "execution_count": 18,
   "id": "4cbb3566-2a30-44fc-83ba-2780d5a2e14e",
   "metadata": {},
   "outputs": [
    {
     "data": {
      "text/plain": [
       "[8, -1, 1, 3, -1]"
      ]
     },
     "execution_count": 18,
     "metadata": {},
     "output_type": "execute_result"
    }
   ],
   "source": [
    "next_grtr(arr)"
   ]
  },
  {
   "cell_type": "markdown",
   "id": "b873418e-7488-4148-a78f-8c590374a7c0",
   "metadata": {},
   "source": [
    "### The Stock Span Problem"
   ]
  },
  {
   "cell_type": "markdown",
   "id": "db673d49-d2b2-422b-901a-e41b39be0274",
   "metadata": {},
   "source": [
    "The stock span problem is a financial problem where we have a series of daily price quotes for a stock denoted by an array arr[] and the task is to calculate the span of the stock’s price for all days. \n",
    "\n",
    "The span of the stock’s price on ith day represents the maximum number of consecutive days leading up to ith day (including the current day) where the stock’s price was less than or equal to its price on day i.\n",
    "\n",
    "Examples:\n",
    "\n",
    "Input: arr[] = [100, 80, 60, 70, 60, 75, 85]\n",
    "Output: [1, 1, 1, 2, 1, 4, 6]\n",
    "Explanation: Traversing the given input span 100 is greater than equal to 100 and there are no more elements behind it so the span is 1, 80 is greater than equal to 80 and smaller than 100 so the span is 1, 60 is greater than equal to 60 and smaller than 80 so the span is 1, 70 is greater than equal to 60,70 and smaller than 80 so the span is 2 and so on.  Hence the output will be 1 1 1 2 1 4 6."
   ]
  },
  {
   "cell_type": "code",
   "execution_count": 23,
   "id": "bbceb25a-2469-490c-b924-c0574e3f367f",
   "metadata": {},
   "outputs": [],
   "source": [
    "def stock_span(arr):\n",
    "    s = []\n",
    "    n = len(arr)\n",
    "    res = [0] * n\n",
    "    \n",
    "    for i in range(n):\n",
    "        while s and arr[s[-1]] <= arr[i]:\n",
    "            s.pop()\n",
    "\n",
    "        if not s:\n",
    "            res[i] += i+1\n",
    "        else:\n",
    "            res[i] = i - s[-1]\n",
    "\n",
    "        s.append(i)\n",
    "    \n",
    "    return res"
   ]
  },
  {
   "cell_type": "code",
   "execution_count": 24,
   "id": "084e93c6-af0c-4cc3-8d30-5273d7c9bf93",
   "metadata": {},
   "outputs": [
    {
     "data": {
      "text/plain": [
       "[1, 1, 2, 4, 5, 1]"
      ]
     },
     "execution_count": 24,
     "metadata": {},
     "output_type": "execute_result"
    }
   ],
   "source": [
    "arr = [10, 4, 5, 90, 120, 80]\n",
    "stock_span(arr)"
   ]
  },
  {
   "cell_type": "markdown",
   "id": "da69fa4b-2fa3-43fc-b277-0dfa1392161f",
   "metadata": {},
   "source": [
    "### Number of buildings facing the sun"
   ]
  },
  {
   "cell_type": "code",
   "execution_count": 27,
   "id": "78b40f5e-dcba-43e2-b5c8-6d8e90d4787c",
   "metadata": {},
   "outputs": [],
   "source": [
    "def face_sun(arr):\n",
    "    msf = arr[0]\n",
    "    res = []\n",
    "    for i in arr:\n",
    "        if i >= msf:\n",
    "            res.append(i)\n",
    "            msf = i\n",
    "    return res, len(res)"
   ]
  },
  {
   "cell_type": "code",
   "execution_count": 28,
   "id": "09f906b9-0e18-49e9-a502-71e7199f85b8",
   "metadata": {},
   "outputs": [
    {
     "data": {
      "text/plain": [
       "([6, 8, 11, 13], 4)"
      ]
     },
     "execution_count": 28,
     "metadata": {},
     "output_type": "execute_result"
    }
   ],
   "source": [
    "arr = [6, 2, 8, 4, 11, 13]\n",
    "face_sun(arr)"
   ]
  },
  {
   "cell_type": "markdown",
   "id": "1a4c408e-76de-41ca-a8dd-dc4b043d723f",
   "metadata": {},
   "source": [
    "### Next Greater Frequency Element"
   ]
  },
  {
   "cell_type": "code",
   "execution_count": 29,
   "id": "8823cfce-6833-41de-8315-4da76ca574a4",
   "metadata": {},
   "outputs": [],
   "source": [
    "def next_grtr_freq_ele(arr):\n",
    "    freq = {}\n",
    "    for i in arr:\n",
    "        if i in freq:\n",
    "            freq[i] += 1\n",
    "        else:\n",
    "            freq[i] = 0\n",
    "    \n",
    "    n = len(arr)\n",
    "    res = [0] * n\n",
    "    \n",
    "    s = []\n",
    "    \n",
    "    s.append(0)\n",
    "    for i in range(1,n):\n",
    "        if freq[arr[s[-1]]] > freq[arr[i]]:\n",
    "            s.append(i)\n",
    "        else:\n",
    "            while s and freq[arr[s[-1]]] < freq[arr[i]]:\n",
    "                res[s[-1]] = arr[i]\n",
    "                s.pop()\n",
    "            s.append(i)\n",
    "    \n",
    "    while s:\n",
    "        res[s[-1]] = -1\n",
    "        s.pop()\n",
    "    \n",
    "    return res"
   ]
  },
  {
   "cell_type": "code",
   "execution_count": 30,
   "id": "9fac7dc1-17ae-45bf-a2f8-dbbd0a134f4f",
   "metadata": {},
   "outputs": [],
   "source": [
    "arr = [1, 1, 2, 3, 4, 2, 1]"
   ]
  },
  {
   "cell_type": "code",
   "execution_count": 31,
   "id": "5172e3fb-8a58-45f9-87b7-92ee20e94b1c",
   "metadata": {},
   "outputs": [
    {
     "data": {
      "text/plain": [
       "[-1, -1, 1, 2, 2, 1, -1]"
      ]
     },
     "execution_count": 31,
     "metadata": {},
     "output_type": "execute_result"
    }
   ],
   "source": [
    "next_grtr_freq_ele(arr)"
   ]
  },
  {
   "cell_type": "markdown",
   "id": "6ccc8110-8f85-4ce7-a4c2-f227784abad5",
   "metadata": {},
   "source": [
    "### Iterative Tower of Hanoi"
   ]
  },
  {
   "cell_type": "code",
   "execution_count": 32,
   "id": "da37523e-4a01-4ada-b441-a934c3b6cfbc",
   "metadata": {},
   "outputs": [],
   "source": [
    "rod = ['S', 'A', 'D']\n",
    "stacks = [[], [], []]\n",
    "\n",
    "def moveDisk(a, b):\n",
    "    if not stacks[b] or (stacks[a] and stacks[a][-1] < stacks[b][-1]):\n",
    "        print(f\"Move disk {stacks[a][-1]} from rod {rod[a]} to rod {rod[b]}\")\n",
    "        stacks[b].append(stacks[a].pop())\n",
    "    else:\n",
    "        moveDisk(b, a)\n",
    "        \n",
    "\n",
    "def toh(n):\n",
    "    print(f\"Tower of Hanoi for {n} disks:\")\n",
    "    src, aux, dest = 0, 1, 2\n",
    "    stacks[src] = list(range(n, 0, -1))\n",
    "    \n",
    "    totalMoves = (1 << n) - 1\n",
    "    if n % 2 == 0:\n",
    "        aux, dest = dest, aux\n",
    "        \n",
    "    for i in range(1, totalMoves + 1):\n",
    "        if i % 3 == 0:\n",
    "            moveDisk(aux, dest)\n",
    "        elif i % 3 == 1:\n",
    "            moveDisk(src, dest)\n",
    "        else:\n",
    "            moveDisk(src, aux)"
   ]
  },
  {
   "cell_type": "code",
   "execution_count": 33,
   "id": "593f3908-0e1e-4a2e-82d1-a9a8f31258f4",
   "metadata": {},
   "outputs": [
    {
     "name": "stdout",
     "output_type": "stream",
     "text": [
      "Tower of Hanoi for 3 disks:\n",
      "Move disk 1 from rod S to rod D\n",
      "Move disk 2 from rod S to rod A\n",
      "Move disk 1 from rod D to rod A\n",
      "Move disk 3 from rod S to rod D\n",
      "Move disk 1 from rod A to rod S\n",
      "Move disk 2 from rod A to rod D\n",
      "Move disk 1 from rod S to rod D\n"
     ]
    }
   ],
   "source": [
    "toh(3)"
   ]
  },
  {
   "cell_type": "markdown",
   "id": "831b396d-7a13-4dbd-a293-0130d3859d71",
   "metadata": {},
   "source": [
    "### Sort a stack using a temporary stack"
   ]
  },
  {
   "cell_type": "code",
   "execution_count": 36,
   "id": "541749c6-6d32-41e7-a119-f51944caa200",
   "metadata": {},
   "outputs": [],
   "source": [
    "def sort_stk(s):\n",
    "    ts = []\n",
    "    \n",
    "    while s:\n",
    "        \n",
    "        temp = s.pop()\n",
    "    \n",
    "        while ts and ts[-1] < temp:\n",
    "            s.append(ts[-1])\n",
    "            ts.pop()\n",
    "        \n",
    "        ts.append(temp)\n",
    "    return ts"
   ]
  },
  {
   "cell_type": "code",
   "execution_count": 37,
   "id": "daf0736e-9d2b-484d-b1ab-5e1fffeef5e8",
   "metadata": {},
   "outputs": [
    {
     "data": {
      "text/plain": [
       "[98, 92, 34, 31, 23, 3]"
      ]
     },
     "execution_count": 37,
     "metadata": {},
     "output_type": "execute_result"
    }
   ],
   "source": [
    "s = [34, 3, 31, 98, 92, 23]\n",
    "sort_stk(s)"
   ]
  },
  {
   "cell_type": "markdown",
   "id": "d7e6ae53-715b-4df1-a59b-31a28ff3a9dd",
   "metadata": {},
   "source": [
    "### Delete consecutive same words in a sequence"
   ]
  },
  {
   "cell_type": "code",
   "execution_count": 40,
   "id": "7b4c9328-d401-4f1b-85ed-c29a30eae2ea",
   "metadata": {},
   "outputs": [],
   "source": [
    "def del_cons_words(arr):\n",
    "    s = []\n",
    "    for word in arr:\n",
    "        if s and s[-1] == word:\n",
    "            s.pop()\n",
    "        else:\n",
    "            s.append(word)\n",
    "    \n",
    "    return len(s)"
   ]
  },
  {
   "cell_type": "code",
   "execution_count": 41,
   "id": "777ad957-d62a-4a53-8eb4-cc8e032ad958",
   "metadata": {},
   "outputs": [
    {
     "data": {
      "text/plain": [
       "1"
      ]
     },
     "execution_count": 41,
     "metadata": {},
     "output_type": "execute_result"
    }
   ],
   "source": [
    "arr = [\"gfg\", \"for\", \"geeks\", \"geeks\", \"for\"]\n",
    "del_cons_words(arr)"
   ]
  },
  {
   "cell_type": "markdown",
   "id": "6a30b235-60da-4170-b03f-fee8ee4d8bb5",
   "metadata": {},
   "source": [
    "### Largest Rectangular Area in a Histogram"
   ]
  },
  {
   "cell_type": "code",
   "execution_count": 44,
   "id": "9638c10f-38bd-4649-a94b-93e8194991f0",
   "metadata": {},
   "outputs": [],
   "source": [
    "def largerst_area_hist(arr):\n",
    "    n = len(arr)\n",
    "    s = []\n",
    "    max_area = 0\n",
    "    \n",
    "    for i, height in enumerate(arr):\n",
    "        start = i\n",
    "        \n",
    "        while s and height < s[-1][0] :\n",
    "            h, j = s.pop()\n",
    "            \n",
    "            w = i - j\n",
    "            a = h * w\n",
    "            max_area = max(max_area, a)\n",
    "            start = j\n",
    "        \n",
    "        s.append((height, start))\n",
    "        \n",
    "    while s:\n",
    "        h, j = s.pop()\n",
    "        w = n - j\n",
    "        a = h * w\n",
    "        \n",
    "        max_area = max(max_area, a)\n",
    "    return max_area\n",
    "                 "
   ]
  },
  {
   "cell_type": "code",
   "execution_count": 45,
   "id": "64ed28d7-8ed1-494b-bb31-c3cab8174d55",
   "metadata": {},
   "outputs": [
    {
     "data": {
      "text/plain": [
       "100"
      ]
     },
     "execution_count": 45,
     "metadata": {},
     "output_type": "execute_result"
    }
   ],
   "source": [
    "arr = [60, 20, 50, 40, 10, 50, 60]\n",
    "largerst_area_hist(arr)"
   ]
  },
  {
   "cell_type": "markdown",
   "id": "e3f1cd58-9f73-4724-a821-9b1835a8f841",
   "metadata": {},
   "source": [
    "### Sum of Max of Subarrays"
   ]
  },
  {
   "cell_type": "code",
   "execution_count": 46,
   "id": "0b65e2a3-8f50-41d1-bf6d-6c3c9f5f4581",
   "metadata": {},
   "outputs": [],
   "source": [
    "def sum_of_max(arr):\n",
    "    \n",
    "    res = 0\n",
    "    n = len(arr)\n",
    "    \n",
    "    for i in range(n):\n",
    "        curr = arr[i]\n",
    "        for j in range(i, n):\n",
    "            curr = max(curr, arr[j])\n",
    "            \n",
    "            res += curr\n",
    "    return res"
   ]
  },
  {
   "cell_type": "code",
   "execution_count": 47,
   "id": "e33ebb25-2b2d-4ad3-b1fd-2e3098bcf92b",
   "metadata": {},
   "outputs": [
    {
     "data": {
      "text/plain": [
       "15"
      ]
     },
     "execution_count": 47,
     "metadata": {},
     "output_type": "execute_result"
    }
   ],
   "source": [
    "arr = [1, 3, 2]\n",
    "sum_of_max(arr)"
   ]
  },
  {
   "cell_type": "code",
   "execution_count": 52,
   "id": "6d0923d0-17ef-43ed-9fb6-98185bbd2777",
   "metadata": {},
   "outputs": [],
   "source": [
    "def sum_of_max_2(arr):\n",
    "    n = len(arr)\n",
    "    s = []\n",
    "    left =  [0] * n\n",
    "    right = [0] * n\n",
    "    res = 0\n",
    "    \n",
    "    for i in range(n):\n",
    "        while s and arr[s[-1]] < arr[i]:\n",
    "            s.pop()\n",
    "        \n",
    "        left[i] = (i+1) if not s else (i - s[-1])\n",
    "        \n",
    "        s.append(i)\n",
    "    s.clear()\n",
    "    \n",
    "    for i in range(n-1, -1, -1):\n",
    "        while s and arr[s[-1]] <= arr[i]:\n",
    "            s.pop()\n",
    "            \n",
    "        right[i] = (n-i) if not s else (s[-1] - i)\n",
    "        \n",
    "        s.append(i)\n",
    "    \n",
    "    \n",
    "    for i in range(n):\n",
    "        res += arr[i] * left[i] * right[i]\n",
    "    \n",
    "    return res"
   ]
  },
  {
   "cell_type": "code",
   "execution_count": 53,
   "id": "7eff60eb-42fc-48b8-8d68-01100685904a",
   "metadata": {},
   "outputs": [
    {
     "data": {
      "text/plain": [
       "15"
      ]
     },
     "execution_count": 53,
     "metadata": {},
     "output_type": "execute_result"
    }
   ],
   "source": [
    "arr = [1, 3, 2]\n",
    "sum_of_max_2(arr)"
   ]
  },
  {
   "cell_type": "markdown",
   "id": "dcfae490-4529-4df2-9aed-d11c14618e54",
   "metadata": {},
   "source": [
    "### Design a stack that supports getMin() in O(1) time"
   ]
  },
  {
   "cell_type": "code",
   "execution_count": 55,
   "id": "395c29fd-f438-4a5a-9794-dd8be0e7ffd2",
   "metadata": {},
   "outputs": [],
   "source": [
    "# Python program to implement a stack that supports\n",
    "# all operations in O(1) time and O(1) extra space.\n",
    "\n",
    "class SpecialStack:\n",
    "    def __init__(self):\n",
    "        self.s = []\n",
    "        self.minEle = -1\n",
    "\n",
    "    # Add an element to the top of Stack\n",
    "    def push(self, x):\n",
    "        if not self.s:\n",
    "            self.minEle = x\n",
    "            self.s.append(x)\n",
    "        # If new number is less than minEle\n",
    "        elif x < self.minEle:\n",
    "            self.s.append(2 * x - self.minEle)\n",
    "            self.minEle = x\n",
    "        else:\n",
    "            self.s.append(x)\n",
    "\n",
    "    # Remove the top element from the Stack\n",
    "    def pop(self):\n",
    "        if not self.s:\n",
    "            return\n",
    "\n",
    "        top = self.s.pop()\n",
    "\n",
    "        # Minimum will change, if the minimum element\n",
    "        # of the stack is being removed.\n",
    "        if top < self.minEle:\n",
    "            self.minEle = 2 * self.minEle - top\n",
    "\n",
    "    # Returns top element of Stack\n",
    "    def peek(self):\n",
    "        if not self.s:\n",
    "            return -1\n",
    "\n",
    "        top = self.s[-1]\n",
    "\n",
    "        # If minEle > top means minEle stores value of top.\n",
    "        return self.minEle if self.minEle > top else top\n",
    "\n",
    "    # Finds minimum element of Stack\n",
    "    def getMin(self):\n",
    "        if not self.s:\n",
    "            return -1\n",
    "\n",
    "        # variable minEle stores the minimum element\n",
    "        # in the stack.\n",
    "        return self.minEle\n"
   ]
  },
  {
   "cell_type": "code",
   "execution_count": 57,
   "id": "6b4f59dc-d723-4234-a8b9-87383707398f",
   "metadata": {},
   "outputs": [
    {
     "name": "stdout",
     "output_type": "stream",
     "text": [
      "3 2 1 "
     ]
    }
   ],
   "source": [
    "ss = SpecialStack()\n",
    "# Function calls\n",
    "ss.push(2)\n",
    "ss.push(3)\n",
    "print(ss.peek(), end=\" \")\n",
    "ss.pop()\n",
    "print(ss.getMin(), end=\" \")\n",
    "ss.push(1)\n",
    "print(ss.getMin(), end=\" \")"
   ]
  },
  {
   "cell_type": "markdown",
   "id": "e8128635-b72e-49d5-8762-bf7850b27555",
   "metadata": {},
   "source": [
    "### Longest Valid Parentheses Substring"
   ]
  },
  {
   "cell_type": "code",
   "execution_count": 62,
   "id": "4d37ed9b-181f-438e-87b9-b43dec4b4f93",
   "metadata": {},
   "outputs": [
    {
     "name": "stdout",
     "output_type": "stream",
     "text": [
      "4\n"
     ]
    }
   ],
   "source": [
    "# Python program to find length of the \n",
    "# longest valid substring \n",
    "\n",
    "def maxLength(s):\n",
    "    maxLen = 0\n",
    "    \n",
    "    # Left to Right Traversal\n",
    "    open = close = 0\n",
    "    for ch in s:\n",
    "        if ch == '(':\n",
    "            open += 1\n",
    "        elif ch == ')':\n",
    "            close += 1\n",
    "        \n",
    "        if open == close:\n",
    "            maxLen = max(maxLen, 2 * close)\n",
    "        elif close > open:\n",
    "            open = close = 0\n",
    "    \n",
    "    # Right to Left Traversal\n",
    "    open = close = 0\n",
    "    for ch in reversed(s):\n",
    "        if ch == '(':\n",
    "            open += 1\n",
    "        elif ch == ')':\n",
    "            close += 1\n",
    "        \n",
    "        if open == close:\n",
    "            maxLen = max(maxLen, 2 * open)\n",
    "        elif open > close:\n",
    "            open = close = 0\n",
    "    \n",
    "    return maxLen\n",
    "\n",
    "if __name__ == \"__main__\":\n",
    "    s = \")()())\"\n",
    "    print(maxLength(s))\n"
   ]
  },
  {
   "cell_type": "markdown",
   "id": "2a03d4d5-92f3-4431-9941-96da4e69ee77",
   "metadata": {},
   "source": [
    "### Expression contains redundant bracket or not"
   ]
  },
  {
   "cell_type": "code",
   "execution_count": 65,
   "id": "af31e235-7bab-4e11-a9f8-129482f748c6",
   "metadata": {},
   "outputs": [],
   "source": [
    "def check_redundant_bracket(s):\n",
    "    stk = []\n",
    "    \n",
    "    for c in s:\n",
    "        if c in ')':\n",
    "            flag = False\n",
    "            \n",
    "            top = stk[-1]\n",
    "            while stk and top != '(':\n",
    "                if top in ['+', '-', '*', '/']:\n",
    "                    flag = True\n",
    "                stk.pop()\n",
    "                if stk:\n",
    "                    top = stk[-1]\n",
    "            if flag == False:\n",
    "                return True\n",
    "        else:\n",
    "            stk.append(c)\n",
    "    \n",
    "    return False"
   ]
  },
  {
   "cell_type": "code",
   "execution_count": 66,
   "id": "0dbff879-d83a-48f3-8cc1-b2836ef27789",
   "metadata": {},
   "outputs": [
    {
     "data": {
      "text/plain": [
       "True"
      ]
     },
     "execution_count": 66,
     "metadata": {},
     "output_type": "execute_result"
    }
   ],
   "source": [
    "s = \"((a+b))\"\n",
    "check_redundant_bracket(s)"
   ]
  },
  {
   "cell_type": "markdown",
   "id": "130c3e3a-3efb-4ba5-8ce5-d7b5c731ead7",
   "metadata": {},
   "source": [
    "### Maximum people a person can see while standing in a line in both direction"
   ]
  },
  {
   "cell_type": "code",
   "execution_count": 67,
   "id": "7157438d-5b80-4f2a-97a5-070ffa404e73",
   "metadata": {},
   "outputs": [],
   "source": [
    "def left_index(arr, lh, n):\n",
    "    s = []\n",
    "    for i in range(n):\n",
    "        while s and arr[s[-1]] < arr[i]:\n",
    "            s.pop()\n",
    "        \n",
    "        if s:\n",
    "            lh[i] = s[-1]\n",
    "        else:\n",
    "            lh[i] = -1\n",
    "        s.append(i)\n",
    "    return lh\n",
    "\n",
    "def right_index(arr, rh, n):\n",
    "    s = []\n",
    "    for i in range(n-1, -1, -1):\n",
    "        while s and arr[s[-1]] < arr[i]:\n",
    "            s.pop()\n",
    "        \n",
    "        if s:\n",
    "            rh[i] = s[-1]\n",
    "        else:\n",
    "            rh[i] = -1\n",
    "        s.append(i)\n",
    "\n",
    "    return rh\n",
    "\n",
    "def get_max_people(arr):\n",
    "    n = len(arr)\n",
    "    lh = [0] * n\n",
    "    rh = [0] * n\n",
    "    \n",
    "    lh = left_index(arr, lh, n)\n",
    "    rh = right_index(arr, rh, n)\n",
    "    \n",
    "    res = 0\n",
    "    \n",
    "    for i in range(n):\n",
    "        res = max(res, rh[i] - lh[i] - 1)\n",
    "    \n",
    "    return res"
   ]
  },
  {
   "cell_type": "code",
   "execution_count": 68,
   "id": "9685e7fd-f650-43de-b996-d26101840114",
   "metadata": {},
   "outputs": [
    {
     "data": {
      "text/plain": [
       "6"
      ]
     },
     "execution_count": 68,
     "metadata": {},
     "output_type": "execute_result"
    }
   ],
   "source": [
    "heights = [6, 2, 5, 4, 5, 1, 6 ]\n",
    "get_max_people(heights)"
   ]
  },
  {
   "cell_type": "code",
   "execution_count": null,
   "id": "edf89329-4957-4b13-938b-27241fb9f4db",
   "metadata": {},
   "outputs": [],
   "source": []
  }
 ],
 "metadata": {
  "kernelspec": {
   "display_name": "Python 3 (ipykernel)",
   "language": "python",
   "name": "python3"
  },
  "language_info": {
   "codemirror_mode": {
    "name": "ipython",
    "version": 3
   },
   "file_extension": ".py",
   "mimetype": "text/x-python",
   "name": "python",
   "nbconvert_exporter": "python",
   "pygments_lexer": "ipython3",
   "version": "3.9.15"
  }
 },
 "nbformat": 4,
 "nbformat_minor": 5
}
