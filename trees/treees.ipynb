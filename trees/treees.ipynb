{
 "cells": [
  {
   "cell_type": "markdown",
   "id": "a4f67951-7968-4268-80c7-6092b92809c3",
   "metadata": {},
   "source": [
    "### Tree"
   ]
  },
  {
   "cell_type": "code",
   "execution_count": 3,
   "id": "d3b7ad53-e3d8-4a24-ac02-459f623c001f",
   "metadata": {},
   "outputs": [],
   "source": [
    "class Node:\n",
    "    def __init__(self, v):\n",
    "        self.data = v\n",
    "        self.left = None\n",
    "        self.right = None"
   ]
  },
  {
   "cell_type": "code",
   "execution_count": 4,
   "id": "d76a928a-34cc-4cec-a5df-da668f4eace9",
   "metadata": {},
   "outputs": [],
   "source": [
    "root = Node(1)\n",
    "root.left = Node(2)\n",
    "root.right = Node(3)\n",
    "root.left.left = Node(4)\n",
    "root.left.right = Node(5)\n",
    "root.right.right = Node(6)"
   ]
  },
  {
   "cell_type": "markdown",
   "id": "ad13df7a-a8c2-4674-b3e3-2d371cb137a4",
   "metadata": {},
   "source": [
    "### Inorder Traversal of Binary Tree"
   ]
  },
  {
   "cell_type": "code",
   "execution_count": 5,
   "id": "5092ab50-9177-454a-a63e-2961b0bbe899",
   "metadata": {},
   "outputs": [],
   "source": [
    "def inorder_rec(node):\n",
    "    if node is None:\n",
    "        return\n",
    "    inorder_rec(node.left)\n",
    "    print(node.data, end = \" \")\n",
    "    inorder_rec(node.right)"
   ]
  },
  {
   "cell_type": "code",
   "execution_count": 6,
   "id": "9d4f0c20-ec04-40fd-89a0-1cd1b38e9e8c",
   "metadata": {},
   "outputs": [
    {
     "name": "stdout",
     "output_type": "stream",
     "text": [
      "4 2 5 1 3 6 "
     ]
    }
   ],
   "source": [
    "inorder_rec(root)"
   ]
  },
  {
   "cell_type": "markdown",
   "id": "0905948b-925d-4d6e-a622-a5c0854e589c",
   "metadata": {},
   "source": [
    "### Inorder Tree Traversal Iterative"
   ]
  },
  {
   "cell_type": "code",
   "execution_count": 7,
   "id": "fbce1369-b4d7-4883-bc40-6645223d024c",
   "metadata": {},
   "outputs": [],
   "source": [
    "def inorder_interative(node):\n",
    "    res = []\n",
    "    s = []\n",
    "    curr = node\n",
    "    \n",
    "    while curr or s:\n",
    "        while curr:\n",
    "            s.append(curr)\n",
    "            curr = curr.left\n",
    "        \n",
    "        curr = s.pop()\n",
    "        res.append(curr.data)\n",
    "        curr = curr.right\n",
    "\n",
    "    return res"
   ]
  },
  {
   "cell_type": "code",
   "execution_count": 8,
   "id": "ab8cca28-c450-489c-aac1-e5e0bdde21d6",
   "metadata": {},
   "outputs": [
    {
     "data": {
      "text/plain": [
       "[4, 2, 5, 1, 3, 6]"
      ]
     },
     "execution_count": 8,
     "metadata": {},
     "output_type": "execute_result"
    }
   ],
   "source": [
    "inorder_interative(root)"
   ]
  },
  {
   "cell_type": "markdown",
   "id": "1c2b2ddd-a445-41fe-899a-b5279b3c8858",
   "metadata": {},
   "source": [
    "### Preorder Traversal of Binary Tree"
   ]
  },
  {
   "cell_type": "code",
   "execution_count": 9,
   "id": "09066e22-aece-4489-a36a-aff05c7684a1",
   "metadata": {},
   "outputs": [],
   "source": [
    "def preorder_rec(node):\n",
    "    if node is None:\n",
    "        return\n",
    "    print(node.data, end = \" \")\n",
    "    preorder_rec(node.left)\n",
    "    preorder_rec(node.right)\n",
    "    "
   ]
  },
  {
   "cell_type": "code",
   "execution_count": 10,
   "id": "c11f9d7a-bada-42c6-b6b9-3cc401088f8b",
   "metadata": {},
   "outputs": [
    {
     "name": "stdout",
     "output_type": "stream",
     "text": [
      "1 2 4 5 3 6 "
     ]
    }
   ],
   "source": [
    "preorder_rec(root)"
   ]
  },
  {
   "cell_type": "markdown",
   "id": "a20e3db6-11af-48a8-a5ae-41b8006b676e",
   "metadata": {},
   "source": [
    "### Preorder Iterative"
   ]
  },
  {
   "cell_type": "code",
   "execution_count": 11,
   "id": "aea8a8e8-21ef-4c45-bde5-9d421e453f63",
   "metadata": {},
   "outputs": [],
   "source": [
    "def preorder_iterative(node):\n",
    "    if node is None:\n",
    "        return \n",
    "    s = []\n",
    "    res = []\n",
    "    s.append(node)\n",
    "    while s:\n",
    "        curr = s.pop()\n",
    "        res.append(curr.data)\n",
    "        if curr.right:\n",
    "            s.append(curr.right)\n",
    "        if curr.left:\n",
    "            s.append(curr.left)\n",
    "    return res"
   ]
  },
  {
   "cell_type": "code",
   "execution_count": 12,
   "id": "82a93d81-3c9b-4798-8a28-40390f2ffb0a",
   "metadata": {},
   "outputs": [
    {
     "data": {
      "text/plain": [
       "[1, 2, 4, 5, 3, 6]"
      ]
     },
     "execution_count": 12,
     "metadata": {},
     "output_type": "execute_result"
    }
   ],
   "source": [
    "preorder_iterative(root)"
   ]
  },
  {
   "cell_type": "markdown",
   "id": "6389f16a-c937-4672-b8d3-5b34fd780f3a",
   "metadata": {},
   "source": [
    "### Post Order"
   ]
  },
  {
   "cell_type": "code",
   "execution_count": 13,
   "id": "1154c7bd-bc21-4608-90fc-3c35c674592f",
   "metadata": {},
   "outputs": [],
   "source": [
    "def post_order(node):\n",
    "    if node is None:\n",
    "        return\n",
    "    post_order(node.left)\n",
    "    post_order(node.right)\n",
    "    print(node.data, end = \" \")"
   ]
  },
  {
   "cell_type": "code",
   "execution_count": 14,
   "id": "e376f935-0603-4608-ba76-845454fa6b57",
   "metadata": {},
   "outputs": [
    {
     "name": "stdout",
     "output_type": "stream",
     "text": [
      "4 5 2 6 3 1 "
     ]
    }
   ],
   "source": [
    "post_order(root)"
   ]
  },
  {
   "cell_type": "markdown",
   "id": "ee538fea-6722-4134-9014-12d342b14b1b",
   "metadata": {},
   "source": [
    "### Post order Iterative 1"
   ]
  },
  {
   "cell_type": "code",
   "execution_count": 15,
   "id": "9c5a93b3-fcb1-4d12-9081-cb67fd2fbc84",
   "metadata": {},
   "outputs": [],
   "source": [
    "def post_order_iterative(root):\n",
    "    if root is None:\n",
    "        return []\n",
    "\n",
    "    stack1 = [root]\n",
    "    stack2 = []\n",
    "\n",
    "    while stack1:\n",
    "        node = stack1.pop()\n",
    "        stack2.append(node)\n",
    "\n",
    "        if node.left:\n",
    "            stack1.append(node.left)\n",
    "        if node.right:\n",
    "            stack1.append(node.right)\n",
    "\n",
    "    result = [node.data for node in reversed(stack2)]\n",
    "    return result"
   ]
  },
  {
   "cell_type": "code",
   "execution_count": 16,
   "id": "5c2d5c57-c34e-4482-8172-28d0d39fdcaf",
   "metadata": {},
   "outputs": [
    {
     "data": {
      "text/plain": [
       "[4, 5, 2, 6, 3, 1]"
      ]
     },
     "execution_count": 16,
     "metadata": {},
     "output_type": "execute_result"
    }
   ],
   "source": [
    "post_order_iterative(root)"
   ]
  },
  {
   "cell_type": "code",
   "execution_count": 17,
   "id": "05cea92d-b218-4007-a051-487987776ea7",
   "metadata": {},
   "outputs": [],
   "source": [
    "def post_order_iterative_one_stack(root):\n",
    "    result = []\n",
    "    stack = []\n",
    "    last_visited = None\n",
    "    current = root\n",
    "\n",
    "    while stack or current:\n",
    "        if current:\n",
    "            stack.append(current)\n",
    "            current = current.left\n",
    "        else:\n",
    "            peek_node = stack[-1]\n",
    "            # if right child exists and traversing node from left child, move right\n",
    "            if peek_node.right and last_visited != peek_node.right:\n",
    "                current = peek_node.right\n",
    "            else:\n",
    "                result.append(peek_node.data)\n",
    "                last_visited = stack.pop()\n",
    "    return result"
   ]
  },
  {
   "cell_type": "code",
   "execution_count": 18,
   "id": "cd8c1840-6111-46ba-b049-32240525a0f9",
   "metadata": {},
   "outputs": [
    {
     "data": {
      "text/plain": [
       "[4, 5, 2, 6, 3, 1]"
      ]
     },
     "execution_count": 18,
     "metadata": {},
     "output_type": "execute_result"
    }
   ],
   "source": [
    "post_order_iterative_one_stack(root)"
   ]
  },
  {
   "cell_type": "markdown",
   "id": "9b65cb2b-4561-444c-bcd0-0e207b496ec5",
   "metadata": {},
   "source": [
    "### Level Order Traversal"
   ]
  },
  {
   "cell_type": "code",
   "execution_count": 19,
   "id": "a68b042f-ce60-4407-bbdf-e89f0b64c679",
   "metadata": {},
   "outputs": [],
   "source": [
    "def level_order_helper(root, level, res):\n",
    "    if root is None:\n",
    "        return\n",
    "    \n",
    "    if len(res) <= level:\n",
    "        res.append([])\n",
    "    \n",
    "    res[level].append(root.data)\n",
    "    level_order_helper(root.left, level + 1, res)\n",
    "    level_order_helper(root.right, level + 1, res)\n",
    "    \n",
    "\n",
    "def level_order_traversal(root):\n",
    "    res = []\n",
    "    level_order_helper(root, 0, res)\n",
    "    return res"
   ]
  },
  {
   "cell_type": "code",
   "execution_count": 20,
   "id": "ba3f612b-cfad-4768-b87c-afa6936f21fe",
   "metadata": {},
   "outputs": [
    {
     "data": {
      "text/plain": [
       "[[1], [2, 3], [4, 5, 6]]"
      ]
     },
     "execution_count": 20,
     "metadata": {},
     "output_type": "execute_result"
    }
   ],
   "source": [
    "level_order_traversal(root)"
   ]
  },
  {
   "cell_type": "markdown",
   "id": "ffafe116-07d2-4ef0-be08-d468ba5485cd",
   "metadata": {},
   "source": [
    "### Level Order Traversal Iterative"
   ]
  },
  {
   "cell_type": "code",
   "execution_count": 21,
   "id": "66b466ea-c2a0-4974-ae20-4f96a1998532",
   "metadata": {},
   "outputs": [],
   "source": [
    "def level_order_traversal_iterative(root):\n",
    "    q = []\n",
    "    res = []\n",
    "    \n",
    "    q.append(root)\n",
    "    \n",
    "    while q:\n",
    "        res.append([])\n",
    "        len_q = len(q)\n",
    "        \n",
    "        for _ in range(len_q):\n",
    "            node = q.pop(0)\n",
    "            res[len_q - 1].append(node.data)\n",
    "            \n",
    "            if node.left:\n",
    "                q.append(node.left)\n",
    "            if node.right:\n",
    "                q.append(node.right)\n",
    "    return res\n",
    "        "
   ]
  },
  {
   "cell_type": "code",
   "execution_count": 22,
   "id": "b8a8fa94-4207-4f4c-baf0-e31cb7713891",
   "metadata": {},
   "outputs": [
    {
     "data": {
      "text/plain": [
       "[[1], [2, 3], [4, 5, 6]]"
      ]
     },
     "execution_count": 22,
     "metadata": {},
     "output_type": "execute_result"
    }
   ],
   "source": [
    "level_order_traversal_iterative(root)"
   ]
  },
  {
   "cell_type": "markdown",
   "id": "eb1ecadd-2fc3-4e43-9636-156ffc6da48e",
   "metadata": {},
   "source": [
    "### Maximum Depth of Binary Tree"
   ]
  },
  {
   "cell_type": "code",
   "execution_count": 23,
   "id": "15d0f148-3fe1-44c8-9d91-bceade1d4d7b",
   "metadata": {},
   "outputs": [],
   "source": [
    "def print_height(root):\n",
    "    if root is None:\n",
    "        return -1\n",
    "    \n",
    "    lh = print_height(root.left)\n",
    "    rh = print_height(root.right)\n",
    "    \n",
    "    return max(lh, rh) + 1"
   ]
  },
  {
   "cell_type": "code",
   "execution_count": 24,
   "id": "deef57e1-90d9-4c08-a9ed-ca1b204b8978",
   "metadata": {},
   "outputs": [
    {
     "data": {
      "text/plain": [
       "2"
      ]
     },
     "execution_count": 24,
     "metadata": {},
     "output_type": "execute_result"
    }
   ],
   "source": [
    "print_height(root)"
   ]
  },
  {
   "cell_type": "markdown",
   "id": "ea3a5181-7f1f-4666-837e-b3d98fa57c7f",
   "metadata": {},
   "source": [
    "## Basic Operations on BST"
   ]
  },
  {
   "cell_type": "markdown",
   "id": "d500b8bc-8b95-4037-a655-235ff446be77",
   "metadata": {},
   "source": [
    "### Insertion in Binary Search Tree (BST)"
   ]
  },
  {
   "cell_type": "markdown",
   "id": "4a7aafcd-c4db-4e0a-a973-299eceee6dab",
   "metadata": {},
   "source": [
    "A new key is always inserted at the leaf by maintaining the property of the binary search tree. We start searching for a key from the root until we hit a leaf node. Once a leaf node is found, the new node is added as a child of the leaf node. The below steps are followed while we try to insert a node into a binary search tree:\n",
    "\n",
    "Initilize the current node (say, currNode or node) with root node\n",
    "- Compare the key with the current node.\n",
    "- Move left if the key is less than or equal to the current node value.\n",
    "- Move right if the key is greater than current node value.\n",
    "- Repeat steps 2 and 3 until you reach a leaf node.\n",
    "- Attach the new key as a left or right child based on the comparison with the leaf node’s value."
   ]
  },
  {
   "cell_type": "markdown",
   "id": "c8c60833-f483-45ee-bd6a-873cc23dbc50",
   "metadata": {},
   "source": [
    "#### Insertion in Binary Search Tree using Recursion : TC O(h)"
   ]
  },
  {
   "cell_type": "code",
   "execution_count": 28,
   "id": "3c59e286-5e0a-4454-baa2-cd39da12c46e",
   "metadata": {},
   "outputs": [],
   "source": [
    "def insert(root, key):\n",
    "    if root is None:\n",
    "        return Node(key)\n",
    "    elif root.data == key:\n",
    "        return root\n",
    "    elif key < root.data:\n",
    "        root.left = insert(root.left, key)\n",
    "    else:\n",
    "        root.right = insert(root.right, key)\n",
    "    return root"
   ]
  },
  {
   "cell_type": "code",
   "execution_count": 29,
   "id": "78ff3228-d626-4c60-aa08-49a98ab4af03",
   "metadata": {},
   "outputs": [],
   "source": [
    "r = Node(50)\n",
    "r = insert(r, 30)\n",
    "r = insert(r, 20)\n",
    "r = insert(r, 40)\n",
    "r = insert(r, 70)\n",
    "r = insert(r, 60)\n",
    "r = insert(r, 80)"
   ]
  },
  {
   "cell_type": "code",
   "execution_count": 30,
   "id": "ef66bbb8-a812-41d8-be31-3eaa9e8ef28f",
   "metadata": {},
   "outputs": [
    {
     "name": "stdout",
     "output_type": "stream",
     "text": [
      "20 30 40 50 60 70 80 "
     ]
    }
   ],
   "source": [
    "inorder_rec(r)"
   ]
  },
  {
   "cell_type": "markdown",
   "id": "aca59b4d-faf5-4748-b585-26ccb1458914",
   "metadata": {},
   "source": [
    "#### Insertion in Binary Search Tree using Iterative approach"
   ]
  },
  {
   "cell_type": "code",
   "execution_count": 36,
   "id": "35fd49ab-a94f-4ea7-b454-9bbb835a5b33",
   "metadata": {},
   "outputs": [],
   "source": [
    "def insert_it(root, key):\n",
    "    temp = Node(key)\n",
    "    \n",
    "    parent = None\n",
    "    curr = root\n",
    "    while curr is not None:\n",
    "        parent = curr\n",
    "        if curr.data < key:\n",
    "            curr = curr.right\n",
    "        else:\n",
    "            curr = curr.left\n",
    "    \n",
    "    if parent.data < key:\n",
    "        parent.right = temp\n",
    "    elif parent.data > key:\n",
    "        parent.left = temp\n",
    "    return root"
   ]
  },
  {
   "cell_type": "code",
   "execution_count": 37,
   "id": "2f2e469f-ee5d-45b2-971b-647b18d53c78",
   "metadata": {},
   "outputs": [],
   "source": [
    "r = Node(50)\n",
    "r = insert_it(r, 30)\n",
    "r = insert_it(r, 20)\n",
    "r = insert_it(r, 40)\n",
    "r = insert_it(r, 70)\n",
    "r = insert_it(r, 60)\n",
    "r = insert_it(r, 80)"
   ]
  },
  {
   "cell_type": "code",
   "execution_count": 38,
   "id": "9216e49b-6f13-4b58-99e8-4c2bdcc75a24",
   "metadata": {},
   "outputs": [
    {
     "data": {
      "text/plain": [
       "[20, 30, 40, 50, 60, 70, 80]"
      ]
     },
     "execution_count": 38,
     "metadata": {},
     "output_type": "execute_result"
    }
   ],
   "source": [
    "inorder_interative(r)"
   ]
  },
  {
   "cell_type": "markdown",
   "id": "30f85e6d-c8cb-4a12-9f58-52451455a9d1",
   "metadata": {},
   "source": [
    "### Searching in Binary Search Tree (BST)"
   ]
  },
  {
   "cell_type": "code",
   "execution_count": 48,
   "id": "3cc871fe-4046-4592-b4a8-7af75dd33b64",
   "metadata": {},
   "outputs": [],
   "source": [
    "def search_bst(root, key):\n",
    "    if root is None:\n",
    "        return -1\n",
    "    elif root.data == key:\n",
    "        return \"Found!!!\"\n",
    "    elif root.data < key:\n",
    "        return search_bst(root.right, key)\n",
    "    else:\n",
    "        return search_bst(root.left, key)"
   ]
  },
  {
   "cell_type": "code",
   "execution_count": 51,
   "id": "2e9411a8-1925-47f6-9fea-4a27cf747ca6",
   "metadata": {},
   "outputs": [
    {
     "data": {
      "text/plain": [
       "'Found!!!'"
      ]
     },
     "execution_count": 51,
     "metadata": {},
     "output_type": "execute_result"
    }
   ],
   "source": [
    "search_bst(r, 40)"
   ]
  },
  {
   "cell_type": "markdown",
   "id": "97e66fb4-55e8-42ee-b904-97d752fbb772",
   "metadata": {},
   "source": [
    "### Deletion in Binary Search Tree (BST)"
   ]
  },
  {
   "cell_type": "markdown",
   "id": "070cf9b2-9cbb-4c52-9209-0fe6669ffa47",
   "metadata": {},
   "source": [
    "#### Case 1. Delete a Leaf Node in BST"
   ]
  },
  {
   "cell_type": "code",
   "execution_count": 60,
   "id": "5833a585-45c0-4a4c-a46d-1e5a17ae5e19",
   "metadata": {},
   "outputs": [],
   "source": [
    "def get_in_successor(root):\n",
    "    curr = root.right\n",
    "    while curr is not None and curr.left is not None:\n",
    "        curr = curr.left\n",
    "    return curr\n",
    "\n",
    "def del_node(root, key):\n",
    "    if root is None:\n",
    "        return root\n",
    "    if root.data < key:\n",
    "        root.right = del_node(root.right, key)\n",
    "    elif root.data > key:\n",
    "        root.right = del_node(root.left, key)\n",
    "    else:\n",
    "        if root.left is None:\n",
    "            return root.right\n",
    "        if root.right is None:\n",
    "            return root.left\n",
    "        \n",
    "        succ = get_in_successor(root)\n",
    "        root.data = succ.data\n",
    "        \n",
    "        root.right = del_node(root.right, succ.data)\n",
    "    \n",
    "    return root\n",
    "        "
   ]
  },
  {
   "cell_type": "code",
   "execution_count": 64,
   "id": "8ea3f23f-dbbc-43b2-bbd2-910ea4d8f57e",
   "metadata": {},
   "outputs": [],
   "source": [
    "root = Node(10)\n",
    "root.left = Node(5)\n",
    "root.right = Node(15)\n",
    "root.right.left = Node(12)\n",
    "root.right.right = Node(18)\n",
    "x = 15"
   ]
  },
  {
   "cell_type": "code",
   "execution_count": 65,
   "id": "3a2eed1d-8f66-4bd6-aec2-80a3a340a4dd",
   "metadata": {},
   "outputs": [
    {
     "name": "stdout",
     "output_type": "stream",
     "text": [
      "5 10 12 15 18 "
     ]
    }
   ],
   "source": [
    "inorder_rec(root)"
   ]
  },
  {
   "cell_type": "code",
   "execution_count": 66,
   "id": "62813f53-9bb3-4166-bf30-9f9c617c87d8",
   "metadata": {},
   "outputs": [],
   "source": [
    "root = del_node(root, x)"
   ]
  },
  {
   "cell_type": "code",
   "execution_count": 67,
   "id": "70721cfd-dfe1-4cbb-8dfa-330d5c8f3989",
   "metadata": {},
   "outputs": [
    {
     "name": "stdout",
     "output_type": "stream",
     "text": [
      "5 10 12 18 "
     ]
    }
   ],
   "source": [
    "inorder_rec(root)"
   ]
  },
  {
   "cell_type": "markdown",
   "id": "b1325874-abb9-4777-926d-d4e9215dc0c1",
   "metadata": {},
   "source": [
    "### Binary Search Tree | Set 3 (Iterative Delete)"
   ]
  },
  {
   "cell_type": "code",
   "execution_count": 68,
   "id": "8be7e20b-93f4-40ad-a8bd-284fbaa0f879",
   "metadata": {},
   "outputs": [],
   "source": [
    "def deleteNode(root, key):\n",
    "    parent = None\n",
    "    curr = root\n",
    "\n",
    "    # Step 1: Find the node\n",
    "    while curr and curr.data != key:\n",
    "        parent = curr\n",
    "        if key < curr.data:\n",
    "            curr = curr.left\n",
    "        else:\n",
    "            curr = curr.right\n",
    "\n",
    "    if not curr:\n",
    "        return root  # Node not found\n",
    "\n",
    "    # CASE 1: Node is a LEAF\n",
    "    if not curr.left and not curr.right:\n",
    "        if not parent:\n",
    "            return None  # Deleting the root (which is a leaf)\n",
    "        if parent.left == curr:\n",
    "            parent.left = None\n",
    "        else:\n",
    "            parent.right = None\n",
    "\n",
    "    # CASE 2: Node has ONLY ONE child\n",
    "    elif curr.left and not curr.right:\n",
    "        # Only left child\n",
    "        if not parent:\n",
    "            return curr.left  # Deleting root\n",
    "        if parent.left == curr:\n",
    "            parent.left = curr.left\n",
    "        else:\n",
    "            parent.right = curr.left\n",
    "\n",
    "    elif curr.right and not curr.left:\n",
    "        # Only right child\n",
    "        if not parent:\n",
    "            return curr.right  # Deleting root\n",
    "        if parent.left == curr:\n",
    "            parent.left = curr.right\n",
    "        else:\n",
    "            parent.right = curr.right\n",
    "\n",
    "    # CASE 3: Node has TWO children\n",
    "    else:\n",
    "        successor = get_in_successor(curr.right)\n",
    "        val = successor.data\n",
    "        root = deleteNode(root, successor.data)\n",
    "        curr.data = val\n",
    "\n",
    "    return root\n"
   ]
  },
  {
   "cell_type": "code",
   "execution_count": 72,
   "id": "6274cd78-967a-4dc3-b7fa-6f78791a3742",
   "metadata": {},
   "outputs": [
    {
     "name": "stdout",
     "output_type": "stream",
     "text": [
      "=== Case 1: Delete Leaf Node ===\n",
      "Inorder before deletion: \n",
      "5 10 15 \n",
      "Inorder after deletion: \n",
      "10 15 \n",
      "=== Case 2: Delete Node with One Child ===\n",
      "Inorder before deletion: \n",
      "5 10 15 20 \n",
      "Inorder after deletion: \n",
      "5 10 20 \n",
      "=== Case 3: Delete Node with Two Children ===\n",
      "Inorder before deletion: \n",
      "30 50 60 70 80 \n",
      "Inorder after deletion: \n",
      "30 80 60 70 "
     ]
    }
   ],
   "source": [
    "# CASE 1: Leaf Node\n",
    "print(\"=== Case 1: Delete Leaf Node ===\")\n",
    "root1 = Node(10)\n",
    "root1.left = Node(5)\n",
    "root1.right = Node(15)\n",
    "print(\"Inorder before deletion: \")\n",
    "inorder_rec(root1)\n",
    "root1 = deleteNode(root1, 5)\n",
    "print(\"\\nInorder after deletion: \")\n",
    "inorder_rec(root1)\n",
    "print()\n",
    "\n",
    "# CASE 2: Node with One Child\n",
    "print(\"=== Case 2: Delete Node with One Child ===\")\n",
    "root2 = Node(10)\n",
    "root2.left = Node(5)\n",
    "root2.right = Node(15)\n",
    "root2.right.right = Node(20)\n",
    "print(\"Inorder before deletion: \")\n",
    "inorder_rec(root2)\n",
    "root2 = deleteNode(root2, 15)\n",
    "print(\"\\nInorder after deletion: \")\n",
    "inorder_rec(root2)\n",
    "print()\n",
    "\n",
    "# CASE 3: Node with Two Children\n",
    "print(\"=== Case 3: Delete Node with Two Children ===\")\n",
    "root3 = Node(50)\n",
    "root3.left = Node(30)\n",
    "root3.right = Node(70)\n",
    "root3.right.left = Node(60)\n",
    "root3.right.right = Node(80)\n",
    "print(\"Inorder before deletion: \")\n",
    "inorder_rec(root3)\n",
    "root3 = deleteNode(root3, 50)\n",
    "print(\"\\nInorder after deletion: \")\n",
    "inorder_rec(root3)\n"
   ]
  },
  {
   "cell_type": "code",
   "execution_count": 70,
   "id": "475b9994-4c14-4f30-b819-2ddfc6a6891f",
   "metadata": {},
   "outputs": [
    {
     "name": "stdout",
     "output_type": "stream",
     "text": [
      "10 15 "
     ]
    }
   ],
   "source": [
    "inorder_rec(root1)"
   ]
  },
  {
   "cell_type": "markdown",
   "id": "8c5c7f1b-e7cb-438c-b30e-6f2b5280f0c1",
   "metadata": {},
   "source": [
    "### Minimum in a Binary Search Tree"
   ]
  },
  {
   "cell_type": "code",
   "execution_count": 73,
   "id": "01c91372-60b3-4593-9977-0ed897f9b750",
   "metadata": {},
   "outputs": [],
   "source": [
    "def min_bst(root):\n",
    "    if root is None:\n",
    "        return\n",
    "    curr = root\n",
    "    while curr and curr.left:\n",
    "        curr = curr.left\n",
    "    return curr.data"
   ]
  },
  {
   "cell_type": "code",
   "execution_count": 75,
   "id": "cb00ea75-451a-45c9-bcca-22aa6e92ad31",
   "metadata": {},
   "outputs": [],
   "source": [
    "root = Node(5)\n",
    "root.left = Node(4)\n",
    "root.right = Node(6)\n",
    "root.left.left = Node(3)\n",
    "root.right.right = Node(7)\n",
    "root.left.left.left = Node(1)"
   ]
  },
  {
   "cell_type": "code",
   "execution_count": 76,
   "id": "2f0403ce-8ffe-428c-bf2a-f854ccee1200",
   "metadata": {},
   "outputs": [
    {
     "data": {
      "text/plain": [
       "1"
      ]
     },
     "execution_count": 76,
     "metadata": {},
     "output_type": "execute_result"
    }
   ],
   "source": [
    "min_bst(root)"
   ]
  },
  {
   "cell_type": "markdown",
   "id": "ee152451-90dd-485b-8055-53a0f45f4afe",
   "metadata": {},
   "source": [
    "### Maximum in a Binary Search Tree"
   ]
  },
  {
   "cell_type": "code",
   "execution_count": 78,
   "id": "d22aed07-6659-447e-a8ec-ecd78796e37b",
   "metadata": {},
   "outputs": [],
   "source": [
    "def max_bst(root):\n",
    "    if root is None:\n",
    "        return\n",
    "    curr = root\n",
    "    while curr and curr.right:\n",
    "        curr = curr.right\n",
    "    return curr.data"
   ]
  },
  {
   "cell_type": "code",
   "execution_count": 79,
   "id": "0a16da30-cc05-44c1-b9b7-25772ac6484e",
   "metadata": {},
   "outputs": [
    {
     "data": {
      "text/plain": [
       "7"
      ]
     },
     "execution_count": 79,
     "metadata": {},
     "output_type": "execute_result"
    }
   ],
   "source": [
    "max_bst(root)"
   ]
  },
  {
   "cell_type": "markdown",
   "id": "4f1607f3-f1d3-4e7f-81eb-a46f059d0048",
   "metadata": {},
   "source": [
    "### Inorder Successor in Binary Search Tree"
   ]
  },
  {
   "cell_type": "code",
   "execution_count": 83,
   "id": "55087ea2-659c-44ce-8497-9ae4f3cc5568",
   "metadata": {},
   "outputs": [],
   "source": [
    "def get_inorder_succ(root, target):\n",
    "    if root is None:\n",
    "        return None\n",
    "    if root.data == target and root.right is not None:\n",
    "        temp = root.right\n",
    "        while temp.left is not None:\n",
    "            temp = temp.left\n",
    "        return temp.data\n",
    "    \n",
    "    succ = None\n",
    "    curr = root\n",
    "    while curr is not None:\n",
    "        if curr.data > target:\n",
    "            succ = curr\n",
    "            curr = curr.left\n",
    "        elif curr.data <= target:\n",
    "            curr = curr.right\n",
    "    \n",
    "    return succ.data"
   ]
  },
  {
   "cell_type": "code",
   "execution_count": 84,
   "id": "d86f5177-97d5-4127-bada-e541ef974472",
   "metadata": {},
   "outputs": [],
   "source": [
    "root = Node(20)\n",
    "root.left = Node(8)\n",
    "root.right = Node(22)\n",
    "root.left.left = Node(4)\n",
    "root.left.right = Node(12)\n",
    "root.left.right.left = Node(10)\n",
    "root.left.right.right = Node(14)\n",
    "\n",
    "target = 14"
   ]
  },
  {
   "cell_type": "code",
   "execution_count": 85,
   "id": "41e9bea9-9407-453d-8ba1-ad63bedbaac6",
   "metadata": {},
   "outputs": [
    {
     "data": {
      "text/plain": [
       "20"
      ]
     },
     "execution_count": 85,
     "metadata": {},
     "output_type": "execute_result"
    }
   ],
   "source": [
    "get_inorder_succ(root, target)"
   ]
  },
  {
   "cell_type": "markdown",
   "id": "a2f7dc98-d434-49f7-8f3f-21b85b3ce63d",
   "metadata": {},
   "source": [
    "### Inorder predecessor in Binary Search Tree"
   ]
  },
  {
   "cell_type": "code",
   "execution_count": 86,
   "id": "6f63a2bd-0288-439f-a498-47129d687f48",
   "metadata": {},
   "outputs": [],
   "source": [
    "def inorder_pred(root, target):\n",
    "    if root is None:\n",
    "        return None\n",
    "    \n",
    "    pred = None\n",
    "    curr = root\n",
    "    while curr is not None:\n",
    "        if target > curr.data:\n",
    "            pred = curr\n",
    "            curr = curr.right\n",
    "        \n",
    "        elif target < curr.data:\n",
    "            curr = curr.left\n",
    "        \n",
    "        else:\n",
    "            if curr.left is not None:\n",
    "                temp = curr.left\n",
    "                while temp.right is not None:\n",
    "                    temp = temp.right\n",
    "            return temp.data\n",
    "    return pred"
   ]
  },
  {
   "cell_type": "code",
   "execution_count": 87,
   "id": "d1e3c0e5-b45f-42dc-bcea-91f2ae431653",
   "metadata": {},
   "outputs": [
    {
     "data": {
      "text/plain": [
       "10"
      ]
     },
     "execution_count": 87,
     "metadata": {},
     "output_type": "execute_result"
    }
   ],
   "source": [
    "# Construct a BST\n",
    "root = Node(20)\n",
    "root.left = Node(8)\n",
    "root.right = Node(22)\n",
    "root.left.left = Node(4)\n",
    "root.left.right = Node(12)\n",
    "root.left.right.left = Node(10)\n",
    "root.left.right.right = Node(14)\n",
    "\n",
    "target = 12\n",
    "inorder_pred(root, target)"
   ]
  },
  {
   "cell_type": "markdown",
   "id": "c39daa38-97ba-4a4d-a578-73c68ab075f8",
   "metadata": {},
   "source": [
    "### Second largest element in BST"
   ]
  },
  {
   "cell_type": "code",
   "execution_count": 93,
   "id": "67f0a782-7bc1-4a3e-82af-573789c601c2",
   "metadata": {},
   "outputs": [],
   "source": [
    "def reverse_inorder(root, count, res):\n",
    "    if root is None or count[0] >= 2:\n",
    "        return\n",
    "    reverse_inorder(root.right, count, res)\n",
    "    count[0] += 1\n",
    "    \n",
    "    if count[0] == 2:\n",
    "        res[0] = root.data\n",
    "        return\n",
    "    \n",
    "    reverse_inorder(root.left, count, res)\n",
    "\n",
    "def find_second_largest(root):\n",
    "    count = [0]   # Use list to make it mutable\n",
    "    res = [-1]    # Default value if tree has < 2 nodes\n",
    "    \n",
    "    reverse_inorder(root, count, res)\n",
    "    return res[0]"
   ]
  },
  {
   "cell_type": "code",
   "execution_count": 94,
   "id": "93535057-2180-42c8-8094-d904f7d66d4b",
   "metadata": {},
   "outputs": [
    {
     "data": {
      "text/plain": [
       "7"
      ]
     },
     "execution_count": 94,
     "metadata": {},
     "output_type": "execute_result"
    }
   ],
   "source": [
    "root = Node(7)\n",
    "root.left = Node(4)\n",
    "root.right = Node(8)\n",
    "root.left.left = Node(3)\n",
    "root.left.right = Node(5)\n",
    "\n",
    "find_second_largest(root)"
   ]
  },
  {
   "cell_type": "markdown",
   "id": "9a84a8cb-befb-4063-93f0-7166de890b0f",
   "metadata": {},
   "source": [
    "### Sum of k smallest elements in BST"
   ]
  },
  {
   "cell_type": "code",
   "execution_count": 95,
   "id": "0e825b84-07ef-4bbc-b528-4fee5ecbf4e0",
   "metadata": {},
   "outputs": [],
   "source": [
    "def calculate_sum(root, k, res):\n",
    "    if root is None:\n",
    "        return\n",
    "    if root.left is not None:\n",
    "        calculate_sum(root.left, k, res)\n",
    "        \n",
    "    if k[0] == 0:\n",
    "        return\n",
    "    else:\n",
    "        res[0] += root.data\n",
    "        k[0] -= 1\n",
    "    \n",
    "    if root.right is not None:\n",
    "        calculate_sum(root.right, k, res)\n",
    "\n",
    "def smallest_sum_k(root, k):\n",
    "    res = [0]\n",
    "    calculate_sum(root, [k], res)\n",
    "    return res[0]"
   ]
  },
  {
   "cell_type": "code",
   "execution_count": 96,
   "id": "7f81be15-1146-4fd0-b535-d1122f21371e",
   "metadata": {},
   "outputs": [],
   "source": [
    "root = Node(8)\n",
    "root.left = Node(7)\n",
    "root.right = Node(10)\n",
    "root.left.left = Node(2)\n",
    "root.right.left = Node(9)\n",
    "root.right.right = Node(13)"
   ]
  },
  {
   "cell_type": "code",
   "execution_count": 97,
   "id": "9ac748b9-9fbd-4802-acb7-ea8da8d3f910",
   "metadata": {},
   "outputs": [
    {
     "data": {
      "text/plain": [
       "17"
      ]
     },
     "execution_count": 97,
     "metadata": {},
     "output_type": "execute_result"
    }
   ],
   "source": [
    "smallest_sum_k(root, 3)"
   ]
  },
  {
   "cell_type": "markdown",
   "id": "ac51d594-553f-4eaa-b5fd-e61fa18272fc",
   "metadata": {},
   "source": [
    "### Morris Traversal Inorder"
   ]
  },
  {
   "cell_type": "code",
   "execution_count": 98,
   "id": "7a90e0f5-eec0-4b89-8eca-0ca5fba40efa",
   "metadata": {},
   "outputs": [],
   "source": [
    "def morris_inorder(root):\n",
    "    curr = root\n",
    "    while curr:\n",
    "        if curr.left is None:\n",
    "            print(curr.data, end = \" \")\n",
    "            curr = curr.right\n",
    "        else:\n",
    "            pred = curr.left\n",
    "            while pred.right and pred.right != curr:\n",
    "                pred = pred.right\n",
    "            \n",
    "            if pred.right is None:\n",
    "                pred.right = curr\n",
    "                curr = curr.left\n",
    "            elif pred.right == curr:\n",
    "                print(curr.data, end = \" \")\n",
    "                curr = curr.right\n",
    "                pred.right = None\n",
    "                "
   ]
  },
  {
   "cell_type": "code",
   "execution_count": 99,
   "id": "e3402af8-273a-4ffc-81b6-2c1d342954a0",
   "metadata": {},
   "outputs": [
    {
     "name": "stdout",
     "output_type": "stream",
     "text": [
      "2 7 8 9 10 13 "
     ]
    }
   ],
   "source": [
    "morris_inorder(root)"
   ]
  },
  {
   "cell_type": "markdown",
   "id": "5c954b1b-a262-4c5d-9a35-7130a9880e01",
   "metadata": {},
   "source": [
    "### Print BST keys in given Range | O(1) Space"
   ]
  },
  {
   "cell_type": "code",
   "execution_count": 100,
   "id": "bd0762e7-839f-4cd9-9be1-02c7773687d3",
   "metadata": {},
   "outputs": [],
   "source": [
    "def print_in_range_morris(root, low, high):\n",
    "    curr = root\n",
    "    while curr:\n",
    "        if curr.left is None:\n",
    "            if low <= curr.data <= high:\n",
    "                print(curr.data, end=' ')\n",
    "            curr = curr.right\n",
    "        else:\n",
    "            pred = curr.left\n",
    "            while pred.right and pred.right != curr:\n",
    "                pred = pred.right\n",
    "\n",
    "            if pred.right is None:\n",
    "                pred.right = curr\n",
    "                curr = curr.left\n",
    "            else:\n",
    "                pred.right = None\n",
    "                if low <= curr.data <= high:\n",
    "                    print(curr.data, end=' ')\n",
    "                curr = curr.right\n"
   ]
  },
  {
   "cell_type": "code",
   "execution_count": 101,
   "id": "ca27e5a2-cc21-47b5-ac47-8bdd45222c24",
   "metadata": {},
   "outputs": [
    {
     "name": "stdout",
     "output_type": "stream",
     "text": [
      "7 8 9 10 "
     ]
    }
   ],
   "source": [
    "print_in_range_morris(root, 7, 12)"
   ]
  },
  {
   "cell_type": "markdown",
   "id": "ac8fc422-59e0-4698-8b9e-64bb7348d737",
   "metadata": {},
   "source": [
    "### Balance a Binary Search Tree"
   ]
  },
  {
   "cell_type": "code",
   "execution_count": 112,
   "id": "8c3c5d08-2f6f-403b-955a-264069038908",
   "metadata": {},
   "outputs": [],
   "source": [
    "def store_nodes(root, nodes):\n",
    "    if root is None:\n",
    "        return\n",
    "    store_nodes(root.left, nodes)\n",
    "    nodes.append(root.data)\n",
    "    store_nodes(root.right, nodes)\n",
    "    \n",
    "def make_balance_tree(nodes, s, e):\n",
    "    if s > e:\n",
    "        return\n",
    "    mid = (s+e)//2\n",
    "    root = Node(nodes[mid])\n",
    "    root.left = make_balance_tree(nodes, s, mid - 1)\n",
    "    root.right = make_balance_tree(nodes, mid + 1, e)\n",
    "    \n",
    "    return root\n",
    "    \n",
    "\n",
    "def balance_bst(root):\n",
    "    nodes = []\n",
    "    \n",
    "    store_nodes(root, nodes)\n",
    "    print(nodes)\n",
    "    \n",
    "    new_root = make_balance_tree(nodes, 0, len(nodes) - 1)\n",
    "    return new_root"
   ]
  },
  {
   "cell_type": "code",
   "execution_count": 113,
   "id": "9c01a387-41eb-472a-9d8e-80c539f746c6",
   "metadata": {},
   "outputs": [
    {
     "name": "stdout",
     "output_type": "stream",
     "text": [
      "[1, 2, 3, 4, 5, 6, 7]\n"
     ]
    },
    {
     "data": {
      "text/plain": [
       "[[4], [2, 6], [1, 3, 5, 7]]"
      ]
     },
     "execution_count": 113,
     "metadata": {},
     "output_type": "execute_result"
    }
   ],
   "source": [
    "root = Node(4)\n",
    "root.left = Node(3)\n",
    "root.left.left = Node(2)\n",
    "root.left.left.left = Node(1)\n",
    "root.right = Node(5)\n",
    "root.right.right = Node(6)\n",
    "root.right.right.right = Node(7)\n",
    "\n",
    "balancedRoot = balance_bst(root)\n",
    "level_order_traversal(balancedRoot)"
   ]
  },
  {
   "cell_type": "markdown",
   "id": "b4765027-af78-4114-bfb5-180860f0cf49",
   "metadata": {},
   "source": [
    "### Check if a Binary Tree is BST or not"
   ]
  },
  {
   "cell_type": "code",
   "execution_count": 118,
   "id": "8d697202-c7f8-48a4-8726-526992232b8e",
   "metadata": {},
   "outputs": [],
   "source": [
    "def isBST(root, min_val=float('-inf'), max_val=float('inf')):\n",
    "    \n",
    "    if root is None:\n",
    "        return True\n",
    "    if not (min_val < root.data < max_val):\n",
    "        return False\n",
    "    return (isBST(root.left, min_val, root.data) and isBST(root.right, root.data, max_val))\n",
    "    "
   ]
  },
  {
   "cell_type": "code",
   "execution_count": 119,
   "id": "aa704240-c5dc-4b8d-b939-7f71aa4383b3",
   "metadata": {},
   "outputs": [
    {
     "name": "stdout",
     "output_type": "stream",
     "text": [
      "True\n"
     ]
    }
   ],
   "source": [
    "root = Node(10)\n",
    "root.left = Node(5)\n",
    "root.right = Node(15)\n",
    "\n",
    "print(isBST(root))"
   ]
  },
  {
   "cell_type": "code",
   "execution_count": 120,
   "id": "090e11c9-feb3-493f-92bd-f797b14d898d",
   "metadata": {},
   "outputs": [
    {
     "name": "stdout",
     "output_type": "stream",
     "text": [
      "False\n"
     ]
    }
   ],
   "source": [
    "root = Node(10)\n",
    "root.left = Node(5)\n",
    "root.right = Node(8)\n",
    "\n",
    "print(isBST(root))"
   ]
  },
  {
   "cell_type": "code",
   "execution_count": 121,
   "id": "ffd2b831-ad80-4dcd-92df-22d43543cdb5",
   "metadata": {},
   "outputs": [],
   "source": [
    "def isBST_Morris(root):\n",
    "    prev = None\n",
    "    curr = root\n",
    "    \n",
    "    while curr:\n",
    "        if curr.left is None:\n",
    "            if prev and prev.data >= curr.data:\n",
    "                return False\n",
    "            prev = curr\n",
    "            curr = curr.right\n",
    "        else:\n",
    "            pred = curr.left\n",
    "            while pred.right and pred.right != curr:\n",
    "                pred = pred.right\n",
    "            \n",
    "            if pred.right is None:\n",
    "                pred.right = curr\n",
    "                curr = curr.left\n",
    "            \n",
    "            else:\n",
    "                pred.right = None\n",
    "                if prev and prev.data >= curr.data:\n",
    "                    return False\n",
    "                prev = curr\n",
    "                curr = curr.right\n",
    "                \n",
    "    return True"
   ]
  },
  {
   "cell_type": "code",
   "execution_count": 122,
   "id": "26358db1-2f0b-4caf-bd96-511403bf19d5",
   "metadata": {},
   "outputs": [
    {
     "name": "stdout",
     "output_type": "stream",
     "text": [
      "True\n"
     ]
    }
   ],
   "source": [
    "root = Node(10)\n",
    "root.left = Node(5)\n",
    "root.right = Node(18)\n",
    "\n",
    "print(isBST_Morris(root))"
   ]
  },
  {
   "cell_type": "markdown",
   "id": "2a8adc8a-4c15-4409-b1f2-ed416371b589",
   "metadata": {},
   "source": [
    "### Binary Tree to Binary Search Tree Conversion"
   ]
  },
  {
   "cell_type": "code",
   "execution_count": 126,
   "id": "f2f25366-a908-4c11-8cfb-bbfb7c9284ac",
   "metadata": {},
   "outputs": [],
   "source": [
    "def construct_bst(root, nodes, index):\n",
    "    if root is None:\n",
    "        return\n",
    "    construct_bst(root.left, nodes, index)\n",
    "    \n",
    "    root.data = nodes[index[0]]\n",
    "    index[0] += 1\n",
    "    \n",
    "    construct_bst(root.right, nodes, index)\n",
    "    \n",
    "    \n",
    "def convert_bt_to_bst(root):\n",
    "    nodes = []\n",
    "    store_nodes(root, nodes)\n",
    "    \n",
    "    nodes.sort()\n",
    "    index = [0]\n",
    "    \n",
    "    construct_bst(root, nodes, index)\n",
    "    return root"
   ]
  },
  {
   "cell_type": "code",
   "execution_count": 127,
   "id": "7a4d61a3-c88f-4445-ba40-60a74d163726",
   "metadata": {},
   "outputs": [],
   "source": [
    "root = Node(10)\n",
    "root.left = Node(2)\n",
    "root.right = Node(7)\n",
    "root.left.left = Node(8)\n",
    "root.left.right = Node(4)\n",
    "\n",
    "ans = convert_bt_to_bst(root)"
   ]
  },
  {
   "cell_type": "code",
   "execution_count": 128,
   "id": "0940b0de-be20-47f4-bc3e-06a8d01b1fd7",
   "metadata": {},
   "outputs": [
    {
     "name": "stdout",
     "output_type": "stream",
     "text": [
      "2 4 7 8 10 "
     ]
    }
   ],
   "source": [
    "inorder_rec(ans)"
   ]
  },
  {
   "cell_type": "code",
   "execution_count": 129,
   "id": "f402047f-b758-435b-b528-588bba247d0f",
   "metadata": {},
   "outputs": [],
   "source": [
    "def store_inorder(node, inorder_list):\n",
    "    if node is None:\n",
    "        return\n",
    "    store_inorder(node.left, inorder_list)\n",
    "    inorder_list.append(node.data)\n",
    "    store_inorder(node.right, inorder_list)\n",
    "    \n",
    "def fill_preorder(node, inorder_list, index):\n",
    "    if node is None:\n",
    "        return\n",
    "    node.data = inorder_list[index[0]]\n",
    "    index[0] += 1\n",
    "    fill_preorder(node.left, inorder_list, index)\n",
    "    fill_preorder(node.right, inorder_list, index)\n",
    "\n",
    "def convertBSTtoMinHeap(root):\n",
    "    inorder_list = []\n",
    "    store_inorder(root, inorder_list)         # Step 1\n",
    "    index = [0]\n",
    "    fill_preorder(root, inorder_list, index)  # Step 2"
   ]
  },
  {
   "cell_type": "code",
   "execution_count": 130,
   "id": "4de78482-c27e-4f87-911c-f956b0c51f9a",
   "metadata": {},
   "outputs": [],
   "source": [
    "root = Node(4)\n",
    "root.left = Node(2)\n",
    "root.right = Node(6)\n",
    "root.left.left = Node(1)\n",
    "root.left.right = Node(3)\n",
    "root.right.left = Node(5)\n",
    "root.right.right = Node(7)\n",
    "\n",
    "convertBSTtoMinHeap(root)"
   ]
  },
  {
   "cell_type": "code",
   "execution_count": 131,
   "id": "1fa626ba-39d2-42d9-9083-6bb04a23fbde",
   "metadata": {},
   "outputs": [
    {
     "name": "stdout",
     "output_type": "stream",
     "text": [
      "3 2 4 1 6 5 7 "
     ]
    }
   ],
   "source": [
    "inorder_rec(root)"
   ]
  },
  {
   "cell_type": "markdown",
   "id": "b95a40fc-b8da-41e1-b1fe-7953307413b0",
   "metadata": {},
   "source": [
    "### Add all greater values to every node in a given BST"
   ]
  },
  {
   "cell_type": "code",
   "execution_count": 132,
   "id": "9eaa1589-672d-48f0-9970-0a5fa8665d70",
   "metadata": {},
   "outputs": [],
   "source": [
    "def addGreaterValues(root):\n",
    "    # sum_ref is a mutable object to track cumulative sum\n",
    "    sum_ref = [0]\n",
    "    def reverse_inorder(node):\n",
    "        if not node:\n",
    "            return\n",
    "        # Right → Root → Left\n",
    "        reverse_inorder(node.right)\n",
    "        sum_ref[0] += node.data\n",
    "        node.data = sum_ref[0]\n",
    "        reverse_inorder(node.left)\n",
    "    \n",
    "    reverse_inorder(root)\n"
   ]
  },
  {
   "cell_type": "code",
   "execution_count": 134,
   "id": "3647d373-c161-4c8c-ba71-b6a2e813e442",
   "metadata": {},
   "outputs": [
    {
     "name": "stdout",
     "output_type": "stream",
     "text": [
      "3 5 7 \n",
      "\n",
      "15 12 7 "
     ]
    }
   ],
   "source": [
    "root = Node(5)\n",
    "root.left = Node(3)\n",
    "root.right = Node(7)\n",
    "\n",
    "inorder_rec(root)\n",
    "\n",
    "addGreaterValues(root)\n",
    "\n",
    "print(\"\\n\")\n",
    "inorder_rec(root)"
   ]
  },
  {
   "cell_type": "markdown",
   "id": "55b681f6-29e3-4728-af78-110abd210c1a",
   "metadata": {},
   "source": [
    "### Check if two BSTs contain same set of elements"
   ]
  },
  {
   "cell_type": "code",
   "execution_count": 135,
   "id": "e0761ed3-8bd6-4bfa-9a26-408292d1caa5",
   "metadata": {},
   "outputs": [],
   "source": [
    "def sameElements(root1, root2):\n",
    "    list1 = []\n",
    "    list2 = []\n",
    "    \n",
    "    store_inorder(root1, list1)\n",
    "    store_inorder(root2, list2)\n",
    "    \n",
    "    return list1 == list2"
   ]
  },
  {
   "cell_type": "code",
   "execution_count": 136,
   "id": "f9b8d814-a3d0-4952-9b90-9930aeb9784a",
   "metadata": {},
   "outputs": [
    {
     "data": {
      "text/plain": [
       "True"
      ]
     },
     "execution_count": 136,
     "metadata": {},
     "output_type": "execute_result"
    }
   ],
   "source": [
    "root1 = Node(5)\n",
    "root1.left = Node(3)\n",
    "root1.right = Node(8)\n",
    "\n",
    "root2 = Node(8)\n",
    "root2.left = Node(5)\n",
    "root2.left.left = Node(3)\n",
    "\n",
    "sameElements(root1, root2)"
   ]
  },
  {
   "cell_type": "code",
   "execution_count": 139,
   "id": "eaa94ee4-9b18-4cf3-9b89-0e2a0c2a5159",
   "metadata": {},
   "outputs": [],
   "source": [
    "def morris_next(curr):\n",
    "    while curr:\n",
    "        if curr.left is None:\n",
    "            val = curr.data\n",
    "            curr = curr.right\n",
    "            return val, curr\n",
    "        else:\n",
    "            pred = curr.left\n",
    "            while pred.right and pred.right != curr:\n",
    "                pred = pred.right\n",
    "            if pred.right is None:\n",
    "                pred.right = curr\n",
    "                curr = curr.left\n",
    "            else:\n",
    "                pred.right = None\n",
    "                val = curr.data\n",
    "                curr = curr.right\n",
    "                return val, curr\n",
    "    return None, None\n",
    "\n",
    "def sameElementsMorris(root1, root2):\n",
    "    curr1 = root1\n",
    "    curr2 = root2\n",
    "\n",
    "    while True:\n",
    "        val1, curr1 = morris_next(curr1)\n",
    "        val2, curr2 = morris_next(curr2)\n",
    "\n",
    "        if val1 is None and val2 is None:\n",
    "            return True\n",
    "        if val1 != val2:\n",
    "            return False"
   ]
  },
  {
   "cell_type": "code",
   "execution_count": 140,
   "id": "971b7ad0-adee-42ef-a8ee-4ab40def7e73",
   "metadata": {},
   "outputs": [
    {
     "data": {
      "text/plain": [
       "True"
      ]
     },
     "execution_count": 140,
     "metadata": {},
     "output_type": "execute_result"
    }
   ],
   "source": [
    "root1 = Node(5)\n",
    "root1.left = Node(3)\n",
    "root1.right = Node(8)\n",
    "\n",
    "root2 = Node(8)\n",
    "root2.left = Node(5)\n",
    "root2.left.left = Node(3)\n",
    "\n",
    "sameElementsMorris(root1, root2)"
   ]
  },
  {
   "cell_type": "markdown",
   "id": "0f47a8e6-bb57-4ee2-b1f3-19b5a56ce7c7",
   "metadata": {},
   "source": [
    "### Construct BST from Preorder Traversal"
   ]
  },
  {
   "cell_type": "code",
   "execution_count": 141,
   "id": "70f68c2f-844a-4cca-9d62-d125d19b094d",
   "metadata": {},
   "outputs": [],
   "source": [
    "def constructBST(preorder):\n",
    "    index = [0]  # Use list for mutable reference\n",
    "\n",
    "    def build(min_val, max_val):\n",
    "        if index[0] == len(preorder):\n",
    "            return None\n",
    "\n",
    "        val = preorder[index[0]]\n",
    "\n",
    "        if val < min_val or val > max_val:\n",
    "            return None\n",
    "\n",
    "        root = Node(val)\n",
    "        index[0] += 1\n",
    "\n",
    "        root.left = build(min_val, val)\n",
    "        root.right = build(val, max_val)\n",
    "\n",
    "        return root\n",
    "\n",
    "    return build(float('-inf'), float('inf'))"
   ]
  },
  {
   "cell_type": "code",
   "execution_count": 142,
   "id": "3585851a-0932-41c7-984b-4d1b95b8884d",
   "metadata": {},
   "outputs": [
    {
     "name": "stdout",
     "output_type": "stream",
     "text": [
      "1 5 7 10 40 50 "
     ]
    }
   ],
   "source": [
    "pre = [10, 5, 1, 7, 40, 50]\n",
    "root = constructBST(pre)\n",
    "inorder_rec(root)"
   ]
  },
  {
   "cell_type": "code",
   "execution_count": null,
   "id": "a7fb1ff8-57c8-48b5-98e8-98a7f2f9fa42",
   "metadata": {},
   "outputs": [],
   "source": []
  }
 ],
 "metadata": {
  "kernelspec": {
   "display_name": "Python 3 (ipykernel)",
   "language": "python",
   "name": "python3"
  },
  "language_info": {
   "codemirror_mode": {
    "name": "ipython",
    "version": 3
   },
   "file_extension": ".py",
   "mimetype": "text/x-python",
   "name": "python",
   "nbconvert_exporter": "python",
   "pygments_lexer": "ipython3",
   "version": "3.9.15"
  }
 },
 "nbformat": 4,
 "nbformat_minor": 5
}
