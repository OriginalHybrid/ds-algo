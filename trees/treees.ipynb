{
 "cells": [
  {
   "cell_type": "markdown",
   "id": "a4f67951-7968-4268-80c7-6092b92809c3",
   "metadata": {},
   "source": [
    "### Tree"
   ]
  },
  {
   "cell_type": "code",
   "execution_count": 1,
   "id": "d3b7ad53-e3d8-4a24-ac02-459f623c001f",
   "metadata": {},
   "outputs": [],
   "source": [
    "class Node:\n",
    "    def __init__(self, v):\n",
    "        self.data = v\n",
    "        self.left = None\n",
    "        self.right = None"
   ]
  },
  {
   "cell_type": "code",
   "execution_count": 2,
   "id": "d76a928a-34cc-4cec-a5df-da668f4eace9",
   "metadata": {},
   "outputs": [],
   "source": [
    "root = Node(1)\n",
    "root.left = Node(2)\n",
    "root.right = Node(3)\n",
    "root.left.left = Node(4)\n",
    "root.left.right = Node(5)\n",
    "root.right.right = Node(6)"
   ]
  },
  {
   "cell_type": "markdown",
   "id": "ad13df7a-a8c2-4674-b3e3-2d371cb137a4",
   "metadata": {},
   "source": [
    "### Inorder Traversal of Binary Tree"
   ]
  },
  {
   "cell_type": "code",
   "execution_count": 3,
   "id": "5092ab50-9177-454a-a63e-2961b0bbe899",
   "metadata": {},
   "outputs": [],
   "source": [
    "def inorder_rec(node):\n",
    "    if node is None:\n",
    "        return\n",
    "    inorder_rec(node.left)\n",
    "    print(node.data, end = \" \")\n",
    "    inorder_rec(node.right)"
   ]
  },
  {
   "cell_type": "code",
   "execution_count": 4,
   "id": "9d4f0c20-ec04-40fd-89a0-1cd1b38e9e8c",
   "metadata": {},
   "outputs": [
    {
     "name": "stdout",
     "output_type": "stream",
     "text": [
      "4 2 5 1 3 6 "
     ]
    }
   ],
   "source": [
    "inorder_rec(root)"
   ]
  },
  {
   "cell_type": "markdown",
   "id": "0905948b-925d-4d6e-a622-a5c0854e589c",
   "metadata": {},
   "source": [
    "### Inorder Tree Traversal Iterative"
   ]
  },
  {
   "cell_type": "code",
   "execution_count": 5,
   "id": "fbce1369-b4d7-4883-bc40-6645223d024c",
   "metadata": {},
   "outputs": [],
   "source": [
    "def inorder_interative(node):\n",
    "    res = []\n",
    "    s = []\n",
    "    curr = node\n",
    "    \n",
    "    while curr or s:\n",
    "        while curr:\n",
    "            s.append(curr)\n",
    "            curr = curr.left\n",
    "        \n",
    "        curr = s.pop()\n",
    "        res.append(curr.data)\n",
    "        curr = curr.right\n",
    "\n",
    "    return res"
   ]
  },
  {
   "cell_type": "code",
   "execution_count": 6,
   "id": "ab8cca28-c450-489c-aac1-e5e0bdde21d6",
   "metadata": {},
   "outputs": [
    {
     "data": {
      "text/plain": [
       "[4, 2, 5, 1, 3, 6]"
      ]
     },
     "execution_count": 6,
     "metadata": {},
     "output_type": "execute_result"
    }
   ],
   "source": [
    "inorder_interative(root)"
   ]
  },
  {
   "cell_type": "markdown",
   "id": "1c2b2ddd-a445-41fe-899a-b5279b3c8858",
   "metadata": {},
   "source": [
    "### Preorder Traversal of Binary Tree"
   ]
  },
  {
   "cell_type": "code",
   "execution_count": 7,
   "id": "09066e22-aece-4489-a36a-aff05c7684a1",
   "metadata": {},
   "outputs": [],
   "source": [
    "def preorder_rec(node):\n",
    "    if node is None:\n",
    "        return\n",
    "    print(node.data, end = \" \")\n",
    "    preorder_rec(node.left)\n",
    "    preorder_rec(node.right)\n",
    "    "
   ]
  },
  {
   "cell_type": "code",
   "execution_count": 8,
   "id": "c11f9d7a-bada-42c6-b6b9-3cc401088f8b",
   "metadata": {},
   "outputs": [
    {
     "name": "stdout",
     "output_type": "stream",
     "text": [
      "1 2 4 5 3 6 "
     ]
    }
   ],
   "source": [
    "preorder_rec(root)"
   ]
  },
  {
   "cell_type": "markdown",
   "id": "a20e3db6-11af-48a8-a5ae-41b8006b676e",
   "metadata": {},
   "source": [
    "### Preorder Iterative"
   ]
  },
  {
   "cell_type": "code",
   "execution_count": 9,
   "id": "aea8a8e8-21ef-4c45-bde5-9d421e453f63",
   "metadata": {},
   "outputs": [],
   "source": [
    "def preorder_iterative(node):\n",
    "    if node is None:\n",
    "        return \n",
    "    s = []\n",
    "    res = []\n",
    "    s.append(node)\n",
    "    while s:\n",
    "        curr = s.pop()\n",
    "        res.append(curr.data)\n",
    "        if curr.right:\n",
    "            s.append(curr.right)\n",
    "        if curr.left:\n",
    "            s.append(curr.left)\n",
    "    return res"
   ]
  },
  {
   "cell_type": "code",
   "execution_count": 10,
   "id": "82a93d81-3c9b-4798-8a28-40390f2ffb0a",
   "metadata": {},
   "outputs": [
    {
     "data": {
      "text/plain": [
       "[1, 2, 4, 5, 3, 6]"
      ]
     },
     "execution_count": 10,
     "metadata": {},
     "output_type": "execute_result"
    }
   ],
   "source": [
    "preorder_iterative(root)"
   ]
  },
  {
   "cell_type": "markdown",
   "id": "6389f16a-c937-4672-b8d3-5b34fd780f3a",
   "metadata": {},
   "source": [
    "### Post Order"
   ]
  },
  {
   "cell_type": "code",
   "execution_count": 11,
   "id": "1154c7bd-bc21-4608-90fc-3c35c674592f",
   "metadata": {},
   "outputs": [],
   "source": [
    "def post_order(node):\n",
    "    if node is None:\n",
    "        return\n",
    "    post_order(node.left)\n",
    "    post_order(node.right)\n",
    "    print(node.data, end = \" \")"
   ]
  },
  {
   "cell_type": "code",
   "execution_count": 12,
   "id": "e376f935-0603-4608-ba76-845454fa6b57",
   "metadata": {},
   "outputs": [
    {
     "name": "stdout",
     "output_type": "stream",
     "text": [
      "4 5 2 6 3 1 "
     ]
    }
   ],
   "source": [
    "post_order(root)"
   ]
  },
  {
   "cell_type": "markdown",
   "id": "ee538fea-6722-4134-9014-12d342b14b1b",
   "metadata": {},
   "source": [
    "### Post order Iterative 1"
   ]
  },
  {
   "cell_type": "code",
   "execution_count": 13,
   "id": "9c5a93b3-fcb1-4d12-9081-cb67fd2fbc84",
   "metadata": {},
   "outputs": [],
   "source": [
    "def post_order_iterative(root):\n",
    "    if root is None:\n",
    "        return []\n",
    "\n",
    "    stack1 = [root]\n",
    "    stack2 = []\n",
    "\n",
    "    while stack1:\n",
    "        node = stack1.pop()\n",
    "        stack2.append(node)\n",
    "\n",
    "        if node.left:\n",
    "            stack1.append(node.left)\n",
    "        if node.right:\n",
    "            stack1.append(node.right)\n",
    "\n",
    "    result = [node.data for node in reversed(stack2)]\n",
    "    return result"
   ]
  },
  {
   "cell_type": "code",
   "execution_count": 14,
   "id": "5c2d5c57-c34e-4482-8172-28d0d39fdcaf",
   "metadata": {},
   "outputs": [
    {
     "data": {
      "text/plain": [
       "[4, 5, 2, 6, 3, 1]"
      ]
     },
     "execution_count": 14,
     "metadata": {},
     "output_type": "execute_result"
    }
   ],
   "source": [
    "post_order_iterative(root)"
   ]
  },
  {
   "cell_type": "code",
   "execution_count": 15,
   "id": "05cea92d-b218-4007-a051-487987776ea7",
   "metadata": {},
   "outputs": [],
   "source": [
    "def post_order_iterative_one_stack(root):\n",
    "    result = []\n",
    "    stack = []\n",
    "    last_visited = None\n",
    "    current = root\n",
    "\n",
    "    while stack or current:\n",
    "        if current:\n",
    "            stack.append(current)\n",
    "            current = current.left\n",
    "        else:\n",
    "            peek_node = stack[-1]\n",
    "            # if right child exists and traversing node from left child, move right\n",
    "            if peek_node.right and last_visited != peek_node.right:\n",
    "                current = peek_node.right\n",
    "            else:\n",
    "                result.append(peek_node.data)\n",
    "                last_visited = stack.pop()\n",
    "    return result"
   ]
  },
  {
   "cell_type": "code",
   "execution_count": 16,
   "id": "cd8c1840-6111-46ba-b049-32240525a0f9",
   "metadata": {},
   "outputs": [
    {
     "data": {
      "text/plain": [
       "[4, 5, 2, 6, 3, 1]"
      ]
     },
     "execution_count": 16,
     "metadata": {},
     "output_type": "execute_result"
    }
   ],
   "source": [
    "post_order_iterative_one_stack(root)"
   ]
  },
  {
   "cell_type": "markdown",
   "id": "9b65cb2b-4561-444c-bcd0-0e207b496ec5",
   "metadata": {},
   "source": [
    "### Level Order Traversal"
   ]
  },
  {
   "cell_type": "code",
   "execution_count": 17,
   "id": "a68b042f-ce60-4407-bbdf-e89f0b64c679",
   "metadata": {},
   "outputs": [],
   "source": [
    "def level_order_helper(root, level, res):\n",
    "    if root is None:\n",
    "        return\n",
    "    \n",
    "    if len(res) <= level:\n",
    "        res.append([])\n",
    "    \n",
    "    res[level].append(root.data)\n",
    "    level_order_helper(root.left, level + 1, res)\n",
    "    level_order_helper(root.right, level + 1, res)\n",
    "    \n",
    "\n",
    "def level_order_traversal(root):\n",
    "    res = []\n",
    "    level_order_helper(root, 0, res)\n",
    "    return res"
   ]
  },
  {
   "cell_type": "code",
   "execution_count": 18,
   "id": "ba3f612b-cfad-4768-b87c-afa6936f21fe",
   "metadata": {},
   "outputs": [
    {
     "data": {
      "text/plain": [
       "[[1], [2, 3], [4, 5, 6]]"
      ]
     },
     "execution_count": 18,
     "metadata": {},
     "output_type": "execute_result"
    }
   ],
   "source": [
    "level_order_traversal(root)"
   ]
  },
  {
   "cell_type": "markdown",
   "id": "ffafe116-07d2-4ef0-be08-d468ba5485cd",
   "metadata": {},
   "source": [
    "### Level Order Traversal Iterative"
   ]
  },
  {
   "cell_type": "code",
   "execution_count": 19,
   "id": "66b466ea-c2a0-4974-ae20-4f96a1998532",
   "metadata": {},
   "outputs": [],
   "source": [
    "def level_order_traversal_iterative(root):\n",
    "    q = []\n",
    "    res = []\n",
    "    \n",
    "    q.append(root)\n",
    "    \n",
    "    while q:\n",
    "        res.append([])\n",
    "        len_q = len(q)\n",
    "        \n",
    "        for _ in range(len_q):\n",
    "            node = q.pop(0)\n",
    "            res[len_q - 1].append(node.data)\n",
    "            \n",
    "            if node.left:\n",
    "                q.append(node.left)\n",
    "            if node.right:\n",
    "                q.append(node.right)\n",
    "    return res\n",
    "        "
   ]
  },
  {
   "cell_type": "code",
   "execution_count": 20,
   "id": "b8a8fa94-4207-4f4c-baf0-e31cb7713891",
   "metadata": {},
   "outputs": [
    {
     "data": {
      "text/plain": [
       "[[1], [2, 3], [4, 5, 6]]"
      ]
     },
     "execution_count": 20,
     "metadata": {},
     "output_type": "execute_result"
    }
   ],
   "source": [
    "level_order_traversal_iterative(root)"
   ]
  },
  {
   "cell_type": "markdown",
   "id": "eb1ecadd-2fc3-4e43-9636-156ffc6da48e",
   "metadata": {},
   "source": [
    "### Maximum Depth of Binary Tree"
   ]
  },
  {
   "cell_type": "code",
   "execution_count": 21,
   "id": "15d0f148-3fe1-44c8-9d91-bceade1d4d7b",
   "metadata": {},
   "outputs": [],
   "source": [
    "def print_height(root):\n",
    "    if root is None:\n",
    "        return -1\n",
    "    \n",
    "    lh = print_height(root.left)\n",
    "    rh = print_height(root.right)\n",
    "    \n",
    "    return max(lh, rh) + 1"
   ]
  },
  {
   "cell_type": "code",
   "execution_count": 22,
   "id": "deef57e1-90d9-4c08-a9ed-ca1b204b8978",
   "metadata": {},
   "outputs": [
    {
     "data": {
      "text/plain": [
       "2"
      ]
     },
     "execution_count": 22,
     "metadata": {},
     "output_type": "execute_result"
    }
   ],
   "source": [
    "print_height(root)"
   ]
  },
  {
   "cell_type": "markdown",
   "id": "ea3a5181-7f1f-4666-837e-b3d98fa57c7f",
   "metadata": {},
   "source": [
    "## Basic Operations on BST"
   ]
  },
  {
   "cell_type": "markdown",
   "id": "d500b8bc-8b95-4037-a655-235ff446be77",
   "metadata": {},
   "source": [
    "### Insertion in Binary Search Tree (BST)"
   ]
  },
  {
   "cell_type": "markdown",
   "id": "4a7aafcd-c4db-4e0a-a973-299eceee6dab",
   "metadata": {},
   "source": [
    "A new key is always inserted at the leaf by maintaining the property of the binary search tree. We start searching for a key from the root until we hit a leaf node. Once a leaf node is found, the new node is added as a child of the leaf node. The below steps are followed while we try to insert a node into a binary search tree:\n",
    "\n",
    "Initilize the current node (say, currNode or node) with root node\n",
    "- Compare the key with the current node.\n",
    "- Move left if the key is less than or equal to the current node value.\n",
    "- Move right if the key is greater than current node value.\n",
    "- Repeat steps 2 and 3 until you reach a leaf node.\n",
    "- Attach the new key as a left or right child based on the comparison with the leaf node’s value."
   ]
  },
  {
   "cell_type": "markdown",
   "id": "c8c60833-f483-45ee-bd6a-873cc23dbc50",
   "metadata": {},
   "source": [
    "#### Insertion in Binary Search Tree using Recursion : TC O(h)"
   ]
  },
  {
   "cell_type": "code",
   "execution_count": 23,
   "id": "3c59e286-5e0a-4454-baa2-cd39da12c46e",
   "metadata": {},
   "outputs": [],
   "source": [
    "def insert(root, key):\n",
    "    if root is None:\n",
    "        return Node(key)\n",
    "    elif root.data == key:\n",
    "        return root\n",
    "    elif key < root.data:\n",
    "        root.left = insert(root.left, key)\n",
    "    else:\n",
    "        root.right = insert(root.right, key)\n",
    "    return root"
   ]
  },
  {
   "cell_type": "code",
   "execution_count": 24,
   "id": "78ff3228-d626-4c60-aa08-49a98ab4af03",
   "metadata": {},
   "outputs": [],
   "source": [
    "r = Node(50)\n",
    "r = insert(r, 30)\n",
    "r = insert(r, 20)\n",
    "r = insert(r, 40)\n",
    "r = insert(r, 70)\n",
    "r = insert(r, 60)\n",
    "r = insert(r, 80)"
   ]
  },
  {
   "cell_type": "code",
   "execution_count": 25,
   "id": "ef66bbb8-a812-41d8-be31-3eaa9e8ef28f",
   "metadata": {},
   "outputs": [
    {
     "name": "stdout",
     "output_type": "stream",
     "text": [
      "20 30 40 50 60 70 80 "
     ]
    }
   ],
   "source": [
    "inorder_rec(r)"
   ]
  },
  {
   "cell_type": "markdown",
   "id": "aca59b4d-faf5-4748-b585-26ccb1458914",
   "metadata": {},
   "source": [
    "#### Insertion in Binary Search Tree using Iterative approach"
   ]
  },
  {
   "cell_type": "code",
   "execution_count": 26,
   "id": "35fd49ab-a94f-4ea7-b454-9bbb835a5b33",
   "metadata": {},
   "outputs": [],
   "source": [
    "def insert_it(root, key):\n",
    "    temp = Node(key)\n",
    "    \n",
    "    parent = None\n",
    "    curr = root\n",
    "    while curr is not None:\n",
    "        parent = curr\n",
    "        if curr.data < key:\n",
    "            curr = curr.right\n",
    "        else:\n",
    "            curr = curr.left\n",
    "    \n",
    "    if parent.data < key:\n",
    "        parent.right = temp\n",
    "    elif parent.data > key:\n",
    "        parent.left = temp\n",
    "    return root"
   ]
  },
  {
   "cell_type": "code",
   "execution_count": 27,
   "id": "2f2e469f-ee5d-45b2-971b-647b18d53c78",
   "metadata": {},
   "outputs": [],
   "source": [
    "r = Node(50)\n",
    "r = insert_it(r, 30)\n",
    "r = insert_it(r, 20)\n",
    "r = insert_it(r, 40)\n",
    "r = insert_it(r, 70)\n",
    "r = insert_it(r, 60)\n",
    "r = insert_it(r, 80)"
   ]
  },
  {
   "cell_type": "code",
   "execution_count": 28,
   "id": "9216e49b-6f13-4b58-99e8-4c2bdcc75a24",
   "metadata": {},
   "outputs": [
    {
     "data": {
      "text/plain": [
       "[20, 30, 40, 50, 60, 70, 80]"
      ]
     },
     "execution_count": 28,
     "metadata": {},
     "output_type": "execute_result"
    }
   ],
   "source": [
    "inorder_interative(r)"
   ]
  },
  {
   "cell_type": "markdown",
   "id": "30f85e6d-c8cb-4a12-9f58-52451455a9d1",
   "metadata": {},
   "source": [
    "### Searching in Binary Search Tree (BST)"
   ]
  },
  {
   "cell_type": "code",
   "execution_count": 29,
   "id": "3cc871fe-4046-4592-b4a8-7af75dd33b64",
   "metadata": {},
   "outputs": [],
   "source": [
    "def search_bst(root, key):\n",
    "    if root is None:\n",
    "        return -1\n",
    "    elif root.data == key:\n",
    "        return \"Found!!!\"\n",
    "    elif root.data < key:\n",
    "        return search_bst(root.right, key)\n",
    "    else:\n",
    "        return search_bst(root.left, key)"
   ]
  },
  {
   "cell_type": "code",
   "execution_count": 30,
   "id": "2e9411a8-1925-47f6-9fea-4a27cf747ca6",
   "metadata": {},
   "outputs": [
    {
     "data": {
      "text/plain": [
       "'Found!!!'"
      ]
     },
     "execution_count": 30,
     "metadata": {},
     "output_type": "execute_result"
    }
   ],
   "source": [
    "search_bst(r, 40)"
   ]
  },
  {
   "cell_type": "markdown",
   "id": "97e66fb4-55e8-42ee-b904-97d752fbb772",
   "metadata": {},
   "source": [
    "### Deletion in Binary Search Tree (BST)"
   ]
  },
  {
   "cell_type": "markdown",
   "id": "070cf9b2-9cbb-4c52-9209-0fe6669ffa47",
   "metadata": {},
   "source": [
    "#### Case 1. Delete a Leaf Node in BST"
   ]
  },
  {
   "cell_type": "code",
   "execution_count": 31,
   "id": "5833a585-45c0-4a4c-a46d-1e5a17ae5e19",
   "metadata": {},
   "outputs": [],
   "source": [
    "def get_in_successor(root):\n",
    "    curr = root.right\n",
    "    while curr is not None and curr.left is not None:\n",
    "        curr = curr.left\n",
    "    return curr\n",
    "\n",
    "def del_node(root, key):\n",
    "    if root is None:\n",
    "        return root\n",
    "    if root.data < key:\n",
    "        root.right = del_node(root.right, key)\n",
    "    elif root.data > key:\n",
    "        root.right = del_node(root.left, key)\n",
    "    else:\n",
    "        if root.left is None:\n",
    "            return root.right\n",
    "        if root.right is None:\n",
    "            return root.left\n",
    "        \n",
    "        succ = get_in_successor(root)\n",
    "        root.data = succ.data\n",
    "        \n",
    "        root.right = del_node(root.right, succ.data)\n",
    "    \n",
    "    return root\n",
    "        "
   ]
  },
  {
   "cell_type": "code",
   "execution_count": 32,
   "id": "8ea3f23f-dbbc-43b2-bbd2-910ea4d8f57e",
   "metadata": {},
   "outputs": [],
   "source": [
    "root = Node(10)\n",
    "root.left = Node(5)\n",
    "root.right = Node(15)\n",
    "root.right.left = Node(12)\n",
    "root.right.right = Node(18)\n",
    "x = 15"
   ]
  },
  {
   "cell_type": "code",
   "execution_count": 33,
   "id": "3a2eed1d-8f66-4bd6-aec2-80a3a340a4dd",
   "metadata": {},
   "outputs": [
    {
     "name": "stdout",
     "output_type": "stream",
     "text": [
      "5 10 12 15 18 "
     ]
    }
   ],
   "source": [
    "inorder_rec(root)"
   ]
  },
  {
   "cell_type": "code",
   "execution_count": 34,
   "id": "62813f53-9bb3-4166-bf30-9f9c617c87d8",
   "metadata": {},
   "outputs": [],
   "source": [
    "root = del_node(root, x)"
   ]
  },
  {
   "cell_type": "code",
   "execution_count": 35,
   "id": "70721cfd-dfe1-4cbb-8dfa-330d5c8f3989",
   "metadata": {},
   "outputs": [
    {
     "name": "stdout",
     "output_type": "stream",
     "text": [
      "5 10 12 18 "
     ]
    }
   ],
   "source": [
    "inorder_rec(root)"
   ]
  },
  {
   "cell_type": "markdown",
   "id": "b1325874-abb9-4777-926d-d4e9215dc0c1",
   "metadata": {},
   "source": [
    "### Binary Search Tree | Set 3 (Iterative Delete)"
   ]
  },
  {
   "cell_type": "code",
   "execution_count": 36,
   "id": "8be7e20b-93f4-40ad-a8bd-284fbaa0f879",
   "metadata": {},
   "outputs": [],
   "source": [
    "def deleteNode(root, key):\n",
    "    parent = None\n",
    "    curr = root\n",
    "\n",
    "    # Step 1: Find the node\n",
    "    while curr and curr.data != key:\n",
    "        parent = curr\n",
    "        if key < curr.data:\n",
    "            curr = curr.left\n",
    "        else:\n",
    "            curr = curr.right\n",
    "\n",
    "    if not curr:\n",
    "        return root  # Node not found\n",
    "\n",
    "    # CASE 1: Node is a LEAF\n",
    "    if not curr.left and not curr.right:\n",
    "        if not parent:\n",
    "            return None  # Deleting the root (which is a leaf)\n",
    "        if parent.left == curr:\n",
    "            parent.left = None\n",
    "        else:\n",
    "            parent.right = None\n",
    "\n",
    "    # CASE 2: Node has ONLY ONE child\n",
    "    elif curr.left and not curr.right:\n",
    "        # Only left child\n",
    "        if not parent:\n",
    "            return curr.left  # Deleting root\n",
    "        if parent.left == curr:\n",
    "            parent.left = curr.left\n",
    "        else:\n",
    "            parent.right = curr.left\n",
    "\n",
    "    elif curr.right and not curr.left:\n",
    "        # Only right child\n",
    "        if not parent:\n",
    "            return curr.right  # Deleting root\n",
    "        if parent.left == curr:\n",
    "            parent.left = curr.right\n",
    "        else:\n",
    "            parent.right = curr.right\n",
    "\n",
    "    # CASE 3: Node has TWO children\n",
    "    else:\n",
    "        successor = get_in_successor(curr.right)\n",
    "        val = successor.data\n",
    "        root = deleteNode(root, successor.data)\n",
    "        curr.data = val\n",
    "\n",
    "    return root\n"
   ]
  },
  {
   "cell_type": "code",
   "execution_count": 37,
   "id": "6274cd78-967a-4dc3-b7fa-6f78791a3742",
   "metadata": {},
   "outputs": [
    {
     "name": "stdout",
     "output_type": "stream",
     "text": [
      "=== Case 1: Delete Leaf Node ===\n",
      "Inorder before deletion: \n",
      "5 10 15 \n",
      "Inorder after deletion: \n",
      "10 15 \n",
      "=== Case 2: Delete Node with One Child ===\n",
      "Inorder before deletion: \n",
      "5 10 15 20 \n",
      "Inorder after deletion: \n",
      "5 10 20 \n",
      "=== Case 3: Delete Node with Two Children ===\n",
      "Inorder before deletion: \n",
      "30 50 60 70 80 \n",
      "Inorder after deletion: \n",
      "30 80 60 70 "
     ]
    }
   ],
   "source": [
    "# CASE 1: Leaf Node\n",
    "print(\"=== Case 1: Delete Leaf Node ===\")\n",
    "root1 = Node(10)\n",
    "root1.left = Node(5)\n",
    "root1.right = Node(15)\n",
    "print(\"Inorder before deletion: \")\n",
    "inorder_rec(root1)\n",
    "root1 = deleteNode(root1, 5)\n",
    "print(\"\\nInorder after deletion: \")\n",
    "inorder_rec(root1)\n",
    "print()\n",
    "\n",
    "# CASE 2: Node with One Child\n",
    "print(\"=== Case 2: Delete Node with One Child ===\")\n",
    "root2 = Node(10)\n",
    "root2.left = Node(5)\n",
    "root2.right = Node(15)\n",
    "root2.right.right = Node(20)\n",
    "print(\"Inorder before deletion: \")\n",
    "inorder_rec(root2)\n",
    "root2 = deleteNode(root2, 15)\n",
    "print(\"\\nInorder after deletion: \")\n",
    "inorder_rec(root2)\n",
    "print()\n",
    "\n",
    "# CASE 3: Node with Two Children\n",
    "print(\"=== Case 3: Delete Node with Two Children ===\")\n",
    "root3 = Node(50)\n",
    "root3.left = Node(30)\n",
    "root3.right = Node(70)\n",
    "root3.right.left = Node(60)\n",
    "root3.right.right = Node(80)\n",
    "print(\"Inorder before deletion: \")\n",
    "inorder_rec(root3)\n",
    "root3 = deleteNode(root3, 50)\n",
    "print(\"\\nInorder after deletion: \")\n",
    "inorder_rec(root3)\n"
   ]
  },
  {
   "cell_type": "code",
   "execution_count": 38,
   "id": "475b9994-4c14-4f30-b819-2ddfc6a6891f",
   "metadata": {},
   "outputs": [
    {
     "name": "stdout",
     "output_type": "stream",
     "text": [
      "10 15 "
     ]
    }
   ],
   "source": [
    "inorder_rec(root1)"
   ]
  },
  {
   "cell_type": "markdown",
   "id": "8c5c7f1b-e7cb-438c-b30e-6f2b5280f0c1",
   "metadata": {},
   "source": [
    "### Minimum in a Binary Search Tree"
   ]
  },
  {
   "cell_type": "code",
   "execution_count": 39,
   "id": "01c91372-60b3-4593-9977-0ed897f9b750",
   "metadata": {},
   "outputs": [],
   "source": [
    "def min_bst(root):\n",
    "    if root is None:\n",
    "        return\n",
    "    curr = root\n",
    "    while curr and curr.left:\n",
    "        curr = curr.left\n",
    "    return curr.data"
   ]
  },
  {
   "cell_type": "code",
   "execution_count": 40,
   "id": "cb00ea75-451a-45c9-bcca-22aa6e92ad31",
   "metadata": {},
   "outputs": [],
   "source": [
    "root = Node(5)\n",
    "root.left = Node(4)\n",
    "root.right = Node(6)\n",
    "root.left.left = Node(3)\n",
    "root.right.right = Node(7)\n",
    "root.left.left.left = Node(1)"
   ]
  },
  {
   "cell_type": "code",
   "execution_count": 41,
   "id": "2f0403ce-8ffe-428c-bf2a-f854ccee1200",
   "metadata": {},
   "outputs": [
    {
     "data": {
      "text/plain": [
       "1"
      ]
     },
     "execution_count": 41,
     "metadata": {},
     "output_type": "execute_result"
    }
   ],
   "source": [
    "min_bst(root)"
   ]
  },
  {
   "cell_type": "markdown",
   "id": "ee152451-90dd-485b-8055-53a0f45f4afe",
   "metadata": {},
   "source": [
    "### Maximum in a Binary Search Tree"
   ]
  },
  {
   "cell_type": "code",
   "execution_count": 42,
   "id": "d22aed07-6659-447e-a8ec-ecd78796e37b",
   "metadata": {},
   "outputs": [],
   "source": [
    "def max_bst(root):\n",
    "    if root is None:\n",
    "        return\n",
    "    curr = root\n",
    "    while curr and curr.right:\n",
    "        curr = curr.right\n",
    "    return curr.data"
   ]
  },
  {
   "cell_type": "code",
   "execution_count": 43,
   "id": "0a16da30-cc05-44c1-b9b7-25772ac6484e",
   "metadata": {},
   "outputs": [
    {
     "data": {
      "text/plain": [
       "7"
      ]
     },
     "execution_count": 43,
     "metadata": {},
     "output_type": "execute_result"
    }
   ],
   "source": [
    "max_bst(root)"
   ]
  },
  {
   "cell_type": "markdown",
   "id": "4f1607f3-f1d3-4e7f-81eb-a46f059d0048",
   "metadata": {},
   "source": [
    "### Inorder Successor in Binary Search Tree"
   ]
  },
  {
   "cell_type": "code",
   "execution_count": 44,
   "id": "55087ea2-659c-44ce-8497-9ae4f3cc5568",
   "metadata": {},
   "outputs": [],
   "source": [
    "def get_inorder_succ(root, target):\n",
    "    if root is None:\n",
    "        return None\n",
    "    if root.data == target and root.right is not None:\n",
    "        temp = root.right\n",
    "        while temp.left is not None:\n",
    "            temp = temp.left\n",
    "        return temp.data\n",
    "    \n",
    "    succ = None\n",
    "    curr = root\n",
    "    while curr is not None:\n",
    "        if curr.data > target:\n",
    "            succ = curr\n",
    "            curr = curr.left\n",
    "        elif curr.data <= target:\n",
    "            curr = curr.right\n",
    "    \n",
    "    return succ.data"
   ]
  },
  {
   "cell_type": "code",
   "execution_count": 45,
   "id": "d86f5177-97d5-4127-bada-e541ef974472",
   "metadata": {},
   "outputs": [],
   "source": [
    "root = Node(20)\n",
    "root.left = Node(8)\n",
    "root.right = Node(22)\n",
    "root.left.left = Node(4)\n",
    "root.left.right = Node(12)\n",
    "root.left.right.left = Node(10)\n",
    "root.left.right.right = Node(14)\n",
    "\n",
    "target = 14"
   ]
  },
  {
   "cell_type": "code",
   "execution_count": 46,
   "id": "41e9bea9-9407-453d-8ba1-ad63bedbaac6",
   "metadata": {},
   "outputs": [
    {
     "data": {
      "text/plain": [
       "20"
      ]
     },
     "execution_count": 46,
     "metadata": {},
     "output_type": "execute_result"
    }
   ],
   "source": [
    "get_inorder_succ(root, target)"
   ]
  },
  {
   "cell_type": "markdown",
   "id": "a2f7dc98-d434-49f7-8f3f-21b85b3ce63d",
   "metadata": {},
   "source": [
    "### Inorder predecessor in Binary Search Tree"
   ]
  },
  {
   "cell_type": "code",
   "execution_count": 47,
   "id": "6f63a2bd-0288-439f-a498-47129d687f48",
   "metadata": {},
   "outputs": [],
   "source": [
    "def inorder_pred(root, target):\n",
    "    if root is None:\n",
    "        return None\n",
    "    \n",
    "    pred = None\n",
    "    curr = root\n",
    "    while curr is not None:\n",
    "        if target > curr.data:\n",
    "            pred = curr\n",
    "            curr = curr.right\n",
    "        \n",
    "        elif target < curr.data:\n",
    "            curr = curr.left\n",
    "        \n",
    "        else:\n",
    "            if curr.left is not None:\n",
    "                temp = curr.left\n",
    "                while temp.right is not None:\n",
    "                    temp = temp.right\n",
    "            return temp.data\n",
    "    return pred"
   ]
  },
  {
   "cell_type": "code",
   "execution_count": 48,
   "id": "d1e3c0e5-b45f-42dc-bcea-91f2ae431653",
   "metadata": {},
   "outputs": [
    {
     "data": {
      "text/plain": [
       "10"
      ]
     },
     "execution_count": 48,
     "metadata": {},
     "output_type": "execute_result"
    }
   ],
   "source": [
    "# Construct a BST\n",
    "root = Node(20)\n",
    "root.left = Node(8)\n",
    "root.right = Node(22)\n",
    "root.left.left = Node(4)\n",
    "root.left.right = Node(12)\n",
    "root.left.right.left = Node(10)\n",
    "root.left.right.right = Node(14)\n",
    "\n",
    "target = 12\n",
    "inorder_pred(root, target)"
   ]
  },
  {
   "cell_type": "markdown",
   "id": "c39daa38-97ba-4a4d-a578-73c68ab075f8",
   "metadata": {},
   "source": [
    "### Second largest element in BST"
   ]
  },
  {
   "cell_type": "code",
   "execution_count": 49,
   "id": "67f0a782-7bc1-4a3e-82af-573789c601c2",
   "metadata": {},
   "outputs": [],
   "source": [
    "def reverse_inorder(root, count, res):\n",
    "    if root is None or count[0] >= 2:\n",
    "        return\n",
    "    reverse_inorder(root.right, count, res)\n",
    "    count[0] += 1\n",
    "    \n",
    "    if count[0] == 2:\n",
    "        res[0] = root.data\n",
    "        return\n",
    "    \n",
    "    reverse_inorder(root.left, count, res)\n",
    "\n",
    "def find_second_largest(root):\n",
    "    count = [0]   # Use list to make it mutable\n",
    "    res = [-1]    # Default value if tree has < 2 nodes\n",
    "    \n",
    "    reverse_inorder(root, count, res)\n",
    "    return res[0]"
   ]
  },
  {
   "cell_type": "code",
   "execution_count": 50,
   "id": "93535057-2180-42c8-8094-d904f7d66d4b",
   "metadata": {},
   "outputs": [
    {
     "data": {
      "text/plain": [
       "7"
      ]
     },
     "execution_count": 50,
     "metadata": {},
     "output_type": "execute_result"
    }
   ],
   "source": [
    "root = Node(7)\n",
    "root.left = Node(4)\n",
    "root.right = Node(8)\n",
    "root.left.left = Node(3)\n",
    "root.left.right = Node(5)\n",
    "\n",
    "find_second_largest(root)"
   ]
  },
  {
   "cell_type": "markdown",
   "id": "9a84a8cb-befb-4063-93f0-7166de890b0f",
   "metadata": {},
   "source": [
    "### Sum of k smallest elements in BST"
   ]
  },
  {
   "cell_type": "code",
   "execution_count": 51,
   "id": "0e825b84-07ef-4bbc-b528-4fee5ecbf4e0",
   "metadata": {},
   "outputs": [],
   "source": [
    "def calculate_sum(root, k, res):\n",
    "    if root is None:\n",
    "        return\n",
    "    if root.left is not None:\n",
    "        calculate_sum(root.left, k, res)\n",
    "        \n",
    "    if k[0] == 0:\n",
    "        return\n",
    "    else:\n",
    "        res[0] += root.data\n",
    "        k[0] -= 1\n",
    "    \n",
    "    if root.right is not None:\n",
    "        calculate_sum(root.right, k, res)\n",
    "\n",
    "def smallest_sum_k(root, k):\n",
    "    res = [0]\n",
    "    calculate_sum(root, [k], res)\n",
    "    return res[0]"
   ]
  },
  {
   "cell_type": "code",
   "execution_count": 52,
   "id": "7f81be15-1146-4fd0-b535-d1122f21371e",
   "metadata": {},
   "outputs": [],
   "source": [
    "root = Node(8)\n",
    "root.left = Node(7)\n",
    "root.right = Node(10)\n",
    "root.left.left = Node(2)\n",
    "root.right.left = Node(9)\n",
    "root.right.right = Node(13)"
   ]
  },
  {
   "cell_type": "code",
   "execution_count": 53,
   "id": "9ac748b9-9fbd-4802-acb7-ea8da8d3f910",
   "metadata": {},
   "outputs": [
    {
     "data": {
      "text/plain": [
       "17"
      ]
     },
     "execution_count": 53,
     "metadata": {},
     "output_type": "execute_result"
    }
   ],
   "source": [
    "smallest_sum_k(root, 3)"
   ]
  },
  {
   "cell_type": "markdown",
   "id": "ac51d594-553f-4eaa-b5fd-e61fa18272fc",
   "metadata": {},
   "source": [
    "### Morris Traversal Inorder"
   ]
  },
  {
   "cell_type": "code",
   "execution_count": 54,
   "id": "7a90e0f5-eec0-4b89-8eca-0ca5fba40efa",
   "metadata": {},
   "outputs": [],
   "source": [
    "def morris_inorder(root):\n",
    "    curr = root\n",
    "    while curr:\n",
    "        if curr.left is None:\n",
    "            print(curr.data, end = \" \")\n",
    "            curr = curr.right\n",
    "        else:\n",
    "            pred = curr.left\n",
    "            while pred.right and pred.right != curr:\n",
    "                pred = pred.right\n",
    "            \n",
    "            if pred.right is None:\n",
    "                pred.right = curr\n",
    "                curr = curr.left\n",
    "            elif pred.right == curr:\n",
    "                print(curr.data, end = \" \")\n",
    "                curr = curr.right\n",
    "                pred.right = None\n",
    "                "
   ]
  },
  {
   "cell_type": "code",
   "execution_count": 55,
   "id": "e3402af8-273a-4ffc-81b6-2c1d342954a0",
   "metadata": {},
   "outputs": [
    {
     "name": "stdout",
     "output_type": "stream",
     "text": [
      "2 7 8 9 10 13 "
     ]
    }
   ],
   "source": [
    "morris_inorder(root)"
   ]
  },
  {
   "cell_type": "markdown",
   "id": "5c954b1b-a262-4c5d-9a35-7130a9880e01",
   "metadata": {},
   "source": [
    "### Print BST keys in given Range | O(1) Space"
   ]
  },
  {
   "cell_type": "code",
   "execution_count": 56,
   "id": "bd0762e7-839f-4cd9-9be1-02c7773687d3",
   "metadata": {},
   "outputs": [],
   "source": [
    "def print_in_range_morris(root, low, high):\n",
    "    curr = root\n",
    "    while curr:\n",
    "        if curr.left is None:\n",
    "            if low <= curr.data <= high:\n",
    "                print(curr.data, end=' ')\n",
    "            curr = curr.right\n",
    "        else:\n",
    "            pred = curr.left\n",
    "            while pred.right and pred.right != curr:\n",
    "                pred = pred.right\n",
    "\n",
    "            if pred.right is None:\n",
    "                pred.right = curr\n",
    "                curr = curr.left\n",
    "            else:\n",
    "                pred.right = None\n",
    "                if low <= curr.data <= high:\n",
    "                    print(curr.data, end=' ')\n",
    "                curr = curr.right\n"
   ]
  },
  {
   "cell_type": "code",
   "execution_count": 57,
   "id": "ca27e5a2-cc21-47b5-ac47-8bdd45222c24",
   "metadata": {},
   "outputs": [
    {
     "name": "stdout",
     "output_type": "stream",
     "text": [
      "7 8 9 10 "
     ]
    }
   ],
   "source": [
    "print_in_range_morris(root, 7, 12)"
   ]
  },
  {
   "cell_type": "markdown",
   "id": "ac8fc422-59e0-4698-8b9e-64bb7348d737",
   "metadata": {},
   "source": [
    "### Balance a Binary Search Tree"
   ]
  },
  {
   "cell_type": "code",
   "execution_count": 58,
   "id": "8c3c5d08-2f6f-403b-955a-264069038908",
   "metadata": {},
   "outputs": [],
   "source": [
    "def store_nodes(root, nodes):\n",
    "    if root is None:\n",
    "        return\n",
    "    store_nodes(root.left, nodes)\n",
    "    nodes.append(root.data)\n",
    "    store_nodes(root.right, nodes)\n",
    "    \n",
    "def make_balance_tree(nodes, s, e):\n",
    "    if s > e:\n",
    "        return\n",
    "    mid = (s+e)//2\n",
    "    root = Node(nodes[mid])\n",
    "    root.left = make_balance_tree(nodes, s, mid - 1)\n",
    "    root.right = make_balance_tree(nodes, mid + 1, e)\n",
    "    \n",
    "    return root\n",
    "    \n",
    "\n",
    "def balance_bst(root):\n",
    "    nodes = []\n",
    "    \n",
    "    store_nodes(root, nodes)\n",
    "    print(nodes)\n",
    "    \n",
    "    new_root = make_balance_tree(nodes, 0, len(nodes) - 1)\n",
    "    return new_root"
   ]
  },
  {
   "cell_type": "code",
   "execution_count": 59,
   "id": "9c01a387-41eb-472a-9d8e-80c539f746c6",
   "metadata": {},
   "outputs": [
    {
     "name": "stdout",
     "output_type": "stream",
     "text": [
      "[1, 2, 3, 4, 5, 6, 7]\n"
     ]
    },
    {
     "data": {
      "text/plain": [
       "[[4], [2, 6], [1, 3, 5, 7]]"
      ]
     },
     "execution_count": 59,
     "metadata": {},
     "output_type": "execute_result"
    }
   ],
   "source": [
    "root = Node(4)\n",
    "root.left = Node(3)\n",
    "root.left.left = Node(2)\n",
    "root.left.left.left = Node(1)\n",
    "root.right = Node(5)\n",
    "root.right.right = Node(6)\n",
    "root.right.right.right = Node(7)\n",
    "\n",
    "balancedRoot = balance_bst(root)\n",
    "level_order_traversal(balancedRoot)"
   ]
  },
  {
   "cell_type": "markdown",
   "id": "b4765027-af78-4114-bfb5-180860f0cf49",
   "metadata": {},
   "source": [
    "### Check if a Binary Tree is BST or not"
   ]
  },
  {
   "cell_type": "code",
   "execution_count": 60,
   "id": "8d697202-c7f8-48a4-8726-526992232b8e",
   "metadata": {},
   "outputs": [],
   "source": [
    "def isBST(root, min_val=float('-inf'), max_val=float('inf')):\n",
    "    \n",
    "    if root is None:\n",
    "        return True\n",
    "    if not (min_val < root.data < max_val):\n",
    "        return False\n",
    "    return (isBST(root.left, min_val, root.data) and isBST(root.right, root.data, max_val))\n",
    "    "
   ]
  },
  {
   "cell_type": "code",
   "execution_count": 61,
   "id": "aa704240-c5dc-4b8d-b939-7f71aa4383b3",
   "metadata": {},
   "outputs": [
    {
     "name": "stdout",
     "output_type": "stream",
     "text": [
      "True\n"
     ]
    }
   ],
   "source": [
    "root = Node(10)\n",
    "root.left = Node(5)\n",
    "root.right = Node(15)\n",
    "\n",
    "print(isBST(root))"
   ]
  },
  {
   "cell_type": "code",
   "execution_count": 62,
   "id": "090e11c9-feb3-493f-92bd-f797b14d898d",
   "metadata": {},
   "outputs": [
    {
     "name": "stdout",
     "output_type": "stream",
     "text": [
      "False\n"
     ]
    }
   ],
   "source": [
    "root = Node(10)\n",
    "root.left = Node(5)\n",
    "root.right = Node(8)\n",
    "\n",
    "print(isBST(root))"
   ]
  },
  {
   "cell_type": "code",
   "execution_count": 63,
   "id": "ffd2b831-ad80-4dcd-92df-22d43543cdb5",
   "metadata": {},
   "outputs": [],
   "source": [
    "def isBST_Morris(root):\n",
    "    prev = None\n",
    "    curr = root\n",
    "    \n",
    "    while curr:\n",
    "        if curr.left is None:\n",
    "            if prev and prev.data >= curr.data:\n",
    "                return False\n",
    "            prev = curr\n",
    "            curr = curr.right\n",
    "        else:\n",
    "            pred = curr.left\n",
    "            while pred.right and pred.right != curr:\n",
    "                pred = pred.right\n",
    "            \n",
    "            if pred.right is None:\n",
    "                pred.right = curr\n",
    "                curr = curr.left\n",
    "            \n",
    "            else:\n",
    "                pred.right = None\n",
    "                if prev and prev.data >= curr.data:\n",
    "                    return False\n",
    "                prev = curr\n",
    "                curr = curr.right\n",
    "                \n",
    "    return True"
   ]
  },
  {
   "cell_type": "code",
   "execution_count": 64,
   "id": "26358db1-2f0b-4caf-bd96-511403bf19d5",
   "metadata": {},
   "outputs": [
    {
     "name": "stdout",
     "output_type": "stream",
     "text": [
      "True\n"
     ]
    }
   ],
   "source": [
    "root = Node(10)\n",
    "root.left = Node(5)\n",
    "root.right = Node(18)\n",
    "\n",
    "print(isBST_Morris(root))"
   ]
  },
  {
   "cell_type": "markdown",
   "id": "2a8adc8a-4c15-4409-b1f2-ed416371b589",
   "metadata": {},
   "source": [
    "### Binary Tree to Binary Search Tree Conversion"
   ]
  },
  {
   "cell_type": "code",
   "execution_count": 65,
   "id": "f2f25366-a908-4c11-8cfb-bbfb7c9284ac",
   "metadata": {},
   "outputs": [],
   "source": [
    "def construct_bst(root, nodes, index):\n",
    "    if root is None:\n",
    "        return\n",
    "    construct_bst(root.left, nodes, index)\n",
    "    \n",
    "    root.data = nodes[index[0]]\n",
    "    index[0] += 1\n",
    "    \n",
    "    construct_bst(root.right, nodes, index)\n",
    "    \n",
    "    \n",
    "def convert_bt_to_bst(root):\n",
    "    nodes = []\n",
    "    store_nodes(root, nodes)\n",
    "    \n",
    "    nodes.sort()\n",
    "    index = [0]\n",
    "    \n",
    "    construct_bst(root, nodes, index)\n",
    "    return root"
   ]
  },
  {
   "cell_type": "code",
   "execution_count": 66,
   "id": "7a4d61a3-c88f-4445-ba40-60a74d163726",
   "metadata": {},
   "outputs": [],
   "source": [
    "root = Node(10)\n",
    "root.left = Node(2)\n",
    "root.right = Node(7)\n",
    "root.left.left = Node(8)\n",
    "root.left.right = Node(4)\n",
    "\n",
    "ans = convert_bt_to_bst(root)"
   ]
  },
  {
   "cell_type": "code",
   "execution_count": 67,
   "id": "0940b0de-be20-47f4-bc3e-06a8d01b1fd7",
   "metadata": {},
   "outputs": [
    {
     "name": "stdout",
     "output_type": "stream",
     "text": [
      "2 4 7 8 10 "
     ]
    }
   ],
   "source": [
    "inorder_rec(ans)"
   ]
  },
  {
   "cell_type": "code",
   "execution_count": 68,
   "id": "f402047f-b758-435b-b528-588bba247d0f",
   "metadata": {},
   "outputs": [],
   "source": [
    "def store_inorder(node, inorder_list):\n",
    "    if node is None:\n",
    "        return\n",
    "    store_inorder(node.left, inorder_list)\n",
    "    inorder_list.append(node.data)\n",
    "    store_inorder(node.right, inorder_list)\n",
    "    \n",
    "def fill_preorder(node, inorder_list, index):\n",
    "    if node is None:\n",
    "        return\n",
    "    node.data = inorder_list[index[0]]\n",
    "    index[0] += 1\n",
    "    fill_preorder(node.left, inorder_list, index)\n",
    "    fill_preorder(node.right, inorder_list, index)\n",
    "\n",
    "def convertBSTtoMinHeap(root):\n",
    "    inorder_list = []\n",
    "    store_inorder(root, inorder_list)         # Step 1\n",
    "    index = [0]\n",
    "    fill_preorder(root, inorder_list, index)  # Step 2"
   ]
  },
  {
   "cell_type": "code",
   "execution_count": 69,
   "id": "4de78482-c27e-4f87-911c-f956b0c51f9a",
   "metadata": {},
   "outputs": [],
   "source": [
    "root = Node(4)\n",
    "root.left = Node(2)\n",
    "root.right = Node(6)\n",
    "root.left.left = Node(1)\n",
    "root.left.right = Node(3)\n",
    "root.right.left = Node(5)\n",
    "root.right.right = Node(7)\n",
    "\n",
    "convertBSTtoMinHeap(root)"
   ]
  },
  {
   "cell_type": "code",
   "execution_count": 70,
   "id": "1fa626ba-39d2-42d9-9083-6bb04a23fbde",
   "metadata": {},
   "outputs": [
    {
     "name": "stdout",
     "output_type": "stream",
     "text": [
      "3 2 4 1 6 5 7 "
     ]
    }
   ],
   "source": [
    "inorder_rec(root)"
   ]
  },
  {
   "cell_type": "markdown",
   "id": "b95a40fc-b8da-41e1-b1fe-7953307413b0",
   "metadata": {},
   "source": [
    "### Add all greater values to every node in a given BST"
   ]
  },
  {
   "cell_type": "code",
   "execution_count": 71,
   "id": "9eaa1589-672d-48f0-9970-0a5fa8665d70",
   "metadata": {},
   "outputs": [],
   "source": [
    "def addGreaterValues(root):\n",
    "    # sum_ref is a mutable object to track cumulative sum\n",
    "    sum_ref = [0]\n",
    "    def reverse_inorder(node):\n",
    "        if not node:\n",
    "            return\n",
    "        # Right → Root → Left\n",
    "        reverse_inorder(node.right)\n",
    "        sum_ref[0] += node.data\n",
    "        node.data = sum_ref[0]\n",
    "        reverse_inorder(node.left)\n",
    "    \n",
    "    reverse_inorder(root)\n"
   ]
  },
  {
   "cell_type": "code",
   "execution_count": 72,
   "id": "3647d373-c161-4c8c-ba71-b6a2e813e442",
   "metadata": {},
   "outputs": [
    {
     "name": "stdout",
     "output_type": "stream",
     "text": [
      "3 5 7 \n",
      "\n",
      "15 12 7 "
     ]
    }
   ],
   "source": [
    "root = Node(5)\n",
    "root.left = Node(3)\n",
    "root.right = Node(7)\n",
    "\n",
    "inorder_rec(root)\n",
    "\n",
    "addGreaterValues(root)\n",
    "\n",
    "print(\"\\n\")\n",
    "inorder_rec(root)"
   ]
  },
  {
   "cell_type": "markdown",
   "id": "55b681f6-29e3-4728-af78-110abd210c1a",
   "metadata": {},
   "source": [
    "### Check if two BSTs contain same set of elements"
   ]
  },
  {
   "cell_type": "code",
   "execution_count": 73,
   "id": "e0761ed3-8bd6-4bfa-9a26-408292d1caa5",
   "metadata": {},
   "outputs": [],
   "source": [
    "def sameElements(root1, root2):\n",
    "    list1 = []\n",
    "    list2 = []\n",
    "    \n",
    "    store_inorder(root1, list1)\n",
    "    store_inorder(root2, list2)\n",
    "    \n",
    "    return list1 == list2"
   ]
  },
  {
   "cell_type": "code",
   "execution_count": 74,
   "id": "f9b8d814-a3d0-4952-9b90-9930aeb9784a",
   "metadata": {},
   "outputs": [
    {
     "data": {
      "text/plain": [
       "True"
      ]
     },
     "execution_count": 74,
     "metadata": {},
     "output_type": "execute_result"
    }
   ],
   "source": [
    "root1 = Node(5)\n",
    "root1.left = Node(3)\n",
    "root1.right = Node(8)\n",
    "\n",
    "root2 = Node(8)\n",
    "root2.left = Node(5)\n",
    "root2.left.left = Node(3)\n",
    "\n",
    "sameElements(root1, root2)"
   ]
  },
  {
   "cell_type": "code",
   "execution_count": 75,
   "id": "eaa94ee4-9b18-4cf3-9b89-0e2a0c2a5159",
   "metadata": {},
   "outputs": [],
   "source": [
    "def morris_next(curr):\n",
    "    while curr:\n",
    "        if curr.left is None:\n",
    "            val = curr.data\n",
    "            curr = curr.right\n",
    "            return val, curr\n",
    "        else:\n",
    "            pred = curr.left\n",
    "            while pred.right and pred.right != curr:\n",
    "                pred = pred.right\n",
    "            if pred.right is None:\n",
    "                pred.right = curr\n",
    "                curr = curr.left\n",
    "            else:\n",
    "                pred.right = None\n",
    "                val = curr.data\n",
    "                curr = curr.right\n",
    "                return val, curr\n",
    "    return None, None\n",
    "\n",
    "def sameElementsMorris(root1, root2):\n",
    "    curr1 = root1\n",
    "    curr2 = root2\n",
    "\n",
    "    while True:\n",
    "        val1, curr1 = morris_next(curr1)\n",
    "        val2, curr2 = morris_next(curr2)\n",
    "\n",
    "        if val1 is None and val2 is None:\n",
    "            return True\n",
    "        if val1 != val2:\n",
    "            return False"
   ]
  },
  {
   "cell_type": "code",
   "execution_count": 76,
   "id": "971b7ad0-adee-42ef-a8ee-4ab40def7e73",
   "metadata": {},
   "outputs": [
    {
     "data": {
      "text/plain": [
       "True"
      ]
     },
     "execution_count": 76,
     "metadata": {},
     "output_type": "execute_result"
    }
   ],
   "source": [
    "root1 = Node(5)\n",
    "root1.left = Node(3)\n",
    "root1.right = Node(8)\n",
    "\n",
    "root2 = Node(8)\n",
    "root2.left = Node(5)\n",
    "root2.left.left = Node(3)\n",
    "\n",
    "sameElementsMorris(root1, root2)"
   ]
  },
  {
   "cell_type": "markdown",
   "id": "0f47a8e6-bb57-4ee2-b1f3-19b5a56ce7c7",
   "metadata": {},
   "source": [
    "### Construct BST from Preorder Traversal"
   ]
  },
  {
   "cell_type": "code",
   "execution_count": 77,
   "id": "70f68c2f-844a-4cca-9d62-d125d19b094d",
   "metadata": {},
   "outputs": [],
   "source": [
    "def constructBST(preorder):\n",
    "    index = [0]  # Use list for mutable reference\n",
    "\n",
    "    def build(min_val, max_val):\n",
    "        if index[0] == len(preorder):\n",
    "            return None\n",
    "\n",
    "        val = preorder[index[0]]\n",
    "\n",
    "        if val < min_val or val > max_val:\n",
    "            return None\n",
    "\n",
    "        root = Node(val)\n",
    "        index[0] += 1\n",
    "\n",
    "        root.left = build(min_val, val)\n",
    "        root.right = build(val, max_val)\n",
    "\n",
    "        return root\n",
    "\n",
    "    return build(float('-inf'), float('inf'))"
   ]
  },
  {
   "cell_type": "code",
   "execution_count": 78,
   "id": "3585851a-0932-41c7-984b-4d1b95b8884d",
   "metadata": {},
   "outputs": [
    {
     "name": "stdout",
     "output_type": "stream",
     "text": [
      "1 5 7 10 40 50 "
     ]
    }
   ],
   "source": [
    "pre = [10, 5, 1, 7, 40, 50]\n",
    "root = constructBST(pre)\n",
    "inorder_rec(root)"
   ]
  },
  {
   "cell_type": "markdown",
   "id": "64422514-b1ea-4abb-b363-cd136a0314ec",
   "metadata": {},
   "source": [
    "### BST to a Tree with sum of all smaller keys"
   ]
  },
  {
   "cell_type": "code",
   "execution_count": 79,
   "id": "187ede6f-1d36-44aa-89ec-e8629b0db695",
   "metadata": {},
   "outputs": [],
   "source": [
    "def tree_with_smaller(root):\n",
    "    csum = [0]\n",
    "    \n",
    "    def transform(root, csum):\n",
    "        if root is None:\n",
    "            return\n",
    "        transform(root.left, csum)\n",
    "        csum[0] += root.data\n",
    "        root.data = csum[0]\n",
    "        transform(root.right, csum)\n",
    "    \n",
    "    transform(root, csum)\n",
    "    return root"
   ]
  },
  {
   "cell_type": "code",
   "execution_count": 80,
   "id": "bb64c488-aa8c-4ab3-b8c1-da2e6aa24307",
   "metadata": {},
   "outputs": [],
   "source": [
    "root = Node(11)\n",
    "root.left = Node(2)\n",
    "root.right = Node(29)\n",
    "root.left.left = Node(1)\n",
    "root.left.right = Node(7)\n",
    "root.right.left = Node(15)\n",
    "root.right.right = Node(40)\n",
    "root.right.right.right = Node(50)\n"
   ]
  },
  {
   "cell_type": "code",
   "execution_count": 81,
   "id": "a608957c-d7dd-4114-b3fa-e59e15b21d45",
   "metadata": {},
   "outputs": [],
   "source": [
    "res = tree_with_smaller(root)"
   ]
  },
  {
   "cell_type": "code",
   "execution_count": 82,
   "id": "a64c3341-d0f5-4408-a028-d5c7c8cdbf45",
   "metadata": {},
   "outputs": [
    {
     "name": "stdout",
     "output_type": "stream",
     "text": [
      "1 3 10 21 36 65 105 155 "
     ]
    }
   ],
   "source": [
    "inorder_rec(res)"
   ]
  },
  {
   "cell_type": "markdown",
   "id": "9b7d97b4-7980-4d93-ac6e-731f16b6bbaa",
   "metadata": {},
   "source": [
    "### Construct BST from its given level order traversal"
   ]
  },
  {
   "cell_type": "code",
   "execution_count": 83,
   "id": "f01aae4b-410e-4e1b-a238-a7b182d32ef3",
   "metadata": {},
   "outputs": [],
   "source": [
    "def construct_bst_helper(root, i):\n",
    "    if root is None:\n",
    "        return Node(i)\n",
    "    elif i < root.data:\n",
    "        root.left = construct_bst_helper(root.left, i)\n",
    "    else:\n",
    "        root.right = construct_bst_helper(root.right, i)\n",
    "    return root\n",
    "    \n",
    "    \n",
    "def construct_bst(arr):\n",
    "    n = len(arr)\n",
    "    \n",
    "    if n == 0:\n",
    "        return\n",
    "    root = None\n",
    "    for i in arr:\n",
    "        root = construct_bst_helper(root, i)\n",
    "    return root"
   ]
  },
  {
   "cell_type": "code",
   "execution_count": 84,
   "id": "8326804b-74ac-49e7-a555-5f5da6bb183b",
   "metadata": {},
   "outputs": [
    {
     "data": {
      "text/plain": [
       "[1, 3, 4, 5, 6, 7, 8, 10, 12]"
      ]
     },
     "execution_count": 84,
     "metadata": {},
     "output_type": "execute_result"
    }
   ],
   "source": [
    "arr = [7, 4, 12, 3, 6, 8, 1, 5, 10]\n",
    "root = construct_bst(arr)\n",
    "inorder_interative(root)"
   ]
  },
  {
   "cell_type": "markdown",
   "id": "6df2aaf7-171c-4926-9288-0ba4b3f3987e",
   "metadata": {},
   "source": [
    "### Maximum element between two nodes of BST"
   ]
  },
  {
   "cell_type": "code",
   "execution_count": 85,
   "id": "cce59028-3153-4f10-8955-b01688ff332d",
   "metadata": {},
   "outputs": [],
   "source": [
    "arr = [18, 36, 9, 6, 12, 10, 1, 8]\n",
    "a, b = 1, 10\n",
    "n = len(arr)"
   ]
  },
  {
   "cell_type": "code",
   "execution_count": 86,
   "id": "65985eb8-1732-419b-a8a6-07f26ddd945b",
   "metadata": {},
   "outputs": [],
   "source": [
    "root = None\n",
    "for i in arr:\n",
    "    root = insert(root, i)"
   ]
  },
  {
   "cell_type": "code",
   "execution_count": 87,
   "id": "e01baf3d-5979-4ef0-9e95-1ae80c819949",
   "metadata": {},
   "outputs": [
    {
     "data": {
      "text/plain": [
       "[1, 6, 8, 9, 10, 12, 18, 36]"
      ]
     },
     "execution_count": 87,
     "metadata": {},
     "output_type": "execute_result"
    }
   ],
   "source": [
    "inorder_interative(root)"
   ]
  },
  {
   "cell_type": "code",
   "execution_count": 88,
   "id": "36ad7dcf-d755-49c0-ba22-f7309dc6aab3",
   "metadata": {},
   "outputs": [],
   "source": [
    "def maxInPath(root, x):\n",
    "    curr = root\n",
    "    me = float(\"-inf\")\n",
    "    while curr is not None and curr.data != x:\n",
    "        me = max(me, curr.data)\n",
    "        if x < curr.data:\n",
    "            curr = curr.left\n",
    "        else:\n",
    "            curr = curr.right\n",
    "    return max(me, x)\n",
    "\n",
    "def find_max_ele(root, a, b):\n",
    "    curr = root\n",
    "    while (a < curr.data and b < curr.data) or (a > curr.data and b > curr.data):\n",
    "        if (a < curr.data and b < curr.data):\n",
    "            curr = curr.left\n",
    "        elif (a > curr.data and b > curr.data):\n",
    "            curr = curr.right\n",
    "    \n",
    "    return max(maxInPath(curr, a), maxInPath(curr, b))"
   ]
  },
  {
   "cell_type": "code",
   "execution_count": 89,
   "id": "a7334ab7-9d68-480f-8d71-c40c6c0f5408",
   "metadata": {},
   "outputs": [
    {
     "data": {
      "text/plain": [
       "12"
      ]
     },
     "execution_count": 89,
     "metadata": {},
     "output_type": "execute_result"
    }
   ],
   "source": [
    "find_max_ele(root, a, b)"
   ]
  },
  {
   "cell_type": "markdown",
   "id": "5edb23cf-529d-432e-8bb5-a3267e362189",
   "metadata": {},
   "source": [
    "### Check if the given array can represent Level Order Traversal of Binary Search Tree"
   ]
  },
  {
   "cell_type": "code",
   "execution_count": 90,
   "id": "4a429f4e-3c9e-4878-bc19-b51823de337e",
   "metadata": {},
   "outputs": [],
   "source": [
    "import sys\n",
    "from collections import deque\n",
    "def check_bst(arr):\n",
    "    q = deque()\n",
    "    n = len(arr)\n",
    "    if n == 0:\n",
    "        return True\n",
    "    \n",
    "    q.append((arr[0], -sys.maxsize, sys.maxsize))\n",
    "    index = 1\n",
    "    \n",
    "    while index != n and q:\n",
    "        node_data, left, right = q.popleft()\n",
    "        \n",
    "        if left <= arr[index] < node_data:\n",
    "            q.append((arr[index], left, node_data - 1))\n",
    "            index += 1\n",
    "        \n",
    "        if index < n and node_data < arr[index] <= right:\n",
    "            q.append((arr[index], node_data + 1, right))\n",
    "            index += 1\n",
    "        \n",
    "        \n",
    "    print(index)\n",
    "    return index == n\n",
    "            "
   ]
  },
  {
   "cell_type": "code",
   "execution_count": 91,
   "id": "7c950fd1-4612-46d1-957b-e6b2e6695833",
   "metadata": {},
   "outputs": [],
   "source": [
    "arr = [7, 4, 12, 3, 6, 8, 1, 5, 10]"
   ]
  },
  {
   "cell_type": "code",
   "execution_count": 92,
   "id": "c313cf72-d4b5-415f-9c4f-5a12e2ea92c8",
   "metadata": {},
   "outputs": [
    {
     "name": "stdout",
     "output_type": "stream",
     "text": [
      "9\n"
     ]
    },
    {
     "data": {
      "text/plain": [
       "True"
      ]
     },
     "execution_count": 92,
     "metadata": {},
     "output_type": "execute_result"
    }
   ],
   "source": [
    "check_bst(arr)"
   ]
  },
  {
   "cell_type": "markdown",
   "id": "3f16bb6d-7048-45e6-8b01-31c62a4fca60",
   "metadata": {},
   "source": [
    "### Maximum sum of nodes in Binary tree such that no two are adjacent"
   ]
  },
  {
   "cell_type": "code",
   "execution_count": 93,
   "id": "e4cb024a-20ac-4b8a-9c43-99d2860885ad",
   "metadata": {},
   "outputs": [],
   "source": [
    "def max_sum(root):\n",
    "    # Helper function to return the maximum sum for each subtree.\n",
    "    def helper(node):\n",
    "        if node is None:\n",
    "            return (0, 0)  # (sum if included, sum if excluded)\n",
    "\n",
    "        # Recursive calls for left and right children\n",
    "        left_included, left_excluded = helper(node.left)\n",
    "        right_included, right_excluded = helper(node.right)\n",
    "\n",
    "        # If we include this node, we cannot include its children\n",
    "        include_node = node.data + left_excluded + right_excluded\n",
    "\n",
    "        # If we exclude this node, we can take the max of including or excluding its children\n",
    "        exclude_node = max(left_included, left_excluded) + max(right_included, right_excluded)\n",
    "\n",
    "        return (include_node, exclude_node)\n",
    "\n",
    "    # The result will be the maximum of including or excluding the root node\n",
    "    included, excluded = helper(root)\n",
    "    return max(included, excluded)"
   ]
  },
  {
   "cell_type": "code",
   "execution_count": 94,
   "id": "a152717a-c870-4c40-a36c-f70768c8ea96",
   "metadata": {},
   "outputs": [
    {
     "name": "stdout",
     "output_type": "stream",
     "text": [
      "11\n"
     ]
    }
   ],
   "source": [
    "root = Node(1)\n",
    "root.left = Node(2)\n",
    "root.right = Node(3)\n",
    "root.right.left = Node(4)\n",
    "root.right.right = Node(5)\n",
    "root.left.left = Node(1)\n",
    "\n",
    "print(max_sum(root))"
   ]
  },
  {
   "cell_type": "code",
   "execution_count": 95,
   "id": "63b80f40-dd95-458b-8b8d-588b01931fad",
   "metadata": {},
   "outputs": [],
   "source": [
    "def max_sum_memo(root):\n",
    "    # Memoization cache\n",
    "    memo = {}\n",
    "\n",
    "    # Helper function with memoization\n",
    "    def helper(node):\n",
    "        if node is None:\n",
    "            return (0, 0)  # (sum if included, sum if excluded)\n",
    "        \n",
    "        # If we've already computed the result for this node, return it\n",
    "        if node in memo:\n",
    "            return memo[node]\n",
    "\n",
    "        # Recursively calculate for left and right children\n",
    "        left_included, left_excluded = helper(node.left)\n",
    "        right_included, right_excluded = helper(node.right)\n",
    "\n",
    "        # If we include this node, we must exclude its children\n",
    "        include_node = node.data + left_excluded + right_excluded\n",
    "\n",
    "        # If we exclude this node, we take the maximum of including or excluding its children\n",
    "        exclude_node = max(left_included, left_excluded) + max(right_included, right_excluded)\n",
    "\n",
    "        # Memoize the result for the current node\n",
    "        memo[node] = (include_node, exclude_node)\n",
    "\n",
    "        return memo[node]\n",
    "\n",
    "    # Start from the root\n",
    "    included, excluded = helper(root)\n",
    "\n",
    "    # The result will be the maximum of including or excluding the root\n",
    "    return max(included, excluded)"
   ]
  },
  {
   "cell_type": "code",
   "execution_count": 96,
   "id": "d6319e6f-3fd1-4cdd-b8ce-e79f77d44796",
   "metadata": {},
   "outputs": [
    {
     "data": {
      "text/plain": [
       "11"
      ]
     },
     "execution_count": 96,
     "metadata": {},
     "output_type": "execute_result"
    }
   ],
   "source": [
    "max_sum_memo(root)"
   ]
  },
  {
   "cell_type": "markdown",
   "id": "0b40b973-843c-4eb5-9343-a640c547f436",
   "metadata": {},
   "source": [
    "### LCA in BST - Lowest Common Ancestor in Binary Search Tree"
   ]
  },
  {
   "cell_type": "code",
   "execution_count": 97,
   "id": "a5e6bbc0-2108-43d8-8b73-c432c5208a7c",
   "metadata": {},
   "outputs": [],
   "source": [
    "def LCA(root, n1, n2):\n",
    "    curr = root\n",
    "    while curr:\n",
    "      \n",
    "        # If both n1 and n2 are smaller than root,\n",
    "        # then LCA lies in left\n",
    "        if curr.data > n1.data and curr.data > n2.data:\n",
    "            curr = curr.left\n",
    "            \n",
    "        # If both n1 and n2 are greater than root,\n",
    "        # then LCA lies in right\n",
    "        elif curr.data < n1.data and curr.data < n2.data:\n",
    "            curr = curr.right\n",
    "            \n",
    "        # Else Ancestor is found\n",
    "        else:\n",
    "            break\n",
    "            \n",
    "    return curr.data"
   ]
  },
  {
   "cell_type": "code",
   "execution_count": 98,
   "id": "d2737097-d785-4206-a19c-b9a648666c7d",
   "metadata": {},
   "outputs": [
    {
     "data": {
      "text/plain": [
       "8"
      ]
     },
     "execution_count": 98,
     "metadata": {},
     "output_type": "execute_result"
    }
   ],
   "source": [
    "root = Node(20)\n",
    "root.left = Node(8)\n",
    "root.right = Node(22)\n",
    "root.left.left = Node(4)\n",
    "root.left.right = Node(12)\n",
    "root.left.right.left = Node(10)\n",
    "root.left.right.right = Node(14)\n",
    "\n",
    "n1 = root.left.left  # Node 4\n",
    "n2 = root.left.right.right  # Node 14\n",
    "\n",
    "res = LCA(root, n1, n2)\n",
    "res"
   ]
  },
  {
   "cell_type": "markdown",
   "id": "ab915087-013f-4587-b42c-ffad2bcbbd1c",
   "metadata": {},
   "source": [
    "### Shortest Distance between Two Nodes in BST"
   ]
  },
  {
   "cell_type": "code",
   "execution_count": 99,
   "id": "620e1e3c-053b-4172-b012-54501df2ef32",
   "metadata": {},
   "outputs": [],
   "source": [
    "def distanceFromRoot(root, x):\n",
    "\n",
    "    # if node's value is equal to x return 0.\n",
    "    if root.data == x:\n",
    "        return 0\n",
    "\n",
    "    # if node's value is greater than x\n",
    "    # return the distance from left child + 1\n",
    "    elif root.data > x:\n",
    "        return 1 + distanceFromRoot(root.left, x)\n",
    "\n",
    "    # if node's value is smaller than x\n",
    "    # return the distance from right child + 1\n",
    "    return 1 + distanceFromRoot(root.right, x)\n",
    "\n",
    "# Function to find minimum distance between a and b.\n",
    "def distanceBetweenTwoKeys(root, a, b):\n",
    "\n",
    "    # Base Case: return 0 for None.\n",
    "    if root is None:\n",
    "        return 0\n",
    "\n",
    "    # Both keys lie in left subtree\n",
    "    if root.data > a and root.data > b:\n",
    "        return distanceBetweenTwoKeys(root.left, a, b)\n",
    "\n",
    "    # Both keys lie in right subtree\n",
    "    if root.data < a and root.data < b:\n",
    "        return distanceBetweenTwoKeys(root.right, a, b)\n",
    "\n",
    "    # if keys lie in different subtree\n",
    "    # taking current node as LCA, return the\n",
    "    # sum of distance of keys from current node.\n",
    "    return distanceFromRoot(root, a) + distanceFromRoot(root, b)"
   ]
  },
  {
   "cell_type": "code",
   "execution_count": 100,
   "id": "c3611460-9004-4455-b513-c5d9646c1cf5",
   "metadata": {},
   "outputs": [
    {
     "name": "stdout",
     "output_type": "stream",
     "text": [
      "3\n"
     ]
    }
   ],
   "source": [
    "root = Node(5)\n",
    "root.left = Node(2)\n",
    "root.left.left = Node(1)\n",
    "root.left.right = Node(3)\n",
    "root.right = Node(12)\n",
    "root.right.left = Node(9)\n",
    "root.right.right = Node(21)\n",
    "root.right.right.left = Node(19)\n",
    "root.right.right.right = Node(25)\n",
    "\n",
    "a, b = 9, 25\n",
    "print(distanceBetweenTwoKeys(root, a, b))"
   ]
  },
  {
   "cell_type": "markdown",
   "id": "640ef2cb-108d-4598-9eb2-c3da9c90e9d4",
   "metadata": {},
   "source": [
    "### k-th Smallest in BST (Order Statistics in BST)\n"
   ]
  },
  {
   "cell_type": "code",
   "execution_count": 101,
   "id": "87226e41-5a61-4159-8964-39d43470209c",
   "metadata": {},
   "outputs": [],
   "source": [
    "def kth_smallest(root, k):\n",
    "    # Adjust k to 0-based indexing\n",
    "    count = [0]  # Use a list to act as a mutable counter\n",
    "    result = [None]  # This will store the k-th smallest value\n",
    "    \n",
    "    # Helper function for in-order traversal\n",
    "    def inorder_traversal(node):\n",
    "        if node is None or count[0] >= k:\n",
    "            return\n",
    "        \n",
    "        # Traverse the left subtree\n",
    "        inorder_traversal(node.left)\n",
    "        \n",
    "        # Increment the count (we are visiting this node now)\n",
    "        count[0] += 1\n",
    "        \n",
    "        # If we've found the k-th smallest element (adjusting for 0-based indexing)\n",
    "        if count[0] == k:\n",
    "            result[0] = node.data\n",
    "            return\n",
    "        \n",
    "        # Traverse the right subtree\n",
    "        inorder_traversal(node.right)\n",
    "    \n",
    "    # Start the in-order traversal from the root\n",
    "    inorder_traversal(root)\n",
    "    \n",
    "    return result[0]"
   ]
  },
  {
   "cell_type": "code",
   "execution_count": 102,
   "id": "5b3c3fc6-232c-4913-83d2-2101d3fc1748",
   "metadata": {},
   "outputs": [
    {
     "data": {
      "text/plain": [
       "10"
      ]
     },
     "execution_count": 102,
     "metadata": {},
     "output_type": "execute_result"
    }
   ],
   "source": [
    "root = Node(20)\n",
    "root.left = Node(8)\n",
    "root.right = Node(22)\n",
    "root.left.left = Node(4)\n",
    "root.left.right = Node(12)\n",
    "root.left.right.left = Node(10)\n",
    "root.left.right.right = Node(14)\n",
    "\n",
    "k = 3\n",
    "kth_smallest(root, k)"
   ]
  },
  {
   "cell_type": "markdown",
   "id": "1bf549e0-52f2-47cf-a1b3-e0b2a6869e80",
   "metadata": {},
   "source": [
    "### Largest BST in a Binary Tree"
   ]
  },
  {
   "cell_type": "code",
   "execution_count": 103,
   "id": "cc000877-31d6-44e1-9d9a-7721723d94b7",
   "metadata": {},
   "outputs": [],
   "source": [
    "# Returns true if the given tree is BST, else false\n",
    "def isValidBst(root, minValue, maxValue):\n",
    "    if not root:\n",
    "        return True\n",
    "    if root.data >= maxValue or root.data <= minValue:\n",
    "        return False\n",
    "    return (isValidBst(root.left, minValue, root.data) and\n",
    "            isValidBst(root.right, root.data, maxValue))\n",
    "\n",
    "def size(root):\n",
    "    if not root:\n",
    "        return 0\n",
    "    return 1 + size(root.left) + size(root.right)\n",
    "\n",
    "def largestBst(root):\n",
    "    \n",
    "    # If tree is empty\n",
    "    if not root:\n",
    "        return 0\n",
    "    \n",
    "    # If whole tree is BST\n",
    "    if isValidBst(root, float('-inf'), float('inf')):\n",
    "        return size(root)\n",
    "    \n",
    "    # If whole tree is not BST\n",
    "    return max(largestBst(root.left), largestBst(root.right))"
   ]
  },
  {
   "cell_type": "code",
   "execution_count": 104,
   "id": "85d22c46-425c-46e8-9595-1b462b86069b",
   "metadata": {},
   "outputs": [
    {
     "name": "stdout",
     "output_type": "stream",
     "text": [
      "2\n"
     ]
    }
   ],
   "source": [
    "root = Node(50)\n",
    "root.left = Node(75)\n",
    "root.right = Node(45)\n",
    "root.left.left = Node(40)\n",
    "\n",
    "print(largestBst(root))"
   ]
  },
  {
   "cell_type": "markdown",
   "id": "53298137-f07a-4b93-a813-29b297960e53",
   "metadata": {},
   "source": [
    "### Delete lead nodes"
   ]
  },
  {
   "cell_type": "code",
   "execution_count": 105,
   "id": "aba9a24e-ce8e-4789-b3b3-78277c4a4cc0",
   "metadata": {},
   "outputs": [],
   "source": [
    "def leafDelete(root):\n",
    "    if root is None:\n",
    "        return None\n",
    "    if root.left is None and root.right is None:\n",
    "        del root\n",
    "        return None\n",
    "\n",
    "    # Recursively delete in left and right subtrees.\n",
    "    root.left = leafDelete(root.left)\n",
    "    root.right = leafDelete(root.right)\n",
    "\n",
    "    return root"
   ]
  },
  {
   "cell_type": "code",
   "execution_count": 106,
   "id": "1432d31d-09e6-4dc7-8e9b-a1b4033e5188",
   "metadata": {},
   "outputs": [
    {
     "name": "stdout",
     "output_type": "stream",
     "text": [
      "[4, 8, 10, 12, 14, 20, 22]\n"
     ]
    },
    {
     "data": {
      "text/plain": [
       "[8, 12, 20]"
      ]
     },
     "execution_count": 106,
     "metadata": {},
     "output_type": "execute_result"
    }
   ],
   "source": [
    "root = Node(20)\n",
    "root.left = Node(8)\n",
    "root.left.left = Node(4)\n",
    "root.left.right = Node(12)\n",
    "root.left.right.left = Node(10)\n",
    "root.left.right.right = Node(14)\n",
    "root.right = Node(22)\n",
    "\n",
    "print(inorder_interative(root))\n",
    "leafDelete(root)\n",
    "inorder_interative(root)"
   ]
  },
  {
   "cell_type": "markdown",
   "id": "3d9e4ccc-273a-43be-b854-66c4bda6b3e7",
   "metadata": {},
   "source": [
    "### Two Sum in BST - Pair with given sum"
   ]
  },
  {
   "cell_type": "code",
   "execution_count": 107,
   "id": "6e3e8415-aa34-4b53-88b4-ec393cdd0c5d",
   "metadata": {},
   "outputs": [],
   "source": [
    "def dfs(root, st, target):\n",
    "    if root is None:\n",
    "        return False\n",
    "\n",
    "    # Check if the complement (target - current node's value)\n",
    "    # exists in the set\n",
    "    if target - root.data in st:\n",
    "        return True\n",
    "\n",
    "    # Insert the current node's value into the set\n",
    "    st.add(root.data)\n",
    "\n",
    "    # Continue the search in the left and right subtrees\n",
    "    return dfs(root.left, st, target) or dfs(root.right, st, target)\n",
    "\n",
    "def findTarget(root, target):\n",
    "    st = set()\n",
    "    return dfs(root, st, target)"
   ]
  },
  {
   "cell_type": "code",
   "execution_count": 108,
   "id": "c5b76818-bbc5-4b7a-be77-ad0a4c7e5cc7",
   "metadata": {},
   "outputs": [
    {
     "data": {
      "text/plain": [
       "True"
      ]
     },
     "execution_count": 108,
     "metadata": {},
     "output_type": "execute_result"
    }
   ],
   "source": [
    "root = Node(7)\n",
    "root.left = Node(3)\n",
    "root.right = Node(8)\n",
    "root.left.left = Node(2)\n",
    "root.left.right = Node(4)\n",
    "root.right.right = Node(9)\n",
    "\n",
    "target = 12\n",
    "findTarget(root, target)"
   ]
  },
  {
   "cell_type": "markdown",
   "id": "1c2f2c3f-6994-47c5-b4ea-29ee68a081c4",
   "metadata": {},
   "source": [
    "### Largest BST Subtree - Simple Implementation"
   ]
  },
  {
   "cell_type": "code",
   "execution_count": 109,
   "id": "a1244bdf-3e0c-4403-8741-4a4ea51928f2",
   "metadata": {},
   "outputs": [],
   "source": [
    "# A helper function that returns a tuple containing:\n",
    "# - is_bst: Whether the current tree is a BST.\n",
    "# - size: The size of the largest BST in the current tree.\n",
    "# - min_value: The minimum value in the current subtree.\n",
    "# - max_value: The maximum value in the current subtree.\n",
    "def largest_bst_subtree(root):\n",
    "    def post_order(node):\n",
    "        if not node:\n",
    "            # If the node is None, it's a valid BST with size 0\n",
    "            return (True, 0, float('inf'), float('-inf'))\n",
    "        \n",
    "        # Recur for left and right subtrees\n",
    "        left_is_bst, left_size, left_min, left_max = post_order(node.left)\n",
    "        right_is_bst, right_size, right_min, right_max = post_order(node.right)\n",
    "        \n",
    "        # Check if the current node forms a BST\n",
    "        if left_is_bst and right_is_bst and left_max < node.data < right_min:\n",
    "            # Current tree is a BST, so the size is the size of left + right + 1 (for the current node)\n",
    "            return (True, left_size + right_size + 1, min(node.data, left_min), max(node.data, right_max))\n",
    "        else:\n",
    "            # Not a BST, return the size of the largest BST found in either left or right subtree\n",
    "            return (False, max(left_size, right_size), 0, 0)\n",
    "    \n",
    "    # Start the post-order traversal\n",
    "    _, largest_bst_size, _, _ = post_order(root)\n",
    "    return largest_bst_size"
   ]
  },
  {
   "cell_type": "code",
   "execution_count": 110,
   "id": "06f6832b-95e6-4895-b761-ef96ba48d509",
   "metadata": {},
   "outputs": [
    {
     "data": {
      "text/plain": [
       "2"
      ]
     },
     "execution_count": 110,
     "metadata": {},
     "output_type": "execute_result"
    }
   ],
   "source": [
    "root = Node(50)\n",
    "root.left = Node(75)\n",
    "root.right = Node(45)\n",
    "root.left.left = Node(40)\n",
    "\n",
    "largest_bst_subtree(root)"
   ]
  },
  {
   "cell_type": "markdown",
   "id": "c03b311a-85f1-42d0-a2fa-7a46b73e8c8a",
   "metadata": {},
   "source": [
    "### Recover BST - Two Nodes are Swapped, Correct it"
   ]
  },
  {
   "cell_type": "code",
   "execution_count": 111,
   "id": "3fb6c3c5-195c-4cb5-b24c-0738c7e3eb1a",
   "metadata": {},
   "outputs": [],
   "source": [
    "def recover_bst(root):\n",
    "    # Variables to store the two nodes that need to be swapped\n",
    "    first = second = prev = None\n",
    "\n",
    "    # Helper function to perform in-order traversal and identify the swapped nodes\n",
    "    def inorder_traversal(node):\n",
    "        nonlocal first, second, prev\n",
    "        \n",
    "        if not node:\n",
    "            return\n",
    "        \n",
    "        # Recur for the left subtree\n",
    "        inorder_traversal(node.left)\n",
    "        \n",
    "        # If this node is smaller than the previous node, it's a violation\n",
    "        if prev and node.data < prev.data:\n",
    "            # First violation: find the first element to swap\n",
    "            if not first:\n",
    "                first = prev\n",
    "            # Second violation: find the second element to swap\n",
    "            second = node\n",
    "        \n",
    "        # Update prev to the current node\n",
    "        prev = node\n",
    "        \n",
    "        # Recur for the right subtree\n",
    "        inorder_traversal(node.right)\n",
    "    \n",
    "    # Perform in-order traversal to identify the two nodes that are swapped\n",
    "    inorder_traversal(root)\n",
    "    \n",
    "    # If we found the two swapped nodes, swap their values\n",
    "    if first and second:\n",
    "        first.data, second.data = second.data, first.data"
   ]
  },
  {
   "cell_type": "code",
   "execution_count": 112,
   "id": "fc80860a-1ba9-4102-9732-fe039a4b76d3",
   "metadata": {},
   "outputs": [
    {
     "name": "stdout",
     "output_type": "stream",
     "text": [
      "[1, 10, 3, 6, 7, 2, 12]\n"
     ]
    },
    {
     "data": {
      "text/plain": [
       "[1, 2, 3, 6, 7, 10, 12]"
      ]
     },
     "execution_count": 112,
     "metadata": {},
     "output_type": "execute_result"
    }
   ],
   "source": [
    "root = Node(6)\n",
    "root.left = Node(10)\n",
    "root.right = Node(2)\n",
    "root.left.left = Node(1)\n",
    "root.left.right = Node(3)\n",
    "root.right.right = Node(12)\n",
    "root.right.left = Node(7)\n",
    "\n",
    "print(inorder_interative(root))\n",
    "recover_bst(root)\n",
    "inorder_interative(root)"
   ]
  },
  {
   "cell_type": "markdown",
   "id": "24d6d404-4102-4398-831a-230b06c596bb",
   "metadata": {},
   "source": [
    "### Leaf nodes from Preorder of a Binary Search Tree (Using Recursion)"
   ]
  },
  {
   "cell_type": "code",
   "execution_count": 115,
   "id": "516b9039-3e8a-4807-9ba3-60af05f67e1d",
   "metadata": {},
   "outputs": [],
   "source": [
    "# Step 1: Build BST from preorder\n",
    "def build_bst(preorder, lower=float('-inf'), upper=float('inf'), index=[0]):\n",
    "    if index[0] >= len(preorder):\n",
    "        return None\n",
    "\n",
    "    val = preorder[index[0]]\n",
    "    if val < lower or val > upper:\n",
    "        return None\n",
    "\n",
    "    # Create node\n",
    "    root = Node(val)\n",
    "    index[0] += 1\n",
    "\n",
    "    # Recursively build left and right subtrees\n",
    "    root.left = build_bst(preorder, lower, val, index)\n",
    "    root.right = build_bst(preorder, val, upper, index)\n",
    "\n",
    "    return root\n",
    "\n",
    "# Step 2: Collect leaf nodes\n",
    "def collect_leaves(node, leaves):\n",
    "    if node is None:\n",
    "        return\n",
    "    if not node.left and not node.right:\n",
    "        leaves.append(node.data)\n",
    "    collect_leaves(node.left, leaves)\n",
    "    collect_leaves(node.right, leaves)\n",
    "\n",
    "# Wrapper function\n",
    "def find_leaf_nodes(preorder):\n",
    "    root = build_bst(preorder)\n",
    "    leaves = []\n",
    "    collect_leaves(root, leaves)\n",
    "    return leaves"
   ]
  },
  {
   "cell_type": "code",
   "execution_count": 116,
   "id": "3fa9d3b3-a6c6-47c7-a0f6-73d0062e34ff",
   "metadata": {},
   "outputs": [
    {
     "data": {
      "text/plain": [
       "[2, 7, 13]"
      ]
     },
     "execution_count": 116,
     "metadata": {},
     "output_type": "execute_result"
    }
   ],
   "source": [
    "preorder = [10, 6, 2, 7, 13]\n",
    "find_leaf_nodes(preorder)"
   ]
  },
  {
   "cell_type": "markdown",
   "id": "e70e74df-c10f-4208-b57c-b08b3062fec8",
   "metadata": {},
   "source": [
    "### Check if given sorted sub-sequence exists in binary search tree"
   ]
  },
  {
   "cell_type": "code",
   "execution_count": 117,
   "id": "5b75015c-723a-4513-9402-11c685e57ca0",
   "metadata": {},
   "outputs": [],
   "source": [
    "def inOrder(root, seq, index):\n",
    "    if root is None:\n",
    "        return\n",
    "    \n",
    "    # We traverse left subtree first in Inorder\n",
    "    inOrder(root.left, seq, index)\n",
    "    \n",
    "    # If current node matches with seq[index] then move\n",
    "    # forward in sub-sequence\n",
    "    if index[0] < len(seq) and root.data == seq[index[0]]:\n",
    "        index[0] += 1\n",
    "    \n",
    "    # We traverse right subtree in the end in Inorder\n",
    "    inOrder(root.right, seq, index)\n",
    "    \n",
    "def seqExist(root, seq):\n",
    "    \n",
    "    # Initialize index in seq[]\n",
    "    index = [0]\n",
    "    \n",
    "    # Do an inorder traversal and find if all\n",
    "    # elements of seq[] were present\n",
    "    inOrder(root, seq, index)\n",
    "    \n",
    "    # index would become len(seq) if all elements of\n",
    "    # seq[] were present\n",
    "    return index[0] == len(seq)\n"
   ]
  },
  {
   "cell_type": "code",
   "execution_count": 118,
   "id": "97b3fe8e-d392-45b9-8c8a-5cc4dbc71546",
   "metadata": {},
   "outputs": [
    {
     "data": {
      "text/plain": [
       "True"
      ]
     },
     "execution_count": 118,
     "metadata": {},
     "output_type": "execute_result"
    }
   ],
   "source": [
    "root = Node(8)\n",
    "root.left = Node(3)\n",
    "root.right = Node(10)\n",
    "root.left.left = Node(1)\n",
    "root.left.right = Node(6)\n",
    "root.left.right.left = Node(4)\n",
    "root.left.right.right = Node(7)\n",
    "root.right.right = Node(14)\n",
    "root.right.right.left = Node(13)\n",
    "\n",
    "seq = [4, 6, 8, 14]\n",
    "seqExist(root, seq)"
   ]
  },
  {
   "cell_type": "markdown",
   "id": "beba0fc2-ebcc-4a3e-9e84-c7dee9590ae1",
   "metadata": {},
   "source": [
    "### Count pairs from two BSTs whose sum is equal to a given value x"
   ]
  },
  {
   "cell_type": "code",
   "execution_count": 119,
   "id": "50b5daca-4ddc-40d6-86cf-be58bf12af57",
   "metadata": {},
   "outputs": [],
   "source": [
    "def countPairs(root1, root2, x):\n",
    "    \n",
    "    # if either of the tree is empty\n",
    "    if root1 is None or root2 is None:\n",
    "        return 0\n",
    "\n",
    "    # stack 'st1' used for the inorder\n",
    "    # traversal of BST 1\n",
    "    # stack 'st2' used for the reverse\n",
    "    # inorder traversal of BST 2\n",
    "    st1, st2 = [], []\n",
    "    count = 0\n",
    "\n",
    "    # the loop will break when either of two\n",
    "    # traversals gets completed\n",
    "    while True:\n",
    "\n",
    "        # to find next node in inorder\n",
    "        # traversal of BST 1\n",
    "        while root1 is not None:\n",
    "            st1.append(root1)\n",
    "            root1 = root1.left\n",
    "\n",
    "        # to find next node in reverse\n",
    "        # inorder traversal of BST 2\n",
    "        while root2 is not None:\n",
    "            st2.append(root2)\n",
    "            root2 = root2.right\n",
    "\n",
    "        # if either gets empty then corresponding\n",
    "        # tree traversal is completed\n",
    "        if not st1 or not st2:\n",
    "            break\n",
    "\n",
    "        top1 = st1[-1]\n",
    "        top2 = st2[-1]\n",
    "\n",
    "        # if the sum of the node's is equal to 'x'\n",
    "        if (top1.data + top2.data) == x:\n",
    "            count += 1\n",
    "\n",
    "            # pop nodes from the \n",
    "            # respective stacks\n",
    "            st1.pop()\n",
    "            st2.pop()\n",
    "\n",
    "            # insert next possible node in the\n",
    "            # respective stacks\n",
    "            root1 = top1.right\n",
    "            root2 = top2.left\n",
    "\n",
    "        # move to next possible node in the\n",
    "        # inorder traversal of BST 1\n",
    "        elif (top1.data + top2.data) < x:\n",
    "            st1.pop()\n",
    "            root1 = top1.right\n",
    "\n",
    "        # move to next possible node in the\n",
    "        # reverse inorder traversal of BST 2\n",
    "        else:\n",
    "            st2.pop()\n",
    "            root2 = top2.left\n",
    "            \n",
    "    return count"
   ]
  },
  {
   "cell_type": "code",
   "execution_count": 120,
   "id": "18adf597-5d2a-491d-bee1-1af83a4060c8",
   "metadata": {},
   "outputs": [
    {
     "name": "stdout",
     "output_type": "stream",
     "text": [
      "2\n"
     ]
    }
   ],
   "source": [
    "# BST1\n",
    "#    2\n",
    "#  /  \\\n",
    "# 1   3\n",
    "root1 = Node(2)\n",
    "root1.left = Node(1)\n",
    "root1.right = Node(3)\n",
    "\n",
    "# BST2\n",
    "#    5\n",
    "#  /  \\\n",
    "# 4   6\n",
    "root2 = Node(5)\n",
    "root2.left = Node(4)\n",
    "root2.right = Node(6)\n",
    "\n",
    "x = 6\n",
    "print(countPairs(root1, root2, x))"
   ]
  },
  {
   "cell_type": "markdown",
   "id": "1f90244e-c80c-4155-86d0-ca9ea31b56d4",
   "metadata": {},
   "source": [
    "### Find if there is a triplet in a Balanced BST that adds to zero"
   ]
  },
  {
   "cell_type": "code",
   "execution_count": 123,
   "id": "a49d7d3a-c70c-4ebc-b3a7-ed37e6d99c4e",
   "metadata": {},
   "outputs": [],
   "source": [
    "# Step 1: Inorder traversal to get sorted list\n",
    "def inorder(root, result):\n",
    "    if not root:\n",
    "        return\n",
    "    inorder(root.left, result)\n",
    "    result.append(root.data)\n",
    "    inorder(root.right, result)\n",
    "\n",
    "# Step 2: 3Sum on the sorted list\n",
    "def has_zero_sum_triplet(root):\n",
    "    arr = []\n",
    "    inorder(root, arr)  # Get sorted values from BST\n",
    "\n",
    "    n = len(arr)\n",
    "    for i in range(n - 2):\n",
    "        left = i + 1\n",
    "        right = n - 1\n",
    "\n",
    "        while left < right:\n",
    "            total = arr[i] + arr[left] + arr[right]\n",
    "            if total == 0:\n",
    "                return True  # Found a triplet\n",
    "            elif total < 0:\n",
    "                left += 1\n",
    "            else:\n",
    "                right -= 1\n",
    "\n",
    "    return False  # No triplet found"
   ]
  },
  {
   "cell_type": "code",
   "execution_count": 124,
   "id": "a9b00da8-8488-4632-bed6-70ad68fbe409",
   "metadata": {},
   "outputs": [
    {
     "data": {
      "text/plain": [
       "True"
      ]
     },
     "execution_count": 124,
     "metadata": {},
     "output_type": "execute_result"
    }
   ],
   "source": [
    "root = Node(6)\n",
    "root.left = Node(-13)\n",
    "root.right = Node(14)\n",
    "root.left.right = Node(-8)\n",
    "root.right.left = Node(13)\n",
    "root.right.right = Node(15)\n",
    "root.right.left.left = Node(7)\n",
    "has_zero_sum_triplet(root)"
   ]
  },
  {
   "cell_type": "markdown",
   "id": "39eff795-58fb-44af-bbb5-a82c10e09a5f",
   "metadata": {},
   "source": [
    "### Replace every element with the least greater element on its right"
   ]
  },
  {
   "cell_type": "code",
   "execution_count": 128,
   "id": "e0216917-b8bf-4949-94b6-73e5ac6c38b2",
   "metadata": {},
   "outputs": [],
   "source": [
    "def insert(node, data):\n",
    "\n",
    "    global succ\n",
    "\n",
    "    # If the tree is empty, return a new node\n",
    "    root = node\n",
    "\n",
    "    if (node == None):\n",
    "        return Node(data)\n",
    "\n",
    "    # If key is smaller than root's key, go to left\n",
    "    # subtree and set successor as current node\n",
    "    if (data < root.data):\n",
    "\n",
    "        # print(\"1\")\n",
    "        succ = node\n",
    "        root.left = insert(root.left, data)\n",
    "\n",
    "    # Go to right subtree\n",
    "    elif (data > root.data):\n",
    "        root.right = insert(root.right, data)\n",
    "\n",
    "    return root\n",
    "\n",
    "# Function to replace every element with the\n",
    "# least greater element on its right\n",
    "\n",
    "\n",
    "def replace(arr, n):\n",
    "\n",
    "    global succ\n",
    "    root = None\n",
    "\n",
    "    # Start from right to left\n",
    "    for i in range(n - 1, -1, -1):\n",
    "        succ = None\n",
    "\n",
    "        # Insert current element into BST and\n",
    "        # find its inorder successor\n",
    "        root = insert(root, arr[i])\n",
    "\n",
    "        # Replace element by its inorder\n",
    "        # successor in BST\n",
    "        if (succ):\n",
    "            arr[i] = succ.data\n",
    "\n",
    "        # No inorder successor\n",
    "        else:\n",
    "            arr[i] = -1\n",
    "\n",
    "    return arr"
   ]
  },
  {
   "cell_type": "code",
   "execution_count": 129,
   "id": "7f42e7c9-15ba-4365-8f48-fd68b959752f",
   "metadata": {},
   "outputs": [
    {
     "data": {
      "text/plain": [
       "[18, 63, 80, 25, 32, 43, 80, 93, 80, 25, 93, -1, 28, -1, -1]"
      ]
     },
     "execution_count": 129,
     "metadata": {},
     "output_type": "execute_result"
    }
   ],
   "source": [
    "arr = [8, 58, 71, 18, 31, 32, 63,\n",
    "       92, 43, 3, 91, 93, 25, 80, 28]\n",
    "n = len(arr)\n",
    "succ = None\n",
    "\n",
    "arr = replace(arr, n)\n",
    "arr"
   ]
  },
  {
   "cell_type": "code",
   "execution_count": 130,
   "id": "26c685c7-9935-4d47-9e29-010382f014c2",
   "metadata": {},
   "outputs": [],
   "source": [
    "from bisect import bisect_right\n",
    "from sortedcontainers import SortedList\n",
    "\n",
    "def replace_with_least_greater(arr):\n",
    "    result = [-1] * len(arr)\n",
    "    sl = SortedList()\n",
    "\n",
    "    # Traverse from right to left\n",
    "    for i in reversed(range(len(arr))):\n",
    "        idx = sl.bisect_right(arr[i])\n",
    "        if idx < len(sl):\n",
    "            result[i] = sl[idx]\n",
    "        sl.add(arr[i])\n",
    "\n",
    "    return result\n"
   ]
  },
  {
   "cell_type": "code",
   "execution_count": 131,
   "id": "73ce221b-bb6f-4c64-b661-a3e5992a8f0c",
   "metadata": {},
   "outputs": [
    {
     "name": "stdout",
     "output_type": "stream",
     "text": [
      "[18, 63, 91, 25, 32, 43, 91, 93, 91, 25, 93, -1, -1]\n"
     ]
    }
   ],
   "source": [
    "arr = [8, 58, 71, 18, 31, 32, 63, 92, 43, 3, 91, 93, 25]\n",
    "print(replace_with_least_greater(arr))"
   ]
  },
  {
   "cell_type": "markdown",
   "id": "e3d17877-1e10-4dcd-8ee1-bf1fa9666543",
   "metadata": {},
   "source": [
    "### Merge Two Balanced Binary Search Trees"
   ]
  },
  {
   "cell_type": "code",
   "execution_count": 134,
   "id": "0023b1ce-9992-4b8d-8b4f-671b89def7ec",
   "metadata": {},
   "outputs": [
    {
     "name": "stdout",
     "output_type": "stream",
     "text": [
      "Following is Inorder traversal of the merged tree\n",
      "20 40 50 70 80 100 120 300 "
     ]
    }
   ],
   "source": [
    "def merge_sorted_arr(arr1, arr2):\n",
    "    arr = []\n",
    "    i = j = 0\n",
    "    while i < len(arr1) and j < len(arr2):\n",
    "        if arr1[i] <= arr2[j]:\n",
    "            arr.append(arr1[i])\n",
    "            i += 1\n",
    "        else:\n",
    "            arr.append(arr2[j])\n",
    "            j += 1\n",
    "    while i < len(arr1):\n",
    "        arr.append(arr1[i])\n",
    "        i += 1\n",
    "    while i < len(arr2):\n",
    "        arr.append(arr2[j])\n",
    "        j += 1\n",
    "    return arr\n",
    "\n",
    "# A helper function that stores inorder\n",
    "# traversal of a tree in arr\n",
    "def inorder(root, arr = []):\n",
    "    if root:\n",
    "        inorder(root.left, arr)\n",
    "        arr.append(root.data)\n",
    "        inorder(root.right, arr)\n",
    "\n",
    "# A utility function to insert the values\n",
    "# in the individual Tree\n",
    "def insert(root, val):\n",
    "    if not root:\n",
    "        return Node(val)\n",
    "    if root.data == val:\n",
    "        return root\n",
    "    elif root.data > val:\n",
    "        root.left = insert(root.left, val)\n",
    "    else:\n",
    "        root.right = insert(root.right, val)\n",
    "    return root\n",
    "\n",
    "# Converts the merged array to a balanced BST\n",
    "# Explanation of the below code:\n",
    "# https://www.geeksforgeeks.org/sorted-array-to-balanced-bst/\n",
    "def arr_to_bst(arr):\n",
    "    if not arr:\n",
    "        return None\n",
    "    mid = len(arr) // 2\n",
    "    root = Node(arr[mid])\n",
    "    root.left = arr_to_bst(arr[:mid])\n",
    "    root.right = arr_to_bst(arr[mid + 1:])\n",
    "    return root\n",
    "\n",
    "if __name__=='__main__':\n",
    "    root1 = root2 = None\n",
    "    \n",
    "    # Inserting values in first tree\n",
    "    root1 = insert(root1, 100)\n",
    "    root1 = insert(root1, 50)\n",
    "    root1 = insert(root1, 300)\n",
    "    root1 = insert(root1, 20)\n",
    "    root1 = insert(root1, 70)\n",
    "    \n",
    "    # Inserting values in second tree\n",
    "    root2 = insert(root2, 80)\n",
    "    root2 = insert(root2, 40)\n",
    "    root2 = insert(root2, 120)\n",
    "    arr1 = []\n",
    "    inorder(root1, arr1)\n",
    "    arr2 = []\n",
    "    inorder(root2, arr2)\n",
    "    arr = merge_sorted_arr(arr1, arr2)\n",
    "    root = arr_to_bst(arr)\n",
    "    res = []\n",
    "    inorder(root, res)\n",
    "    print('Following is Inorder traversal of the merged tree')\n",
    "    for i in res:\n",
    "        print(i, end = ' ')\n"
   ]
  },
  {
   "cell_type": "markdown",
   "id": "cb7bb4f0-55a5-4287-9510-09b5df6ad39f",
   "metadata": {},
   "source": [
    "### Special two digit numbers in a Binary Search Tree"
   ]
  },
  {
   "cell_type": "code",
   "execution_count": 135,
   "id": "a33f1f75-e23a-4475-a201-955750240043",
   "metadata": {},
   "outputs": [],
   "source": [
    "def is_special(num):\n",
    "    if num < 10 or num > 99:\n",
    "        return False\n",
    "    \n",
    "    first_digit = num // 10\n",
    "    second_digit = num % 10\n",
    "    \n",
    "    # Check if the sum of digits and product of \n",
    "    # digits equals the number\n",
    "    return first_digit + second_digit \\\n",
    "  \t+ first_digit * second_digit == num\n",
    "\n",
    "# Recursive function to count special \n",
    "# two-digit numbers in BST\n",
    "def count_special_numbers(root):\n",
    "    if root is None:\n",
    "        return 0\n",
    "\n",
    "    # Count special numbers in left and right \n",
    "    # subtrees recursively\n",
    "    left_count = count_special_numbers(root.left)\n",
    "    right_count = count_special_numbers(root.right)\n",
    "\n",
    "    # Check if current node's data is a \n",
    "    # special two-digit number\n",
    "    current_count = 1 if is_special(root.data) else 0\n",
    "\n",
    "    return left_count + right_count + current_count"
   ]
  },
  {
   "cell_type": "code",
   "execution_count": 136,
   "id": "4601491c-e508-4805-8060-b968a134b539",
   "metadata": {},
   "outputs": [
    {
     "name": "stdout",
     "output_type": "stream",
     "text": [
      "2\n"
     ]
    }
   ],
   "source": [
    "root = Node(19)\n",
    "root.left = Node(1)\n",
    "root.right = Node(99)\n",
    "root.right.left = Node(57)\n",
    "root.right.left.left = Node(22)\n",
    "print(count_special_numbers(root))"
   ]
  },
  {
   "cell_type": "code",
   "execution_count": null,
   "id": "b455e8dc-25ce-403a-8f25-1625f7827abe",
   "metadata": {},
   "outputs": [],
   "source": []
  }
 ],
 "metadata": {
  "kernelspec": {
   "display_name": "Python 3 (ipykernel)",
   "language": "python",
   "name": "python3"
  },
  "language_info": {
   "codemirror_mode": {
    "name": "ipython",
    "version": 3
   },
   "file_extension": ".py",
   "mimetype": "text/x-python",
   "name": "python",
   "nbconvert_exporter": "python",
   "pygments_lexer": "ipython3",
   "version": "3.9.15"
  }
 },
 "nbformat": 4,
 "nbformat_minor": 5
}
